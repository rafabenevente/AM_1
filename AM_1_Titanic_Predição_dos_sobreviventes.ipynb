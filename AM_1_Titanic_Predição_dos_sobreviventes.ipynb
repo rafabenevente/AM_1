{
  "nbformat": 4,
  "nbformat_minor": 0,
  "metadata": {
    "colab": {
      "name": "AM_1 - Titanic Predição dos sobreviventes",
      "provenance": [],
      "collapsed_sections": [],
      "include_colab_link": true
    },
    "kernelspec": {
      "name": "python38364bitdesafio1condaae5eb0a4db284d2db31a0e94f8f8fa71",
      "display_name": "Python 3.8.3 64-bit ('desafio1': conda)",
      "language": "python"
    }
  },
  "cells": [
    {
      "cell_type": "markdown",
      "metadata": {
        "id": "view-in-github",
        "colab_type": "text"
      },
      "source": [
        "<a href=\"https://colab.research.google.com/github/rafabenevente/AM_1/blob/main/AM_1_Titanic_Predi%C3%A7%C3%A3o_dos_sobreviventes.ipynb\" target=\"_parent\"><img src=\"https://colab.research.google.com/assets/colab-badge.svg\" alt=\"Open In Colab\"/></a>"
      ]
    },
    {
      "cell_type": "markdown",
      "metadata": {
        "id": "jkyfY8TTTaGW"
      },
      "source": [
        "Titanic: Predição dos Sobreviventes com Machine Learning\n",
        "==="
      ]
    },
    {
      "cell_type": "markdown",
      "metadata": {
        "id": "ju-KZXdXZBWo"
      },
      "source": [
        "# Conhecendo o Conjunto de Dados"
      ]
    },
    {
      "cell_type": "markdown",
      "metadata": {
        "id": "P1szlYYxSrqt"
      },
      "source": [
        "\n",
        "**Dicionário**\n",
        "\n",
        "|Variável |Definição|Chave|\n",
        "|:---- |----|----:|\n",
        "|survival  | Sobrevivente |0 = Não, 1 = Sim|\n",
        "|pclass |Classe da ticket| 1 = 1st, 2 = 2nd, 3 = 3rd|\n",
        "|sex  |Sexo| \t\n",
        "|Age  | Idade em anos| \t\n",
        "|sibsp| # de irmãs / cônjuges a bordo do Titanic |\n",
        "|parch |# de pais / crianças a bordo do Titanic |\t\n",
        "|ticket| ID do ticket| \t\n",
        "|fare \t|Tarifa de passageiro (libra esterlina)| \t\n",
        "|cabin \t|número da cabine| \t\n",
        "|embarked |Porto de embarcação|C = Cherbourg, Q = Queenstown, S = Southampton|\n",
        "\n",
        "\n",
        "**Observações**\n",
        "- pclass: Status socieconômico\n",
        "    - 1st = Alta\n",
        "    - 2nd = Média\n",
        "    - 3rd = Baixa\n",
        "- age: A idade é fracionária se menor que 1. Se a idade for estimada, é na forma de xx.5\n",
        "\n",
        "- sibsp: O conjunto de dados define as relações familiares desta forma ...\n",
        "    - Sibling = irmão, irmã, meio-irmão, meia-irmã\n",
        "    - Spouse = marido, esposa (amantes e noivos foram ignorados)\n",
        "\n",
        "- parch: O conjunto de dados define as relações familiares desta forma ...\n",
        "    - Parent = mãe, pai\n",
        "    - Child = filha, filho, enteada, enteado\n",
        "    - Algumas crianças viajavam apenas com a babá, portanto parch = 0 para elas.\n",
        "\n"
      ]
    },
    {
      "cell_type": "markdown",
      "metadata": {
        "id": "Klht-c5pc5G5"
      },
      "source": [
        "## Importação e características"
      ]
    },
    {
      "cell_type": "code",
      "metadata": {
        "id": "bGCnWZz1PXPZ"
      },
      "source": [
        "test_url = 'https://raw.githubusercontent.com/rafabenevente/AM_1/main/test.csv'\n",
        "train_url = 'https://raw.githubusercontent.com/rafabenevente/AM_1/main/train.csv'\n",
        "validation_url = 'https://raw.githubusercontent.com/galvaowesley/MachineLearning_Learning/master/Titanic%20-%20Suvivors%20Classification/gender_submission.csv'\n",
        "\n",
        "# Importa as bibliotecas de cálculo e manipulação de dados\n",
        "import numpy as np\n",
        "import pandas as pd\n",
        "from matplotlib import pyplot as plt\n",
        "from  matplotlib.ticker import PercentFormatter\n",
        "import seaborn as sns\n"
      ],
      "execution_count": 72,
      "outputs": []
    },
    {
      "cell_type": "code",
      "metadata": {
        "id": "bf6I0dTZjyWu"
      },
      "source": [
        "# Carregamento daa base de dados inicialmente separada em treino e teste\n",
        "train = pd.read_csv(train_url)\n",
        "test =  pd.read_csv(test_url)"
      ],
      "execution_count": 73,
      "outputs": []
    },
    {
      "cell_type": "code",
      "metadata": {
        "colab": {
          "base_uri": "https://localhost:8080/"
        },
        "id": "3j7QEAm6Z7Wr",
        "outputId": "1c57c3b1-b071-4e4f-f7b6-23184ae844fd"
      },
      "source": [
        "# Dimensão da base de dados\n",
        "print(\"Treino tem {} linhas e {} colunas \\n\". format(train.shape[0], train.shape[1]))\n",
        "print(\"Teste tem {} linhas e {} colunas \\n\". format(test.shape[0], test.shape[1]))"
      ],
      "execution_count": 6,
      "outputs": [
        {
          "output_type": "stream",
          "text": [
            "Treino tem 891 linhas e 12 colunas \n",
            "\n",
            "Teste tem 418 linhas e 11 colunas \n",
            "\n"
          ],
          "name": "stdout"
        }
      ]
    },
    {
      "cell_type": "markdown",
      "metadata": {
        "id": "S-EeE0bwbhEk"
      },
      "source": [
        "Há, portanto, 1309 linhas ao total. O conjunto de dados original sofreu split na proporção: 68% para treino e 32% para teste. "
      ]
    },
    {
      "cell_type": "code",
      "metadata": {
        "colab": {
          "base_uri": "https://localhost:8080/",
          "height": 206
        },
        "id": "f04k2-IxcGZg",
        "outputId": "0686df87-7d48-4cfa-a37c-f8ccb40c1e23"
      },
      "source": [
        "# Aparência do train\n",
        "train.head()"
      ],
      "execution_count": 7,
      "outputs": [
        {
          "output_type": "execute_result",
          "data": {
            "text/html": [
              "<div>\n",
              "<style scoped>\n",
              "    .dataframe tbody tr th:only-of-type {\n",
              "        vertical-align: middle;\n",
              "    }\n",
              "\n",
              "    .dataframe tbody tr th {\n",
              "        vertical-align: top;\n",
              "    }\n",
              "\n",
              "    .dataframe thead th {\n",
              "        text-align: right;\n",
              "    }\n",
              "</style>\n",
              "<table border=\"1\" class=\"dataframe\">\n",
              "  <thead>\n",
              "    <tr style=\"text-align: right;\">\n",
              "      <th></th>\n",
              "      <th>PassengerId</th>\n",
              "      <th>Survived</th>\n",
              "      <th>Pclass</th>\n",
              "      <th>Name</th>\n",
              "      <th>Sex</th>\n",
              "      <th>Age</th>\n",
              "      <th>SibSp</th>\n",
              "      <th>Parch</th>\n",
              "      <th>Ticket</th>\n",
              "      <th>Fare</th>\n",
              "      <th>Cabin</th>\n",
              "      <th>Embarked</th>\n",
              "    </tr>\n",
              "  </thead>\n",
              "  <tbody>\n",
              "    <tr>\n",
              "      <th>0</th>\n",
              "      <td>1</td>\n",
              "      <td>0</td>\n",
              "      <td>3</td>\n",
              "      <td>Braund, Mr. Owen Harris</td>\n",
              "      <td>male</td>\n",
              "      <td>22.0</td>\n",
              "      <td>1</td>\n",
              "      <td>0</td>\n",
              "      <td>A/5 21171</td>\n",
              "      <td>7.2500</td>\n",
              "      <td>NaN</td>\n",
              "      <td>S</td>\n",
              "    </tr>\n",
              "    <tr>\n",
              "      <th>1</th>\n",
              "      <td>2</td>\n",
              "      <td>1</td>\n",
              "      <td>1</td>\n",
              "      <td>Cumings, Mrs. John Bradley (Florence Briggs Th...</td>\n",
              "      <td>female</td>\n",
              "      <td>38.0</td>\n",
              "      <td>1</td>\n",
              "      <td>0</td>\n",
              "      <td>PC 17599</td>\n",
              "      <td>71.2833</td>\n",
              "      <td>C85</td>\n",
              "      <td>C</td>\n",
              "    </tr>\n",
              "    <tr>\n",
              "      <th>2</th>\n",
              "      <td>3</td>\n",
              "      <td>1</td>\n",
              "      <td>3</td>\n",
              "      <td>Heikkinen, Miss. Laina</td>\n",
              "      <td>female</td>\n",
              "      <td>26.0</td>\n",
              "      <td>0</td>\n",
              "      <td>0</td>\n",
              "      <td>STON/O2. 3101282</td>\n",
              "      <td>7.9250</td>\n",
              "      <td>NaN</td>\n",
              "      <td>S</td>\n",
              "    </tr>\n",
              "    <tr>\n",
              "      <th>3</th>\n",
              "      <td>4</td>\n",
              "      <td>1</td>\n",
              "      <td>1</td>\n",
              "      <td>Futrelle, Mrs. Jacques Heath (Lily May Peel)</td>\n",
              "      <td>female</td>\n",
              "      <td>35.0</td>\n",
              "      <td>1</td>\n",
              "      <td>0</td>\n",
              "      <td>113803</td>\n",
              "      <td>53.1000</td>\n",
              "      <td>C123</td>\n",
              "      <td>S</td>\n",
              "    </tr>\n",
              "    <tr>\n",
              "      <th>4</th>\n",
              "      <td>5</td>\n",
              "      <td>0</td>\n",
              "      <td>3</td>\n",
              "      <td>Allen, Mr. William Henry</td>\n",
              "      <td>male</td>\n",
              "      <td>35.0</td>\n",
              "      <td>0</td>\n",
              "      <td>0</td>\n",
              "      <td>373450</td>\n",
              "      <td>8.0500</td>\n",
              "      <td>NaN</td>\n",
              "      <td>S</td>\n",
              "    </tr>\n",
              "  </tbody>\n",
              "</table>\n",
              "</div>"
            ],
            "text/plain": [
              "   PassengerId  Survived  Pclass  ...     Fare Cabin  Embarked\n",
              "0            1         0       3  ...   7.2500   NaN         S\n",
              "1            2         1       1  ...  71.2833   C85         C\n",
              "2            3         1       3  ...   7.9250   NaN         S\n",
              "3            4         1       1  ...  53.1000  C123         S\n",
              "4            5         0       3  ...   8.0500   NaN         S\n",
              "\n",
              "[5 rows x 12 columns]"
            ]
          },
          "metadata": {
            "tags": []
          },
          "execution_count": 7
        }
      ]
    },
    {
      "cell_type": "code",
      "metadata": {
        "colab": {
          "base_uri": "https://localhost:8080/"
        },
        "id": "hTMNO57Ycp0O",
        "outputId": "aeb37ae5-9185-4a77-c2d9-f5ce1088e034"
      },
      "source": [
        "# Tipo de dados das variáveis\n",
        "train.info()"
      ],
      "execution_count": 8,
      "outputs": [
        {
          "output_type": "stream",
          "text": [
            "<class 'pandas.core.frame.DataFrame'>\n",
            "RangeIndex: 891 entries, 0 to 890\n",
            "Data columns (total 12 columns):\n",
            " #   Column       Non-Null Count  Dtype  \n",
            "---  ------       --------------  -----  \n",
            " 0   PassengerId  891 non-null    int64  \n",
            " 1   Survived     891 non-null    int64  \n",
            " 2   Pclass       891 non-null    int64  \n",
            " 3   Name         891 non-null    object \n",
            " 4   Sex          891 non-null    object \n",
            " 5   Age          714 non-null    float64\n",
            " 6   SibSp        891 non-null    int64  \n",
            " 7   Parch        891 non-null    int64  \n",
            " 8   Ticket       891 non-null    object \n",
            " 9   Fare         891 non-null    float64\n",
            " 10  Cabin        204 non-null    object \n",
            " 11  Embarked     889 non-null    object \n",
            "dtypes: float64(2), int64(5), object(5)\n",
            "memory usage: 83.7+ KB\n"
          ],
          "name": "stdout"
        }
      ]
    },
    {
      "cell_type": "code",
      "metadata": {
        "colab": {
          "base_uri": "https://localhost:8080/"
        },
        "id": "TFBEBShofQYI",
        "outputId": "db26712a-6391-4130-f417-40b3d775e10c"
      },
      "source": [
        "train.isna().sum()"
      ],
      "execution_count": 9,
      "outputs": [
        {
          "output_type": "execute_result",
          "data": {
            "text/plain": [
              "PassengerId      0\n",
              "Survived         0\n",
              "Pclass           0\n",
              "Name             0\n",
              "Sex              0\n",
              "Age            177\n",
              "SibSp            0\n",
              "Parch            0\n",
              "Ticket           0\n",
              "Fare             0\n",
              "Cabin          687\n",
              "Embarked         2\n",
              "dtype: int64"
            ]
          },
          "metadata": {
            "tags": []
          },
          "execution_count": 9
        }
      ]
    },
    {
      "cell_type": "markdown",
      "metadata": {
        "id": "tyzDPP5b4vbE"
      },
      "source": [
        "# Análise Exploratória dos Dados"
      ]
    },
    {
      "cell_type": "markdown",
      "metadata": {
        "id": "wRdRi2_X7SBn"
      },
      "source": [
        "Função para automatizar o agrupamento de duas variáveis categóricas e gera uma visualização do relacionamento de ambas com contagem e percentual. "
      ]
    },
    {
      "cell_type": "code",
      "metadata": {
        "id": "zBNrLsyZ15NV"
      },
      "source": [
        "# Fonte: https://stackoverflow.com/questions/63745343/annotate-percentage-of-group-within-a-seaborn-countplot\n",
        "def barPlotPercent(df, atributo1, atributo2):\n",
        "  '''\n",
        "  Função que recebe um dataframe e dois atributos categóricos, realiza o agrupamento \n",
        "  de ambos e mostra a contagem e percentual do atributo1 em função do atributo2. \n",
        "  '''\n",
        "\n",
        "  # prepare the dataset\n",
        "  df = (df\n",
        "        .groupby([atributo1, atributo2])\n",
        "        .size()\n",
        "        .reset_index()\n",
        "        #.replace({\"Survived\": {0:\"no\", 1:\"yes\"}})\n",
        "        .rename(columns={0:\"count\"}))\n",
        "\n",
        "  # Calcula o percentual do atributo2 % por níveis do atributo1.\n",
        "  df[\"percent\"] = (df\n",
        "                  .groupby(atributo1)\n",
        "                  .apply(lambda x: x[\"count\"] / x[\"count\"].sum()).values)\n",
        "\n",
        "  # sort the dataframe to match the drawing order\n",
        "  df.sort_values(by=[atributo2, atributo1], inplace=True)\n",
        "\n",
        "  # Visualização\n",
        "  plt.style.use('ggplot')\n",
        "  fig = sns.catplot(\n",
        "    x=\"count\", y=atributo1, hue=atributo2,\n",
        "    kind=\"bar\", data=df, height=4, aspect=2)\n",
        "\n",
        "  for i, bar in enumerate(fig.ax.patches):\n",
        "    \n",
        "      height = bar.get_height()\n",
        "      fig.ax.annotate(\n",
        "          # reference the pre-calculated row in the dataframe\n",
        "          f\"{df.iloc[i, 3] :.0%}\",\n",
        "          xycoords=\"data\",\n",
        "          xytext=(20, -15),\n",
        "          textcoords=\"offset points\",\n",
        "          xy=(bar.get_width(), bar.get_y()),\n",
        "          ha='center', va='center')\n",
        "\n",
        "  # make space for annonations\n",
        "  plt.margins(x=0.2)\n",
        "  plt.show()"
      ],
      "execution_count": 10,
      "outputs": []
    },
    {
      "cell_type": "markdown",
      "metadata": {
        "id": "oxXSo8rUAj3V"
      },
      "source": [
        "## Sobreviventes"
      ]
    },
    {
      "cell_type": "code",
      "metadata": {
        "colab": {
          "base_uri": "https://localhost:8080/",
          "height": 367
        },
        "id": "WaktuZzHF83c",
        "outputId": "8cb56c83-cfbf-4b1c-d456-555e1c808e9f"
      },
      "source": [
        "# Contagem de sobreviventes e não sobreviventes\r\n",
        "plt.title(\"Contagem - Sobrevivente(1) or Não sobrevivente(0)\")\r\n",
        "sns.countplot(train.Survived)\r\n",
        "plt.ylabel(\"Count\")\r\n",
        "plt.xlabel(\"Survived\")"
      ],
      "execution_count": 11,
      "outputs": [
        {
          "output_type": "stream",
          "text": [
            "/usr/local/lib/python3.6/dist-packages/seaborn/_decorators.py:43: FutureWarning: Pass the following variable as a keyword arg: x. From version 0.12, the only valid positional argument will be `data`, and passing other arguments without an explicit keyword will result in an error or misinterpretation.\n",
            "  FutureWarning\n"
          ],
          "name": "stderr"
        },
        {
          "output_type": "execute_result",
          "data": {
            "text/plain": [
              "Text(0.5, 0, 'Survived')"
            ]
          },
          "metadata": {
            "tags": []
          },
          "execution_count": 11
        },
        {
          "output_type": "display_data",
          "data": {
            "image/png": "[encoded data removed]",
            "text/plain": [
              "<Figure size 432x288 with 1 Axes>"
            ]
          },
          "metadata": {
            "tags": [],
            "needs_background": "light"
          }
        }
      ]
    },
    {
      "cell_type": "markdown",
      "metadata": {
        "id": "CNdmpRQP0u5q"
      },
      "source": [
        "## Gênero"
      ]
    },
    {
      "cell_type": "code",
      "metadata": {
        "colab": {
          "base_uri": "https://localhost:8080/",
          "height": 371
        },
        "id": "OZJ_u-ni0zsU",
        "outputId": "7ac82115-fa1c-4926-dff5-36ac638814a5"
      },
      "source": [
        "# Contagem de sobreviventes e não sobreviventes\n",
        "plt.title(\"Contagem - Sobrevivente(1) ou Não sobreviventes(0)\")\n",
        "sns.countplot(train.Survived)\n",
        "plt.ylabel(\"Count\")\n",
        "plt.xlabel(\"Survived\")"
      ],
      "execution_count": 19,
      "outputs": [
        {
          "output_type": "stream",
          "text": [
            "/usr/local/lib/python3.6/dist-packages/seaborn/_decorators.py:43: FutureWarning: Pass the following variable as a keyword arg: x. From version 0.12, the only valid positional argument will be `data`, and passing other arguments without an explicit keyword will result in an error or misinterpretation.\n",
            "  FutureWarning\n"
          ],
          "name": "stderr"
        },
        {
          "output_type": "execute_result",
          "data": {
            "text/plain": [
              "Text(0.5, 0, 'Survived')"
            ]
          },
          "metadata": {
            "tags": []
          },
          "execution_count": 19
        },
        {
          "output_type": "display_data",
          "data": {
            "image/png": "[encoded data removed]",
            "text/plain": [
              "<Figure size 432x288 with 1 Axes>"
            ]
          },
          "metadata": {
            "tags": []
          }
        }
      ]
    },
    {
      "cell_type": "code",
      "metadata": {
        "colab": {
          "base_uri": "https://localhost:8080/"
        },
        "id": "E9YQrzf3B9Bv",
        "outputId": "6481b423-e8df-44cb-f04c-d8385e3bafd5"
      },
      "source": [
        "# Sumarização de Survived por gênero\r\n",
        "train.groupby(['Survived', 'Sex'])['Sex'].count()"
      ],
      "execution_count": 13,
      "outputs": [
        {
          "output_type": "execute_result",
          "data": {
            "text/plain": [
              "Survived  Sex   \n",
              "0         female     81\n",
              "          male      468\n",
              "1         female    233\n",
              "          male      109\n",
              "Name: Sex, dtype: int64"
            ]
          },
          "metadata": {
            "tags": []
          },
          "execution_count": 13
        }
      ]
    },
    {
      "cell_type": "code",
      "metadata": {
        "colab": {
          "base_uri": "https://localhost:8080/",
          "height": 314
        },
        "id": "ZA7yA0Jt4ihy",
        "outputId": "3b4592ba-74ea-4394-8eb5-b94a462d6a69"
      },
      "source": [
        "# Visualização de Survived por gênero\n",
        "barPlotPercent(train, 'Sex', 'Survived')"
      ],
      "execution_count": 14,
      "outputs": [
        {
          "output_type": "display_data",
          "data": {
            "image/png": "[encoded data removed]",
            "text/plain": [
              "<Figure size 627.875x288 with 1 Axes>"
            ]
          },
          "metadata": {
            "tags": []
          }
        }
      ]
    },
    {
      "cell_type": "markdown",
      "metadata": {
        "id": "RhwnZxVZ96jz"
      },
      "source": [
        "## Classe Social (Pclass)"
      ]
    },
    {
      "cell_type": "code",
      "metadata": {
        "colab": {
          "base_uri": "https://localhost:8080/",
          "height": 372
        },
        "id": "ronNDZnD_ZM6",
        "outputId": "eec548f6-0e4c-420c-fca3-89199136c5aa"
      },
      "source": [
        "# Contagem de passageiros por Classe Social\n",
        "plt.title(\"Contagem de indivíduos por Classe Social\")\n",
        "sns.countplot(train.Pclass)\n",
        "plt.ylabel(\"Count\")\n",
        "plt.xlabel(\"Pclass\")"
      ],
      "execution_count": 15,
      "outputs": [
        {
          "output_type": "stream",
          "text": [
            "/usr/local/lib/python3.6/dist-packages/seaborn/_decorators.py:43: FutureWarning: Pass the following variable as a keyword arg: x. From version 0.12, the only valid positional argument will be `data`, and passing other arguments without an explicit keyword will result in an error or misinterpretation.\n",
            "  FutureWarning\n"
          ],
          "name": "stderr"
        },
        {
          "output_type": "execute_result",
          "data": {
            "text/plain": [
              "Text(0.5, 0, 'Pclass')"
            ]
          },
          "metadata": {
            "tags": []
          },
          "execution_count": 15
        },
        {
          "output_type": "display_data",
          "data": {
            "image/png": "[encoded data removed]",
            "text/plain": [
              "<Figure size 432x288 with 1 Axes>"
            ]
          },
          "metadata": {
            "tags": []
          }
        }
      ]
    },
    {
      "cell_type": "code",
      "metadata": {
        "colab": {
          "base_uri": "https://localhost:8080/",
          "height": 314
        },
        "id": "wiql7_1oDNVb",
        "outputId": "72c682a0-7dd2-4ee1-95e2-a83005af388c"
      },
      "source": [
        "# Percentual e contagem de indivíduos por Classe Social e sexo\n",
        "barPlotPercent(train, 'Sex', 'Pclass')"
      ],
      "execution_count": 20,
      "outputs": [
        {
          "output_type": "display_data",
          "data": {
            "image/png": "[encoded data removed]",
            "text/plain": [
              "<Figure size 618.375x288 with 1 Axes>"
            ]
          },
          "metadata": {
            "tags": []
          }
        }
      ]
    },
    {
      "cell_type": "code",
      "metadata": {
        "colab": {
          "base_uri": "https://localhost:8080/",
          "height": 386
        },
        "id": "2x2EtR2zDPFs",
        "outputId": "8b630cde-71d4-480f-8eec-a82ab8de8301"
      },
      "source": [
        "# Percentual de sobreviventes por sexo e classe social\n",
        "#Fonte: https://stackoverflow.com/questions/52512790/python-seaborn-catplot-how-do-i-change-the-y-axis-scale-to-percentage\n",
        "g = sns.catplot(x=\"Sex\", y=\"Survived\", col=\"Pclass\",\n",
        "                 data=train, saturation=.5,\n",
        "                 kind=\"bar\", ci=None, aspect=.6)\n",
        "\n",
        "for ax in g.axes.flat:\n",
        "    ax.yaxis.set_major_formatter(PercentFormatter(1))\n",
        "\n",
        "plt.show()"
      ],
      "execution_count": 24,
      "outputs": [
        {
          "output_type": "display_data",
          "data": {
            "image/png": "[encoded data removed]",
            "text/plain": [
              "<Figure size 648x360 with 3 Axes>"
            ]
          },
          "metadata": {
            "tags": []
          }
        }
      ]
    },
    {
      "cell_type": "code",
      "metadata": {
        "colab": {
          "base_uri": "https://localhost:8080/",
          "height": 314
        },
        "id": "EzFYJoyo9i36",
        "outputId": "99d3b321-3a9a-4e64-8cd6-7d473a396e42"
      },
      "source": [
        "# Visualização de Classe Social por Porto de Embarcação\n",
        "barPlotPercent(train, 'Embarked', 'Pclass')"
      ],
      "execution_count": 16,
      "outputs": [
        {
          "output_type": "display_data",
          "data": {
            "image/png": "[encoded data removed]",
            "text/plain": [
              "<Figure size 618.375x288 with 1 Axes>"
            ]
          },
          "metadata": {
            "tags": []
          }
        }
      ]
    },
    {
      "cell_type": "markdown",
      "metadata": {
        "id": "Q5QBSkmtDayS"
      },
      "source": [
        "## Idade"
      ]
    },
    {
      "cell_type": "code",
      "metadata": {
        "colab": {
          "base_uri": "https://localhost:8080/"
        },
        "id": "Gdgoq33IDcS_",
        "outputId": "0d640a6d-615c-476d-aabf-ca628bd806ee"
      },
      "source": [
        "# Sumário de idade\n",
        "train.Age.describe()\n"
      ],
      "execution_count": 70,
      "outputs": [
        {
          "output_type": "execute_result",
          "data": {
            "text/plain": [
              "count    714.000000\n",
              "mean      29.699118\n",
              "std       14.526497\n",
              "min        0.420000\n",
              "25%       20.125000\n",
              "50%       28.000000\n",
              "75%       38.000000\n",
              "max       80.000000\n",
              "Name: Age, dtype: float64"
            ]
          },
          "metadata": {
            "tags": []
          },
          "execution_count": 70
        }
      ]
    },
    {
      "cell_type": "code",
      "metadata": {
        "colab": {
          "base_uri": "https://localhost:8080/",
          "height": 371
        },
        "id": "iePzJ8jGvEhu",
        "outputId": "a73349d2-ee9c-4c88-9d9c-0f26e00c9b3a"
      },
      "source": [
        "plt.title(\"Histograma - Distribuição do atributo Age\")\n",
        "sns.distplot(a=train['Age'], kde = False, hist_kws = {'edgecolor':'black'})\n",
        "plt.ylabel(\"Count\")"
      ],
      "execution_count": 63,
      "outputs": [
        {
          "output_type": "stream",
          "text": [
            "/usr/local/lib/python3.6/dist-packages/seaborn/distributions.py:2551: FutureWarning: `distplot` is a deprecated function and will be removed in a future version. Please adapt your code to use either `displot` (a figure-level function with similar flexibility) or `histplot` (an axes-level function for histograms).\n",
            "  warnings.warn(msg, FutureWarning)\n"
          ],
          "name": "stderr"
        },
        {
          "output_type": "execute_result",
          "data": {
            "text/plain": [
              "Text(0, 0.5, 'Count')"
            ]
          },
          "metadata": {
            "tags": []
          },
          "execution_count": 63
        },
        {
          "output_type": "display_data",
          "data": {
            "image/png": "[encoded data removed]",
            "text/plain": [
              "<Figure size 432x288 with 1 Axes>"
            ]
          },
          "metadata": {
            "tags": []
          }
        }
      ]
    },
    {
      "cell_type": "code",
      "metadata": {
        "colab": {
          "base_uri": "https://localhost:8080/",
          "height": 282
        },
        "id": "QwHVwajDxr6i",
        "outputId": "860b1c6f-5e9b-46e5-b726-6e06687f43d7"
      },
      "source": [
        "#Boxplot Survived x Age\n",
        "sns.boxplot(x='Survived', y='Age', data=train)\n",
        "plt.show()"
      ],
      "execution_count": 74,
      "outputs": [
        {
          "output_type": "display_data",
          "data": {
            "image/png": "[encoded data removed]",
            "text/plain": [
              "<Figure size 432x288 with 1 Axes>"
            ]
          },
          "metadata": {
            "tags": []
          }
        }
      ]
    },
    {
      "cell_type": "code",
      "metadata": {
        "colab": {
          "base_uri": "https://localhost:8080/",
          "height": 299
        },
        "id": "bo0BS-fg1Gfa",
        "outputId": "b7c42f5a-6bac-400b-da99-de221a4f3a45"
      },
      "source": [
        "#Boxplot Survived x Age agrupados pela Pclass\n",
        "sns.boxplot(x='Survived', y='Age', data=train, hue='Pclass')"
      ],
      "execution_count": 93,
      "outputs": [
        {
          "output_type": "execute_result",
          "data": {
            "text/plain": [
              "<matplotlib.axes._subplots.AxesSubplot at 0x7ff1f61331d0>"
            ]
          },
          "metadata": {
            "tags": []
          },
          "execution_count": 93
        },
        {
          "output_type": "display_data",
          "data": {
            "image/png": "[encoded data removed]",
            "text/plain": [
              "<Figure size 432x288 with 1 Axes>"
            ]
          },
          "metadata": {
            "tags": []
          }
        }
      ]
    },
    {
      "cell_type": "code",
      "metadata": {
        "colab": {
          "base_uri": "https://localhost:8080/",
          "height": 299
        },
        "id": "JAv7kXGez_A2",
        "outputId": "6cb1f583-2c51-4334-af46-1725bb42d359"
      },
      "source": [
        "#Boxplot Sex x Age agrupados pela Pclass\n",
        "\n",
        "sns.boxplot(x='Sex', y='Age', data=train, hue='Pclass')"
      ],
      "execution_count": 94,
      "outputs": [
        {
          "output_type": "execute_result",
          "data": {
            "text/plain": [
              "<matplotlib.axes._subplots.AxesSubplot at 0x7ff1f5ec1710>"
            ]
          },
          "metadata": {
            "tags": []
          },
          "execution_count": 94
        },
        {
          "output_type": "display_data",
          "data": {
            "image/png": "[encoded data removed]",
            "text/plain": [
              "<Figure size 432x288 with 1 Axes>"
            ]
          },
          "metadata": {
            "tags": []
          }
        }
      ]
    },
    {
      "cell_type": "markdown",
      "metadata": {
        "id": "LbEc0uDX-I_M"
      },
      "source": [
        "## Correlação entre variáveis"
      ]
    },
    {
      "cell_type": "markdown",
      "metadata": {
        "id": "yeXrM-AH_VGf"
      },
      "source": [
        "Explorando o nível de correlação entre as variáveis."
      ]
    },
    {
      "cell_type": "code",
      "metadata": {
        "colab": {
          "base_uri": "https://localhost:8080/",
          "height": 337
        },
        "id": "mJqrDgBE_Cz7",
        "outputId": "6111d5e4-0127-4af4-a447-d16cb6d19df4"
      },
      "source": [
        "# Heatmap de coeficiente de correlação entre as variáveis\r\n",
        "sns.heatmap(train.corr(), annot = True)"
      ],
      "execution_count": 18,
      "outputs": [
        {
          "output_type": "execute_result",
          "data": {
            "text/plain": [
              "<matplotlib.axes._subplots.AxesSubplot at 0x7ff202c94a58>"
            ]
          },
          "metadata": {
            "tags": []
          },
          "execution_count": 18
        },
        {
          "output_type": "display_data",
          "data": {
            "image/png": "[encoded data removed]",
            "text/plain": [
              "<Figure size 432x288 with 2 Axes>"
            ]
          },
          "metadata": {
            "tags": []
          }
        }
      ]
    },
    {
      "cell_type": "markdown",
      "metadata": {
        "id": "UXLjFuuY40Vx"
      },
      "source": [
        "# Engenharia de atributos\n",
        "\n"
      ]
    },
    {
      "cell_type": "markdown",
      "metadata": {
        "id": "Qp6Yr5iBCWhA"
      },
      "source": [
        "## Junção dos datasets de treino e teste"
      ]
    },
    {
      "cell_type": "code",
      "metadata": {
        "colab": {
          "base_uri": "https://localhost:8080/"
        },
        "id": "xXdBXW_UCWhB",
        "outputId": "d56e3677-c6c4-43fa-8904-d8939b1ddec0"
      },
      "source": [
        "print(f\"Train shape {train.shape}\")\n",
        "print(f\"Test shape {test.shape}\")\n",
        "\n",
        "# salvar os índices dos datasets para recuperação posterior\n",
        "train_idx = train.shape[0]\n",
        "test_idx = test.shape[0]\n",
        "\n",
        "# salvar PassengerId para submissao ao Kaggle\n",
        "passengerId = test['PassengerId']\n",
        "\n",
        "# extrair coluna 'Survived' e excluir ela do dataset treino\n",
        "train_Y = train.Survived.copy()\n",
        "train.drop(['Survived'], axis=1, inplace=True)\n",
        "\n",
        "# concatenar treino e teste em um único DataFrame\n",
        "all_data = pd.concat(objs=[train, test], axis=0).reset_index(drop=True)\n",
        "\n",
        "print(f\"All_data shape {all_data.shape}\")"
      ],
      "execution_count": 25,
      "outputs": [
        {
          "output_type": "stream",
          "text": [
            "Train shape (891, 12)\n",
            "Test shape (418, 11)\n",
            "All_data shape (1309, 11)\n"
          ],
          "name": "stdout"
        }
      ]
    },
    {
      "cell_type": "markdown",
      "metadata": {
        "id": "sC7hsi5GCWhD"
      },
      "source": [
        "## Imputação de dados ausentes"
      ]
    },
    {
      "cell_type": "code",
      "metadata": {
        "id": "qbZHJKCQCWhD"
      },
      "source": [
        "# age\n",
        "age_median = all_data['Age'].median()\n",
        "all_data['Age'].fillna(age_median, inplace=True)\n",
        "\n",
        "# fare\n",
        "fare_median = all_data['Fare'].median()\n",
        "all_data['Fare'].fillna(fare_median, inplace=True)\n",
        "\n",
        "# embarked\n",
        "embarked_top = all_data['Embarked'].value_counts()[0]\n",
        "all_data['Embarked'].fillna(embarked_top, inplace=True)"
      ],
      "execution_count": 26,
      "outputs": []
    },
    {
      "cell_type": "markdown",
      "metadata": {
        "id": "Axe3UTx7CWhD"
      },
      "source": [
        "## Remoção de colunas e preparação de variaveis"
      ]
    },
    {
      "cell_type": "code",
      "metadata": {
        "id": "ckpnJdVtCWhE"
      },
      "source": [
        "# Remoção de colunas que não serão usadas\n",
        "all_data.drop(['PassengerId', 'Name', 'Ticket', 'Cabin'], axis=1, inplace=True)\n",
        "\n",
        "# Preparação de variaveis\n",
        "all_data['Sex'] = all_data['Sex'].map({'male': 0, 'female': 1})\n",
        "\n",
        "# Criação de dummies\n",
        "embarked_dummies = pd.get_dummies(all_data['Embarked'], prefix='Embarked')\n",
        "all_data = pd.concat([all_data, embarked_dummies], axis=1)\n",
        "all_data.drop('Embarked', axis=1, inplace=True)"
      ],
      "execution_count": 27,
      "outputs": []
    },
    {
      "cell_type": "markdown",
      "metadata": {
        "id": "6NVkE-F7CWhF"
      },
      "source": [
        "## Separação dos datasets"
      ]
    },
    {
      "cell_type": "code",
      "metadata": {
        "colab": {
          "base_uri": "https://localhost:8080/"
        },
        "id": "OoMeAwu_CWhG",
        "outputId": "f5f2b88a-0f7d-4a54-967e-ade8c628d8c2"
      },
      "source": [
        "train_X = all_data.iloc[:train_idx]\n",
        "print(train.shape)\n",
        "test = all_data.iloc[train_idx:]\n",
        "print(test.shape)\n",
        "\n",
        "from sklearn.model_selection import train_test_split\n",
        "# Separação treino e teste\n",
        "tr_x, te_x, tr_y, te_y = train_test_split(train_X, train_Y,\n",
        "                                            test_size = 0.2,\n",
        "                                            random_state=42,\n",
        "                                            stratify=train_Y)"
      ],
      "execution_count": 28,
      "outputs": [
        {
          "output_type": "stream",
          "text": [
            "(891, 11)\n",
            "(418, 10)\n"
          ],
          "name": "stdout"
        }
      ]
    },
    {
      "cell_type": "markdown",
      "metadata": {
        "id": "Az04p4Qz9ews"
      },
      "source": [
        "# Modelos de predição"
      ]
    },
    {
      "cell_type": "markdown",
      "metadata": {
        "id": "56h8o3TzCWhH"
      },
      "source": [
        "##  Arvore de decisão"
      ]
    },
    {
      "cell_type": "code",
      "metadata": {
        "colab": {
          "base_uri": "https://localhost:8080/"
        },
        "id": "OQhjNUaoCWhH",
        "outputId": "349c0321-c5b6-49b6-ea51-0a9ceee6db9c"
      },
      "source": [
        "from sklearn.tree import DecisionTreeClassifier\n",
        "from sklearn.model_selection import GridSearchCV\n",
        "from sklearn.metrics import accuracy_score\n",
        "\n",
        "\n",
        "param_grid = {'criterion': ['entropy', 'gini'],\n",
        "              'max_depth': range(2,30,2),\n",
        "              'min_samples_leaf': range(2,10,2),\n",
        "              'min_impurity_decrease': np.linspace(0,0.5,10)}\n",
        "dtc = DecisionTreeClassifier()\n",
        "gs = GridSearchCV(dtc, param_grid=param_grid)\n",
        "gs.fit(tr_x, tr_y)"
      ],
      "execution_count": 29,
      "outputs": [
        {
          "output_type": "execute_result",
          "data": {
            "text/plain": [
              "GridSearchCV(cv=None, error_score=nan,\n",
              "             estimator=DecisionTreeClassifier(ccp_alpha=0.0, class_weight=None,\n",
              "                                              criterion='gini', max_depth=None,\n",
              "                                              max_features=None,\n",
              "                                              max_leaf_nodes=None,\n",
              "                                              min_impurity_decrease=0.0,\n",
              "                                              min_impurity_split=None,\n",
              "                                              min_samples_leaf=1,\n",
              "                                              min_samples_split=2,\n",
              "                                              min_weight_fraction_leaf=0.0,\n",
              "                                              presort='deprecated',\n",
              "                                              random_state=None,\n",
              "                                              splitter='best'),\n",
              "             iid='deprecated', n_jobs=None,\n",
              "             param_grid={'criterion': ['entropy', 'gini'],\n",
              "                         'max_depth': range(2, 30, 2),\n",
              "                         'min_impurity_decrease': array([0.        , 0.05555556, 0.11111111, 0.16666667, 0.22222222,\n",
              "       0.27777778, 0.33333333, 0.38888889, 0.44444444, 0.5       ]),\n",
              "                         'min_samples_leaf': range(2, 10, 2)},\n",
              "             pre_dispatch='2*n_jobs', refit=True, return_train_score=False,\n",
              "             scoring=None, verbose=0)"
            ]
          },
          "metadata": {
            "tags": []
          },
          "execution_count": 29
        }
      ]
    },
    {
      "cell_type": "markdown",
      "metadata": {
        "id": "kXeukgKxCWhI"
      },
      "source": [
        "### Predição e avaliação do modelo"
      ]
    },
    {
      "cell_type": "code",
      "metadata": {
        "colab": {
          "base_uri": "https://localhost:8080/"
        },
        "id": "VSOauS0sCWhI",
        "outputId": "9bb27d1a-4d31-4f1b-8460-c45fef694551"
      },
      "source": [
        "# Melhores parametros apontados pelo grid search\n",
        "dtc = gs.best_estimator_\n",
        "\n",
        "dtc.fit(tr_x, tr_y)\n",
        "y_pred = dtc.predict(te_x)\n",
        "print(accuracy_score(te_y, y_pred))"
      ],
      "execution_count": 30,
      "outputs": [
        {
          "output_type": "stream",
          "text": [
            "0.770949720670391\n"
          ],
          "name": "stdout"
        }
      ]
    },
    {
      "cell_type": "code",
      "metadata": {
        "colab": {
          "base_uri": "https://localhost:8080/",
          "height": 334
        },
        "id": "ontV8foSCWhJ",
        "outputId": "4ba8a2c2-7220-4e6b-d3ba-db1b6546c3f7"
      },
      "source": [
        "from sklearn.metrics import plot_confusion_matrix\n",
        "disp = plot_confusion_matrix(dtc, te_x, te_y,\n",
        "                                 display_labels=[\"No\", \"Yes\"],\n",
        "                                 cmap=plt.cm.Blues)\n",
        "disp.ax_.set_title(\"Confusion Matrix\")\n",
        "\n",
        "print(disp.confusion_matrix)"
      ],
      "execution_count": 31,
      "outputs": [
        {
          "output_type": "stream",
          "text": [
            "[[100  10]\n",
            " [ 31  38]]\n"
          ],
          "name": "stdout"
        },
        {
          "output_type": "display_data",
          "data": {
            "image/png": "[encoded data removed]",
            "text/plain": [
              "<Figure size 432x288 with 2 Axes>"
            ]
          },
          "metadata": {
            "tags": []
          }
        }
      ]
    },
    {
      "cell_type": "markdown",
      "metadata": {
        "id": "OZQrYvyuCWhK"
      },
      "source": [
        "## K-Neighbors Classifier"
      ]
    },
    {
      "cell_type": "code",
      "metadata": {
        "colab": {
          "base_uri": "https://localhost:8080/"
        },
        "id": "TBdA3lyCCWhL",
        "outputId": "4544e3fe-5451-4593-da93-fd75b42c5ca6"
      },
      "source": [
        "from sklearn.neighbors import KNeighborsClassifier\n",
        "param_grid = {'weights': ['uniform', 'distance'],\n",
        "              'n_neighbors': range(1,15,2),\n",
        "              'metric': ['euclidean', 'manhattan']}\n",
        "\n",
        "knc = KNeighborsClassifier()\n",
        "gs = GridSearchCV(knc, param_grid=param_grid)\n",
        "gs.fit(tr_x, tr_y)"
      ],
      "execution_count": 32,
      "outputs": [
        {
          "output_type": "execute_result",
          "data": {
            "text/plain": [
              "GridSearchCV(cv=None, error_score=nan,\n",
              "             estimator=KNeighborsClassifier(algorithm='auto', leaf_size=30,\n",
              "                                            metric='minkowski',\n",
              "                                            metric_params=None, n_jobs=None,\n",
              "                                            n_neighbors=5, p=2,\n",
              "                                            weights='uniform'),\n",
              "             iid='deprecated', n_jobs=None,\n",
              "             param_grid={'metric': ['euclidean', 'manhattan'],\n",
              "                         'n_neighbors': range(1, 15, 2),\n",
              "                         'weights': ['uniform', 'distance']},\n",
              "             pre_dispatch='2*n_jobs', refit=True, return_train_score=False,\n",
              "             scoring=None, verbose=0)"
            ]
          },
          "metadata": {
            "tags": []
          },
          "execution_count": 32
        }
      ]
    },
    {
      "cell_type": "markdown",
      "metadata": {
        "id": "AyBDSKqSCWhM"
      },
      "source": [
        "### Predição e avaliação do modelo"
      ]
    },
    {
      "cell_type": "code",
      "metadata": {
        "colab": {
          "base_uri": "https://localhost:8080/"
        },
        "id": "TsJoclW4CWhN",
        "outputId": "6e2a099c-d8bd-4d8b-a5e8-a70ba8648b9d"
      },
      "source": [
        "# Melhores parametros apontados pelo grid search\n",
        "knc = gs.best_estimator_\n",
        "\n",
        "knc.fit(tr_x, tr_y)\n",
        "y_pred = knc.predict(te_x)\n",
        "print(accuracy_score(te_y, y_pred))"
      ],
      "execution_count": 33,
      "outputs": [
        {
          "output_type": "stream",
          "text": [
            "0.7206703910614525\n"
          ],
          "name": "stdout"
        }
      ]
    },
    {
      "cell_type": "code",
      "metadata": {
        "colab": {
          "base_uri": "https://localhost:8080/",
          "height": 334
        },
        "id": "tWHb3LmJCWhO",
        "outputId": "b23851ce-9c36-47f4-c86e-bbd5f385548a"
      },
      "source": [
        "disp = plot_confusion_matrix(knc, te_x, te_y,\n",
        "                                 display_labels=[\"No\", \"Yes\"],\n",
        "                                 cmap=plt.cm.Blues)\n",
        "disp.ax_.set_title(\"Confusion Matrix\")\n",
        "\n",
        "print(disp.confusion_matrix)"
      ],
      "execution_count": 34,
      "outputs": [
        {
          "output_type": "stream",
          "text": [
            "[[88 22]\n",
            " [28 41]]\n"
          ],
          "name": "stdout"
        },
        {
          "output_type": "display_data",
          "data": {
            "image/png": "[encoded data removed]",
            "text/plain": [
              "<Figure size 432x288 with 2 Axes>"
            ]
          },
          "metadata": {
            "tags": []
          }
        }
      ]
    },
    {
      "cell_type": "markdown",
      "metadata": {
        "id": "j-yvlk4LCWhO"
      },
      "source": [
        "## SVM"
      ]
    },
    {
      "cell_type": "code",
      "metadata": {
        "id": "SNo4bWGvCWhP"
      },
      "source": [
        "from sklearn.svm import NuSVC\n",
        "param_grid = {'nu': np.linspace(0,1,5),\n",
        "              'kernel': ['linear', 'poly', 'rbf', 'sigmoid'],\n",
        "              'decision_function_shape' : ['ovo', 'ovr']}\n",
        "\n",
        "svc = NuSVC()\n",
        "gs = GridSearchCV(svc, param_grid=param_grid)\n",
        "gs.fit(tr_x, tr_y)"
      ],
      "execution_count": null,
      "outputs": []
    },
    {
      "cell_type": "markdown",
      "metadata": {
        "id": "kdG9KWZdCWhQ"
      },
      "source": [
        "### Predição e avaliação do modelo"
      ]
    },
    {
      "cell_type": "code",
      "metadata": {
        "id": "B2kPBQpQCWhR"
      },
      "source": [
        "# Melhores parametros apontados pelo grid search\n",
        "svc = gs.best_estimator_\n",
        "\n",
        "svc.fit(tr_x, tr_y)\n",
        "y_pred = svc.predict(te_x)\n",
        "print(accuracy_score(te_y, y_pred))"
      ],
      "execution_count": null,
      "outputs": []
    },
    {
      "cell_type": "code",
      "metadata": {
        "id": "5tjcV1zVCWhR"
      },
      "source": [
        "disp = plot_confusion_matrix(svc, te_x, te_y,\n",
        "                                 display_labels=[\"No\", \"Yes\"],\n",
        "                                 cmap=plt.cm.Blues)\n",
        "disp.ax_.set_title(\"Confusion Matrix\")\n",
        "\n",
        "print(disp.confusion_matrix)"
      ],
      "execution_count": null,
      "outputs": []
    },
    {
      "cell_type": "markdown",
      "metadata": {
        "id": "TfEELhx3CWhR"
      },
      "source": [
        "## Naive Bayes"
      ]
    },
    {
      "cell_type": "code",
      "metadata": {
        "colab": {
          "base_uri": "https://localhost:8080/"
        },
        "id": "PQDa_1bjCWhR",
        "outputId": "02dec8c9-1fe9-495c-9f4b-09ca647a6056"
      },
      "source": [
        "from sklearn.naive_bayes import MultinomialNB\n",
        "param_grid = {'alpha': np.linspace(0,2,5),\n",
        "              'fit_prior': [False,True]}\n",
        "\n",
        "mnb = MultinomialNB()\n",
        "gs = GridSearchCV(mnb, param_grid=param_grid)\n",
        "gs.fit(tr_x, tr_y)"
      ],
      "execution_count": 42,
      "outputs": [
        {
          "output_type": "stream",
          "text": [
            "/usr/local/lib/python3.6/dist-packages/sklearn/naive_bayes.py:507: UserWarning: alpha too small will result in numeric errors, setting alpha = 1.0e-10\n",
            "  'setting alpha = %.1e' % _ALPHA_MIN)\n",
            "/usr/local/lib/python3.6/dist-packages/sklearn/naive_bayes.py:507: UserWarning: alpha too small will result in numeric errors, setting alpha = 1.0e-10\n",
            "  'setting alpha = %.1e' % _ALPHA_MIN)\n",
            "/usr/local/lib/python3.6/dist-packages/sklearn/naive_bayes.py:507: UserWarning: alpha too small will result in numeric errors, setting alpha = 1.0e-10\n",
            "  'setting alpha = %.1e' % _ALPHA_MIN)\n",
            "/usr/local/lib/python3.6/dist-packages/sklearn/naive_bayes.py:507: UserWarning: alpha too small will result in numeric errors, setting alpha = 1.0e-10\n",
            "  'setting alpha = %.1e' % _ALPHA_MIN)\n",
            "/usr/local/lib/python3.6/dist-packages/sklearn/naive_bayes.py:507: UserWarning: alpha too small will result in numeric errors, setting alpha = 1.0e-10\n",
            "  'setting alpha = %.1e' % _ALPHA_MIN)\n",
            "/usr/local/lib/python3.6/dist-packages/sklearn/naive_bayes.py:507: UserWarning: alpha too small will result in numeric errors, setting alpha = 1.0e-10\n",
            "  'setting alpha = %.1e' % _ALPHA_MIN)\n",
            "/usr/local/lib/python3.6/dist-packages/sklearn/naive_bayes.py:507: UserWarning: alpha too small will result in numeric errors, setting alpha = 1.0e-10\n",
            "  'setting alpha = %.1e' % _ALPHA_MIN)\n",
            "/usr/local/lib/python3.6/dist-packages/sklearn/naive_bayes.py:507: UserWarning: alpha too small will result in numeric errors, setting alpha = 1.0e-10\n",
            "  'setting alpha = %.1e' % _ALPHA_MIN)\n",
            "/usr/local/lib/python3.6/dist-packages/sklearn/naive_bayes.py:507: UserWarning: alpha too small will result in numeric errors, setting alpha = 1.0e-10\n",
            "  'setting alpha = %.1e' % _ALPHA_MIN)\n",
            "/usr/local/lib/python3.6/dist-packages/sklearn/naive_bayes.py:507: UserWarning: alpha too small will result in numeric errors, setting alpha = 1.0e-10\n",
            "  'setting alpha = %.1e' % _ALPHA_MIN)\n",
            "/usr/local/lib/python3.6/dist-packages/sklearn/naive_bayes.py:507: UserWarning: alpha too small will result in numeric errors, setting alpha = 1.0e-10\n",
            "  'setting alpha = %.1e' % _ALPHA_MIN)\n"
          ],
          "name": "stderr"
        },
        {
          "output_type": "execute_result",
          "data": {
            "text/plain": [
              "GridSearchCV(cv=None, error_score=nan,\n",
              "             estimator=MultinomialNB(alpha=1.0, class_prior=None,\n",
              "                                     fit_prior=True),\n",
              "             iid='deprecated', n_jobs=None,\n",
              "             param_grid={'alpha': array([0. , 0.5, 1. , 1.5, 2. ]),\n",
              "                         'fit_prior': [False, True]},\n",
              "             pre_dispatch='2*n_jobs', refit=True, return_train_score=False,\n",
              "             scoring=None, verbose=0)"
            ]
          },
          "metadata": {
            "tags": []
          },
          "execution_count": 42
        }
      ]
    },
    {
      "cell_type": "markdown",
      "metadata": {
        "id": "WzZLwmkyCWhS"
      },
      "source": [
        "### Predição e avaliação do modelo"
      ]
    },
    {
      "cell_type": "code",
      "metadata": {
        "colab": {
          "base_uri": "https://localhost:8080/"
        },
        "id": "gB4tfY8yCWhU",
        "outputId": "a12646eb-5fec-407e-873a-970cb2cc91f0"
      },
      "source": [
        "# Melhores parametros apontados pelo grid search\n",
        "mnb = gs.best_estimator_\n",
        "\n",
        "mnb.fit(tr_x, tr_y)\n",
        "y_pred = mnb.predict(te_x)\n",
        "print(accuracy_score(te_y, y_pred))"
      ],
      "execution_count": 43,
      "outputs": [
        {
          "output_type": "stream",
          "text": [
            "0.6480446927374302\n"
          ],
          "name": "stdout"
        },
        {
          "output_type": "stream",
          "text": [
            "/usr/local/lib/python3.6/dist-packages/sklearn/naive_bayes.py:507: UserWarning: alpha too small will result in numeric errors, setting alpha = 1.0e-10\n",
            "  'setting alpha = %.1e' % _ALPHA_MIN)\n"
          ],
          "name": "stderr"
        }
      ]
    },
    {
      "cell_type": "code",
      "metadata": {
        "colab": {
          "base_uri": "https://localhost:8080/",
          "height": 334
        },
        "id": "wyIs7by2CWhU",
        "outputId": "a390f140-2744-4fbe-d592-2f50175044ef"
      },
      "source": [
        "disp = plot_confusion_matrix(mnb, te_x, te_y,\n",
        "                                 display_labels=[\"No\", \"Yes\"],\n",
        "                                 cmap=plt.cm.Blues)\n",
        "disp.ax_.set_title(\"Confusion Matrix\")\n",
        "\n",
        "print(disp.confusion_matrix)"
      ],
      "execution_count": 44,
      "outputs": [
        {
          "output_type": "stream",
          "text": [
            "[[87 23]\n",
            " [40 29]]\n"
          ],
          "name": "stdout"
        },
        {
          "output_type": "display_data",
          "data": {
            "image/png": "[encoded data removed]",
            "text/plain": [
              "<Figure size 432x288 with 2 Axes>"
            ]
          },
          "metadata": {
            "tags": []
          }
        }
      ]
    },
    {
      "cell_type": "markdown",
      "metadata": {
        "id": "c7OMqgseCWhU"
      },
      "source": [
        "## Logistic regression"
      ]
    },
    {
      "cell_type": "code",
      "metadata": {
        "id": "oj2iXodLCWhU"
      },
      "source": [
        "from sklearn.linear_model import LogisticRegression\n",
        "param_grid = {'penalty' : ['l1', 'l2', 'elasticnet', 'none'],\n",
        "              'dual': [False,True],\n",
        "              'fit_intercept': [False,True],\n",
        "              'solver' : ['newton-cg', 'lbfgs', 'liblinear', 'sag', 'saga']}\n",
        "\n",
        "lr = LogisticRegression()\n",
        "gs = GridSearchCV(lr, param_grid=param_grid)\n",
        "gs.fit(tr_x, tr_y)"
      ],
      "execution_count": null,
      "outputs": []
    },
    {
      "cell_type": "markdown",
      "metadata": {
        "id": "nhWdmfnrCWhV"
      },
      "source": [
        "### Predição e avaliação do modelo"
      ]
    },
    {
      "cell_type": "code",
      "metadata": {
        "colab": {
          "base_uri": "https://localhost:8080/"
        },
        "id": "fDbCIN6jCWhW",
        "outputId": "523a1c83-0f99-47c7-b5df-0c392512f960"
      },
      "source": [
        "# Melhores parametros apontados pelo grid search\n",
        "lr = gs.best_estimator_\n",
        "\n",
        "lr.fit(tr_x, tr_y)\n",
        "y_pred = lr.predict(te_x)\n",
        "print(accuracy_score(te_y, y_pred))"
      ],
      "execution_count": 46,
      "outputs": [
        {
          "output_type": "stream",
          "text": [
            "0.7988826815642458\n"
          ],
          "name": "stdout"
        },
        {
          "output_type": "stream",
          "text": [
            "/usr/local/lib/python3.6/dist-packages/sklearn/linear_model/_logistic.py:940: ConvergenceWarning: lbfgs failed to converge (status=1):\n",
            "STOP: TOTAL NO. of ITERATIONS REACHED LIMIT.\n",
            "\n",
            "Increase the number of iterations (max_iter) or scale the data as shown in:\n",
            "    https://scikit-learn.org/stable/modules/preprocessing.html\n",
            "Please also refer to the documentation for alternative solver options:\n",
            "    https://scikit-learn.org/stable/modules/linear_model.html#logistic-regression\n",
            "  extra_warning_msg=_LOGISTIC_SOLVER_CONVERGENCE_MSG)\n"
          ],
          "name": "stderr"
        }
      ]
    },
    {
      "cell_type": "code",
      "metadata": {
        "colab": {
          "base_uri": "https://localhost:8080/",
          "height": 334
        },
        "id": "-CBXZTHPCWhW",
        "outputId": "7a6e5f9c-ef0d-4f01-9d4e-b7bf2ddd9c1d"
      },
      "source": [
        "disp = plot_confusion_matrix(lr, te_x, te_y,\n",
        "                                 display_labels=[\"No\", \"Yes\"],\n",
        "                                 cmap=plt.cm.Blues)\n",
        "disp.ax_.set_title(\"Confusion Matrix\")\n",
        "\n",
        "print(disp.confusion_matrix)"
      ],
      "execution_count": 47,
      "outputs": [
        {
          "output_type": "stream",
          "text": [
            "[[97 13]\n",
            " [23 46]]\n"
          ],
          "name": "stdout"
        },
        {
          "output_type": "display_data",
          "data": {
            "image/png": "[encoded data removed]",
            "text/plain": [
              "<Figure size 432x288 with 2 Axes>"
            ]
          },
          "metadata": {
            "tags": []
          }
        }
      ]
    },
    {
      "cell_type": "markdown",
      "metadata": {
        "id": "B4Qm-DdH3qmc"
      },
      "source": [
        "# Referências\n",
        "\n",
        "* [Kaggle Competition - Titanic: Machine Learning from Disaster ](https://www.kaggle.com/c/titanic)\n",
        "* [Kaggle Notebook - Titanic Tutorial](https://www.kaggle.com/alexisbcook/titanic-tutorial)\n",
        "* [Kaggle Notebook - Titanic Survival Prediction](https://www.kaggle.com/vaishnavikhilari/titanic-survival-prediction#3.-Imputation-of-Missing-Data/-Outliers)\n",
        "* [Kaggle Notebook - Survivors Classification on Titanic using R](https://www.kaggle.com/galvaowesley/survivors-classification-on-titanic-using-r)\n",
        "* [Tutorial: Introduction to Missing Data Imputation](https://medium.com/@Cambridge_Spark/tutorial-introduction-to-missing-data-imputation-4912b51c34eb)\n",
        "* [Different Ways to Compensate for Missing Values In a Dataset (Data Imputation with examples ](https://towardsdatascience.com/6-different-ways-to-compensate-for-missing-values-data-imputation-with-examples-6022d9ca0779)\n",
        "* [Titanic: Machine Learning from Disaster](https://github.com/carlosfab/data_science/blob/master/Titanic.ipynb)\n",
        "* [Scikit-Learn Documentation](https://scikit-learn.org/stable/index.html)"
      ]
    },
    {
      "cell_type": "markdown",
      "metadata": {
        "id": "ma0Dqr2G30Ui"
      },
      "source": [
        ""
      ]
    }
  ]
}