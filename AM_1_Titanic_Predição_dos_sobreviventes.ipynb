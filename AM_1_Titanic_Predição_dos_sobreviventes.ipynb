{
  "nbformat": 4,
  "nbformat_minor": 0,
  "metadata": {
    "colab": {
      "name": " AM_1 - Titanic Predição dos sobreviventes",
      "provenance": [],
      "collapsed_sections": [],
      "include_colab_link": true
    },
    "kernelspec": {
      "name": "python38364bitdesafio1condaae5eb0a4db284d2db31a0e94f8f8fa71",
      "display_name": "Python 3.8.3 64-bit ('desafio1': conda)",
      "language": "python"
    }
  },
  "cells": [
    {
      "cell_type": "markdown",
      "metadata": {
        "id": "view-in-github",
        "colab_type": "text"
      },
      "source": [
        "<a href=\"https://colab.research.google.com/github/rafabenevente/AM_1/blob/main/AM_1_Titanic_Predi%C3%A7%C3%A3o_dos_sobreviventes.ipynb\" target=\"_parent\"><img src=\"https://colab.research.google.com/assets/colab-badge.svg\" alt=\"Open In Colab\"/></a>"
      ]
    },
    {
      "cell_type": "code",
      "metadata": {
        "id": "9TFedrV3QQxW",
        "colab": {
          "base_uri": "https://localhost:8080/"
        },
        "outputId": "c7ee8d75-c01e-4f61-8023-3ffc8858f38c"
      },
      "source": [
        "import sklearn\n",
        "print(sklearn.__version__)"
      ],
      "execution_count": 815,
      "outputs": [
        {
          "output_type": "stream",
          "text": [
            "0.22.2.post1\n"
          ],
          "name": "stdout"
        }
      ]
    },
    {
      "cell_type": "markdown",
      "metadata": {
        "id": "jkyfY8TTTaGW"
      },
      "source": [
        "Titanic: Predição dos Sobreviventes com Machine Learning\n",
        "==="
      ]
    },
    {
      "cell_type": "markdown",
      "metadata": {
        "id": "ju-KZXdXZBWo"
      },
      "source": [
        "# Conhecendo o Conjunto de Dados"
      ]
    },
    {
      "cell_type": "markdown",
      "metadata": {
        "id": "P1szlYYxSrqt"
      },
      "source": [
        "\n",
        "**Dicionário**\n",
        "\n",
        "|Variável |Definição|Chave|\n",
        "|:---- |----|----:|\n",
        "|survival  | Sobrevivente |0 = Não, 1 = Sim|\n",
        "|pclass |Classe da ticket| 1 = 1st, 2 = 2nd, 3 = 3rd|\n",
        "|sex  |Sexo| \t\n",
        "|Age  | Idade em anos| \t\n",
        "|sibsp| # de irmãs / cônjuges a bordo do Titanic |\n",
        "|parch |# de pais / crianças a bordo do Titanic |\t\n",
        "|ticket| ID do ticket| \t\n",
        "|fare \t|Tarifa de passageiro (libra esterlina)| \t\n",
        "|cabin \t|número da cabine| \t\n",
        "|embarked |Porto de embarcação|C = Cherbourg, Q = Queenstown, S = Southampton|\n",
        "\n",
        "\n",
        "**Observações**\n",
        "- pclass: Status socieconômico\n",
        "    - 1st = Alta\n",
        "    - 2nd = Média\n",
        "    - 3rd = Baixa\n",
        "- age: A idade é fracionária se menor que 1. Se a idade for estimada, é na forma de xx.5\n",
        "\n",
        "- sibsp: O conjunto de dados define as relações familiares desta forma ...\n",
        "    - Sibling = irmão, irmã, meio-irmão, meia-irmã\n",
        "    - Spouse = marido, esposa (amantes e noivos foram ignorados)\n",
        "\n",
        "- parch: O conjunto de dados define as relações familiares desta forma ...\n",
        "    - Parent = mãe, pai\n",
        "    - Child = filha, filho, enteada, enteado\n",
        "    - Algumas crianças viajavam apenas com a babá, portanto parch = 0 para elas.\n",
        "\n"
      ]
    },
    {
      "cell_type": "markdown",
      "metadata": {
        "id": "Klht-c5pc5G5"
      },
      "source": [
        "## Importação e características"
      ]
    },
    {
      "cell_type": "code",
      "metadata": {
        "id": "bGCnWZz1PXPZ"
      },
      "source": [
        "test_url = 'https://raw.githubusercontent.com/rafabenevente/AM_1/main/test.csv'\n",
        "train_url = 'https://raw.githubusercontent.com/rafabenevente/AM_1/main/train.csv'\n",
        "validation_url = 'https://raw.githubusercontent.com/galvaowesley/MachineLearning_Learning/master/Titanic%20-%20Suvivors%20Classification/gender_submission.csv'\n",
        "\n",
        "# Importa as bibliotecas de cálculo e manipulação de dados\n",
        "import numpy as np\n",
        "import pandas as pd\n",
        "from matplotlib import pyplot as plt\n",
        "from  matplotlib.ticker import PercentFormatter\n",
        "import seaborn as sns\n"
      ],
      "execution_count": 816,
      "outputs": []
    },
    {
      "cell_type": "code",
      "metadata": {
        "id": "zBNrLsyZ15NV"
      },
      "source": [
        "# Fonte: https://stackoverflow.com/questions/63745343/annotate-percentage-of-group-within-a-seaborn-countplot\n",
        "def barPlotPercent(df, atributo1, atributo2):\n",
        "  '''\n",
        "  Função que recebe um dataframe e dois atributos categóricos, realiza o agrupamento \n",
        "  de ambos e mostra a contagem e percentual do atributo1 em função do atributo2. \n",
        "  '''\n",
        "\n",
        "  # prepare the dataset\n",
        "  df = (df\n",
        "        .groupby([atributo1, atributo2])\n",
        "        .size()\n",
        "        .reset_index()\n",
        "        #.replace({\"Survived\": {0:\"no\", 1:\"yes\"}})\n",
        "        .rename(columns={0:\"count\"}))\n",
        "\n",
        "  # Calcula o percentual do atributo2 % por níveis do atributo1.\n",
        "  df[\"percent\"] = (df\n",
        "                  .groupby(atributo1)\n",
        "                  .apply(lambda x: x[\"count\"] / x[\"count\"].sum()).values)\n",
        "\n",
        "  # sort the dataframe to match the drawing order\n",
        "  df.sort_values(by=[atributo2, atributo1], inplace=True)\n",
        "\n",
        "  # Visualização\n",
        "  plt.style.use('ggplot')\n",
        "  fig = sns.catplot(\n",
        "    x=\"count\", y=atributo1, hue=atributo2,\n",
        "    kind=\"bar\", data=df, height=4, aspect=2)\n",
        "\n",
        "  for i, bar in enumerate(fig.ax.patches):\n",
        "    \n",
        "      height = bar.get_height()\n",
        "      fig.ax.annotate(\n",
        "          # reference the pre-calculated row in the dataframe\n",
        "          f\"{df.iloc[i, 3] :.0%}\",\n",
        "          xycoords=\"data\",\n",
        "          xytext=(20, -15),\n",
        "          textcoords=\"offset points\",\n",
        "          xy=(bar.get_width(), bar.get_y()),\n",
        "          ha='center', va='center')\n",
        "\n",
        "  # make space for annonations\n",
        "  plt.margins(x=0.2)\n",
        "  plt.show()"
      ],
      "execution_count": 817,
      "outputs": []
    },
    {
      "cell_type": "code",
      "metadata": {
        "id": "bf6I0dTZjyWu"
      },
      "source": [
        "# Carregamento daa base de dados inicialmente separada em treino e teste\n",
        "train = pd.read_csv(train_url)\n",
        "test =  pd.read_csv(test_url)"
      ],
      "execution_count": 818,
      "outputs": []
    },
    {
      "cell_type": "code",
      "metadata": {
        "colab": {
          "base_uri": "https://localhost:8080/"
        },
        "id": "3j7QEAm6Z7Wr",
        "outputId": "f734c646-c3f5-43d1-c886-d8bf13b7845c"
      },
      "source": [
        "# Dimensão da base de dados\n",
        "print(\"Treino tem {} linhas e {} colunas \\n\". format(train.shape[0], train.shape[1]))\n",
        "print(\"Teste tem {} linhas e {} colunas \\n\". format(test.shape[0], test.shape[1]))"
      ],
      "execution_count": 819,
      "outputs": [
        {
          "output_type": "stream",
          "text": [
            "Treino tem 891 linhas e 12 colunas \n",
            "\n",
            "Teste tem 418 linhas e 11 colunas \n",
            "\n"
          ],
          "name": "stdout"
        }
      ]
    },
    {
      "cell_type": "markdown",
      "metadata": {
        "id": "S-EeE0bwbhEk"
      },
      "source": [
        "Há, portanto, 1309 linhas ao total. O conjunto de dados original sofreu split na proporção: 68% para treino e 32% para teste. "
      ]
    },
    {
      "cell_type": "code",
      "metadata": {
        "colab": {
          "base_uri": "https://localhost:8080/",
          "height": 345
        },
        "id": "f04k2-IxcGZg",
        "outputId": "e8f61caf-5e69-4ae5-e12d-9ee0f582a451"
      },
      "source": [
        "# Aparência do train\n",
        "train.head()"
      ],
      "execution_count": 820,
      "outputs": [
        {
          "output_type": "execute_result",
          "data": {
            "text/html": [
              "<div>\n",
              "<style scoped>\n",
              "    .dataframe tbody tr th:only-of-type {\n",
              "        vertical-align: middle;\n",
              "    }\n",
              "\n",
              "    .dataframe tbody tr th {\n",
              "        vertical-align: top;\n",
              "    }\n",
              "\n",
              "    .dataframe thead th {\n",
              "        text-align: right;\n",
              "    }\n",
              "</style>\n",
              "<table border=\"1\" class=\"dataframe\">\n",
              "  <thead>\n",
              "    <tr style=\"text-align: right;\">\n",
              "      <th></th>\n",
              "      <th>PassengerId</th>\n",
              "      <th>Survived</th>\n",
              "      <th>Pclass</th>\n",
              "      <th>Name</th>\n",
              "      <th>Sex</th>\n",
              "      <th>Age</th>\n",
              "      <th>SibSp</th>\n",
              "      <th>Parch</th>\n",
              "      <th>Ticket</th>\n",
              "      <th>Fare</th>\n",
              "      <th>Cabin</th>\n",
              "      <th>Embarked</th>\n",
              "    </tr>\n",
              "  </thead>\n",
              "  <tbody>\n",
              "    <tr>\n",
              "      <th>0</th>\n",
              "      <td>1</td>\n",
              "      <td>0</td>\n",
              "      <td>3</td>\n",
              "      <td>Braund, Mr. Owen Harris</td>\n",
              "      <td>male</td>\n",
              "      <td>22.0</td>\n",
              "      <td>1</td>\n",
              "      <td>0</td>\n",
              "      <td>A/5 21171</td>\n",
              "      <td>7.2500</td>\n",
              "      <td>NaN</td>\n",
              "      <td>S</td>\n",
              "    </tr>\n",
              "    <tr>\n",
              "      <th>1</th>\n",
              "      <td>2</td>\n",
              "      <td>1</td>\n",
              "      <td>1</td>\n",
              "      <td>Cumings, Mrs. John Bradley (Florence Briggs Th...</td>\n",
              "      <td>female</td>\n",
              "      <td>38.0</td>\n",
              "      <td>1</td>\n",
              "      <td>0</td>\n",
              "      <td>PC 17599</td>\n",
              "      <td>71.2833</td>\n",
              "      <td>C85</td>\n",
              "      <td>C</td>\n",
              "    </tr>\n",
              "    <tr>\n",
              "      <th>2</th>\n",
              "      <td>3</td>\n",
              "      <td>1</td>\n",
              "      <td>3</td>\n",
              "      <td>Heikkinen, Miss. Laina</td>\n",
              "      <td>female</td>\n",
              "      <td>26.0</td>\n",
              "      <td>0</td>\n",
              "      <td>0</td>\n",
              "      <td>STON/O2. 3101282</td>\n",
              "      <td>7.9250</td>\n",
              "      <td>NaN</td>\n",
              "      <td>S</td>\n",
              "    </tr>\n",
              "    <tr>\n",
              "      <th>3</th>\n",
              "      <td>4</td>\n",
              "      <td>1</td>\n",
              "      <td>1</td>\n",
              "      <td>Futrelle, Mrs. Jacques Heath (Lily May Peel)</td>\n",
              "      <td>female</td>\n",
              "      <td>35.0</td>\n",
              "      <td>1</td>\n",
              "      <td>0</td>\n",
              "      <td>113803</td>\n",
              "      <td>53.1000</td>\n",
              "      <td>C123</td>\n",
              "      <td>S</td>\n",
              "    </tr>\n",
              "    <tr>\n",
              "      <th>4</th>\n",
              "      <td>5</td>\n",
              "      <td>0</td>\n",
              "      <td>3</td>\n",
              "      <td>Allen, Mr. William Henry</td>\n",
              "      <td>male</td>\n",
              "      <td>35.0</td>\n",
              "      <td>0</td>\n",
              "      <td>0</td>\n",
              "      <td>373450</td>\n",
              "      <td>8.0500</td>\n",
              "      <td>NaN</td>\n",
              "      <td>S</td>\n",
              "    </tr>\n",
              "  </tbody>\n",
              "</table>\n",
              "</div>"
            ],
            "text/plain": [
              "   PassengerId  Survived  Pclass  ...     Fare Cabin  Embarked\n",
              "0            1         0       3  ...   7.2500   NaN         S\n",
              "1            2         1       1  ...  71.2833   C85         C\n",
              "2            3         1       3  ...   7.9250   NaN         S\n",
              "3            4         1       1  ...  53.1000  C123         S\n",
              "4            5         0       3  ...   8.0500   NaN         S\n",
              "\n",
              "[5 rows x 12 columns]"
            ]
          },
          "metadata": {
            "tags": []
          },
          "execution_count": 820
        }
      ]
    },
    {
      "cell_type": "code",
      "metadata": {
        "colab": {
          "base_uri": "https://localhost:8080/"
        },
        "id": "hTMNO57Ycp0O",
        "outputId": "d1e99204-4a1a-4c12-d8b0-4d3134b9ebf6"
      },
      "source": [
        "# Tipo de dados das variáveis\n",
        "train.info()"
      ],
      "execution_count": 821,
      "outputs": [
        {
          "output_type": "stream",
          "text": [
            "<class 'pandas.core.frame.DataFrame'>\n",
            "RangeIndex: 891 entries, 0 to 890\n",
            "Data columns (total 12 columns):\n",
            " #   Column       Non-Null Count  Dtype  \n",
            "---  ------       --------------  -----  \n",
            " 0   PassengerId  891 non-null    int64  \n",
            " 1   Survived     891 non-null    int64  \n",
            " 2   Pclass       891 non-null    int64  \n",
            " 3   Name         891 non-null    object \n",
            " 4   Sex          891 non-null    object \n",
            " 5   Age          714 non-null    float64\n",
            " 6   SibSp        891 non-null    int64  \n",
            " 7   Parch        891 non-null    int64  \n",
            " 8   Ticket       891 non-null    object \n",
            " 9   Fare         891 non-null    float64\n",
            " 10  Cabin        204 non-null    object \n",
            " 11  Embarked     889 non-null    object \n",
            "dtypes: float64(2), int64(5), object(5)\n",
            "memory usage: 83.7+ KB\n"
          ],
          "name": "stdout"
        }
      ]
    },
    {
      "cell_type": "markdown",
      "metadata": {
        "id": "UXLjFuuY40Vx"
      },
      "source": [
        "# Engenharia de atributos\n",
        "\n"
      ]
    },
    {
      "cell_type": "markdown",
      "metadata": {
        "id": "Qp6Yr5iBCWhA"
      },
      "source": [
        "## Junção dos datasets de treino e teste\n",
        "\n",
        "Tanto os dados dados para treino quanto para teste foram concatenados para que todo o conjunto passasse por transformações durante a engenharia de atributos. "
      ]
    },
    {
      "cell_type": "code",
      "metadata": {
        "colab": {
          "base_uri": "https://localhost:8080/"
        },
        "id": "xXdBXW_UCWhB",
        "outputId": "91f23622-eccc-40c1-b89b-ad57b71cb287"
      },
      "source": [
        "print(f\"Train shape {train.shape}\")\n",
        "print(f\"Test shape {test.shape}\")\n",
        "\n",
        "# salvar os índices dos datasets para recuperação posterior\n",
        "train_idx = train.shape[0]\n",
        "test_idx = test.shape[0]\n",
        "\n",
        "# concatenar treino e teste em um único DataFrame\n",
        "all_data = pd.concat(objs=[train, test], axis=0).reset_index(drop=True)\n",
        "\n",
        "print(f\"All_data shape {all_data.shape}\")"
      ],
      "execution_count": 822,
      "outputs": [
        {
          "output_type": "stream",
          "text": [
            "Train shape (891, 12)\n",
            "Test shape (418, 11)\n",
            "All_data shape (1309, 12)\n"
          ],
          "name": "stdout"
        }
      ]
    },
    {
      "cell_type": "markdown",
      "metadata": {
        "id": "fxR_P5zjedhl"
      },
      "source": [
        "Antes das transformações, vale a pena verificar o nível de correlação entre os atributos para que se possa gerar insights e outros atributos a partir dos pares que possuam maiores correlações. "
      ]
    },
    {
      "cell_type": "code",
      "metadata": {
        "colab": {
          "base_uri": "https://localhost:8080/",
          "height": 612
        },
        "id": "F_UdjBoJDMGQ",
        "outputId": "daf8d209-1db6-4dde-d31b-dc516248f904"
      },
      "source": [
        "# Heatmap de coeficiente de correlação entre as variáveis\n",
        "plt.figure(figsize=(10,10))\n",
        "sns.heatmap(all_data.corr(), annot = True)"
      ],
      "execution_count": 823,
      "outputs": [
        {
          "output_type": "execute_result",
          "data": {
            "text/plain": [
              "<matplotlib.axes._subplots.AxesSubplot at 0x7f42b45d25f8>"
            ]
          },
          "metadata": {
            "tags": []
          },
          "execution_count": 823
        },
        {
          "output_type": "display_data",
          "data": {
            "image/png": "[encoded data removed]",
            "text/plain": [
              "<Figure size 720x720 with 2 Axes>"
            ]
          },
          "metadata": {
            "tags": []
          }
        }
      ]
    },
    {
      "cell_type": "markdown",
      "metadata": {
        "id": "sC7hsi5GCWhD"
      },
      "source": [
        "## Imputação de dados ausentes\n",
        "\n",
        "O conjunto de dados do Titanic apresenta dados faltantes em alguns atributos, como `Age`, `Cabin`, `Fare` e `Embarked`. Nesta seção, algumas estratégias de imputação de dados foram utilizadas para poder preencher os campos vazios."
      ]
    },
    {
      "cell_type": "code",
      "metadata": {
        "colab": {
          "base_uri": "https://localhost:8080/"
        },
        "id": "TFBEBShofQYI",
        "outputId": "fd2d766d-d51e-4cf3-8c2f-29ebdf328a40"
      },
      "source": [
        "# Contagem de dados faltantes por atributo\n",
        "all_data.isna().sum()"
      ],
      "execution_count": 824,
      "outputs": [
        {
          "output_type": "execute_result",
          "data": {
            "text/plain": [
              "PassengerId       0\n",
              "Survived        418\n",
              "Pclass            0\n",
              "Name              0\n",
              "Sex               0\n",
              "Age             263\n",
              "SibSp             0\n",
              "Parch             0\n",
              "Ticket            0\n",
              "Fare              1\n",
              "Cabin          1014\n",
              "Embarked          2\n",
              "dtype: int64"
            ]
          },
          "metadata": {
            "tags": []
          },
          "execution_count": 824
        }
      ]
    },
    {
      "cell_type": "markdown",
      "metadata": {
        "id": "V1q0yRlT4ZMe"
      },
      "source": [
        "### Age"
      ]
    },
    {
      "cell_type": "markdown",
      "metadata": {
        "id": "FOtz5fNn-wxU"
      },
      "source": [
        "A abordagem de imputação de dados para `Age`  é baseada no preenchimento dos campos faltantes com medidas de tendência central. Para tanto, verificou-se a o formato da distribuição a fim de se escolher a melhor medida. "
      ]
    },
    {
      "cell_type": "code",
      "metadata": {
        "colab": {
          "base_uri": "https://localhost:8080/"
        },
        "id": "HNK48MwmfrRo",
        "outputId": "f832e14c-1d4b-49b6-dddf-faea6d756c6a"
      },
      "source": [
        "# Sumário estatístico do atributo Age\n",
        "round(all_data['Age'].describe(), 2)"
      ],
      "execution_count": 825,
      "outputs": [
        {
          "output_type": "execute_result",
          "data": {
            "text/plain": [
              "count    1046.00\n",
              "mean       29.88\n",
              "std        14.41\n",
              "min         0.17\n",
              "25%        21.00\n",
              "50%        28.00\n",
              "75%        39.00\n",
              "max        80.00\n",
              "Name: Age, dtype: float64"
            ]
          },
          "metadata": {
            "tags": []
          },
          "execution_count": 825
        }
      ]
    },
    {
      "cell_type": "markdown",
      "metadata": {
        "id": "HGmaCsG9gJi4"
      },
      "source": [
        "Como se vê, a média da idade é 29,88 anos, enquanto a mediana é 28,00. Esta proximidade releva que a distribuição de idade tende à normal. Para tanto, o histograma pode ajudar na visualização dessa distribuição. "
      ]
    },
    {
      "cell_type": "code",
      "metadata": {
        "id": "IFl1kwdG4a0z",
        "colab": {
          "base_uri": "https://localhost:8080/",
          "height": 354
        },
        "outputId": "4c428f26-0112-4b0c-8e9d-3743fc49852f"
      },
      "source": [
        "# Cálculo da média e mediana\n",
        "mean = all_data['Age'].mean()\n",
        "median =all_data['Age'].median()\n",
        "\n",
        "plt.title(\"Age distribution\")\n",
        "sns.distplot(a=all_data['Age'], kde = False,\n",
        "             hist_kws = {'edgecolor':'black'})\n",
        "plt.axvline(mean, color='r', linestyle='--')\n",
        "plt.axvline(median, color='g', linestyle='-')\n",
        "\n",
        "plt.ylabel(\"Count\")\n",
        "plt.legend({'Mean':mean,'Median':median})\n",
        "plt.show()\n"
      ],
      "execution_count": 826,
      "outputs": [
        {
          "output_type": "stream",
          "text": [
            "/usr/local/lib/python3.6/dist-packages/seaborn/distributions.py:2551: FutureWarning: `distplot` is a deprecated function and will be removed in a future version. Please adapt your code to use either `displot` (a figure-level function with similar flexibility) or `histplot` (an axes-level function for histograms).\n",
            "  warnings.warn(msg, FutureWarning)\n"
          ],
          "name": "stderr"
        },
        {
          "output_type": "display_data",
          "data": {
            "image/png": "[encoded data removed]",
            "text/plain": [
              "<Figure size 432x288 with 1 Axes>"
            ]
          },
          "metadata": {
            "tags": []
          }
        }
      ]
    },
    {
      "cell_type": "markdown",
      "metadata": {
        "id": "9bjOcYy29kqx"
      },
      "source": [
        "A distribuição aparenta estar positivamente enviesada para direita, portanto, a mediana pode ser utilizada como uma substituta para dados faltantes.\n",
        "\n",
        "Contudo, preencher todos 263 campos vazios com um único valor de mediana pode não ser uma boa ideia, pois as idades estão distribuídas em diferentes grupos de passageiros. Como realizado por Gunes Evitan em seu trabalho \"*Titanic - Advanced Feature Engineering Tutorial*\" [1], os atributos `Age` e `Pclass` possuem uma média correlação de -0,41. Em adição, todas as classes sociais são compostas por ambos os sexos. Logo, a imputação para `Age` pode ser realizada com a mediana, dada a classe social e sexo do indivíduo. Assim: "
      ]
    },
    {
      "cell_type": "code",
      "metadata": {
        "colab": {
          "base_uri": "https://localhost:8080/",
          "height": 269
        },
        "id": "ziMhbg2_Do4V",
        "outputId": "8f70ad35-adc5-49b3-d07e-cd499b6d9dc0"
      },
      "source": [
        "# Mediana da idade agrupada por PClass e Sex \n",
        "age_pclass = all_data.groupby(['Sex','Pclass']).describe()['Age']\n",
        "round(age_pclass,2)"
      ],
      "execution_count": 827,
      "outputs": [
        {
          "output_type": "execute_result",
          "data": {
            "text/html": [
              "<div>\n",
              "<style scoped>\n",
              "    .dataframe tbody tr th:only-of-type {\n",
              "        vertical-align: middle;\n",
              "    }\n",
              "\n",
              "    .dataframe tbody tr th {\n",
              "        vertical-align: top;\n",
              "    }\n",
              "\n",
              "    .dataframe thead th {\n",
              "        text-align: right;\n",
              "    }\n",
              "</style>\n",
              "<table border=\"1\" class=\"dataframe\">\n",
              "  <thead>\n",
              "    <tr style=\"text-align: right;\">\n",
              "      <th></th>\n",
              "      <th></th>\n",
              "      <th>count</th>\n",
              "      <th>mean</th>\n",
              "      <th>std</th>\n",
              "      <th>min</th>\n",
              "      <th>25%</th>\n",
              "      <th>50%</th>\n",
              "      <th>75%</th>\n",
              "      <th>max</th>\n",
              "    </tr>\n",
              "    <tr>\n",
              "      <th>Sex</th>\n",
              "      <th>Pclass</th>\n",
              "      <th></th>\n",
              "      <th></th>\n",
              "      <th></th>\n",
              "      <th></th>\n",
              "      <th></th>\n",
              "      <th></th>\n",
              "      <th></th>\n",
              "      <th></th>\n",
              "    </tr>\n",
              "  </thead>\n",
              "  <tbody>\n",
              "    <tr>\n",
              "      <th rowspan=\"3\" valign=\"top\">female</th>\n",
              "      <th>1</th>\n",
              "      <td>133.0</td>\n",
              "      <td>37.04</td>\n",
              "      <td>14.27</td>\n",
              "      <td>2.00</td>\n",
              "      <td>24.0</td>\n",
              "      <td>36.0</td>\n",
              "      <td>48.00</td>\n",
              "      <td>76.0</td>\n",
              "    </tr>\n",
              "    <tr>\n",
              "      <th>2</th>\n",
              "      <td>103.0</td>\n",
              "      <td>27.50</td>\n",
              "      <td>12.91</td>\n",
              "      <td>0.92</td>\n",
              "      <td>20.0</td>\n",
              "      <td>28.0</td>\n",
              "      <td>34.00</td>\n",
              "      <td>60.0</td>\n",
              "    </tr>\n",
              "    <tr>\n",
              "      <th>3</th>\n",
              "      <td>152.0</td>\n",
              "      <td>22.19</td>\n",
              "      <td>12.21</td>\n",
              "      <td>0.17</td>\n",
              "      <td>16.0</td>\n",
              "      <td>22.0</td>\n",
              "      <td>30.00</td>\n",
              "      <td>63.0</td>\n",
              "    </tr>\n",
              "    <tr>\n",
              "      <th rowspan=\"3\" valign=\"top\">male</th>\n",
              "      <th>1</th>\n",
              "      <td>151.0</td>\n",
              "      <td>41.03</td>\n",
              "      <td>14.58</td>\n",
              "      <td>0.92</td>\n",
              "      <td>30.0</td>\n",
              "      <td>42.0</td>\n",
              "      <td>50.00</td>\n",
              "      <td>80.0</td>\n",
              "    </tr>\n",
              "    <tr>\n",
              "      <th>2</th>\n",
              "      <td>158.0</td>\n",
              "      <td>30.82</td>\n",
              "      <td>13.98</td>\n",
              "      <td>0.67</td>\n",
              "      <td>23.0</td>\n",
              "      <td>29.5</td>\n",
              "      <td>38.75</td>\n",
              "      <td>70.0</td>\n",
              "    </tr>\n",
              "    <tr>\n",
              "      <th>3</th>\n",
              "      <td>349.0</td>\n",
              "      <td>25.96</td>\n",
              "      <td>11.68</td>\n",
              "      <td>0.33</td>\n",
              "      <td>20.0</td>\n",
              "      <td>25.0</td>\n",
              "      <td>32.00</td>\n",
              "      <td>74.0</td>\n",
              "    </tr>\n",
              "  </tbody>\n",
              "</table>\n",
              "</div>"
            ],
            "text/plain": [
              "               count   mean    std   min   25%   50%    75%   max\n",
              "Sex    Pclass                                                    \n",
              "female 1       133.0  37.04  14.27  2.00  24.0  36.0  48.00  76.0\n",
              "       2       103.0  27.50  12.91  0.92  20.0  28.0  34.00  60.0\n",
              "       3       152.0  22.19  12.21  0.17  16.0  22.0  30.00  63.0\n",
              "male   1       151.0  41.03  14.58  0.92  30.0  42.0  50.00  80.0\n",
              "       2       158.0  30.82  13.98  0.67  23.0  29.5  38.75  70.0\n",
              "       3       349.0  25.96  11.68  0.33  20.0  25.0  32.00  74.0"
            ]
          },
          "metadata": {
            "tags": []
          },
          "execution_count": 827
        }
      ]
    },
    {
      "cell_type": "code",
      "metadata": {
        "id": "biTVOf0CEhDe"
      },
      "source": [
        "# Preenche os NA's com a mediana da idade por classe social\n",
        "all_data['Age'] = all_data.groupby(['Sex', 'Pclass'])['Age'].apply(lambda x: x.fillna(x.median()))"
      ],
      "execution_count": 828,
      "outputs": []
    },
    {
      "cell_type": "markdown",
      "metadata": {
        "id": "1AK28H1e4XE3"
      },
      "source": [
        "### Fare\n",
        "\n",
        "Semelhantemente, o atributo de custo do ticket `Fare` precisa de imputação para 1 campo vazio. Para tanto, é necessário escolher a melhor medida de centralidade, então verifica-se a distribuição dos valores ao longo do conjunto de dados. "
      ]
    },
    {
      "cell_type": "code",
      "metadata": {
        "colab": {
          "base_uri": "https://localhost:8080/",
          "height": 175
        },
        "id": "L-3e3QpGnGtn",
        "outputId": "a181a55b-13f3-46b9-f1b1-3e5053c6ce1d"
      },
      "source": [
        "# Contagem de \n",
        "fare_pclass = all_data.groupby(['Pclass']).describe()['Fare']\n",
        "fare_pclass"
      ],
      "execution_count": 829,
      "outputs": [
        {
          "output_type": "execute_result",
          "data": {
            "text/html": [
              "<div>\n",
              "<style scoped>\n",
              "    .dataframe tbody tr th:only-of-type {\n",
              "        vertical-align: middle;\n",
              "    }\n",
              "\n",
              "    .dataframe tbody tr th {\n",
              "        vertical-align: top;\n",
              "    }\n",
              "\n",
              "    .dataframe thead th {\n",
              "        text-align: right;\n",
              "    }\n",
              "</style>\n",
              "<table border=\"1\" class=\"dataframe\">\n",
              "  <thead>\n",
              "    <tr style=\"text-align: right;\">\n",
              "      <th></th>\n",
              "      <th>count</th>\n",
              "      <th>mean</th>\n",
              "      <th>std</th>\n",
              "      <th>min</th>\n",
              "      <th>25%</th>\n",
              "      <th>50%</th>\n",
              "      <th>75%</th>\n",
              "      <th>max</th>\n",
              "    </tr>\n",
              "    <tr>\n",
              "      <th>Pclass</th>\n",
              "      <th></th>\n",
              "      <th></th>\n",
              "      <th></th>\n",
              "      <th></th>\n",
              "      <th></th>\n",
              "      <th></th>\n",
              "      <th></th>\n",
              "      <th></th>\n",
              "    </tr>\n",
              "  </thead>\n",
              "  <tbody>\n",
              "    <tr>\n",
              "      <th>1</th>\n",
              "      <td>323.0</td>\n",
              "      <td>87.508992</td>\n",
              "      <td>80.447178</td>\n",
              "      <td>0.0</td>\n",
              "      <td>30.6958</td>\n",
              "      <td>60.0000</td>\n",
              "      <td>107.6625</td>\n",
              "      <td>512.3292</td>\n",
              "    </tr>\n",
              "    <tr>\n",
              "      <th>2</th>\n",
              "      <td>277.0</td>\n",
              "      <td>21.179196</td>\n",
              "      <td>13.607122</td>\n",
              "      <td>0.0</td>\n",
              "      <td>13.0000</td>\n",
              "      <td>15.0458</td>\n",
              "      <td>26.0000</td>\n",
              "      <td>73.5000</td>\n",
              "    </tr>\n",
              "    <tr>\n",
              "      <th>3</th>\n",
              "      <td>708.0</td>\n",
              "      <td>13.302889</td>\n",
              "      <td>11.494358</td>\n",
              "      <td>0.0</td>\n",
              "      <td>7.7500</td>\n",
              "      <td>8.0500</td>\n",
              "      <td>15.2458</td>\n",
              "      <td>69.5500</td>\n",
              "    </tr>\n",
              "  </tbody>\n",
              "</table>\n",
              "</div>"
            ],
            "text/plain": [
              "        count       mean        std  min      25%      50%       75%       max\n",
              "Pclass                                                                        \n",
              "1       323.0  87.508992  80.447178  0.0  30.6958  60.0000  107.6625  512.3292\n",
              "2       277.0  21.179196  13.607122  0.0  13.0000  15.0458   26.0000   73.5000\n",
              "3       708.0  13.302889  11.494358  0.0   7.7500   8.0500   15.2458   69.5500"
            ]
          },
          "metadata": {
            "tags": []
          },
          "execution_count": 829
        }
      ]
    },
    {
      "cell_type": "markdown",
      "metadata": {
        "id": "4ukmOcyVzb2T"
      },
      "source": [
        "Como se vê, a quantidade de tickets na classe 3 é bem maior que as duas primeiras classes, tornando a distribuição enviesada positivamente. "
      ]
    },
    {
      "cell_type": "code",
      "metadata": {
        "id": "mMH6zYvT-Icg",
        "colab": {
          "base_uri": "https://localhost:8080/",
          "height": 354
        },
        "outputId": "b8e2cdec-005a-4ab8-a0bb-73401dbf804e"
      },
      "source": [
        "# Cálculo da média e mediana\n",
        "mean = all_data['Fare'].mean()\n",
        "median =all_data['Fare'].median()\n",
        "\n",
        "plt.title(\"Fare distribution\")\n",
        "sns.distplot(a=all_data['Fare'], bins = 20, \n",
        "             kde = False, \n",
        "             hist_kws = {'edgecolor':'black'})\n",
        "plt.axvline(mean, color='r', linestyle='--')\n",
        "plt.axvline(median, color='g', linestyle='-')\n",
        "\n",
        "plt.ylabel(\"Count\")\n",
        "plt.legend({'Mean':mean,'Median':median})\n",
        "plt.show()\n"
      ],
      "execution_count": 830,
      "outputs": [
        {
          "output_type": "stream",
          "text": [
            "/usr/local/lib/python3.6/dist-packages/seaborn/distributions.py:2551: FutureWarning: `distplot` is a deprecated function and will be removed in a future version. Please adapt your code to use either `displot` (a figure-level function with similar flexibility) or `histplot` (an axes-level function for histograms).\n",
            "  warnings.warn(msg, FutureWarning)\n"
          ],
          "name": "stderr"
        },
        {
          "output_type": "display_data",
          "data": {
            "image/png": "[encoded data removed]",
            "text/plain": [
              "<Figure size 432x288 with 1 Axes>"
            ]
          },
          "metadata": {
            "tags": []
          }
        }
      ]
    },
    {
      "cell_type": "markdown",
      "metadata": {
        "id": "hSX0FqPj-V6_"
      },
      "source": [
        "Para a imputação de dados, utilizou-se a mediana como substituto para o único dadod faltante. "
      ]
    },
    {
      "cell_type": "code",
      "metadata": {
        "id": "qbZHJKCQCWhD"
      },
      "source": [
        "# Fill NA's with Fare median\n",
        "fare_median = all_data['Fare'].median()\n",
        "all_data['Fare'].fillna(fare_median, inplace=True)"
      ],
      "execution_count": 831,
      "outputs": []
    },
    {
      "cell_type": "markdown",
      "metadata": {
        "id": "TwgdEXtEGHU8"
      },
      "source": [
        "### Cabin\n",
        "\n",
        "O atributo `Cabin` é um caso especial que possui 1014 dados faltantes. O posicionamento da cabine pode ter contribuído com a taxa de sobrevivência de dos passageiros, de acordo com a classe social, uma vez que os decks mais  ao topo estavam próximos dos botes salva-vidas. Logo, esse atributo pode ter alguma contribuição na criação do modelo de predição. Novamente, a estratégia utilizada nesse atributo foi baseada no trabalho de Gunes Evitan [1].\n",
        "\n",
        "Os dados da variável `Cabin` estão formatados assim: \n",
        " * Primeiro carácter: Identificação do deck\n",
        " * Caracteres seguintes: número da cabine. \n",
        "\n",
        "\n",
        " ![](https://upload.wikimedia.org/wikipedia/commons/thumb/8/84/Titanic_cutaway_diagram.png/800px-Titanic_cutaway_diagram.png)\n",
        "\n",
        "Fonte: https://en.wikipedia.org/wiki/First-class_facilities_of_the_Titanic#/media/File:Titanic_cutaway_diagram.png"
      ]
    },
    {
      "cell_type": "code",
      "metadata": {
        "colab": {
          "base_uri": "https://localhost:8080/"
        },
        "id": "W81HAeUrGkpU",
        "outputId": "1cb51bfb-12b9-456c-98a3-4d53be6f2133"
      },
      "source": [
        "# Lista os nomes únicos das cabines\n",
        "all_data['Cabin'].unique()"
      ],
      "execution_count": 832,
      "outputs": [
        {
          "output_type": "execute_result",
          "data": {
            "text/plain": [
              "array([nan, 'C85', 'C123', 'E46', 'G6', 'C103', 'D56', 'A6',\n",
              "       'C23 C25 C27', 'B78', 'D33', 'B30', 'C52', 'B28', 'C83', 'F33',\n",
              "       'F G73', 'E31', 'A5', 'D10 D12', 'D26', 'C110', 'B58 B60', 'E101',\n",
              "       'F E69', 'D47', 'B86', 'F2', 'C2', 'E33', 'B19', 'A7', 'C49', 'F4',\n",
              "       'A32', 'B4', 'B80', 'A31', 'D36', 'D15', 'C93', 'C78', 'D35',\n",
              "       'C87', 'B77', 'E67', 'B94', 'C125', 'C99', 'C118', 'D7', 'A19',\n",
              "       'B49', 'D', 'C22 C26', 'C106', 'C65', 'E36', 'C54',\n",
              "       'B57 B59 B63 B66', 'C7', 'E34', 'C32', 'B18', 'C124', 'C91', 'E40',\n",
              "       'T', 'C128', 'D37', 'B35', 'E50', 'C82', 'B96 B98', 'E10', 'E44',\n",
              "       'A34', 'C104', 'C111', 'C92', 'E38', 'D21', 'E12', 'E63', 'A14',\n",
              "       'B37', 'C30', 'D20', 'B79', 'E25', 'D46', 'B73', 'C95', 'B38',\n",
              "       'B39', 'B22', 'C86', 'C70', 'A16', 'C101', 'C68', 'A10', 'E68',\n",
              "       'B41', 'A20', 'D19', 'D50', 'D9', 'A23', 'B50', 'A26', 'D48',\n",
              "       'E58', 'C126', 'B71', 'B51 B53 B55', 'D49', 'B5', 'B20', 'F G63',\n",
              "       'C62 C64', 'E24', 'C90', 'C45', 'E8', 'B101', 'D45', 'C46', 'D30',\n",
              "       'E121', 'D11', 'E77', 'F38', 'B3', 'D6', 'B82 B84', 'D17', 'A36',\n",
              "       'B102', 'B69', 'E49', 'C47', 'D28', 'E17', 'A24', 'C50', 'B42',\n",
              "       'C148', 'B45', 'B36', 'A21', 'D34', 'A9', 'C31', 'B61', 'C53',\n",
              "       'D43', 'C130', 'C132', 'C55 C57', 'C116', 'F', 'A29', 'C6', 'C28',\n",
              "       'C51', 'C97', 'D22', 'B10', 'E45', 'E52', 'A11', 'B11', 'C80',\n",
              "       'C89', 'F E46', 'B26', 'F E57', 'A18', 'E60', 'E39 E41',\n",
              "       'B52 B54 B56', 'C39', 'B24', 'D40', 'D38', 'C105'], dtype=object)"
            ]
          },
          "metadata": {
            "tags": []
          },
          "execution_count": 832
        }
      ]
    },
    {
      "cell_type": "markdown",
      "metadata": {
        "id": "_U-AwUxO33X4"
      },
      "source": [
        "Optou-se em criar um novo atributo chamado `Deck` que contém o primeiro carácter da respectiva cabine. Para os campos faltantes, o preenchimento foi feito com o carácter `U`  de Unknown. "
      ]
    },
    {
      "cell_type": "code",
      "metadata": {
        "id": "yq6ZTx6tG8eX"
      },
      "source": [
        "# Preenche os NA's com a letra U de Unknown\n",
        "all_data['Deck'] = all_data['Cabin'].apply(lambda s: s[0] if pd.notnull(s) else 'U')"
      ],
      "execution_count": 833,
      "outputs": []
    },
    {
      "cell_type": "markdown",
      "metadata": {
        "id": "XK05x8C-68PU"
      },
      "source": [
        "Agora, observa-se a distribuição de custo de ticket agrupados por classe social e deck. Nota-se que a classe social mais é composto por pessoas que ocuparam os decks de **A** à **E**, e uma única pessoa no deck **T**. Indivíduos da classes sociail média estão presentes nos decks **D**, **E** e **F**, enquanto as da classe baixa estão presentes nos decks **E**, **F** e **G**. \n",
        "\n",
        "Nota-se também que há um grande número de indentificação desconhecida de deck e cabine para as classes média e baixa. "
      ]
    },
    {
      "cell_type": "code",
      "metadata": {
        "colab": {
          "base_uri": "https://localhost:8080/",
          "height": 551
        },
        "id": "RYEbKIAd0EC4",
        "outputId": "ea6c9e64-7f89-4b92-84cd-b1299bab4cbb"
      },
      "source": [
        "# Sumário do custo do ticket agrupado por Pclass e Deck. \n",
        "deck_pclass = all_data.groupby(['Pclass', 'Deck']).describe()['Fare']\n",
        "deck_pclass"
      ],
      "execution_count": 834,
      "outputs": [
        {
          "output_type": "execute_result",
          "data": {
            "text/html": [
              "<div>\n",
              "<style scoped>\n",
              "    .dataframe tbody tr th:only-of-type {\n",
              "        vertical-align: middle;\n",
              "    }\n",
              "\n",
              "    .dataframe tbody tr th {\n",
              "        vertical-align: top;\n",
              "    }\n",
              "\n",
              "    .dataframe thead th {\n",
              "        text-align: right;\n",
              "    }\n",
              "</style>\n",
              "<table border=\"1\" class=\"dataframe\">\n",
              "  <thead>\n",
              "    <tr style=\"text-align: right;\">\n",
              "      <th></th>\n",
              "      <th></th>\n",
              "      <th>count</th>\n",
              "      <th>mean</th>\n",
              "      <th>std</th>\n",
              "      <th>min</th>\n",
              "      <th>25%</th>\n",
              "      <th>50%</th>\n",
              "      <th>75%</th>\n",
              "      <th>max</th>\n",
              "    </tr>\n",
              "    <tr>\n",
              "      <th>Pclass</th>\n",
              "      <th>Deck</th>\n",
              "      <th></th>\n",
              "      <th></th>\n",
              "      <th></th>\n",
              "      <th></th>\n",
              "      <th></th>\n",
              "      <th></th>\n",
              "      <th></th>\n",
              "      <th></th>\n",
              "    </tr>\n",
              "  </thead>\n",
              "  <tbody>\n",
              "    <tr>\n",
              "      <th rowspan=\"7\" valign=\"top\">1</th>\n",
              "      <th>A</th>\n",
              "      <td>22.0</td>\n",
              "      <td>41.244314</td>\n",
              "      <td>20.140358</td>\n",
              "      <td>0.0000</td>\n",
              "      <td>30.1250</td>\n",
              "      <td>35.07710</td>\n",
              "      <td>50.371850</td>\n",
              "      <td>81.8583</td>\n",
              "    </tr>\n",
              "    <tr>\n",
              "      <th>B</th>\n",
              "      <td>65.0</td>\n",
              "      <td>122.383078</td>\n",
              "      <td>115.312993</td>\n",
              "      <td>0.0000</td>\n",
              "      <td>57.0000</td>\n",
              "      <td>82.26670</td>\n",
              "      <td>146.520800</td>\n",
              "      <td>512.3292</td>\n",
              "    </tr>\n",
              "    <tr>\n",
              "      <th>C</th>\n",
              "      <td>94.0</td>\n",
              "      <td>107.926598</td>\n",
              "      <td>72.912034</td>\n",
              "      <td>25.7000</td>\n",
              "      <td>52.0000</td>\n",
              "      <td>86.28960</td>\n",
              "      <td>151.550000</td>\n",
              "      <td>263.0000</td>\n",
              "    </tr>\n",
              "    <tr>\n",
              "      <th>D</th>\n",
              "      <td>40.0</td>\n",
              "      <td>58.919065</td>\n",
              "      <td>25.256615</td>\n",
              "      <td>25.9292</td>\n",
              "      <td>33.5958</td>\n",
              "      <td>53.10000</td>\n",
              "      <td>76.868775</td>\n",
              "      <td>113.2750</td>\n",
              "    </tr>\n",
              "    <tr>\n",
              "      <th>E</th>\n",
              "      <td>34.0</td>\n",
              "      <td>63.464706</td>\n",
              "      <td>35.322753</td>\n",
              "      <td>25.5875</td>\n",
              "      <td>29.5375</td>\n",
              "      <td>55.44170</td>\n",
              "      <td>79.650000</td>\n",
              "      <td>134.5000</td>\n",
              "    </tr>\n",
              "    <tr>\n",
              "      <th>T</th>\n",
              "      <td>1.0</td>\n",
              "      <td>35.500000</td>\n",
              "      <td>NaN</td>\n",
              "      <td>35.5000</td>\n",
              "      <td>35.5000</td>\n",
              "      <td>35.50000</td>\n",
              "      <td>35.500000</td>\n",
              "      <td>35.5000</td>\n",
              "    </tr>\n",
              "    <tr>\n",
              "      <th>U</th>\n",
              "      <td>67.0</td>\n",
              "      <td>70.268157</td>\n",
              "      <td>80.114953</td>\n",
              "      <td>0.0000</td>\n",
              "      <td>26.5500</td>\n",
              "      <td>39.60000</td>\n",
              "      <td>79.200000</td>\n",
              "      <td>512.3292</td>\n",
              "    </tr>\n",
              "    <tr>\n",
              "      <th rowspan=\"4\" valign=\"top\">2</th>\n",
              "      <th>D</th>\n",
              "      <td>6.0</td>\n",
              "      <td>13.595833</td>\n",
              "      <td>0.829640</td>\n",
              "      <td>12.8750</td>\n",
              "      <td>13.0000</td>\n",
              "      <td>13.39585</td>\n",
              "      <td>13.844800</td>\n",
              "      <td>15.0458</td>\n",
              "    </tr>\n",
              "    <tr>\n",
              "      <th>E</th>\n",
              "      <td>4.0</td>\n",
              "      <td>11.587500</td>\n",
              "      <td>1.283469</td>\n",
              "      <td>10.5000</td>\n",
              "      <td>10.5000</td>\n",
              "      <td>11.42500</td>\n",
              "      <td>12.512500</td>\n",
              "      <td>13.0000</td>\n",
              "    </tr>\n",
              "    <tr>\n",
              "      <th>F</th>\n",
              "      <td>13.0</td>\n",
              "      <td>23.423077</td>\n",
              "      <td>12.306580</td>\n",
              "      <td>10.5000</td>\n",
              "      <td>13.0000</td>\n",
              "      <td>26.00000</td>\n",
              "      <td>39.000000</td>\n",
              "      <td>39.0000</td>\n",
              "    </tr>\n",
              "    <tr>\n",
              "      <th>U</th>\n",
              "      <td>254.0</td>\n",
              "      <td>21.394537</td>\n",
              "      <td>13.843615</td>\n",
              "      <td>0.0000</td>\n",
              "      <td>13.0000</td>\n",
              "      <td>15.66460</td>\n",
              "      <td>26.000000</td>\n",
              "      <td>73.5000</td>\n",
              "    </tr>\n",
              "    <tr>\n",
              "      <th rowspan=\"4\" valign=\"top\">3</th>\n",
              "      <th>E</th>\n",
              "      <td>3.0</td>\n",
              "      <td>11.000000</td>\n",
              "      <td>2.554775</td>\n",
              "      <td>8.0500</td>\n",
              "      <td>10.2625</td>\n",
              "      <td>12.47500</td>\n",
              "      <td>12.475000</td>\n",
              "      <td>12.4750</td>\n",
              "    </tr>\n",
              "    <tr>\n",
              "      <th>F</th>\n",
              "      <td>8.0</td>\n",
              "      <td>9.395838</td>\n",
              "      <td>5.241519</td>\n",
              "      <td>7.2292</td>\n",
              "      <td>7.5448</td>\n",
              "      <td>7.65000</td>\n",
              "      <td>7.675000</td>\n",
              "      <td>22.3583</td>\n",
              "    </tr>\n",
              "    <tr>\n",
              "      <th>G</th>\n",
              "      <td>5.0</td>\n",
              "      <td>14.205000</td>\n",
              "      <td>3.416419</td>\n",
              "      <td>10.4625</td>\n",
              "      <td>10.4625</td>\n",
              "      <td>16.70000</td>\n",
              "      <td>16.700000</td>\n",
              "      <td>16.7000</td>\n",
              "    </tr>\n",
              "    <tr>\n",
              "      <th>U</th>\n",
              "      <td>693.0</td>\n",
              "      <td>13.353114</td>\n",
              "      <td>11.593703</td>\n",
              "      <td>0.0000</td>\n",
              "      <td>7.7500</td>\n",
              "      <td>8.05000</td>\n",
              "      <td>15.245800</td>\n",
              "      <td>69.5500</td>\n",
              "    </tr>\n",
              "  </tbody>\n",
              "</table>\n",
              "</div>"
            ],
            "text/plain": [
              "             count        mean         std  ...       50%         75%       max\n",
              "Pclass Deck                                 ...                                \n",
              "1      A      22.0   41.244314   20.140358  ...  35.07710   50.371850   81.8583\n",
              "       B      65.0  122.383078  115.312993  ...  82.26670  146.520800  512.3292\n",
              "       C      94.0  107.926598   72.912034  ...  86.28960  151.550000  263.0000\n",
              "       D      40.0   58.919065   25.256615  ...  53.10000   76.868775  113.2750\n",
              "       E      34.0   63.464706   35.322753  ...  55.44170   79.650000  134.5000\n",
              "       T       1.0   35.500000         NaN  ...  35.50000   35.500000   35.5000\n",
              "       U      67.0   70.268157   80.114953  ...  39.60000   79.200000  512.3292\n",
              "2      D       6.0   13.595833    0.829640  ...  13.39585   13.844800   15.0458\n",
              "       E       4.0   11.587500    1.283469  ...  11.42500   12.512500   13.0000\n",
              "       F      13.0   23.423077   12.306580  ...  26.00000   39.000000   39.0000\n",
              "       U     254.0   21.394537   13.843615  ...  15.66460   26.000000   73.5000\n",
              "3      E       3.0   11.000000    2.554775  ...  12.47500   12.475000   12.4750\n",
              "       F       8.0    9.395838    5.241519  ...   7.65000    7.675000   22.3583\n",
              "       G       5.0   14.205000    3.416419  ...  16.70000   16.700000   16.7000\n",
              "       U     693.0   13.353114   11.593703  ...   8.05000   15.245800   69.5500\n",
              "\n",
              "[15 rows x 8 columns]"
            ]
          },
          "metadata": {
            "tags": []
          },
          "execution_count": 834
        }
      ]
    },
    {
      "cell_type": "markdown",
      "metadata": {
        "id": "bzcL4KPbAQes"
      },
      "source": [
        "Sendo assim, escolheu-se agrupar os decks. **A**, **B** e **C** formam o grupo **ABC**. **D** e **E** formam o **DE**. **F** e **G** formam **FG**. \n",
        "A pessoa que estava no deck **T** foi transferida para o deck **A**, por ser da classe social mais alta. "
      ]
    },
    {
      "cell_type": "code",
      "metadata": {
        "colab": {
          "base_uri": "https://localhost:8080/"
        },
        "id": "vlCRU8mBLTd1",
        "outputId": "545542ba-d372-4379-ff73-198a9212f76a"
      },
      "source": [
        "# Agrupamento dos decks\n",
        "idx = all_data[all_data['Deck'] == 'T'].index\n",
        "all_data.loc[idx, 'Deck'] = 'A'\n",
        "\n",
        "all_data['Deck'] = all_data['Deck'].replace(['A', 'B', 'C'], 'ABC')\n",
        "all_data['Deck'] = all_data['Deck'].replace(['D', 'E'], 'DE')\n",
        "all_data['Deck'] = all_data['Deck'].replace(['F', 'G'], 'FG')\n",
        "all_data['Deck'].value_counts()"
      ],
      "execution_count": 835,
      "outputs": [
        {
          "output_type": "execute_result",
          "data": {
            "text/plain": [
              "U      1014\n",
              "ABC     182\n",
              "DE       87\n",
              "FG       26\n",
              "Name: Deck, dtype: int64"
            ]
          },
          "metadata": {
            "tags": []
          },
          "execution_count": 835
        }
      ]
    },
    {
      "cell_type": "markdown",
      "metadata": {
        "id": "GNGrIZXw3m_m"
      },
      "source": [
        "### Embarked"
      ]
    },
    {
      "cell_type": "markdown",
      "metadata": {
        "id": "gBA-q50b_jgR"
      },
      "source": [
        "Para o atributo `Embarked`, verificou-se as linhas que estavam com os dados faltantes. Uma vez que há apenas duas ocorrências, dada a classe social `Pclass == 1` para ambos, os dados foram imputados com a identificação do porto onde há maior ocorrência dessa classe social, ou seja, do porto Cherbourg(C). "
      ]
    },
    {
      "cell_type": "code",
      "metadata": {
        "id": "EiXO-gcW1PZK",
        "colab": {
          "base_uri": "https://localhost:8080/",
          "height": 164
        },
        "outputId": "6cb97a85-4ee8-417c-ad29-0412d9e4c8f5"
      },
      "source": [
        "all_data.query('Embarked != \"S\" & Embarked != \"C\" & Embarked != \"Q\"')"
      ],
      "execution_count": 836,
      "outputs": [
        {
          "output_type": "execute_result",
          "data": {
            "text/html": [
              "<div>\n",
              "<style scoped>\n",
              "    .dataframe tbody tr th:only-of-type {\n",
              "        vertical-align: middle;\n",
              "    }\n",
              "\n",
              "    .dataframe tbody tr th {\n",
              "        vertical-align: top;\n",
              "    }\n",
              "\n",
              "    .dataframe thead th {\n",
              "        text-align: right;\n",
              "    }\n",
              "</style>\n",
              "<table border=\"1\" class=\"dataframe\">\n",
              "  <thead>\n",
              "    <tr style=\"text-align: right;\">\n",
              "      <th></th>\n",
              "      <th>PassengerId</th>\n",
              "      <th>Survived</th>\n",
              "      <th>Pclass</th>\n",
              "      <th>Name</th>\n",
              "      <th>Sex</th>\n",
              "      <th>Age</th>\n",
              "      <th>SibSp</th>\n",
              "      <th>Parch</th>\n",
              "      <th>Ticket</th>\n",
              "      <th>Fare</th>\n",
              "      <th>Cabin</th>\n",
              "      <th>Embarked</th>\n",
              "      <th>Deck</th>\n",
              "    </tr>\n",
              "  </thead>\n",
              "  <tbody>\n",
              "    <tr>\n",
              "      <th>61</th>\n",
              "      <td>62</td>\n",
              "      <td>1.0</td>\n",
              "      <td>1</td>\n",
              "      <td>Icard, Miss. Amelie</td>\n",
              "      <td>female</td>\n",
              "      <td>38.0</td>\n",
              "      <td>0</td>\n",
              "      <td>0</td>\n",
              "      <td>113572</td>\n",
              "      <td>80.0</td>\n",
              "      <td>B28</td>\n",
              "      <td>NaN</td>\n",
              "      <td>ABC</td>\n",
              "    </tr>\n",
              "    <tr>\n",
              "      <th>829</th>\n",
              "      <td>830</td>\n",
              "      <td>1.0</td>\n",
              "      <td>1</td>\n",
              "      <td>Stone, Mrs. George Nelson (Martha Evelyn)</td>\n",
              "      <td>female</td>\n",
              "      <td>62.0</td>\n",
              "      <td>0</td>\n",
              "      <td>0</td>\n",
              "      <td>113572</td>\n",
              "      <td>80.0</td>\n",
              "      <td>B28</td>\n",
              "      <td>NaN</td>\n",
              "      <td>ABC</td>\n",
              "    </tr>\n",
              "  </tbody>\n",
              "</table>\n",
              "</div>"
            ],
            "text/plain": [
              "     PassengerId  Survived  Pclass  ... Cabin Embarked  Deck\n",
              "61            62       1.0       1  ...   B28      NaN   ABC\n",
              "829          830       1.0       1  ...   B28      NaN   ABC\n",
              "\n",
              "[2 rows x 13 columns]"
            ]
          },
          "metadata": {
            "tags": []
          },
          "execution_count": 836
        }
      ]
    },
    {
      "cell_type": "code",
      "metadata": {
        "colab": {
          "base_uri": "https://localhost:8080/",
          "height": 314
        },
        "id": "EzFYJoyo9i36",
        "outputId": "747eb40b-0230-4de3-e4ac-93be79507815"
      },
      "source": [
        "# Visualização de Classe Social por Porto de Embarcação\n",
        "barPlotPercent(train, 'Embarked', 'Pclass')"
      ],
      "execution_count": 837,
      "outputs": [
        {
          "output_type": "display_data",
          "data": {
            "image/png": "[encoded data removed]",
            "text/plain": [
              "<Figure size 618.375x288 with 1 Axes>"
            ]
          },
          "metadata": {
            "tags": []
          }
        }
      ]
    },
    {
      "cell_type": "code",
      "metadata": {
        "id": "diIx72xZ3rBb"
      },
      "source": [
        "# embarked\n",
        "embarked_top = all_data['Embarked'].value_counts()[0]\n",
        "all_data['Embarked'].fillna('C', inplace=True)"
      ],
      "execution_count": 838,
      "outputs": []
    },
    {
      "cell_type": "markdown",
      "metadata": {
        "id": "u6zVFikiA7lk"
      },
      "source": [
        "## Novos atributos"
      ]
    },
    {
      "cell_type": "markdown",
      "metadata": {
        "id": "josiiEz4BiAZ"
      },
      "source": [
        "### AgeGroup\n",
        "\n",
        "Um novo atributo categórico foi criado a partir do atributo `Age`. Separou-se as idades em intervalos a fim de os identificar em grupos etários. São eles:\n",
        "\n",
        "\n",
        "*   Child: menor que 12 anos\n",
        "*   Teenager: de 12 à 20 anos\n",
        "*   Adult: de 21 à 49 anos\n",
        "*   Old: maior ou igual à 50 anos\n",
        "\n",
        "\n",
        "Durante a pesquisa, não se encontrou alguma fonte sobre a classifição etária no começo do século XX na Europa, mas neste fórum de discussão há uma menção da maioridade penal a partir dos 21 anos. [Age of Majority - Enciclopedia Titanica](https://www.encyclopedia-titanica.org/community/threads/age-of-majority.4620/\n",
        ")."
      ]
    },
    {
      "cell_type": "code",
      "metadata": {
        "id": "zCQIw05IA68l",
        "colab": {
          "base_uri": "https://localhost:8080/"
        },
        "outputId": "d3d952fd-5433-4108-f4e3-99b195282dc9"
      },
      "source": [
        "# Cria o atributo AgeGroup que categoriza o passageiro de acordo com a sua idade\n",
        "all_data['AgeGroup']  = ''\n",
        "for row in all_data.index:\n",
        "  if all_data['Age'][row] < 12.0:\n",
        "    all_data['AgeGroup'][row]  = 'Child'\n",
        "  if all_data['Age'][row] >= 12.0 and all_data['Age'][row] < 21.0:\n",
        "    all_data['AgeGroup'][row]  = 'Teenager'\n",
        "  if all_data['Age'][row] >= 21.0 and all_data['Age'][row] < 50.0:\n",
        "    all_data['AgeGroup'][row]  = 'Adult'\n",
        "  if all_data['Age'][row] >= 50.0:\n",
        "    all_data['AgeGroup'][row]  = 'Old'"
      ],
      "execution_count": 839,
      "outputs": [
        {
          "output_type": "stream",
          "text": [
            "/usr/local/lib/python3.6/dist-packages/ipykernel_launcher.py:9: SettingWithCopyWarning: \n",
            "A value is trying to be set on a copy of a slice from a DataFrame\n",
            "\n",
            "See the caveats in the documentation: https://pandas.pydata.org/pandas-docs/stable/user_guide/indexing.html#returning-a-view-versus-a-copy\n",
            "  if __name__ == '__main__':\n",
            "/usr/local/lib/python3.6/dist-packages/ipykernel_launcher.py:11: SettingWithCopyWarning: \n",
            "A value is trying to be set on a copy of a slice from a DataFrame\n",
            "\n",
            "See the caveats in the documentation: https://pandas.pydata.org/pandas-docs/stable/user_guide/indexing.html#returning-a-view-versus-a-copy\n",
            "  # This is added back by InteractiveShellApp.init_path()\n",
            "/usr/local/lib/python3.6/dist-packages/ipykernel_launcher.py:5: SettingWithCopyWarning: \n",
            "A value is trying to be set on a copy of a slice from a DataFrame\n",
            "\n",
            "See the caveats in the documentation: https://pandas.pydata.org/pandas-docs/stable/user_guide/indexing.html#returning-a-view-versus-a-copy\n",
            "  \"\"\"\n",
            "/usr/local/lib/python3.6/dist-packages/ipykernel_launcher.py:7: SettingWithCopyWarning: \n",
            "A value is trying to be set on a copy of a slice from a DataFrame\n",
            "\n",
            "See the caveats in the documentation: https://pandas.pydata.org/pandas-docs/stable/user_guide/indexing.html#returning-a-view-versus-a-copy\n",
            "  import sys\n"
          ],
          "name": "stderr"
        }
      ]
    },
    {
      "cell_type": "markdown",
      "metadata": {
        "id": "LiicjrkeS8CQ"
      },
      "source": [
        "### Title\n",
        "\n",
        "Outro atributo interessante para ser avaliado e até mesmo utilizado como estimador no modelo de classificação, é o título que o passageiro recebe. Os títulos podem variar de acordo com a classe social, idade e sexo [2].\n",
        "\n",
        "Sendo assim, extrai-se os títulos de cada nome a fim de listá-los.\n",
        "\n",
        "\n",
        "\n"
      ]
    },
    {
      "cell_type": "code",
      "metadata": {
        "colab": {
          "base_uri": "https://localhost:8080/",
          "height": 645
        },
        "id": "JlA6LVAeS7hT",
        "outputId": "534612db-0280-47eb-e25a-4a6dcfe21fbb"
      },
      "source": [
        "# Extrai os títulos dos nomes e armazena num atributo próprio\n",
        "all_data['Title'] = all_data['Name'].str.extract(' ([A-Za-z]+)\\.')\n",
        "# Lista os atributos por Sexo\n",
        "pd.crosstab(all_data['Title'], all_data['Sex'])"
      ],
      "execution_count": 840,
      "outputs": [
        {
          "output_type": "execute_result",
          "data": {
            "text/html": [
              "<div>\n",
              "<style scoped>\n",
              "    .dataframe tbody tr th:only-of-type {\n",
              "        vertical-align: middle;\n",
              "    }\n",
              "\n",
              "    .dataframe tbody tr th {\n",
              "        vertical-align: top;\n",
              "    }\n",
              "\n",
              "    .dataframe thead th {\n",
              "        text-align: right;\n",
              "    }\n",
              "</style>\n",
              "<table border=\"1\" class=\"dataframe\">\n",
              "  <thead>\n",
              "    <tr style=\"text-align: right;\">\n",
              "      <th>Sex</th>\n",
              "      <th>female</th>\n",
              "      <th>male</th>\n",
              "    </tr>\n",
              "    <tr>\n",
              "      <th>Title</th>\n",
              "      <th></th>\n",
              "      <th></th>\n",
              "    </tr>\n",
              "  </thead>\n",
              "  <tbody>\n",
              "    <tr>\n",
              "      <th>Capt</th>\n",
              "      <td>0</td>\n",
              "      <td>1</td>\n",
              "    </tr>\n",
              "    <tr>\n",
              "      <th>Col</th>\n",
              "      <td>0</td>\n",
              "      <td>4</td>\n",
              "    </tr>\n",
              "    <tr>\n",
              "      <th>Countess</th>\n",
              "      <td>1</td>\n",
              "      <td>0</td>\n",
              "    </tr>\n",
              "    <tr>\n",
              "      <th>Don</th>\n",
              "      <td>0</td>\n",
              "      <td>1</td>\n",
              "    </tr>\n",
              "    <tr>\n",
              "      <th>Dona</th>\n",
              "      <td>1</td>\n",
              "      <td>0</td>\n",
              "    </tr>\n",
              "    <tr>\n",
              "      <th>Dr</th>\n",
              "      <td>1</td>\n",
              "      <td>7</td>\n",
              "    </tr>\n",
              "    <tr>\n",
              "      <th>Jonkheer</th>\n",
              "      <td>0</td>\n",
              "      <td>1</td>\n",
              "    </tr>\n",
              "    <tr>\n",
              "      <th>Lady</th>\n",
              "      <td>1</td>\n",
              "      <td>0</td>\n",
              "    </tr>\n",
              "    <tr>\n",
              "      <th>Major</th>\n",
              "      <td>0</td>\n",
              "      <td>2</td>\n",
              "    </tr>\n",
              "    <tr>\n",
              "      <th>Master</th>\n",
              "      <td>0</td>\n",
              "      <td>61</td>\n",
              "    </tr>\n",
              "    <tr>\n",
              "      <th>Miss</th>\n",
              "      <td>260</td>\n",
              "      <td>0</td>\n",
              "    </tr>\n",
              "    <tr>\n",
              "      <th>Mlle</th>\n",
              "      <td>2</td>\n",
              "      <td>0</td>\n",
              "    </tr>\n",
              "    <tr>\n",
              "      <th>Mme</th>\n",
              "      <td>1</td>\n",
              "      <td>0</td>\n",
              "    </tr>\n",
              "    <tr>\n",
              "      <th>Mr</th>\n",
              "      <td>0</td>\n",
              "      <td>757</td>\n",
              "    </tr>\n",
              "    <tr>\n",
              "      <th>Mrs</th>\n",
              "      <td>197</td>\n",
              "      <td>0</td>\n",
              "    </tr>\n",
              "    <tr>\n",
              "      <th>Ms</th>\n",
              "      <td>2</td>\n",
              "      <td>0</td>\n",
              "    </tr>\n",
              "    <tr>\n",
              "      <th>Rev</th>\n",
              "      <td>0</td>\n",
              "      <td>8</td>\n",
              "    </tr>\n",
              "    <tr>\n",
              "      <th>Sir</th>\n",
              "      <td>0</td>\n",
              "      <td>1</td>\n",
              "    </tr>\n",
              "  </tbody>\n",
              "</table>\n",
              "</div>"
            ],
            "text/plain": [
              "Sex       female  male\n",
              "Title                 \n",
              "Capt           0     1\n",
              "Col            0     4\n",
              "Countess       1     0\n",
              "Don            0     1\n",
              "Dona           1     0\n",
              "Dr             1     7\n",
              "Jonkheer       0     1\n",
              "Lady           1     0\n",
              "Major          0     2\n",
              "Master         0    61\n",
              "Miss         260     0\n",
              "Mlle           2     0\n",
              "Mme            1     0\n",
              "Mr             0   757\n",
              "Mrs          197     0\n",
              "Ms             2     0\n",
              "Rev            0     8\n",
              "Sir            0     1"
            ]
          },
          "metadata": {
            "tags": []
          },
          "execution_count": 840
        }
      ]
    },
    {
      "cell_type": "markdown",
      "metadata": {
        "id": "xhBuLX9ojlgt"
      },
      "source": [
        "Uma vez listados, os títulos que tiveram menor ocorrência foram agrupados àqueles mais comuns, que condizem com o sexo e estado civil. São eles : **Mr**, **Mrs**, **Miss** e **Master**.\n",
        " Esta estratégia foi baseada no artigo tutorial \"*Basic Feature Engineering with the Titanic Data*\" [3].\n"
      ]
    },
    {
      "cell_type": "code",
      "metadata": {
        "id": "f4c3gtDEigV2"
      },
      "source": [
        "# Substituição dos sortidos títulos por Mr, Mrs, Miss e Master\n",
        "def replace_titles(x):\n",
        "    title=x['Title']\n",
        "    if title in ['Sir', 'Don', 'Major', 'Capt', 'Jonkheer', 'Rev', 'Col']:\n",
        "        return 'Mr'\n",
        "    elif title in ['Countess', 'Mme', 'Lady', 'Dona']:\n",
        "        return 'Mrs'\n",
        "    elif title in ['Mlle', 'Ms']:\n",
        "        return 'Miss'\n",
        "    elif title =='Dr':\n",
        "        if x['Sex']=='Male':\n",
        "            return 'Mr'\n",
        "        else:\n",
        "            return 'Mrs'\n",
        "    else:\n",
        "        return title\n",
        "all_data['Title']=all_data.apply(replace_titles, axis=1)"
      ],
      "execution_count": 841,
      "outputs": []
    },
    {
      "cell_type": "code",
      "metadata": {
        "colab": {
          "base_uri": "https://localhost:8080/"
        },
        "id": "uwYg2_qZis33",
        "outputId": "f7194d2d-85c9-411e-8a89-ebe7879a116f"
      },
      "source": [
        "# Lista os \n",
        "all_data.groupby(['Title'])['Title'].count()"
      ],
      "execution_count": 842,
      "outputs": [
        {
          "output_type": "execute_result",
          "data": {
            "text/plain": [
              "Title\n",
              "Master     61\n",
              "Miss      264\n",
              "Mr        775\n",
              "Mrs       209\n",
              "Name: Title, dtype: int64"
            ]
          },
          "metadata": {
            "tags": []
          },
          "execution_count": 842
        }
      ]
    },
    {
      "cell_type": "markdown",
      "metadata": {
        "id": "_-3oyP4JkVlu"
      },
      "source": [
        "### FamilySize"
      ]
    },
    {
      "cell_type": "markdown",
      "metadata": {
        "id": "tOuQdcxLlHz8"
      },
      "source": [
        "O tamanho da família é definido pela soma dos atributos `SibSp` e`Parch` mais 1. Este último corresponde ao indivíduo, que pode estar viajando sozinho. "
      ]
    },
    {
      "cell_type": "code",
      "metadata": {
        "id": "m0dgZ--RkYr5"
      },
      "source": [
        "# Cria o atributo que corresponde ao tamanho da família à bordo\n",
        "all_data['FamilySize'] = all_data['SibSp'] + all_data['Parch'] + 1"
      ],
      "execution_count": 843,
      "outputs": []
    },
    {
      "cell_type": "markdown",
      "metadata": {
        "id": "Rd-Tatc4ktXt"
      },
      "source": [
        "Posteriormente, mapeou-se o tamanho da família em categorias, de acordo como número de pessoas. "
      ]
    },
    {
      "cell_type": "code",
      "metadata": {
        "id": "5QGhr8VCg28L"
      },
      "source": [
        "all_data['FamilySize'] = all_data['FamilySize'].map({1: 'Alone', 2: 'Small', \n",
        "                                                    3: 'Small', 4: 'Small', \n",
        "                                                    5: 'Medium', 6: 'Medium', \n",
        "                                                    7: 'Large', 8: 'Large', \n",
        "                                                    11: 'Large'})"
      ],
      "execution_count": 844,
      "outputs": []
    },
    {
      "cell_type": "markdown",
      "metadata": {
        "id": "tyzDPP5b4vbE"
      },
      "source": [
        "# Análise Exploratória dos Dados\n",
        "\n",
        "Nesta seção, explorou-se estatística e visualmente os atributos e suas relações entre si. "
      ]
    },
    {
      "cell_type": "markdown",
      "metadata": {
        "id": "oxXSo8rUAj3V"
      },
      "source": [
        "## Survived\n",
        "\n",
        "No atributo classe e considerando o dataset de treino, há o total de 342 sobrevimentes contra 549 não sobreviventes."
      ]
    },
    {
      "cell_type": "code",
      "metadata": {
        "colab": {
          "base_uri": "https://localhost:8080/"
        },
        "id": "9u1O2j_vlS7W",
        "outputId": "67c4cf48-ca59-4d84-f5f5-d026ada2ddb4"
      },
      "source": [
        "all_data[:train_idx].groupby(['Survived'])['Survived'].count()"
      ],
      "execution_count": 845,
      "outputs": [
        {
          "output_type": "execute_result",
          "data": {
            "text/plain": [
              "Survived\n",
              "0.0    549\n",
              "1.0    342\n",
              "Name: Survived, dtype: int64"
            ]
          },
          "metadata": {
            "tags": []
          },
          "execution_count": 845
        }
      ]
    },
    {
      "cell_type": "code",
      "metadata": {
        "colab": {
          "base_uri": "https://localhost:8080/",
          "height": 371
        },
        "id": "WaktuZzHF83c",
        "outputId": "4f2cb3d0-f219-42b3-a10a-dd80e9723f4b"
      },
      "source": [
        "# Contagem de sobreviventes e não sobreviventes\r\n",
        "plt.title(\"Contagem - Sobrevivente(1) or Não sobrevivente(0)\")\r\n",
        "sns.countplot(train.Survived)\r\n",
        "plt.ylabel(\"Count\")\r\n",
        "plt.xlabel(\"Survived\")"
      ],
      "execution_count": 846,
      "outputs": [
        {
          "output_type": "stream",
          "text": [
            "/usr/local/lib/python3.6/dist-packages/seaborn/_decorators.py:43: FutureWarning: Pass the following variable as a keyword arg: x. From version 0.12, the only valid positional argument will be `data`, and passing other arguments without an explicit keyword will result in an error or misinterpretation.\n",
            "  FutureWarning\n"
          ],
          "name": "stderr"
        },
        {
          "output_type": "execute_result",
          "data": {
            "text/plain": [
              "Text(0.5, 0, 'Survived')"
            ]
          },
          "metadata": {
            "tags": []
          },
          "execution_count": 846
        },
        {
          "output_type": "display_data",
          "data": {
            "image/png": "[encoded data removed]",
            "text/plain": [
              "<Figure size 432x288 with 1 Axes>"
            ]
          },
          "metadata": {
            "tags": []
          }
        }
      ]
    },
    {
      "cell_type": "markdown",
      "metadata": {
        "id": "CNdmpRQP0u5q"
      },
      "source": [
        "## Sex"
      ]
    },
    {
      "cell_type": "code",
      "metadata": {
        "colab": {
          "base_uri": "https://localhost:8080/",
          "height": 372
        },
        "id": "OZJ_u-ni0zsU",
        "outputId": "4abef046-ca48-4854-df15-be1a030c9680"
      },
      "source": [
        "# Contagem de indivíduos por gênero.\n",
        "plt.title(\"Contagem de indivíduos por gênero.\")\n",
        "sns.countplot(all_data.Sex)\n",
        "plt.ylabel(\"Count\")\n",
        "plt.xlabel(\"Sex\")"
      ],
      "execution_count": 847,
      "outputs": [
        {
          "output_type": "stream",
          "text": [
            "/usr/local/lib/python3.6/dist-packages/seaborn/_decorators.py:43: FutureWarning: Pass the following variable as a keyword arg: x. From version 0.12, the only valid positional argument will be `data`, and passing other arguments without an explicit keyword will result in an error or misinterpretation.\n",
            "  FutureWarning\n"
          ],
          "name": "stderr"
        },
        {
          "output_type": "execute_result",
          "data": {
            "text/plain": [
              "Text(0.5, 0, 'Sex')"
            ]
          },
          "metadata": {
            "tags": []
          },
          "execution_count": 847
        },
        {
          "output_type": "display_data",
          "data": {
            "image/png": "[encoded data removed]",
            "text/plain": [
              "<Figure size 432x288 with 1 Axes>"
            ]
          },
          "metadata": {
            "tags": []
          }
        }
      ]
    },
    {
      "cell_type": "markdown",
      "metadata": {
        "id": "JNDrAv0cnEmJ"
      },
      "source": [
        "Considerando a amostra treino, apenas 19% dos homens sobreviveram, contra 74% das mulheres. "
      ]
    },
    {
      "cell_type": "code",
      "metadata": {
        "colab": {
          "base_uri": "https://localhost:8080/"
        },
        "id": "E9YQrzf3B9Bv",
        "outputId": "4e67e6e0-2247-4ba2-ad75-29b6c10f2eec"
      },
      "source": [
        "# Sumarização de Survived por gênero\r\n",
        "all_data[:train_idx].groupby(['Survived', 'Sex'])['Sex'].count()"
      ],
      "execution_count": 848,
      "outputs": [
        {
          "output_type": "execute_result",
          "data": {
            "text/plain": [
              "Survived  Sex   \n",
              "0.0       female     81\n",
              "          male      468\n",
              "1.0       female    233\n",
              "          male      109\n",
              "Name: Sex, dtype: int64"
            ]
          },
          "metadata": {
            "tags": []
          },
          "execution_count": 848
        }
      ]
    },
    {
      "cell_type": "code",
      "metadata": {
        "colab": {
          "base_uri": "https://localhost:8080/",
          "height": 314
        },
        "id": "ZA7yA0Jt4ihy",
        "outputId": "ec79a4c9-f69c-4fb2-c584-78d0dccc9972"
      },
      "source": [
        "# Visualização de Survived por gênero\n",
        "barPlotPercent(all_data[:train_idx], 'Sex', 'Survived')"
      ],
      "execution_count": 849,
      "outputs": [
        {
          "output_type": "display_data",
          "data": {
            "image/png": "[encoded data removed]",
            "text/plain": [
              "<Figure size 627.875x288 with 1 Axes>"
            ]
          },
          "metadata": {
            "tags": []
          }
        }
      ]
    },
    {
      "cell_type": "markdown",
      "metadata": {
        "id": "45B2ZMMMnlRV"
      },
      "source": [
        "Sendo assim, criou-se um novo atributo correspondente à taxa de sobr"
      ]
    },
    {
      "cell_type": "code",
      "metadata": {
        "id": "IML1voLeWWhN"
      },
      "source": [
        "all_data['Sex_survival_rate'] = all_data.Sex.map(lambda x: 0.74 if x == 'female' else 0.26)"
      ],
      "execution_count": 850,
      "outputs": []
    },
    {
      "cell_type": "markdown",
      "metadata": {
        "id": "RhwnZxVZ96jz"
      },
      "source": [
        "## Pclass\n",
        "\n",
        "Ao observar o atributo Pclass, nota-se que a classe social que prevalece é a baixa. Contudo, foi a classe com maior taxa de morte. "
      ]
    },
    {
      "cell_type": "code",
      "metadata": {
        "colab": {
          "base_uri": "https://localhost:8080/",
          "height": 372
        },
        "id": "ronNDZnD_ZM6",
        "outputId": "01e1919d-ee63-4866-99c2-41ab58fdc086"
      },
      "source": [
        "# Contagem de passageiros por Classe Social\n",
        "plt.title(\"Contagem de indivíduos por Classe Social\")\n",
        "sns.countplot(train.Pclass)\n",
        "plt.ylabel(\"Count\")\n",
        "plt.xlabel(\"Pclass\")"
      ],
      "execution_count": 851,
      "outputs": [
        {
          "output_type": "stream",
          "text": [
            "/usr/local/lib/python3.6/dist-packages/seaborn/_decorators.py:43: FutureWarning: Pass the following variable as a keyword arg: x. From version 0.12, the only valid positional argument will be `data`, and passing other arguments without an explicit keyword will result in an error or misinterpretation.\n",
            "  FutureWarning\n"
          ],
          "name": "stderr"
        },
        {
          "output_type": "execute_result",
          "data": {
            "text/plain": [
              "Text(0.5, 0, 'Pclass')"
            ]
          },
          "metadata": {
            "tags": []
          },
          "execution_count": 851
        },
        {
          "output_type": "display_data",
          "data": {
            "image/png": "[encoded data removed]",
            "text/plain": [
              "<Figure size 432x288 with 1 Axes>"
            ]
          },
          "metadata": {
            "tags": []
          }
        }
      ]
    },
    {
      "cell_type": "code",
      "metadata": {
        "colab": {
          "base_uri": "https://localhost:8080/"
        },
        "id": "y8pZeVbJaUip",
        "outputId": "dc740a75-af1c-411d-8f19-2a28af0dd49c"
      },
      "source": [
        "# Sumarização de Survived por classe social\n",
        "all_data[:train_idx].groupby(['Survived', 'Pclass'])['Pclass'].count()"
      ],
      "execution_count": 852,
      "outputs": [
        {
          "output_type": "execute_result",
          "data": {
            "text/plain": [
              "Survived  Pclass\n",
              "0.0       1          80\n",
              "          2          97\n",
              "          3         372\n",
              "1.0       1         136\n",
              "          2          87\n",
              "          3         119\n",
              "Name: Pclass, dtype: int64"
            ]
          },
          "metadata": {
            "tags": []
          },
          "execution_count": 852
        }
      ]
    },
    {
      "cell_type": "code",
      "metadata": {
        "colab": {
          "base_uri": "https://localhost:8080/",
          "height": 386
        },
        "id": "eHvNF9K-YymW",
        "outputId": "c70de79d-88c8-4a44-f853-30c63d69d9d3"
      },
      "source": [
        "# Taxa de sobrevivência por classe social\n",
        "g = sns.catplot(x=\"Pclass\", y=\"Survived\",\n",
        "                 data=train, saturation=.5,\n",
        "                 kind=\"bar\", ci=None, aspect=.6)\n",
        "\n",
        "for ax in g.axes.flat:\n",
        "    ax.yaxis.set_major_formatter(PercentFormatter(1))\n",
        "\n",
        "plt.show()"
      ],
      "execution_count": 853,
      "outputs": [
        {
          "output_type": "display_data",
          "data": {
            "image/png": "[encoded data removed]",
            "text/plain": [
              "<Figure size 216x360 with 1 Axes>"
            ]
          },
          "metadata": {
            "tags": []
          }
        }
      ]
    },
    {
      "cell_type": "markdown",
      "metadata": {
        "id": "uq_gZgX5q_IT"
      },
      "source": [
        "Sendo assim, criou-se um novo atributo da taxa de sobrevivência, dada a classe social. "
      ]
    },
    {
      "cell_type": "code",
      "metadata": {
        "colab": {
          "base_uri": "https://localhost:8080/"
        },
        "id": "_pAJbX7BcWFo",
        "outputId": "3fe6ad5c-7702-4edb-e656-dd2ce1414935"
      },
      "source": [
        "# Calcula a taxa de sobrevivência entre as classes sociais Pclass\n",
        "p1_surv_rate = round((136/(136+80)),2)\n",
        "p2_surv_rate = round((87/(87+97)),2)\n",
        "p3_surv_rate = round((119/(119+372)),2)\n",
        "\n",
        "print(' Pclass1 survival rate: {} \\n Pclass2 survival rate: {} \\n \\\n",
        "Pclass3 survival rate: {}'.format(p1_surv_rate, p2_surv_rate, p3_surv_rate))"
      ],
      "execution_count": 854,
      "outputs": [
        {
          "output_type": "stream",
          "text": [
            " Pclass1 survival rate: 0.63 \n",
            " Pclass2 survival rate: 0.47 \n",
            " Pclass3 survival rate: 0.24\n"
          ],
          "name": "stdout"
        }
      ]
    },
    {
      "cell_type": "code",
      "metadata": {
        "id": "YNMTUN5QdkWl"
      },
      "source": [
        "# Mapeia a taxa de sobrevivência para cada passageiro de acordo com a sua classe social\n",
        "all_data['Plass_survival_rate'] = all_data.Pclass.map({1 : p1_surv_rate, 2: p2_surv_rate, 3:p3_surv_rate})"
      ],
      "execution_count": 855,
      "outputs": []
    },
    {
      "cell_type": "markdown",
      "metadata": {
        "id": "OQSemU2Crg-V"
      },
      "source": [
        "Na availiação cruzada entre `Pclass` e `Sex` nota-se que o número de homens na classe social mais baixa é muito maior em comparação às outras classes sociais. "
      ]
    },
    {
      "cell_type": "code",
      "metadata": {
        "colab": {
          "base_uri": "https://localhost:8080/",
          "height": 314
        },
        "id": "wiql7_1oDNVb",
        "outputId": "ca04c226-f361-4ccd-e7cd-7adb49c6d87f"
      },
      "source": [
        "# Percentual e contagem de indivíduos por Classe Social e sexo\n",
        "barPlotPercent(all_data[:train_idx], 'Sex', 'Pclass')"
      ],
      "execution_count": 856,
      "outputs": [
        {
          "output_type": "display_data",
          "data": {
            "image/png": "[encoded data removed]",
            "text/plain": [
              "<Figure size 618.375x288 with 1 Axes>"
            ]
          },
          "metadata": {
            "tags": []
          }
        }
      ]
    },
    {
      "cell_type": "markdown",
      "metadata": {
        "id": "bXYHmnD-rMvZ"
      },
      "source": [
        "Os dados também revelam que independente da classe social, as mulheres foram as que tiveram a maior taxa de sobrevivência. "
      ]
    },
    {
      "cell_type": "code",
      "metadata": {
        "colab": {
          "base_uri": "https://localhost:8080/",
          "height": 386
        },
        "id": "2x2EtR2zDPFs",
        "outputId": "fdcaf142-c21d-42d0-994e-620417ca34b9"
      },
      "source": [
        "# Percentual de sobreviventes por sexo e classe social\n",
        "g = sns.catplot(x=\"Sex\", y=\"Survived\", col=\"Pclass\",\n",
        "                 data=all_data[:train_idx], saturation=.5,\n",
        "                 kind=\"bar\", ci=None, aspect=.6)\n",
        "\n",
        "for ax in g.axes.flat:\n",
        "    ax.yaxis.set_major_formatter(PercentFormatter(1))\n",
        "\n",
        "plt.show()"
      ],
      "execution_count": 857,
      "outputs": [
        {
          "output_type": "display_data",
          "data": {
            "image/png": "[encoded data removed]",
            "text/plain": [
              "<Figure size 648x360 with 3 Axes>"
            ]
          },
          "metadata": {
            "tags": []
          }
        }
      ]
    },
    {
      "cell_type": "markdown",
      "metadata": {
        "id": "Q5QBSkmtDayS"
      },
      "source": [
        "## Age e AgeGroup\n",
        "\n",
        "Considerando o grupo etário, a maioria dos passageiros é composta por pessoas adultas do sexo masculino. Há também um número considerável de adolescentes.  "
      ]
    },
    {
      "cell_type": "code",
      "metadata": {
        "colab": {
          "base_uri": "https://localhost:8080/",
          "height": 372
        },
        "id": "YQO16IV0vmtT",
        "outputId": "e8072661-03ce-4053-931f-57a45444674a"
      },
      "source": [
        "# Contagem de passageiros por grupo etário e gênero\n",
        "plt.title(\"Contagem de passageiros por grupo etário e gênero\")\n",
        "sns.countplot(all_data.AgeGroup, hue=all_data.Sex)\n",
        "plt.ylabel(\"Count\")\n",
        "plt.xlabel(\"AgeGroup\")"
      ],
      "execution_count": 858,
      "outputs": [
        {
          "output_type": "stream",
          "text": [
            "/usr/local/lib/python3.6/dist-packages/seaborn/_decorators.py:43: FutureWarning: Pass the following variable as a keyword arg: x. From version 0.12, the only valid positional argument will be `data`, and passing other arguments without an explicit keyword will result in an error or misinterpretation.\n",
            "  FutureWarning\n"
          ],
          "name": "stderr"
        },
        {
          "output_type": "execute_result",
          "data": {
            "text/plain": [
              "Text(0.5, 0, 'AgeGroup')"
            ]
          },
          "metadata": {
            "tags": []
          },
          "execution_count": 858
        },
        {
          "output_type": "display_data",
          "data": {
            "image/png": "[encoded data removed]",
            "text/plain": [
              "<Figure size 432x288 with 1 Axes>"
            ]
          },
          "metadata": {
            "tags": []
          }
        }
      ]
    },
    {
      "cell_type": "markdown",
      "metadata": {
        "id": "mvSpukYiyMS9"
      },
      "source": [
        "Ao avaliar `AgeGroup` com `Survived`, verifica-se que a maior taxa de mortos foi entre os idosos, contra a maior taxa de sobrevivência entre as crianças. "
      ]
    },
    {
      "cell_type": "code",
      "metadata": {
        "colab": {
          "base_uri": "https://localhost:8080/",
          "height": 314
        },
        "id": "OFXc4ezbwFD5",
        "outputId": "89af65c3-e802-4d6b-b740-234498f62965"
      },
      "source": [
        "barPlotPercent(all_data, 'AgeGroup', 'Survived')"
      ],
      "execution_count": 859,
      "outputs": [
        {
          "output_type": "display_data",
          "data": {
            "image/png": "[encoded data removed]",
            "text/plain": [
              "<Figure size 627.875x288 with 1 Axes>"
            ]
          },
          "metadata": {
            "tags": []
          }
        }
      ]
    },
    {
      "cell_type": "markdown",
      "metadata": {
        "id": "t2A3RbVszD0i"
      },
      "source": [
        "Olhando mais de perto, pouquíssimos idosos homens se salvaram. Apenas 7 dos 52 idosos homens. "
      ]
    },
    {
      "cell_type": "code",
      "metadata": {
        "colab": {
          "base_uri": "https://localhost:8080/",
          "height": 583
        },
        "id": "ySuji_0ayUOt",
        "outputId": "27856b49-8c5a-4bfb-8d92-8d53516326b5"
      },
      "source": [
        "all_data[:train_idx].groupby(['AgeGroup', 'Sex','Survived'])['Sex'].describe()"
      ],
      "execution_count": 860,
      "outputs": [
        {
          "output_type": "execute_result",
          "data": {
            "text/html": [
              "<div>\n",
              "<style scoped>\n",
              "    .dataframe tbody tr th:only-of-type {\n",
              "        vertical-align: middle;\n",
              "    }\n",
              "\n",
              "    .dataframe tbody tr th {\n",
              "        vertical-align: top;\n",
              "    }\n",
              "\n",
              "    .dataframe thead th {\n",
              "        text-align: right;\n",
              "    }\n",
              "</style>\n",
              "<table border=\"1\" class=\"dataframe\">\n",
              "  <thead>\n",
              "    <tr style=\"text-align: right;\">\n",
              "      <th></th>\n",
              "      <th></th>\n",
              "      <th></th>\n",
              "      <th>count</th>\n",
              "      <th>unique</th>\n",
              "      <th>top</th>\n",
              "      <th>freq</th>\n",
              "    </tr>\n",
              "    <tr>\n",
              "      <th>AgeGroup</th>\n",
              "      <th>Sex</th>\n",
              "      <th>Survived</th>\n",
              "      <th></th>\n",
              "      <th></th>\n",
              "      <th></th>\n",
              "      <th></th>\n",
              "    </tr>\n",
              "  </thead>\n",
              "  <tbody>\n",
              "    <tr>\n",
              "      <th rowspan=\"4\" valign=\"top\">Adult</th>\n",
              "      <th rowspan=\"2\" valign=\"top\">female</th>\n",
              "      <th>0.0</th>\n",
              "      <td>55</td>\n",
              "      <td>1</td>\n",
              "      <td>female</td>\n",
              "      <td>55</td>\n",
              "    </tr>\n",
              "    <tr>\n",
              "      <th>1.0</th>\n",
              "      <td>160</td>\n",
              "      <td>1</td>\n",
              "      <td>female</td>\n",
              "      <td>160</td>\n",
              "    </tr>\n",
              "    <tr>\n",
              "      <th rowspan=\"2\" valign=\"top\">male</th>\n",
              "      <th>0.0</th>\n",
              "      <td>349</td>\n",
              "      <td>1</td>\n",
              "      <td>male</td>\n",
              "      <td>349</td>\n",
              "    </tr>\n",
              "    <tr>\n",
              "      <th>1.0</th>\n",
              "      <td>73</td>\n",
              "      <td>1</td>\n",
              "      <td>male</td>\n",
              "      <td>73</td>\n",
              "    </tr>\n",
              "    <tr>\n",
              "      <th rowspan=\"4\" valign=\"top\">Child</th>\n",
              "      <th rowspan=\"2\" valign=\"top\">female</th>\n",
              "      <th>0.0</th>\n",
              "      <td>13</td>\n",
              "      <td>1</td>\n",
              "      <td>female</td>\n",
              "      <td>13</td>\n",
              "    </tr>\n",
              "    <tr>\n",
              "      <th>1.0</th>\n",
              "      <td>19</td>\n",
              "      <td>1</td>\n",
              "      <td>female</td>\n",
              "      <td>19</td>\n",
              "    </tr>\n",
              "    <tr>\n",
              "      <th rowspan=\"2\" valign=\"top\">male</th>\n",
              "      <th>0.0</th>\n",
              "      <td>16</td>\n",
              "      <td>1</td>\n",
              "      <td>male</td>\n",
              "      <td>16</td>\n",
              "    </tr>\n",
              "    <tr>\n",
              "      <th>1.0</th>\n",
              "      <td>20</td>\n",
              "      <td>1</td>\n",
              "      <td>male</td>\n",
              "      <td>20</td>\n",
              "    </tr>\n",
              "    <tr>\n",
              "      <th rowspan=\"4\" valign=\"top\">Old</th>\n",
              "      <th rowspan=\"2\" valign=\"top\">female</th>\n",
              "      <th>0.0</th>\n",
              "      <td>2</td>\n",
              "      <td>1</td>\n",
              "      <td>female</td>\n",
              "      <td>2</td>\n",
              "    </tr>\n",
              "    <tr>\n",
              "      <th>1.0</th>\n",
              "      <td>20</td>\n",
              "      <td>1</td>\n",
              "      <td>female</td>\n",
              "      <td>20</td>\n",
              "    </tr>\n",
              "    <tr>\n",
              "      <th rowspan=\"2\" valign=\"top\">male</th>\n",
              "      <th>0.0</th>\n",
              "      <td>45</td>\n",
              "      <td>1</td>\n",
              "      <td>male</td>\n",
              "      <td>45</td>\n",
              "    </tr>\n",
              "    <tr>\n",
              "      <th>1.0</th>\n",
              "      <td>7</td>\n",
              "      <td>1</td>\n",
              "      <td>male</td>\n",
              "      <td>7</td>\n",
              "    </tr>\n",
              "    <tr>\n",
              "      <th rowspan=\"4\" valign=\"top\">Teenager</th>\n",
              "      <th rowspan=\"2\" valign=\"top\">female</th>\n",
              "      <th>0.0</th>\n",
              "      <td>11</td>\n",
              "      <td>1</td>\n",
              "      <td>female</td>\n",
              "      <td>11</td>\n",
              "    </tr>\n",
              "    <tr>\n",
              "      <th>1.0</th>\n",
              "      <td>34</td>\n",
              "      <td>1</td>\n",
              "      <td>female</td>\n",
              "      <td>34</td>\n",
              "    </tr>\n",
              "    <tr>\n",
              "      <th rowspan=\"2\" valign=\"top\">male</th>\n",
              "      <th>0.0</th>\n",
              "      <td>58</td>\n",
              "      <td>1</td>\n",
              "      <td>male</td>\n",
              "      <td>58</td>\n",
              "    </tr>\n",
              "    <tr>\n",
              "      <th>1.0</th>\n",
              "      <td>9</td>\n",
              "      <td>1</td>\n",
              "      <td>male</td>\n",
              "      <td>9</td>\n",
              "    </tr>\n",
              "  </tbody>\n",
              "</table>\n",
              "</div>"
            ],
            "text/plain": [
              "                         count unique     top freq\n",
              "AgeGroup Sex    Survived                          \n",
              "Adult    female 0.0         55      1  female   55\n",
              "                1.0        160      1  female  160\n",
              "         male   0.0        349      1    male  349\n",
              "                1.0         73      1    male   73\n",
              "Child    female 0.0         13      1  female   13\n",
              "                1.0         19      1  female   19\n",
              "         male   0.0         16      1    male   16\n",
              "                1.0         20      1    male   20\n",
              "Old      female 0.0          2      1  female    2\n",
              "                1.0         20      1  female   20\n",
              "         male   0.0         45      1    male   45\n",
              "                1.0          7      1    male    7\n",
              "Teenager female 0.0         11      1  female   11\n",
              "                1.0         34      1  female   34\n",
              "         male   0.0         58      1    male   58\n",
              "                1.0          9      1    male    9"
            ]
          },
          "metadata": {
            "tags": []
          },
          "execution_count": 860
        }
      ]
    },
    {
      "cell_type": "markdown",
      "metadata": {
        "id": "Xcag8j8zyTpu"
      },
      "source": [
        ""
      ]
    },
    {
      "cell_type": "code",
      "metadata": {
        "id": "QwHVwajDxr6i",
        "colab": {
          "base_uri": "https://localhost:8080/",
          "height": 282
        },
        "outputId": "93179721-2616-42ba-d078-58ef2f7cf9bd"
      },
      "source": [
        "#Boxplot Survived x Age\n",
        "sns.boxplot(x='Survived', y='Age', data=all_data[:train_idx])\n",
        "plt.show()"
      ],
      "execution_count": 861,
      "outputs": [
        {
          "output_type": "display_data",
          "data": {
            "image/png": "[encoded data removed]",
            "text/plain": [
              "<Figure size 432x288 with 1 Axes>"
            ]
          },
          "metadata": {
            "tags": []
          }
        }
      ]
    },
    {
      "cell_type": "code",
      "metadata": {
        "id": "bo0BS-fg1Gfa",
        "colab": {
          "base_uri": "https://localhost:8080/",
          "height": 299
        },
        "outputId": "c211c8f1-a442-423f-a8c6-fdcb31d811eb"
      },
      "source": [
        "#Boxplot Survived x Age agrupados pela Pclass\n",
        "sns.boxplot(x='Survived', y='Age', data=all_data[:train_idx], hue='Pclass')"
      ],
      "execution_count": 862,
      "outputs": [
        {
          "output_type": "execute_result",
          "data": {
            "text/plain": [
              "<matplotlib.axes._subplots.AxesSubplot at 0x7f42aea294e0>"
            ]
          },
          "metadata": {
            "tags": []
          },
          "execution_count": 862
        },
        {
          "output_type": "display_data",
          "data": {
            "image/png": "[encoded data removed]",
            "text/plain": [
              "<Figure size 432x288 with 1 Axes>"
            ]
          },
          "metadata": {
            "tags": []
          }
        }
      ]
    },
    {
      "cell_type": "markdown",
      "metadata": {
        "id": "OEzH5ZrauuWH"
      },
      "source": [
        "## Family Size\n",
        "\n",
        "O atributo `FamilySize` releva algumas coisas interessantes, como que grande parte que quem viajou sozinho é do sexo masculino, e a maior taxa de mortes está justamente entre quem viajou só. Claro, o número de homens tem grande influência nessa taxa. "
      ]
    },
    {
      "cell_type": "code",
      "metadata": {
        "colab": {
          "base_uri": "https://localhost:8080/",
          "height": 314
        },
        "id": "_VQjKe9r0U01",
        "outputId": "c14cfd55-ce1c-44fe-e196-1d2abd3b432b"
      },
      "source": [
        "barPlotPercent(all_data[:train_idx], 'FamilySize', 'Sex')"
      ],
      "execution_count": 863,
      "outputs": [
        {
          "output_type": "display_data",
          "data": {
            "image/png": "[encoded data removed]",
            "text/plain": [
              "<Figure size 646.5x288 with 1 Axes>"
            ]
          },
          "metadata": {
            "tags": []
          }
        }
      ]
    },
    {
      "cell_type": "code",
      "metadata": {
        "colab": {
          "base_uri": "https://localhost:8080/",
          "height": 314
        },
        "id": "dbOkDiWff3ns",
        "outputId": "2b2685ae-2d9a-4eb4-d338-4141fc7e67e5"
      },
      "source": [
        "barPlotPercent(all_data[:train_idx], 'FamilySize', 'Survived')"
      ],
      "execution_count": 864,
      "outputs": [
        {
          "output_type": "display_data",
          "data": {
            "image/png": "[encoded data removed]",
            "text/plain": [
              "<Figure size 627.875x288 with 1 Axes>"
            ]
          },
          "metadata": {
            "tags": []
          }
        }
      ]
    },
    {
      "cell_type": "markdown",
      "metadata": {
        "id": "ILTW2yqD4Je-"
      },
      "source": [
        "Mesmo entre os da classe mais alta, há um número expressivo de pessoas que viajaram sozinhas. Outra coisa curiosa é que o grupo familiar considerado grande só é encontrado na classe social mais baixa. "
      ]
    },
    {
      "cell_type": "code",
      "metadata": {
        "colab": {
          "base_uri": "https://localhost:8080/",
          "height": 395
        },
        "id": "S1kzvrMh3Wv-",
        "outputId": "515000da-0b35-4f23-fb7a-cf046b342938"
      },
      "source": [
        "all_data.groupby(['Pclass','FamilySize'])['FamilySize'].describe()"
      ],
      "execution_count": 865,
      "outputs": [
        {
          "output_type": "execute_result",
          "data": {
            "text/html": [
              "<div>\n",
              "<style scoped>\n",
              "    .dataframe tbody tr th:only-of-type {\n",
              "        vertical-align: middle;\n",
              "    }\n",
              "\n",
              "    .dataframe tbody tr th {\n",
              "        vertical-align: top;\n",
              "    }\n",
              "\n",
              "    .dataframe thead th {\n",
              "        text-align: right;\n",
              "    }\n",
              "</style>\n",
              "<table border=\"1\" class=\"dataframe\">\n",
              "  <thead>\n",
              "    <tr style=\"text-align: right;\">\n",
              "      <th></th>\n",
              "      <th></th>\n",
              "      <th>count</th>\n",
              "      <th>unique</th>\n",
              "      <th>top</th>\n",
              "      <th>freq</th>\n",
              "    </tr>\n",
              "    <tr>\n",
              "      <th>Pclass</th>\n",
              "      <th>FamilySize</th>\n",
              "      <th></th>\n",
              "      <th></th>\n",
              "      <th></th>\n",
              "      <th></th>\n",
              "    </tr>\n",
              "  </thead>\n",
              "  <tbody>\n",
              "    <tr>\n",
              "      <th rowspan=\"3\" valign=\"top\">1</th>\n",
              "      <th>Alone</th>\n",
              "      <td>160</td>\n",
              "      <td>1</td>\n",
              "      <td>Alone</td>\n",
              "      <td>160</td>\n",
              "    </tr>\n",
              "    <tr>\n",
              "      <th>Medium</th>\n",
              "      <td>11</td>\n",
              "      <td>1</td>\n",
              "      <td>Medium</td>\n",
              "      <td>11</td>\n",
              "    </tr>\n",
              "    <tr>\n",
              "      <th>Small</th>\n",
              "      <td>152</td>\n",
              "      <td>1</td>\n",
              "      <td>Small</td>\n",
              "      <td>152</td>\n",
              "    </tr>\n",
              "    <tr>\n",
              "      <th rowspan=\"3\" valign=\"top\">2</th>\n",
              "      <th>Alone</th>\n",
              "      <td>158</td>\n",
              "      <td>1</td>\n",
              "      <td>Alone</td>\n",
              "      <td>158</td>\n",
              "    </tr>\n",
              "    <tr>\n",
              "      <th>Medium</th>\n",
              "      <td>2</td>\n",
              "      <td>1</td>\n",
              "      <td>Medium</td>\n",
              "      <td>2</td>\n",
              "    </tr>\n",
              "    <tr>\n",
              "      <th>Small</th>\n",
              "      <td>117</td>\n",
              "      <td>1</td>\n",
              "      <td>Small</td>\n",
              "      <td>117</td>\n",
              "    </tr>\n",
              "    <tr>\n",
              "      <th rowspan=\"4\" valign=\"top\">3</th>\n",
              "      <th>Alone</th>\n",
              "      <td>472</td>\n",
              "      <td>1</td>\n",
              "      <td>Alone</td>\n",
              "      <td>472</td>\n",
              "    </tr>\n",
              "    <tr>\n",
              "      <th>Large</th>\n",
              "      <td>35</td>\n",
              "      <td>1</td>\n",
              "      <td>Large</td>\n",
              "      <td>35</td>\n",
              "    </tr>\n",
              "    <tr>\n",
              "      <th>Medium</th>\n",
              "      <td>34</td>\n",
              "      <td>1</td>\n",
              "      <td>Medium</td>\n",
              "      <td>34</td>\n",
              "    </tr>\n",
              "    <tr>\n",
              "      <th>Small</th>\n",
              "      <td>168</td>\n",
              "      <td>1</td>\n",
              "      <td>Small</td>\n",
              "      <td>168</td>\n",
              "    </tr>\n",
              "  </tbody>\n",
              "</table>\n",
              "</div>"
            ],
            "text/plain": [
              "                  count unique     top freq\n",
              "Pclass FamilySize                          \n",
              "1      Alone        160      1   Alone  160\n",
              "       Medium        11      1  Medium   11\n",
              "       Small        152      1   Small  152\n",
              "2      Alone        158      1   Alone  158\n",
              "       Medium         2      1  Medium    2\n",
              "       Small        117      1   Small  117\n",
              "3      Alone        472      1   Alone  472\n",
              "       Large         35      1   Large   35\n",
              "       Medium        34      1  Medium   34\n",
              "       Small        168      1   Small  168"
            ]
          },
          "metadata": {
            "tags": []
          },
          "execution_count": 865
        }
      ]
    },
    {
      "cell_type": "markdown",
      "metadata": {
        "id": "_SbpiyfB4vXE"
      },
      "source": [
        "## Deck\n",
        "\n",
        "No gráfico seguinte, avalia-se a taxa de sobrevivência dada a classe social e grupo de Deck. "
      ]
    },
    {
      "cell_type": "code",
      "metadata": {
        "colab": {
          "base_uri": "https://localhost:8080/",
          "height": 386
        },
        "id": "veAcO1f14yk5",
        "outputId": "aed7b3c6-a7d4-4dea-d478-d7dd30a95aaa"
      },
      "source": [
        "g = sns.catplot(x=\"Deck\", y=\"Survived\", col=\"Pclass\",\n",
        "                 data=all_data[:train_idx], saturation=.5,\n",
        "                 kind=\"bar\", ci=None, aspect=.6)\n",
        "\n",
        "for ax in g.axes.flat:\n",
        "    ax.yaxis.set_major_formatter(PercentFormatter(1))\n",
        "\n",
        "plt.show()"
      ],
      "execution_count": 866,
      "outputs": [
        {
          "output_type": "display_data",
          "data": {
            "image/png": "[encoded data removed]",
            "text/plain": [
              "<Figure size 648x360 with 3 Axes>"
            ]
          },
          "metadata": {
            "tags": []
          }
        }
      ]
    },
    {
      "cell_type": "markdown",
      "metadata": {
        "id": "Nhx0j1l_52Fn"
      },
      "source": [
        "Curiosamente, todas as pessoas que estavam faziam parte do grupo de deck **DE** e eram da classe social mais baixa sobreviveram. São elas: "
      ]
    },
    {
      "cell_type": "code",
      "metadata": {
        "colab": {
          "base_uri": "https://localhost:8080/",
          "height": 268
        },
        "id": "4GEzA76644Rn",
        "outputId": "4be3e5bf-e1a6-40fa-9ed0-28d3c2fe61bc"
      },
      "source": [
        "# Query dos passageiros que estavam nos decks DE e são da classe social mais baixa.\n",
        "all_data[:train_idx].query('Deck == \"DE\" & Pclass == 3')"
      ],
      "execution_count": 867,
      "outputs": [
        {
          "output_type": "execute_result",
          "data": {
            "text/html": [
              "<div>\n",
              "<style scoped>\n",
              "    .dataframe tbody tr th:only-of-type {\n",
              "        vertical-align: middle;\n",
              "    }\n",
              "\n",
              "    .dataframe tbody tr th {\n",
              "        vertical-align: top;\n",
              "    }\n",
              "\n",
              "    .dataframe thead th {\n",
              "        text-align: right;\n",
              "    }\n",
              "</style>\n",
              "<table border=\"1\" class=\"dataframe\">\n",
              "  <thead>\n",
              "    <tr style=\"text-align: right;\">\n",
              "      <th></th>\n",
              "      <th>PassengerId</th>\n",
              "      <th>Survived</th>\n",
              "      <th>Pclass</th>\n",
              "      <th>Name</th>\n",
              "      <th>Sex</th>\n",
              "      <th>Age</th>\n",
              "      <th>SibSp</th>\n",
              "      <th>Parch</th>\n",
              "      <th>Ticket</th>\n",
              "      <th>Fare</th>\n",
              "      <th>Cabin</th>\n",
              "      <th>Embarked</th>\n",
              "      <th>Deck</th>\n",
              "      <th>AgeGroup</th>\n",
              "      <th>Title</th>\n",
              "      <th>FamilySize</th>\n",
              "      <th>Sex_survival_rate</th>\n",
              "      <th>Plass_survival_rate</th>\n",
              "    </tr>\n",
              "  </thead>\n",
              "  <tbody>\n",
              "    <tr>\n",
              "      <th>429</th>\n",
              "      <td>430</td>\n",
              "      <td>1.0</td>\n",
              "      <td>3</td>\n",
              "      <td>Pickard, Mr. Berk (Berk Trembisky)</td>\n",
              "      <td>male</td>\n",
              "      <td>32.0</td>\n",
              "      <td>0</td>\n",
              "      <td>0</td>\n",
              "      <td>SOTON/O.Q. 392078</td>\n",
              "      <td>8.050</td>\n",
              "      <td>E10</td>\n",
              "      <td>S</td>\n",
              "      <td>DE</td>\n",
              "      <td>Adult</td>\n",
              "      <td>Mr</td>\n",
              "      <td>Alone</td>\n",
              "      <td>0.26</td>\n",
              "      <td>0.24</td>\n",
              "    </tr>\n",
              "    <tr>\n",
              "      <th>751</th>\n",
              "      <td>752</td>\n",
              "      <td>1.0</td>\n",
              "      <td>3</td>\n",
              "      <td>Moor, Master. Meier</td>\n",
              "      <td>male</td>\n",
              "      <td>6.0</td>\n",
              "      <td>0</td>\n",
              "      <td>1</td>\n",
              "      <td>392096</td>\n",
              "      <td>12.475</td>\n",
              "      <td>E121</td>\n",
              "      <td>S</td>\n",
              "      <td>DE</td>\n",
              "      <td>Child</td>\n",
              "      <td>Master</td>\n",
              "      <td>Small</td>\n",
              "      <td>0.26</td>\n",
              "      <td>0.24</td>\n",
              "    </tr>\n",
              "    <tr>\n",
              "      <th>823</th>\n",
              "      <td>824</td>\n",
              "      <td>1.0</td>\n",
              "      <td>3</td>\n",
              "      <td>Moor, Mrs. (Beila)</td>\n",
              "      <td>female</td>\n",
              "      <td>27.0</td>\n",
              "      <td>0</td>\n",
              "      <td>1</td>\n",
              "      <td>392096</td>\n",
              "      <td>12.475</td>\n",
              "      <td>E121</td>\n",
              "      <td>S</td>\n",
              "      <td>DE</td>\n",
              "      <td>Adult</td>\n",
              "      <td>Mrs</td>\n",
              "      <td>Small</td>\n",
              "      <td>0.74</td>\n",
              "      <td>0.24</td>\n",
              "    </tr>\n",
              "  </tbody>\n",
              "</table>\n",
              "</div>"
            ],
            "text/plain": [
              "     PassengerId  Survived  ...  Sex_survival_rate Plass_survival_rate\n",
              "429          430       1.0  ...               0.26                0.24\n",
              "751          752       1.0  ...               0.26                0.24\n",
              "823          824       1.0  ...               0.74                0.24\n",
              "\n",
              "[3 rows x 18 columns]"
            ]
          },
          "metadata": {
            "tags": []
          },
          "execution_count": 867
        }
      ]
    },
    {
      "cell_type": "markdown",
      "metadata": {
        "id": "AsDGdshopm9V"
      },
      "source": [
        "## Title\n",
        "\n",
        "Sobre os títulos, a maioria das pessoas, no caso homens,  são intituladas como **Mr**. Consequentente, apresenta a maior taxa de mortos. "
      ]
    },
    {
      "cell_type": "code",
      "metadata": {
        "colab": {
          "base_uri": "https://localhost:8080/",
          "height": 238
        },
        "id": "3YydYoijp9l0",
        "outputId": "23248251-41a5-41f8-8e85-397743e882c1"
      },
      "source": [
        "all_data.groupby(['Sex', 'Title'])['Title'].describe()"
      ],
      "execution_count": 868,
      "outputs": [
        {
          "output_type": "execute_result",
          "data": {
            "text/html": [
              "<div>\n",
              "<style scoped>\n",
              "    .dataframe tbody tr th:only-of-type {\n",
              "        vertical-align: middle;\n",
              "    }\n",
              "\n",
              "    .dataframe tbody tr th {\n",
              "        vertical-align: top;\n",
              "    }\n",
              "\n",
              "    .dataframe thead th {\n",
              "        text-align: right;\n",
              "    }\n",
              "</style>\n",
              "<table border=\"1\" class=\"dataframe\">\n",
              "  <thead>\n",
              "    <tr style=\"text-align: right;\">\n",
              "      <th></th>\n",
              "      <th></th>\n",
              "      <th>count</th>\n",
              "      <th>unique</th>\n",
              "      <th>top</th>\n",
              "      <th>freq</th>\n",
              "    </tr>\n",
              "    <tr>\n",
              "      <th>Sex</th>\n",
              "      <th>Title</th>\n",
              "      <th></th>\n",
              "      <th></th>\n",
              "      <th></th>\n",
              "      <th></th>\n",
              "    </tr>\n",
              "  </thead>\n",
              "  <tbody>\n",
              "    <tr>\n",
              "      <th rowspan=\"2\" valign=\"top\">female</th>\n",
              "      <th>Miss</th>\n",
              "      <td>264</td>\n",
              "      <td>1</td>\n",
              "      <td>Miss</td>\n",
              "      <td>264</td>\n",
              "    </tr>\n",
              "    <tr>\n",
              "      <th>Mrs</th>\n",
              "      <td>202</td>\n",
              "      <td>1</td>\n",
              "      <td>Mrs</td>\n",
              "      <td>202</td>\n",
              "    </tr>\n",
              "    <tr>\n",
              "      <th rowspan=\"3\" valign=\"top\">male</th>\n",
              "      <th>Master</th>\n",
              "      <td>61</td>\n",
              "      <td>1</td>\n",
              "      <td>Master</td>\n",
              "      <td>61</td>\n",
              "    </tr>\n",
              "    <tr>\n",
              "      <th>Mr</th>\n",
              "      <td>775</td>\n",
              "      <td>1</td>\n",
              "      <td>Mr</td>\n",
              "      <td>775</td>\n",
              "    </tr>\n",
              "    <tr>\n",
              "      <th>Mrs</th>\n",
              "      <td>7</td>\n",
              "      <td>1</td>\n",
              "      <td>Mrs</td>\n",
              "      <td>7</td>\n",
              "    </tr>\n",
              "  </tbody>\n",
              "</table>\n",
              "</div>"
            ],
            "text/plain": [
              "              count unique     top freq\n",
              "Sex    Title                           \n",
              "female Miss     264      1    Miss  264\n",
              "       Mrs      202      1     Mrs  202\n",
              "male   Master    61      1  Master   61\n",
              "       Mr       775      1      Mr  775\n",
              "       Mrs        7      1     Mrs    7"
            ]
          },
          "metadata": {
            "tags": []
          },
          "execution_count": 868
        }
      ]
    },
    {
      "cell_type": "code",
      "metadata": {
        "colab": {
          "base_uri": "https://localhost:8080/",
          "height": 314
        },
        "id": "SgyGgOmWp2jO",
        "outputId": "14f9938b-9849-4db1-a635-56b2a7d32494"
      },
      "source": [
        "# Percentual e contagem de indivíduos por Título e classe social\n",
        "barPlotPercent(all_data[:train_idx], 'Title', 'Pclass')"
      ],
      "execution_count": 869,
      "outputs": [
        {
          "output_type": "display_data",
          "data": {
            "image/png": "[encoded data removed]",
            "text/plain": [
              "<Figure size 618.375x288 with 1 Axes>"
            ]
          },
          "metadata": {
            "tags": []
          }
        }
      ]
    },
    {
      "cell_type": "code",
      "metadata": {
        "colab": {
          "base_uri": "https://localhost:8080/",
          "height": 314
        },
        "id": "0cVIyhwBpp5-",
        "outputId": "a443474a-1123-414c-8564-a804aa95e346"
      },
      "source": [
        "# Percentual e contagem de indivíduos por Título e classe e sobreviventes\n",
        "barPlotPercent(all_data[:train_idx], 'Title', 'Survived')"
      ],
      "execution_count": 870,
      "outputs": [
        {
          "output_type": "display_data",
          "data": {
            "image/png": "[encoded data removed]",
            "text/plain": [
              "<Figure size 627.875x288 with 1 Axes>"
            ]
          },
          "metadata": {
            "tags": []
          }
        }
      ]
    },
    {
      "cell_type": "markdown",
      "metadata": {
        "id": "Az04p4Qz9ews"
      },
      "source": [
        "# Modelos de predição"
      ]
    },
    {
      "cell_type": "markdown",
      "metadata": {
        "id": "Eiaqbbw_s8oy"
      },
      "source": [
        "## Pré-processamento"
      ]
    },
    {
      "cell_type": "markdown",
      "metadata": {
        "id": "CgNPEPrLycxs"
      },
      "source": [
        "### Normalização \n",
        "\n",
        "Foi realizada a normalização sobre os atributos `Fare` e `Age`.\n"
      ]
    },
    {
      "cell_type": "code",
      "metadata": {
        "id": "ZU8jy7U3zomz"
      },
      "source": [
        "from sklearn.preprocessing import MinMaxScaler\n",
        "minmax = MinMaxScaler()\n",
        "\n",
        "all_data[['Fare','Age']] = minmax.fit_transform(all_data[['Fare','Age']] )"
      ],
      "execution_count": 871,
      "outputs": []
    },
    {
      "cell_type": "markdown",
      "metadata": {
        "id": "Axe3UTx7CWhD"
      },
      "source": [
        "### Remoção de colunas e preparação de variáveis"
      ]
    },
    {
      "cell_type": "code",
      "metadata": {
        "id": "ckpnJdVtCWhE"
      },
      "source": [
        "# Remoção de colunas que não serão usadas\n",
        "all_data.drop(['PassengerId', 'Name', 'Ticket', 'Cabin', 'Parch', 'SibSp'], axis=1, inplace=True)\n",
        "\n",
        "# Preparação de variaveis\n",
        "all_data['Sex'] = all_data['Sex'].map({'male': 0, 'female': 1}).astype(int)\n",
        "all_data['Embarked'] = all_data['Embarked'].map( {'S': 0, 'C': 1, 'Q': 2} ).astype(int)\n",
        "all_data['AgeGroup'] = all_data['AgeGroup'].map( {'Child': 0, 'Teenager': 1, 'Adult': 2, 'Old':3} ).astype(int)\n",
        "all_data['Title'] = all_data['Title'].map( {'Mr':0, 'Mrs':1, 'Miss':2, 'Master':3} ).astype(int)\n",
        "all_data['Deck'] = all_data['Deck'].map( {'ABC':0, 'DE':1, 'FG':2, 'U': 3} ).astype(int)\n",
        "all_data['FamilySize'] = all_data['FamilySize'].map( {'Alone':0, 'Small':1, 'Medium':2, 'Large': 3} ).astype(int)\n"
      ],
      "execution_count": 872,
      "outputs": []
    },
    {
      "cell_type": "code",
      "metadata": {
        "colab": {
          "base_uri": "https://localhost:8080/",
          "height": 226
        },
        "id": "bSpjqxMC7HIi",
        "outputId": "ffd235a8-6dda-4d76-f9bd-82aa69cd3c91"
      },
      "source": [
        "all_data.head(5)"
      ],
      "execution_count": 873,
      "outputs": [
        {
          "output_type": "execute_result",
          "data": {
            "text/html": [
              "<div>\n",
              "<style scoped>\n",
              "    .dataframe tbody tr th:only-of-type {\n",
              "        vertical-align: middle;\n",
              "    }\n",
              "\n",
              "    .dataframe tbody tr th {\n",
              "        vertical-align: top;\n",
              "    }\n",
              "\n",
              "    .dataframe thead th {\n",
              "        text-align: right;\n",
              "    }\n",
              "</style>\n",
              "<table border=\"1\" class=\"dataframe\">\n",
              "  <thead>\n",
              "    <tr style=\"text-align: right;\">\n",
              "      <th></th>\n",
              "      <th>Survived</th>\n",
              "      <th>Pclass</th>\n",
              "      <th>Sex</th>\n",
              "      <th>Age</th>\n",
              "      <th>Fare</th>\n",
              "      <th>Embarked</th>\n",
              "      <th>Deck</th>\n",
              "      <th>AgeGroup</th>\n",
              "      <th>Title</th>\n",
              "      <th>FamilySize</th>\n",
              "      <th>Sex_survival_rate</th>\n",
              "      <th>Plass_survival_rate</th>\n",
              "    </tr>\n",
              "  </thead>\n",
              "  <tbody>\n",
              "    <tr>\n",
              "      <th>0</th>\n",
              "      <td>0.0</td>\n",
              "      <td>3</td>\n",
              "      <td>0</td>\n",
              "      <td>0.273456</td>\n",
              "      <td>0.014151</td>\n",
              "      <td>0</td>\n",
              "      <td>3</td>\n",
              "      <td>2</td>\n",
              "      <td>0</td>\n",
              "      <td>1</td>\n",
              "      <td>0.26</td>\n",
              "      <td>0.24</td>\n",
              "    </tr>\n",
              "    <tr>\n",
              "      <th>1</th>\n",
              "      <td>1.0</td>\n",
              "      <td>1</td>\n",
              "      <td>1</td>\n",
              "      <td>0.473882</td>\n",
              "      <td>0.139136</td>\n",
              "      <td>1</td>\n",
              "      <td>0</td>\n",
              "      <td>2</td>\n",
              "      <td>1</td>\n",
              "      <td>1</td>\n",
              "      <td>0.74</td>\n",
              "      <td>0.63</td>\n",
              "    </tr>\n",
              "    <tr>\n",
              "      <th>2</th>\n",
              "      <td>1.0</td>\n",
              "      <td>3</td>\n",
              "      <td>1</td>\n",
              "      <td>0.323563</td>\n",
              "      <td>0.015469</td>\n",
              "      <td>0</td>\n",
              "      <td>3</td>\n",
              "      <td>2</td>\n",
              "      <td>2</td>\n",
              "      <td>0</td>\n",
              "      <td>0.74</td>\n",
              "      <td>0.24</td>\n",
              "    </tr>\n",
              "    <tr>\n",
              "      <th>3</th>\n",
              "      <td>1.0</td>\n",
              "      <td>1</td>\n",
              "      <td>1</td>\n",
              "      <td>0.436302</td>\n",
              "      <td>0.103644</td>\n",
              "      <td>0</td>\n",
              "      <td>0</td>\n",
              "      <td>2</td>\n",
              "      <td>1</td>\n",
              "      <td>1</td>\n",
              "      <td>0.74</td>\n",
              "      <td>0.63</td>\n",
              "    </tr>\n",
              "    <tr>\n",
              "      <th>4</th>\n",
              "      <td>0.0</td>\n",
              "      <td>3</td>\n",
              "      <td>0</td>\n",
              "      <td>0.436302</td>\n",
              "      <td>0.015713</td>\n",
              "      <td>0</td>\n",
              "      <td>3</td>\n",
              "      <td>2</td>\n",
              "      <td>0</td>\n",
              "      <td>0</td>\n",
              "      <td>0.26</td>\n",
              "      <td>0.24</td>\n",
              "    </tr>\n",
              "  </tbody>\n",
              "</table>\n",
              "</div>"
            ],
            "text/plain": [
              "   Survived  Pclass  Sex  ...  FamilySize  Sex_survival_rate  Plass_survival_rate\n",
              "0       0.0       3    0  ...           1               0.26                 0.24\n",
              "1       1.0       1    1  ...           1               0.74                 0.63\n",
              "2       1.0       3    1  ...           0               0.74                 0.24\n",
              "3       1.0       1    1  ...           1               0.74                 0.63\n",
              "4       0.0       3    0  ...           0               0.26                 0.24\n",
              "\n",
              "[5 rows x 12 columns]"
            ]
          },
          "metadata": {
            "tags": []
          },
          "execution_count": 873
        }
      ]
    },
    {
      "cell_type": "code",
      "metadata": {
        "colab": {
          "base_uri": "https://localhost:8080/",
          "height": 698
        },
        "id": "2Kju5DyiUGEI",
        "outputId": "40c54b16-a745-4b78-fba1-90eef21d3d47"
      },
      "source": [
        "# Heatmap de coeficiente de correlação entre as variáveis\n",
        "plt.figure(figsize=(10,10))\n",
        "sns.heatmap(all_data.corr(), annot = True)"
      ],
      "execution_count": 874,
      "outputs": [
        {
          "output_type": "execute_result",
          "data": {
            "text/plain": [
              "<matplotlib.axes._subplots.AxesSubplot at 0x7f42af6ea6a0>"
            ]
          },
          "metadata": {
            "tags": []
          },
          "execution_count": 874
        },
        {
          "output_type": "display_data",
          "data": {
            "image/png": "[encoded data removed]",
            "text/plain": [
              "<Figure size 720x720 with 2 Axes>"
            ]
          },
          "metadata": {
            "tags": []
          }
        }
      ]
    },
    {
      "cell_type": "markdown",
      "metadata": {
        "id": "N6OAwh6EOfA9"
      },
      "source": [
        "### Criação de variáveis Dummies\n",
        "\n",
        "Os atributos categóricos com mais de uma categoria foram transformados em variáveis *Dummies*, para que cada uma das suas categorias se transformace num novo atributo binário. "
      ]
    },
    {
      "cell_type": "code",
      "metadata": {
        "id": "2vIgyPcW3K68"
      },
      "source": [
        "# Criação de dummies para atributos categóricos\n",
        "\n",
        "embarked_dummies = pd.get_dummies(all_data['Embarked'], prefix='Embarked')\n",
        "all_data = pd.concat([all_data, embarked_dummies], axis=1)\n",
        "all_data.drop('Embarked', axis=1, inplace=True)\n",
        "\n",
        "AgeGroup_dummies = pd.get_dummies(all_data['AgeGroup'], prefix='AgeGroup')\n",
        "all_data = pd.concat([all_data, AgeGroup_dummies], axis=1)\n",
        "all_data.drop('AgeGroup', axis=1, inplace=True)\n",
        "\n",
        "Title_dummies = pd.get_dummies(all_data['Title'], prefix='Title')\n",
        "all_data = pd.concat([all_data,Title_dummies], axis=1)\n",
        "all_data.drop('Title', axis=1, inplace=True)\n",
        "\n",
        "Deck_dummies = pd.get_dummies(all_data['Deck'], prefix='Deck')\n",
        "all_data = pd.concat([all_data,Deck_dummies], axis=1)\n",
        "all_data.drop('Deck', axis=1, inplace=True)\n",
        "\n",
        "FamilySize_dummies = pd.get_dummies(all_data['FamilySize'], prefix='FamilySize')\n",
        "all_data = pd.concat([all_data,FamilySize_dummies], axis=1)\n",
        "all_data.drop('FamilySize', axis=1, inplace=True)\n",
        "\n"
      ],
      "execution_count": 875,
      "outputs": []
    },
    {
      "cell_type": "markdown",
      "metadata": {
        "id": "6NVkE-F7CWhF"
      },
      "source": [
        "### Separação dos datasets\n",
        "\n"
      ]
    },
    {
      "cell_type": "code",
      "metadata": {
        "colab": {
          "base_uri": "https://localhost:8080/"
        },
        "id": "jgOD2XFYp-Yw",
        "outputId": "2b71f2fe-bebc-4363-9e85-04b5f56dbf42"
      },
      "source": [
        "# salvar PassengerId para submissao ao Kaggle\n",
        "passengerId = test['PassengerId']\n",
        "\n",
        "# carregamento do dataset de validação disponibilizado pelo Kaggle\n",
        "validation  = pd.read_csv(validation_url)\n",
        "\n",
        "# Extração do atributo classe Survived\n",
        "Y_train = train.Survived.copy() \n",
        "# Cópia do df tratado até o índice correpondente ao treino\n",
        "X_train = all_data.iloc[:train_idx]\n",
        "# Remoção do atributo Survived\n",
        "X_train.drop(['Survived'], axis=1, inplace=True) \n",
        "\n",
        "# Cópia do df tratado até o índice correpondente ao teste\n",
        "X_test = all_data.iloc[train_idx:]\n",
        "# Remoção do atributo Survived\n",
        "X_test.drop(['Survived'], axis=1, inplace=True) \n",
        "\n",
        "print(X_train.shape), print(X_test.shape)"
      ],
      "execution_count": 876,
      "outputs": [
        {
          "output_type": "stream",
          "text": [
            "(891, 25)\n",
            "(418, 25)\n"
          ],
          "name": "stdout"
        },
        {
          "output_type": "stream",
          "text": [
            "/usr/local/lib/python3.6/dist-packages/pandas/core/frame.py:4174: SettingWithCopyWarning: \n",
            "A value is trying to be set on a copy of a slice from a DataFrame\n",
            "\n",
            "See the caveats in the documentation: https://pandas.pydata.org/pandas-docs/stable/user_guide/indexing.html#returning-a-view-versus-a-copy\n",
            "  errors=errors,\n"
          ],
          "name": "stderr"
        },
        {
          "output_type": "execute_result",
          "data": {
            "text/plain": [
              "(None, None)"
            ]
          },
          "metadata": {
            "tags": []
          },
          "execution_count": 876
        }
      ]
    },
    {
      "cell_type": "markdown",
      "metadata": {
        "id": "MHvnHRNRO53N"
      },
      "source": [
        "## Split\n",
        "\n",
        "O dataset de treino foi separado em 70% de treino e 30% de teste para que os modelos pudessem ser treinados. "
      ]
    },
    {
      "cell_type": "code",
      "metadata": {
        "id": "dxNcKxs12rS0"
      },
      "source": [
        "from sklearn.model_selection import train_test_split\n",
        "# Separação treino e teste\n",
        "tr_x, te_x, tr_y, te_y = train_test_split(X_train, Y_train,\n",
        "                                            test_size = 0.3,\n",
        "                                            random_state=42,\n",
        "                                            stratify = Y_train)"
      ],
      "execution_count": 877,
      "outputs": []
    },
    {
      "cell_type": "markdown",
      "metadata": {
        "id": "T9ENI75X9PPy"
      },
      "source": [
        "## Random Forest"
      ]
    },
    {
      "cell_type": "code",
      "metadata": {
        "colab": {
          "base_uri": "https://localhost:8080/"
        },
        "id": "Xj-lwfY19S8r",
        "outputId": "364619c2-2001-4482-8003-de307a65a34b"
      },
      "source": [
        "from sklearn.ensemble import RandomForestClassifier\n",
        "from sklearn.model_selection import GridSearchCV\n",
        "from sklearn.metrics import accuracy_score, r2_score, roc_curve, auc, classification_report\n",
        "\n",
        "param_grid = {'criterion': ['entropy', 'gini'],\n",
        "              'max_depth': range(2,6,2),\n",
        "              'min_samples_leaf': range(2,6,2), \n",
        "              'n_estimators': range(2,1000,100)}\n",
        "\n",
        "rdf = RandomForestClassifier()\n",
        "gs = GridSearchCV(rdf, param_grid=param_grid)\n",
        "gs.fit(tr_x, tr_y)"
      ],
      "execution_count": 878,
      "outputs": [
        {
          "output_type": "execute_result",
          "data": {
            "text/plain": [
              "GridSearchCV(cv=None, error_score=nan,\n",
              "             estimator=RandomForestClassifier(bootstrap=True, ccp_alpha=0.0,\n",
              "                                              class_weight=None,\n",
              "                                              criterion='gini', max_depth=None,\n",
              "                                              max_features='auto',\n",
              "                                              max_leaf_nodes=None,\n",
              "                                              max_samples=None,\n",
              "                                              min_impurity_decrease=0.0,\n",
              "                                              min_impurity_split=None,\n",
              "                                              min_samples_leaf=1,\n",
              "                                              min_samples_split=2,\n",
              "                                              min_weight_fraction_leaf=0.0,\n",
              "                                              n_estimators=100, n_jobs=None,\n",
              "                                              oob_score=False,\n",
              "                                              random_state=None, verbose=0,\n",
              "                                              warm_start=False),\n",
              "             iid='deprecated', n_jobs=None,\n",
              "             param_grid={'criterion': ['entropy', 'gini'],\n",
              "                         'max_depth': range(2, 6, 2),\n",
              "                         'min_samples_leaf': range(2, 6, 2),\n",
              "                         'n_estimators': range(2, 1000, 100)},\n",
              "             pre_dispatch='2*n_jobs', refit=True, return_train_score=False,\n",
              "             scoring=None, verbose=0)"
            ]
          },
          "metadata": {
            "tags": []
          },
          "execution_count": 878
        }
      ]
    },
    {
      "cell_type": "markdown",
      "metadata": {
        "id": "zmokedkTJc_d"
      },
      "source": [
        "### Predição e avaliação do modelo"
      ]
    },
    {
      "cell_type": "code",
      "metadata": {
        "colab": {
          "base_uri": "https://localhost:8080/"
        },
        "id": "UNehAfcY-gXK",
        "outputId": "3838d266-b518-47ff-92c3-f7ae2085e59a"
      },
      "source": [
        "from sklearn.metrics import accuracy_score, r2_score, roc_curve, auc, classification_report\n",
        "# Melhores parametros apontados pelo grid search\n",
        "rdf = gs.best_estimator_\n",
        "\n",
        "rdf.fit(tr_x, tr_y)\n",
        "y_pred = rdf.predict(te_x)\n",
        "print(classification_report(te_y, y_pred))"
      ],
      "execution_count": 879,
      "outputs": [
        {
          "output_type": "stream",
          "text": [
            "              precision    recall  f1-score   support\n",
            "\n",
            "           0       0.83      0.86      0.85       165\n",
            "           1       0.76      0.72      0.74       103\n",
            "\n",
            "    accuracy                           0.81       268\n",
            "   macro avg       0.80      0.79      0.79       268\n",
            "weighted avg       0.80      0.81      0.80       268\n",
            "\n"
          ],
          "name": "stdout"
        }
      ]
    },
    {
      "cell_type": "code",
      "metadata": {
        "colab": {
          "base_uri": "https://localhost:8080/",
          "height": 334
        },
        "id": "ixP3_RhTJhK2",
        "outputId": "9f04eed8-b963-419b-f839-3914d9645299"
      },
      "source": [
        "disp = plot_confusion_matrix(rdf, te_x, te_y,\n",
        "                                 display_labels=[\"No\", \"Yes\"],\n",
        "                                 cmap=plt.cm.Blues)\n",
        "disp.ax_.set_title(\"Confusion Matrix\")\n",
        "\n",
        "print(disp.confusion_matrix)"
      ],
      "execution_count": 880,
      "outputs": [
        {
          "output_type": "stream",
          "text": [
            "[[142  23]\n",
            " [ 29  74]]\n"
          ],
          "name": "stdout"
        },
        {
          "output_type": "display_data",
          "data": {
            "image/png": "[encoded data removed]",
            "text/plain": [
              "<Figure size 432x288 with 2 Axes>"
            ]
          },
          "metadata": {
            "tags": []
          }
        }
      ]
    },
    {
      "cell_type": "code",
      "metadata": {
        "colab": {
          "base_uri": "https://localhost:8080/",
          "height": 441
        },
        "id": "ETWMgMAlQNew",
        "outputId": "31b470af-d496-469b-e520-75f404a892a9"
      },
      "source": [
        "feature_imp = pd.Series(rdf.feature_importances_, index=X_train.columns).sort_values(ascending=False)\n",
        "\n",
        "plt.figure(figsize=(10,6))\n",
        "sns.barplot(x=feature_imp, y=feature_imp.index)\n",
        "\n",
        "plt.xlabel('Score')\n",
        "plt.ylabel('Atributos')\n",
        "plt.title(\"Score da Importância dos Atributos\")\n",
        "plt.tight_layout()"
      ],
      "execution_count": 881,
      "outputs": [
        {
          "output_type": "display_data",
          "data": {
            "image/png": "[encoded data removed]",
            "text/plain": [
              "<Figure size 720x432 with 1 Axes>"
            ]
          },
          "metadata": {
            "tags": []
          }
        }
      ]
    },
    {
      "cell_type": "markdown",
      "metadata": {
        "id": "56h8o3TzCWhH"
      },
      "source": [
        "##  Arvore de decisão"
      ]
    },
    {
      "cell_type": "code",
      "metadata": {
        "colab": {
          "base_uri": "https://localhost:8080/"
        },
        "id": "OQhjNUaoCWhH",
        "outputId": "701c03a9-c233-43af-b82d-338050eaee82"
      },
      "source": [
        "from sklearn.tree import DecisionTreeClassifier\n",
        "from sklearn import tree\n",
        "\n",
        "\n",
        "param_grid = {'criterion': ['entropy', 'gini'],\n",
        "              'max_depth': range(2,30,2),\n",
        "              'min_samples_leaf': range(2,10,2),\n",
        "              'min_impurity_decrease': np.linspace(0,0.5,10)}\n",
        "dtc = DecisionTreeClassifier()\n",
        "gs = GridSearchCV(dtc, param_grid=param_grid)\n",
        "gs.fit(tr_x, tr_y)"
      ],
      "execution_count": 882,
      "outputs": [
        {
          "output_type": "execute_result",
          "data": {
            "text/plain": [
              "GridSearchCV(cv=None, error_score=nan,\n",
              "             estimator=DecisionTreeClassifier(ccp_alpha=0.0, class_weight=None,\n",
              "                                              criterion='gini', max_depth=None,\n",
              "                                              max_features=None,\n",
              "                                              max_leaf_nodes=None,\n",
              "                                              min_impurity_decrease=0.0,\n",
              "                                              min_impurity_split=None,\n",
              "                                              min_samples_leaf=1,\n",
              "                                              min_samples_split=2,\n",
              "                                              min_weight_fraction_leaf=0.0,\n",
              "                                              presort='deprecated',\n",
              "                                              random_state=None,\n",
              "                                              splitter='best'),\n",
              "             iid='deprecated', n_jobs=None,\n",
              "             param_grid={'criterion': ['entropy', 'gini'],\n",
              "                         'max_depth': range(2, 30, 2),\n",
              "                         'min_impurity_decrease': array([0.        , 0.05555556, 0.11111111, 0.16666667, 0.22222222,\n",
              "       0.27777778, 0.33333333, 0.38888889, 0.44444444, 0.5       ]),\n",
              "                         'min_samples_leaf': range(2, 10, 2)},\n",
              "             pre_dispatch='2*n_jobs', refit=True, return_train_score=False,\n",
              "             scoring=None, verbose=0)"
            ]
          },
          "metadata": {
            "tags": []
          },
          "execution_count": 882
        }
      ]
    },
    {
      "cell_type": "markdown",
      "metadata": {
        "id": "kXeukgKxCWhI"
      },
      "source": [
        "### Predição e avaliação do modelo"
      ]
    },
    {
      "cell_type": "code",
      "metadata": {
        "colab": {
          "base_uri": "https://localhost:8080/"
        },
        "id": "VSOauS0sCWhI",
        "outputId": "d5880ede-f4e0-48f9-fed7-12ea6af48b3e"
      },
      "source": [
        "# Melhores parametros apontados pelo grid search\n",
        "dtc = gs.best_estimator_\n",
        "\n",
        "dtc.fit(tr_x, tr_y)\n",
        "y_pred = dtc.predict(te_x)\n",
        "print(classification_report(te_y, y_pred))"
      ],
      "execution_count": 883,
      "outputs": [
        {
          "output_type": "stream",
          "text": [
            "              precision    recall  f1-score   support\n",
            "\n",
            "           0       0.83      0.88      0.86       165\n",
            "           1       0.79      0.72      0.75       103\n",
            "\n",
            "    accuracy                           0.82       268\n",
            "   macro avg       0.81      0.80      0.80       268\n",
            "weighted avg       0.82      0.82      0.82       268\n",
            "\n"
          ],
          "name": "stdout"
        }
      ]
    },
    {
      "cell_type": "code",
      "metadata": {
        "id": "ksznZO8_iysm"
      },
      "source": [
        "features_names = ['Pclass', 'Sex', 'Age', 'Fare', 'Sex_survival_rate',\n",
        "       'Plass_survival_rate', 'Embarked_0', 'Embarked_1', 'Embarked_2',\n",
        "       'AgeGroup_0', 'AgeGroup_1', 'AgeGroup_2', 'AgeGroup_3', 'Title_0',\n",
        "       'Title_1', 'Title_2', 'Title_3', 'Deck_0', 'Deck_1', 'Deck_2', 'Deck_3',\n",
        "       'FamilySize_0', 'FamilySize_1', 'FamilySize_2', 'FamilySize_3']"
      ],
      "execution_count": 884,
      "outputs": []
    },
    {
      "cell_type": "code",
      "metadata": {
        "colab": {
          "base_uri": "https://localhost:8080/"
        },
        "id": "ckIM2FomjNa5",
        "outputId": "7d09ff21-860d-48f0-c6ef-52f770d3691e"
      },
      "source": [
        "text_representation = tree.export_text(dtc, features_names)\n",
        "print(text_representation)"
      ],
      "execution_count": 885,
      "outputs": [
        {
          "output_type": "stream",
          "text": [
            "|--- Title_0 <= 0.50\n",
            "|   |--- Plass_survival_rate <= 0.35\n",
            "|   |   |--- Fare <= 0.05\n",
            "|   |   |   |--- Age <= 0.34\n",
            "|   |   |   |   |--- class: 1\n",
            "|   |   |   |--- Age >  0.34\n",
            "|   |   |   |   |--- class: 0\n",
            "|   |   |--- Fare >  0.05\n",
            "|   |   |   |--- FamilySize_2 <= 0.50\n",
            "|   |   |   |   |--- class: 0\n",
            "|   |   |   |--- FamilySize_2 >  0.50\n",
            "|   |   |   |   |--- class: 0\n",
            "|   |--- Plass_survival_rate >  0.35\n",
            "|   |   |--- Fare <= 0.06\n",
            "|   |   |   |--- Age <= 0.61\n",
            "|   |   |   |   |--- class: 1\n",
            "|   |   |   |--- Age >  0.61\n",
            "|   |   |   |   |--- class: 0\n",
            "|   |   |--- Fare >  0.06\n",
            "|   |   |   |--- Sex_survival_rate <= 0.50\n",
            "|   |   |   |   |--- class: 1\n",
            "|   |   |   |--- Sex_survival_rate >  0.50\n",
            "|   |   |   |   |--- class: 1\n",
            "|--- Title_0 >  0.50\n",
            "|   |--- Deck_3 <= 0.50\n",
            "|   |   |--- Deck_1 <= 0.50\n",
            "|   |   |   |--- Fare <= 0.06\n",
            "|   |   |   |   |--- class: 0\n",
            "|   |   |   |--- Fare >  0.06\n",
            "|   |   |   |   |--- class: 0\n",
            "|   |   |--- Deck_1 >  0.50\n",
            "|   |   |   |--- AgeGroup_2 <= 0.50\n",
            "|   |   |   |   |--- class: 0\n",
            "|   |   |   |--- AgeGroup_2 >  0.50\n",
            "|   |   |   |   |--- class: 1\n",
            "|   |--- Deck_3 >  0.50\n",
            "|   |   |--- Fare <= 0.11\n",
            "|   |   |   |--- Fare <= 0.01\n",
            "|   |   |   |   |--- class: 0\n",
            "|   |   |   |--- Fare >  0.01\n",
            "|   |   |   |   |--- class: 0\n",
            "|   |   |--- Fare >  0.11\n",
            "|   |   |   |--- Fare <= 0.13\n",
            "|   |   |   |   |--- class: 1\n",
            "|   |   |   |--- Fare >  0.13\n",
            "|   |   |   |   |--- class: 0\n",
            "\n"
          ],
          "name": "stdout"
        }
      ]
    },
    {
      "cell_type": "code",
      "metadata": {
        "id": "ontV8foSCWhJ",
        "colab": {
          "base_uri": "https://localhost:8080/",
          "height": 334
        },
        "outputId": "ed025d3a-db3c-48a4-f191-2379729c2df4"
      },
      "source": [
        "from sklearn.metrics import plot_confusion_matrix\n",
        "disp = plot_confusion_matrix(dtc, te_x, te_y,\n",
        "                                 display_labels=[\"No\", \"Yes\"],\n",
        "                                 cmap=plt.cm.Blues)\n",
        "disp.ax_.set_title(\"Confusion Matrix\")\n",
        "\n",
        "print(disp.confusion_matrix)"
      ],
      "execution_count": 886,
      "outputs": [
        {
          "output_type": "stream",
          "text": [
            "[[145  20]\n",
            " [ 29  74]]\n"
          ],
          "name": "stdout"
        },
        {
          "output_type": "display_data",
          "data": {
            "image/png": "[encoded data removed]",
            "text/plain": [
              "<Figure size 432x288 with 2 Axes>"
            ]
          },
          "metadata": {
            "tags": []
          }
        }
      ]
    },
    {
      "cell_type": "markdown",
      "metadata": {
        "id": "OZQrYvyuCWhK"
      },
      "source": [
        "## K-Neighbors Classifier"
      ]
    },
    {
      "cell_type": "code",
      "metadata": {
        "id": "TBdA3lyCCWhL",
        "colab": {
          "base_uri": "https://localhost:8080/"
        },
        "outputId": "e88cee7f-6acd-46cd-b8cd-3e986756abdd"
      },
      "source": [
        "from sklearn.neighbors import KNeighborsClassifier\n",
        "param_grid = {'weights': ['uniform', 'distance'],\n",
        "              'n_neighbors': range(1,15,2),\n",
        "              'metric': ['euclidean', 'manhattan']}\n",
        "\n",
        "knc = KNeighborsClassifier()\n",
        "gs = GridSearchCV(knc, param_grid=param_grid)\n",
        "gs.fit(tr_x, tr_y)"
      ],
      "execution_count": 887,
      "outputs": [
        {
          "output_type": "execute_result",
          "data": {
            "text/plain": [
              "GridSearchCV(cv=None, error_score=nan,\n",
              "             estimator=KNeighborsClassifier(algorithm='auto', leaf_size=30,\n",
              "                                            metric='minkowski',\n",
              "                                            metric_params=None, n_jobs=None,\n",
              "                                            n_neighbors=5, p=2,\n",
              "                                            weights='uniform'),\n",
              "             iid='deprecated', n_jobs=None,\n",
              "             param_grid={'metric': ['euclidean', 'manhattan'],\n",
              "                         'n_neighbors': range(1, 15, 2),\n",
              "                         'weights': ['uniform', 'distance']},\n",
              "             pre_dispatch='2*n_jobs', refit=True, return_train_score=False,\n",
              "             scoring=None, verbose=0)"
            ]
          },
          "metadata": {
            "tags": []
          },
          "execution_count": 887
        }
      ]
    },
    {
      "cell_type": "markdown",
      "metadata": {
        "id": "AyBDSKqSCWhM"
      },
      "source": [
        "### Predição e avaliação do modelo"
      ]
    },
    {
      "cell_type": "code",
      "metadata": {
        "id": "TsJoclW4CWhN",
        "colab": {
          "base_uri": "https://localhost:8080/"
        },
        "outputId": "c6700818-1dea-40d7-c867-09e7d750d4a8"
      },
      "source": [
        "# Melhores parametros apontados pelo grid search\n",
        "knc = gs.best_estimator_\n",
        "\n",
        "knc.fit(tr_x, tr_y)\n",
        "y_pred = knc.predict(te_x)\n",
        "print(classification_report(te_y, y_pred))"
      ],
      "execution_count": 888,
      "outputs": [
        {
          "output_type": "stream",
          "text": [
            "              precision    recall  f1-score   support\n",
            "\n",
            "           0       0.80      0.87      0.83       165\n",
            "           1       0.76      0.65      0.70       103\n",
            "\n",
            "    accuracy                           0.79       268\n",
            "   macro avg       0.78      0.76      0.77       268\n",
            "weighted avg       0.79      0.79      0.78       268\n",
            "\n"
          ],
          "name": "stdout"
        }
      ]
    },
    {
      "cell_type": "code",
      "metadata": {
        "id": "tWHb3LmJCWhO",
        "colab": {
          "base_uri": "https://localhost:8080/",
          "height": 334
        },
        "outputId": "c0a39df2-60ab-4159-d0f5-2501d753d684"
      },
      "source": [
        "disp = plot_confusion_matrix(knc, te_x, te_y,\n",
        "                                display_labels=[\"No\", \"Yes\"],\n",
        "                                cmap=plt.cm.Blues)\n",
        "disp.ax_.set_title(\"Confusion Matrix\")\n",
        "\n",
        "print(disp.confusion_matrix)"
      ],
      "execution_count": 889,
      "outputs": [
        {
          "output_type": "stream",
          "text": [
            "[[144  21]\n",
            " [ 36  67]]\n"
          ],
          "name": "stdout"
        },
        {
          "output_type": "display_data",
          "data": {
            "image/png": "[encoded data removed]",
            "text/plain": [
              "<Figure size 432x288 with 2 Axes>"
            ]
          },
          "metadata": {
            "tags": []
          }
        }
      ]
    },
    {
      "cell_type": "markdown",
      "metadata": {
        "id": "j-yvlk4LCWhO"
      },
      "source": [
        "## SVM"
      ]
    },
    {
      "cell_type": "code",
      "metadata": {
        "id": "SNo4bWGvCWhP",
        "colab": {
          "base_uri": "https://localhost:8080/"
        },
        "outputId": "bee6d6c6-2fb6-4eb3-e621-e60d5e095aec"
      },
      "source": [
        "from sklearn.svm import NuSVC\n",
        "param_grid = {'kernel': ['linear', 'poly', 'rbf', 'sigmoid'],\n",
        "              'decision_function_shape' : ['ovo', 'ovr']}\n",
        "\n",
        "svc = NuSVC()\n",
        "gs = GridSearchCV(svc, param_grid=param_grid)\n",
        "gs.fit(tr_x, tr_y)"
      ],
      "execution_count": 890,
      "outputs": [
        {
          "output_type": "execute_result",
          "data": {
            "text/plain": [
              "GridSearchCV(cv=None, error_score=nan,\n",
              "             estimator=NuSVC(break_ties=False, cache_size=200,\n",
              "                             class_weight=None, coef0=0.0,\n",
              "                             decision_function_shape='ovr', degree=3,\n",
              "                             gamma='scale', kernel='rbf', max_iter=-1, nu=0.5,\n",
              "                             probability=False, random_state=None,\n",
              "                             shrinking=True, tol=0.001, verbose=False),\n",
              "             iid='deprecated', n_jobs=None,\n",
              "             param_grid={'decision_function_shape': ['ovo', 'ovr'],\n",
              "                         'kernel': ['linear', 'poly', 'rbf', 'sigmoid']},\n",
              "             pre_dispatch='2*n_jobs', refit=True, return_train_score=False,\n",
              "             scoring=None, verbose=0)"
            ]
          },
          "metadata": {
            "tags": []
          },
          "execution_count": 890
        }
      ]
    },
    {
      "cell_type": "markdown",
      "metadata": {
        "id": "kdG9KWZdCWhQ"
      },
      "source": [
        "### Predição e avaliação do modelo"
      ]
    },
    {
      "cell_type": "code",
      "metadata": {
        "id": "B2kPBQpQCWhR",
        "colab": {
          "base_uri": "https://localhost:8080/"
        },
        "outputId": "003b21da-9580-4c81-ec0f-53d61ad14b3e"
      },
      "source": [
        "# Melhores parametros apontados pelo grid search\n",
        "svc = gs.best_estimator_\n",
        "\n",
        "svc.fit(tr_x, tr_y)\n",
        "y_pred = svc.predict(te_x)\n",
        "print(classification_report(te_y, y_pred))"
      ],
      "execution_count": 891,
      "outputs": [
        {
          "output_type": "stream",
          "text": [
            "              precision    recall  f1-score   support\n",
            "\n",
            "           0       0.85      0.88      0.86       165\n",
            "           1       0.79      0.75      0.77       103\n",
            "\n",
            "    accuracy                           0.83       268\n",
            "   macro avg       0.82      0.81      0.82       268\n",
            "weighted avg       0.83      0.83      0.83       268\n",
            "\n"
          ],
          "name": "stdout"
        }
      ]
    },
    {
      "cell_type": "code",
      "metadata": {
        "id": "5tjcV1zVCWhR",
        "colab": {
          "base_uri": "https://localhost:8080/",
          "height": 334
        },
        "outputId": "eeb59ea4-cbf4-497c-fd46-7c43d4870c11"
      },
      "source": [
        "disp = plot_confusion_matrix(svc, te_x, te_y,\n",
        "                                 display_labels=[\"No\", \"Yes\"],\n",
        "                                 cmap=plt.cm.Blues)\n",
        "disp.ax_.set_title(\"Confusion Matrix\")\n",
        "\n",
        "print(disp.confusion_matrix)"
      ],
      "execution_count": 892,
      "outputs": [
        {
          "output_type": "stream",
          "text": [
            "[[145  20]\n",
            " [ 26  77]]\n"
          ],
          "name": "stdout"
        },
        {
          "output_type": "display_data",
          "data": {
            "image/png": "[encoded data removed]",
            "text/plain": [
              "<Figure size 432x288 with 2 Axes>"
            ]
          },
          "metadata": {
            "tags": []
          }
        }
      ]
    },
    {
      "cell_type": "markdown",
      "metadata": {
        "id": "TfEELhx3CWhR"
      },
      "source": [
        "## Naive Bayes"
      ]
    },
    {
      "cell_type": "code",
      "metadata": {
        "id": "PQDa_1bjCWhR",
        "colab": {
          "base_uri": "https://localhost:8080/"
        },
        "outputId": "58788bc0-782a-4dcf-d7f7-cde25bb6c09a"
      },
      "source": [
        "from sklearn.naive_bayes import MultinomialNB\n",
        "param_grid = {'alpha': np.linspace(0.1,2,5),\n",
        "              'fit_prior': [False,True]}\n",
        "\n",
        "mnb = MultinomialNB()\n",
        "gs = GridSearchCV(mnb, param_grid=param_grid)\n",
        "gs.fit(tr_x, tr_y)"
      ],
      "execution_count": 893,
      "outputs": [
        {
          "output_type": "execute_result",
          "data": {
            "text/plain": [
              "GridSearchCV(cv=None, error_score=nan,\n",
              "             estimator=MultinomialNB(alpha=1.0, class_prior=None,\n",
              "                                     fit_prior=True),\n",
              "             iid='deprecated', n_jobs=None,\n",
              "             param_grid={'alpha': array([0.1  , 0.575, 1.05 , 1.525, 2.   ]),\n",
              "                         'fit_prior': [False, True]},\n",
              "             pre_dispatch='2*n_jobs', refit=True, return_train_score=False,\n",
              "             scoring=None, verbose=0)"
            ]
          },
          "metadata": {
            "tags": []
          },
          "execution_count": 893
        }
      ]
    },
    {
      "cell_type": "markdown",
      "metadata": {
        "id": "WzZLwmkyCWhS"
      },
      "source": [
        "### Predição e avaliação do modelo"
      ]
    },
    {
      "cell_type": "code",
      "metadata": {
        "id": "gB4tfY8yCWhU",
        "colab": {
          "base_uri": "https://localhost:8080/"
        },
        "outputId": "e6bbd5cf-bc4a-4df0-fd1a-33e4321faf7d"
      },
      "source": [
        "# Melhores parametros apontados pelo grid search\n",
        "mnb = gs.best_estimator_\n",
        "\n",
        "mnb.fit(tr_x, tr_y)\n",
        "y_pred = mnb.predict(te_x)\n",
        "print(classification_report(te_y, y_pred))"
      ],
      "execution_count": 894,
      "outputs": [
        {
          "output_type": "stream",
          "text": [
            "              precision    recall  f1-score   support\n",
            "\n",
            "           0       0.86      0.80      0.83       165\n",
            "           1       0.71      0.80      0.75       103\n",
            "\n",
            "    accuracy                           0.80       268\n",
            "   macro avg       0.79      0.80      0.79       268\n",
            "weighted avg       0.81      0.80      0.80       268\n",
            "\n"
          ],
          "name": "stdout"
        }
      ]
    },
    {
      "cell_type": "code",
      "metadata": {
        "id": "wyIs7by2CWhU",
        "colab": {
          "base_uri": "https://localhost:8080/",
          "height": 334
        },
        "outputId": "7a0db8cd-b742-46f2-a159-93f6b0f0bf8a"
      },
      "source": [
        "disp = plot_confusion_matrix(mnb, te_x, te_y,\n",
        "                                 display_labels=[\"No\", \"Yes\"],\n",
        "                                 cmap=plt.cm.Blues)\n",
        "disp.ax_.set_title(\"Confusion Matrix\")\n",
        "\n",
        "print(disp.confusion_matrix)"
      ],
      "execution_count": 895,
      "outputs": [
        {
          "output_type": "stream",
          "text": [
            "[[132  33]\n",
            " [ 21  82]]\n"
          ],
          "name": "stdout"
        },
        {
          "output_type": "display_data",
          "data": {
            "image/png": "[encoded data removed]",
            "text/plain": [
              "<Figure size 432x288 with 2 Axes>"
            ]
          },
          "metadata": {
            "tags": []
          }
        }
      ]
    },
    {
      "cell_type": "markdown",
      "metadata": {
        "id": "c7OMqgseCWhU"
      },
      "source": [
        "## Logistic regression"
      ]
    },
    {
      "cell_type": "code",
      "metadata": {
        "id": "oj2iXodLCWhU",
        "colab": {
          "base_uri": "https://localhost:8080/"
        },
        "outputId": "eea0d18a-212b-4d0c-dc71-20098c9b98a5"
      },
      "source": [
        "from sklearn.linear_model import LogisticRegression\n",
        "param_grid = {'penalty' : ['l2'],\n",
        "              'fit_intercept': [False,True],\n",
        "              'solver' : ['newton-cg', 'liblinear']}\n",
        "\n",
        "lr = LogisticRegression()\n",
        "gs = GridSearchCV(lr, param_grid=param_grid)\n",
        "gs.fit(tr_x, tr_y)"
      ],
      "execution_count": 896,
      "outputs": [
        {
          "output_type": "execute_result",
          "data": {
            "text/plain": [
              "GridSearchCV(cv=None, error_score=nan,\n",
              "             estimator=LogisticRegression(C=1.0, class_weight=None, dual=False,\n",
              "                                          fit_intercept=True,\n",
              "                                          intercept_scaling=1, l1_ratio=None,\n",
              "                                          max_iter=100, multi_class='auto',\n",
              "                                          n_jobs=None, penalty='l2',\n",
              "                                          random_state=None, solver='lbfgs',\n",
              "                                          tol=0.0001, verbose=0,\n",
              "                                          warm_start=False),\n",
              "             iid='deprecated', n_jobs=None,\n",
              "             param_grid={'fit_intercept': [False, True], 'penalty': ['l2'],\n",
              "                         'solver': ['newton-cg', 'liblinear']},\n",
              "             pre_dispatch='2*n_jobs', refit=True, return_train_score=False,\n",
              "             scoring=None, verbose=0)"
            ]
          },
          "metadata": {
            "tags": []
          },
          "execution_count": 896
        }
      ]
    },
    {
      "cell_type": "markdown",
      "metadata": {
        "id": "nhWdmfnrCWhV"
      },
      "source": [
        "### Predição e avaliação do modelo"
      ]
    },
    {
      "cell_type": "code",
      "metadata": {
        "id": "fDbCIN6jCWhW",
        "colab": {
          "base_uri": "https://localhost:8080/"
        },
        "outputId": "1075c70a-9b18-401d-b07f-418640967b22"
      },
      "source": [
        "# Melhores parametros apontados pelo grid search\n",
        "lr = gs.best_estimator_\n",
        "\n",
        "lr.fit(tr_x, tr_y)\n",
        "y_pred = lr.predict(te_x)\n",
        "print(classification_report(te_y, y_pred))"
      ],
      "execution_count": 897,
      "outputs": [
        {
          "output_type": "stream",
          "text": [
            "              precision    recall  f1-score   support\n",
            "\n",
            "           0       0.87      0.85      0.86       165\n",
            "           1       0.77      0.79      0.78       103\n",
            "\n",
            "    accuracy                           0.83       268\n",
            "   macro avg       0.82      0.82      0.82       268\n",
            "weighted avg       0.83      0.83      0.83       268\n",
            "\n"
          ],
          "name": "stdout"
        }
      ]
    },
    {
      "cell_type": "code",
      "metadata": {
        "id": "-CBXZTHPCWhW",
        "colab": {
          "base_uri": "https://localhost:8080/",
          "height": 334
        },
        "outputId": "f10aad4e-6337-421a-9a15-75cae3b2a59e"
      },
      "source": [
        "disp = plot_confusion_matrix(lr, te_x, te_y,\n",
        "                                 display_labels=[\"No\", \"Yes\"],\n",
        "                                 cmap=plt.cm.Blues)\n",
        "disp.ax_.set_title(\"Confusion Matrix\")\n",
        "\n",
        "print(disp.confusion_matrix)"
      ],
      "execution_count": 898,
      "outputs": [
        {
          "output_type": "stream",
          "text": [
            "[[141  24]\n",
            " [ 22  81]]\n"
          ],
          "name": "stdout"
        },
        {
          "output_type": "display_data",
          "data": {
            "image/png": "[encoded data removed]",
            "text/plain": [
              "<Figure size 432x288 with 2 Axes>"
            ]
          },
          "metadata": {
            "tags": []
          }
        }
      ]
    },
    {
      "cell_type": "code",
      "metadata": {
        "id": "2eeyz-8lXIlS"
      },
      "source": [
        "# Random Forest\n",
        "predRDF =  rdf.predict(te_x)\n",
        "acc_RDF = accuracy_score(te_y, predRDF)\n",
        "\n",
        "# Decision Tree\n",
        "predDTC =  dtc.predict(te_x)\n",
        "acc_DTC = accuracy_score(te_y, predDTC)\n",
        "\n",
        "# KNC\n",
        "predKNC =  knc.predict(te_x)\n",
        "acc_KNC = accuracy_score(te_y, predKNC)\n",
        "\n",
        "# SVC\n",
        "predSVC =  svc.predict(te_x)\n",
        "acc_SVC = accuracy_score(te_y, predSVC)\n",
        "\n",
        "# Naive Bayes\n",
        "predMNB =  mnb.predict(te_x)\n",
        "acc_NB = accuracy_score(te_y, predRDF)\n",
        "\n",
        "# Logistic Regression\n",
        "predLR =  lr.predict(te_x)\n",
        "acc_LR = accuracy_score(te_y, predLR)"
      ],
      "execution_count": 904,
      "outputs": []
    },
    {
      "cell_type": "markdown",
      "metadata": {
        "id": "NZTlG6w_YjDZ"
      },
      "source": [
        "## Comparação entre modelos"
      ]
    },
    {
      "cell_type": "code",
      "metadata": {
        "colab": {
          "base_uri": "https://localhost:8080/",
          "height": 238
        },
        "id": "fwBUMr7mYDTq",
        "outputId": "c29a9e01-c411-44c6-adfc-ac181039c19f"
      },
      "source": [
        "models = pd.DataFrame({\n",
        "    'Model': ['Random Forest', 'Decision Tree', 'KNC', 'SVC', \n",
        "              'Naive Bayes',  'Logistic Regression'],\n",
        "    'Score': [acc_RDF, acc_DTC, acc_KNC, acc_SVC, \n",
        "              acc_NB, acc_LR]})\n",
        "models.sort_values(by='Score', ascending=False)"
      ],
      "execution_count": 905,
      "outputs": [
        {
          "output_type": "execute_result",
          "data": {
            "text/html": [
              "<div>\n",
              "<style scoped>\n",
              "    .dataframe tbody tr th:only-of-type {\n",
              "        vertical-align: middle;\n",
              "    }\n",
              "\n",
              "    .dataframe tbody tr th {\n",
              "        vertical-align: top;\n",
              "    }\n",
              "\n",
              "    .dataframe thead th {\n",
              "        text-align: right;\n",
              "    }\n",
              "</style>\n",
              "<table border=\"1\" class=\"dataframe\">\n",
              "  <thead>\n",
              "    <tr style=\"text-align: right;\">\n",
              "      <th></th>\n",
              "      <th>Model</th>\n",
              "      <th>Score</th>\n",
              "    </tr>\n",
              "  </thead>\n",
              "  <tbody>\n",
              "    <tr>\n",
              "      <th>1</th>\n",
              "      <td>Decision Tree</td>\n",
              "      <td>0.828358</td>\n",
              "    </tr>\n",
              "    <tr>\n",
              "      <th>3</th>\n",
              "      <td>SVC</td>\n",
              "      <td>0.828358</td>\n",
              "    </tr>\n",
              "    <tr>\n",
              "      <th>5</th>\n",
              "      <td>Logistic Regression</td>\n",
              "      <td>0.828358</td>\n",
              "    </tr>\n",
              "    <tr>\n",
              "      <th>0</th>\n",
              "      <td>Random Forest</td>\n",
              "      <td>0.805970</td>\n",
              "    </tr>\n",
              "    <tr>\n",
              "      <th>4</th>\n",
              "      <td>Naive Bayes</td>\n",
              "      <td>0.805970</td>\n",
              "    </tr>\n",
              "    <tr>\n",
              "      <th>2</th>\n",
              "      <td>KNC</td>\n",
              "      <td>0.787313</td>\n",
              "    </tr>\n",
              "  </tbody>\n",
              "</table>\n",
              "</div>"
            ],
            "text/plain": [
              "                 Model     Score\n",
              "1        Decision Tree  0.828358\n",
              "3                  SVC  0.828358\n",
              "5  Logistic Regression  0.828358\n",
              "0        Random Forest  0.805970\n",
              "4          Naive Bayes  0.805970\n",
              "2                  KNC  0.787313"
            ]
          },
          "metadata": {
            "tags": []
          },
          "execution_count": 905
        }
      ]
    },
    {
      "cell_type": "markdown",
      "metadata": {
        "id": "r7Q2KNPt9ilv"
      },
      "source": [
        "## Validação Final com Gender Submission\n",
        "\n",
        "Uma vez treinados os modelos, fez-se o teste de predição no dataset de test, original do Kaggle, e então o cálculo de acurácia ao se comparar com uma predição hipotética que considera que todas e apenas mulheres sobreviveram ao acidente. \n",
        "\n",
        "\n",
        "> **We also include gender_submission.csv, a set of predictions that assume all and only female passengers survive, as an example of what a submission file should look like.**\n",
        "\n"
      ]
    },
    {
      "cell_type": "code",
      "metadata": {
        "id": "YFSA9dOS3xOd"
      },
      "source": [
        "# Random Forest\n",
        "predRDF =  rdf.predict(x_te)\n",
        "acc_RDF = accuracy_score(validation['Survived'], final_predRDF)\n",
        "\n",
        "# Decision Tree\n",
        "dtc = gs.best_estimator_\n",
        "final_predDTC =  dtc.predict(X_test)\n",
        "acc_DT = accuracy_score(validation['Survived'], final_predDTC)\n",
        "\n",
        "# KNC\n",
        "final_predKNC =  knc.predict(X_test)\n",
        "acc_KNC = accuracy_score(validation['Survived'], final_predKNC)\n",
        "\n",
        "# SVC\n",
        "final_predSVC =  svc.predict(X_test)\n",
        "acc_SVC = accuracy_score(validation['Survived'], final_predSVC)\n",
        "\n",
        "# Naive Bayes\n",
        "final_predMNB =  mnb.predict(X_test)\n",
        "acc_NB = accuracy_score(validation['Survived'], final_predMNB)\n",
        "\n",
        "# Logistic Regression\n",
        "final_predLR =  lr.predict(X_test)\n",
        "acc_LR = accuracy_score(validation['Survived'], final_predLR)"
      ],
      "execution_count": 899,
      "outputs": []
    },
    {
      "cell_type": "code",
      "metadata": {
        "colab": {
          "base_uri": "https://localhost:8080/",
          "height": 238
        },
        "id": "yQ3T9cVc-Lqk",
        "outputId": "1f613eb1-f5eb-49b0-bc97-a6229b7f8f4c"
      },
      "source": [
        "models = pd.DataFrame({\n",
        "    'Model': ['Random Forest', 'Decision Tree', 'KNC', 'SVC', \n",
        "              'Naive Bayes',  'Logistic Regression'],\n",
        "    'Score': [acc_RDF, acc_DT, acc_KNC, acc_SVC, \n",
        "              acc_NB, acc_LR]})\n",
        "models.sort_values(by='Score', ascending=False)"
      ],
      "execution_count": 900,
      "outputs": [
        {
          "output_type": "execute_result",
          "data": {
            "text/html": [
              "<div>\n",
              "<style scoped>\n",
              "    .dataframe tbody tr th:only-of-type {\n",
              "        vertical-align: middle;\n",
              "    }\n",
              "\n",
              "    .dataframe tbody tr th {\n",
              "        vertical-align: top;\n",
              "    }\n",
              "\n",
              "    .dataframe thead th {\n",
              "        text-align: right;\n",
              "    }\n",
              "</style>\n",
              "<table border=\"1\" class=\"dataframe\">\n",
              "  <thead>\n",
              "    <tr style=\"text-align: right;\">\n",
              "      <th></th>\n",
              "      <th>Model</th>\n",
              "      <th>Score</th>\n",
              "    </tr>\n",
              "  </thead>\n",
              "  <tbody>\n",
              "    <tr>\n",
              "      <th>0</th>\n",
              "      <td>Random Forest</td>\n",
              "      <td>0.966507</td>\n",
              "    </tr>\n",
              "    <tr>\n",
              "      <th>3</th>\n",
              "      <td>SVC</td>\n",
              "      <td>0.947368</td>\n",
              "    </tr>\n",
              "    <tr>\n",
              "      <th>4</th>\n",
              "      <td>Naive Bayes</td>\n",
              "      <td>0.940191</td>\n",
              "    </tr>\n",
              "    <tr>\n",
              "      <th>1</th>\n",
              "      <td>Decision Tree</td>\n",
              "      <td>0.925837</td>\n",
              "    </tr>\n",
              "    <tr>\n",
              "      <th>5</th>\n",
              "      <td>Logistic Regression</td>\n",
              "      <td>0.925837</td>\n",
              "    </tr>\n",
              "    <tr>\n",
              "      <th>2</th>\n",
              "      <td>KNC</td>\n",
              "      <td>0.858852</td>\n",
              "    </tr>\n",
              "  </tbody>\n",
              "</table>\n",
              "</div>"
            ],
            "text/plain": [
              "                 Model     Score\n",
              "0        Random Forest  0.966507\n",
              "3                  SVC  0.947368\n",
              "4          Naive Bayes  0.940191\n",
              "1        Decision Tree  0.925837\n",
              "5  Logistic Regression  0.925837\n",
              "2                  KNC  0.858852"
            ]
          },
          "metadata": {
            "tags": []
          },
          "execution_count": 900
        }
      ]
    },
    {
      "cell_type": "code",
      "metadata": {
        "id": "JLDl5Uxo94j2"
      },
      "source": [
        "submission_RDF = pd.DataFrame({\"PassengerId\": passengerId, \"Survived\": final_predRDF })\n",
        "submission_DTC = pd.DataFrame({\"PassengerId\": passengerId, \"Survived\": final_predDTC })\n",
        "submission_KNC = pd.DataFrame({\"PassengerId\": passengerId, \"Survived\": final_predKNC })\n",
        "submission_SVC = pd.DataFrame({\"PassengerId\": passengerId, \"Survived\": final_predSVC })\n",
        "submission_MNB = pd.DataFrame({\"PassengerId\": passengerId, \"Survived\": final_predMNB })\n",
        "submission_LR = pd.DataFrame({\"PassengerId\": passengerId, \"Survived\": final_predLR })\n",
        "\n",
        "submission_RDF.to_csv('/content/submission_RDF.csv', index = False)\n",
        "submission_DTC.to_csv('/content/submission_DTC.csv', index = False)\n",
        "submission_KNC.to_csv('/content/submission_KNC.csv', index = False)\n",
        "submission_SVC.to_csv('/content/submission_SVC.csv', index = False)\n",
        "submission_MNB.to_csv('/content/submission_MNB.csv', index = False)\n",
        "submission_LR.to_csv('/content/submission_LR.csv', index = False)"
      ],
      "execution_count": 906,
      "outputs": []
    },
    {
      "cell_type": "markdown",
      "metadata": {
        "id": "wSFWhvfIPh6L"
      },
      "source": [
        "## Teste no Kaggle\n",
        "\n",
        "Foi submetida a predição por Random Forest no Kaggle e o resultado foi de 0,77990. \n",
        "\n",
        "![](https://i.imgur.com/rVQKWzL.png)"
      ]
    },
    {
      "cell_type": "markdown",
      "metadata": {
        "id": "B4Qm-DdH3qmc"
      },
      "source": [
        "# Referências\n",
        "\n",
        "1. kaggle.com. (n.d.). Titanic - Advanced Feature Engineering Tutorial. [online] Available at: https://www.kaggle.com/gunesevitan/titanic-advanced-feature-engineering-tutorial#3.-Model [Accessed 19 Dec. 2020].\n",
        "\n",
        "2. Wikipedia Contributors (2019). English honorifics. [online] Wikipedia. Available at: https://en.wikipedia.org/wiki/English_honorifics.\n",
        "\n",
        "3. triangleinequality (2013). Basic Feature Engineering with the Titanic Data. [online] triangleinequality. Available at: https://triangleinequality.wordpress.com/2013/09/08/basic-feature-engineering-with-the-titanic-data/ [Accessed 20 Dec. 2020]\n",
        "4. Scikit-learn.org. (2019). scikit-learn: machine learning in Python — scikit-learn 0.20.3 documentation. [online] Available at: https://scikit-learn.org/stable/index.html.\n",
        "5. Spark, C. (2019). Tutorial: Introduction to Missing Data Imputation. [online] Medium. Available at: https://medium.com/@Cambridge_Spark/tutorial-introduction-to-missing-data-imputation-4912b51c34eb.\n",
        "\n",
        "6. kaggle.com. (n.d.). Titanic: Machine Learning from Disaster. [online] Available at: https://www.kaggle.com/c/titanic.\n",
        "‌\n"
      ]
    }
  ]
}