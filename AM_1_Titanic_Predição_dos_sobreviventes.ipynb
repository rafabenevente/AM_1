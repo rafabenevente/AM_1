{
  "nbformat": 4,
  "nbformat_minor": 0,
  "metadata": {
    "colab": {
      "name": "AM_1 - Titanic Predição dos sobreviventes",
      "provenance": [],
      "collapsed_sections": [],
      "include_colab_link": true
    },
    "kernelspec": {
      "name": "python3",
      "display_name": "Python 3"
    }
  },
  "cells": [
    {
      "cell_type": "markdown",
      "metadata": {
        "id": "view-in-github",
        "colab_type": "text"
      },
      "source": [
        "<a href=\"https://colab.research.google.com/github/rafabenevente/AM_1/blob/main/AM_1_Titanic_Predi%C3%A7%C3%A3o_dos_sobreviventes.ipynb\" target=\"_parent\"><img src=\"https://colab.research.google.com/assets/colab-badge.svg\" alt=\"Open In Colab\"/></a>"
      ]
    },
    {
      "cell_type": "markdown",
      "metadata": {
        "id": "jkyfY8TTTaGW"
      },
      "source": [
        "Titanic: Predição dos Sobreviventes com Machine Learning\n",
        "==="
      ]
    },
    {
      "cell_type": "markdown",
      "metadata": {
        "id": "ju-KZXdXZBWo"
      },
      "source": [
        "# Conhecendo o Conjunto de Dados"
      ]
    },
    {
      "cell_type": "markdown",
      "metadata": {
        "id": "P1szlYYxSrqt"
      },
      "source": [
        "\n",
        "**Dicionário**\n",
        "\n",
        "|Variável |Definição|Chave|\n",
        "|:---- |----|----:|\n",
        "|survival  | Sobrevivente |0 = Não, 1 = Sim|\n",
        "|pclass |Classe da ticket| 1 = 1st, 2 = 2nd, 3 = 3rd|\n",
        "|sex  |Sexo| \t\n",
        "|Age  | Idade em anos| \t\n",
        "|sibsp| # de irmãs / cônjuges a bordo do Titanic |\n",
        "|parch |# de pais / crianças a bordo do Titanic |\t\n",
        "|ticket| ID do ticket| \t\n",
        "|fare \t|Tarifa de passageiro (libra esterlina)| \t\n",
        "|cabin \t|número da cabine| \t\n",
        "|embarked |Porto de embarcação|C = Cherbourg, Q = Queenstown, S = Southampton|\n",
        "\n",
        "\n",
        "**Observações**\n",
        "- pclass: Status socieconômico\n",
        "    - 1st = Alta\n",
        "    - 2nd = Média\n",
        "    - 3rd = Baixa\n",
        "- age: A idade é fracionária se menor que 1. Se a idade for estimada, é na forma de xx.5\n",
        "\n",
        "- sibsp: O conjunto de dados define as relações familiares desta forma ...\n",
        "    - Sibling = irmão, irmã, meio-irmão, meia-irmã\n",
        "    - Spouse = marido, esposa (amantes e noivos foram ignorados)\n",
        "\n",
        "- parch: O conjunto de dados define as relações familiares desta forma ...\n",
        "    - Parent = mãe, pai\n",
        "    - Child = filha, filho, enteada, enteado\n",
        "    - Algumas crianças viajavam apenas com a babá, portanto parch = 0 para elas.\n",
        "\n"
      ]
    },
    {
      "cell_type": "markdown",
      "metadata": {
        "id": "Klht-c5pc5G5"
      },
      "source": [
        "## Importação e características"
      ]
    },
    {
      "cell_type": "code",
      "metadata": {
        "id": "bGCnWZz1PXPZ"
      },
      "source": [
        "test_url = 'https://raw.githubusercontent.com/rafabenevente/AM_1/main/test.csv'\n",
        "train_url = 'https://raw.githubusercontent.com/rafabenevente/AM_1/main/train.csv'\n",
        "validation_url = 'https://raw.githubusercontent.com/galvaowesley/MachineLearning_Learning/master/Titanic%20-%20Suvivors%20Classification/gender_submission.csv'\n",
        "\n",
        "# Importa as bibliotecas de cálculo e manipulação de dados\n",
        "import numpy as np\n",
        "import pandas as pd\n",
        "from matplotlib import pyplot as plt\n",
        "import seaborn as sns\n"
      ],
      "execution_count": 19,
      "outputs": []
    },
    {
      "cell_type": "code",
      "metadata": {
        "id": "bf6I0dTZjyWu"
      },
      "source": [
        "# Carregamento daa base de dados inicialmente separada em treino e teste\n",
        "train = pd.read_csv(train_url)\n",
        "test =  pd.read_csv(test_url)"
      ],
      "execution_count": 20,
      "outputs": []
    },
    {
      "cell_type": "code",
      "metadata": {
        "colab": {
          "base_uri": "https://localhost:8080/"
        },
        "id": "3j7QEAm6Z7Wr",
        "outputId": "2acec844-0ffa-49fd-e503-4396f729636b"
      },
      "source": [
        "# Dimensão da base de dados\n",
        "print(\"Treino tem {} linhas e {} colunas \\n\". format(train.shape[0], train.shape[1]))\n",
        "print(\"Teste tem {} linhas e {} colunas \\n\". format(test.shape[0], test.shape[1]))"
      ],
      "execution_count": 21,
      "outputs": [
        {
          "output_type": "stream",
          "text": [
            "Treino tem 891 linhas e 12 colunas \n",
            "\n",
            "Teste tem 418 linhas e 11 colunas \n",
            "\n"
          ],
          "name": "stdout"
        }
      ]
    },
    {
      "cell_type": "markdown",
      "metadata": {
        "id": "S-EeE0bwbhEk"
      },
      "source": [
        "Há, portanto, 1309 linhas ao total. O conjunto de dados original sofreu split na proporção: 68% para treino e 32% para teste. "
      ]
    },
    {
      "cell_type": "code",
      "metadata": {
        "colab": {
          "base_uri": "https://localhost:8080/",
          "height": 206
        },
        "id": "f04k2-IxcGZg",
        "outputId": "af898948-7c1b-4fe0-c86d-547dc172483b"
      },
      "source": [
        "# Aparência do train\n",
        "train.head()"
      ],
      "execution_count": 22,
      "outputs": [
        {
          "output_type": "execute_result",
          "data": {
            "text/html": [
              "<div>\n",
              "<style scoped>\n",
              "    .dataframe tbody tr th:only-of-type {\n",
              "        vertical-align: middle;\n",
              "    }\n",
              "\n",
              "    .dataframe tbody tr th {\n",
              "        vertical-align: top;\n",
              "    }\n",
              "\n",
              "    .dataframe thead th {\n",
              "        text-align: right;\n",
              "    }\n",
              "</style>\n",
              "<table border=\"1\" class=\"dataframe\">\n",
              "  <thead>\n",
              "    <tr style=\"text-align: right;\">\n",
              "      <th></th>\n",
              "      <th>PassengerId</th>\n",
              "      <th>Survived</th>\n",
              "      <th>Pclass</th>\n",
              "      <th>Name</th>\n",
              "      <th>Sex</th>\n",
              "      <th>Age</th>\n",
              "      <th>SibSp</th>\n",
              "      <th>Parch</th>\n",
              "      <th>Ticket</th>\n",
              "      <th>Fare</th>\n",
              "      <th>Cabin</th>\n",
              "      <th>Embarked</th>\n",
              "    </tr>\n",
              "  </thead>\n",
              "  <tbody>\n",
              "    <tr>\n",
              "      <th>0</th>\n",
              "      <td>1</td>\n",
              "      <td>0</td>\n",
              "      <td>3</td>\n",
              "      <td>Braund, Mr. Owen Harris</td>\n",
              "      <td>male</td>\n",
              "      <td>22.0</td>\n",
              "      <td>1</td>\n",
              "      <td>0</td>\n",
              "      <td>A/5 21171</td>\n",
              "      <td>7.2500</td>\n",
              "      <td>NaN</td>\n",
              "      <td>S</td>\n",
              "    </tr>\n",
              "    <tr>\n",
              "      <th>1</th>\n",
              "      <td>2</td>\n",
              "      <td>1</td>\n",
              "      <td>1</td>\n",
              "      <td>Cumings, Mrs. John Bradley (Florence Briggs Th...</td>\n",
              "      <td>female</td>\n",
              "      <td>38.0</td>\n",
              "      <td>1</td>\n",
              "      <td>0</td>\n",
              "      <td>PC 17599</td>\n",
              "      <td>71.2833</td>\n",
              "      <td>C85</td>\n",
              "      <td>C</td>\n",
              "    </tr>\n",
              "    <tr>\n",
              "      <th>2</th>\n",
              "      <td>3</td>\n",
              "      <td>1</td>\n",
              "      <td>3</td>\n",
              "      <td>Heikkinen, Miss. Laina</td>\n",
              "      <td>female</td>\n",
              "      <td>26.0</td>\n",
              "      <td>0</td>\n",
              "      <td>0</td>\n",
              "      <td>STON/O2. 3101282</td>\n",
              "      <td>7.9250</td>\n",
              "      <td>NaN</td>\n",
              "      <td>S</td>\n",
              "    </tr>\n",
              "    <tr>\n",
              "      <th>3</th>\n",
              "      <td>4</td>\n",
              "      <td>1</td>\n",
              "      <td>1</td>\n",
              "      <td>Futrelle, Mrs. Jacques Heath (Lily May Peel)</td>\n",
              "      <td>female</td>\n",
              "      <td>35.0</td>\n",
              "      <td>1</td>\n",
              "      <td>0</td>\n",
              "      <td>113803</td>\n",
              "      <td>53.1000</td>\n",
              "      <td>C123</td>\n",
              "      <td>S</td>\n",
              "    </tr>\n",
              "    <tr>\n",
              "      <th>4</th>\n",
              "      <td>5</td>\n",
              "      <td>0</td>\n",
              "      <td>3</td>\n",
              "      <td>Allen, Mr. William Henry</td>\n",
              "      <td>male</td>\n",
              "      <td>35.0</td>\n",
              "      <td>0</td>\n",
              "      <td>0</td>\n",
              "      <td>373450</td>\n",
              "      <td>8.0500</td>\n",
              "      <td>NaN</td>\n",
              "      <td>S</td>\n",
              "    </tr>\n",
              "  </tbody>\n",
              "</table>\n",
              "</div>"
            ],
            "text/plain": [
              "   PassengerId  Survived  Pclass  ...     Fare Cabin  Embarked\n",
              "0            1         0       3  ...   7.2500   NaN         S\n",
              "1            2         1       1  ...  71.2833   C85         C\n",
              "2            3         1       3  ...   7.9250   NaN         S\n",
              "3            4         1       1  ...  53.1000  C123         S\n",
              "4            5         0       3  ...   8.0500   NaN         S\n",
              "\n",
              "[5 rows x 12 columns]"
            ]
          },
          "metadata": {
            "tags": []
          },
          "execution_count": 22
        }
      ]
    },
    {
      "cell_type": "code",
      "metadata": {
        "colab": {
          "base_uri": "https://localhost:8080/"
        },
        "id": "hTMNO57Ycp0O",
        "outputId": "e3ae2f2e-4773-4c6b-9308-2562af8b9fad"
      },
      "source": [
        "# Tipo de dados das variáveis\n",
        "train.info()"
      ],
      "execution_count": 23,
      "outputs": [
        {
          "output_type": "stream",
          "text": [
            "<class 'pandas.core.frame.DataFrame'>\n",
            "RangeIndex: 891 entries, 0 to 890\n",
            "Data columns (total 12 columns):\n",
            " #   Column       Non-Null Count  Dtype  \n",
            "---  ------       --------------  -----  \n",
            " 0   PassengerId  891 non-null    int64  \n",
            " 1   Survived     891 non-null    int64  \n",
            " 2   Pclass       891 non-null    int64  \n",
            " 3   Name         891 non-null    object \n",
            " 4   Sex          891 non-null    object \n",
            " 5   Age          714 non-null    float64\n",
            " 6   SibSp        891 non-null    int64  \n",
            " 7   Parch        891 non-null    int64  \n",
            " 8   Ticket       891 non-null    object \n",
            " 9   Fare         891 non-null    float64\n",
            " 10  Cabin        204 non-null    object \n",
            " 11  Embarked     889 non-null    object \n",
            "dtypes: float64(2), int64(5), object(5)\n",
            "memory usage: 83.7+ KB\n"
          ],
          "name": "stdout"
        }
      ]
    },
    {
      "cell_type": "code",
      "metadata": {
        "colab": {
          "base_uri": "https://localhost:8080/"
        },
        "id": "TFBEBShofQYI",
        "outputId": "c68e0db9-9195-4409-ffe1-fb8586bb19e6"
      },
      "source": [
        "train.isna().sum()"
      ],
      "execution_count": 24,
      "outputs": [
        {
          "output_type": "execute_result",
          "data": {
            "text/plain": [
              "PassengerId      0\n",
              "Survived         0\n",
              "Pclass           0\n",
              "Name             0\n",
              "Sex              0\n",
              "Age            177\n",
              "SibSp            0\n",
              "Parch            0\n",
              "Ticket           0\n",
              "Fare             0\n",
              "Cabin          687\n",
              "Embarked         2\n",
              "dtype: int64"
            ]
          },
          "metadata": {
            "tags": []
          },
          "execution_count": 24
        }
      ]
    },
    {
      "cell_type": "markdown",
      "metadata": {
        "id": "tyzDPP5b4vbE"
      },
      "source": [
        "# Análise Exploratória dos Dados"
      ]
    },
    {
      "cell_type": "markdown",
      "metadata": {
        "id": "wRdRi2_X7SBn"
      },
      "source": [
        "Função para automatizar o agrupamento de duas variáveis categóricas e gera uma visualização do relacionamento de ambas com contagem e percentual. "
      ]
    },
    {
      "cell_type": "code",
      "metadata": {
        "id": "zBNrLsyZ15NV"
      },
      "source": [
        "# Fonte: https://stackoverflow.com/questions/63745343/annotate-percentage-of-group-within-a-seaborn-countplot\n",
        "def barPlotPercent(df, atributo1, atributo2):\n",
        "  '''\n",
        "  Função que recebe um dataframe e dois atributos categóricos, realiza o agrupamento \n",
        "  de ambos e mostra a contagem e percentual do atributo1 em função do atributo2. \n",
        "  '''\n",
        "\n",
        "  # prepare the dataset\n",
        "  df = (df\n",
        "        .groupby([atributo1, atributo2])\n",
        "        .size()\n",
        "        .reset_index()\n",
        "        #.replace({\"Survived\": {0:\"no\", 1:\"yes\"}})\n",
        "        .rename(columns={0:\"count\"}))\n",
        "\n",
        "  # Calcula o percentual do atributo2 % por níveis do atributo1.\n",
        "  df[\"percent\"] = (df\n",
        "                  .groupby(atributo1)\n",
        "                  .apply(lambda x: x[\"count\"] / x[\"count\"].sum()).values)\n",
        "\n",
        "  # sort the dataframe to match the drawing order\n",
        "  df.sort_values(by=[atributo2, atributo1], inplace=True)\n",
        "\n",
        "  # Visualização\n",
        "  plt.style.use('ggplot')\n",
        "  fig = sns.catplot(\n",
        "    x=\"count\", y=atributo1, hue=atributo2,\n",
        "    kind=\"bar\", data=df, height=4, aspect=2)\n",
        "\n",
        "  for i, bar in enumerate(fig.ax.patches):\n",
        "    \n",
        "      height = bar.get_height()\n",
        "      fig.ax.annotate(\n",
        "          # reference the pre-calculated row in the dataframe\n",
        "          f\"{df.iloc[i, 3] :.0%}\",\n",
        "          xycoords=\"data\",\n",
        "          xytext=(20, -15),\n",
        "          textcoords=\"offset points\",\n",
        "          xy=(bar.get_width(), bar.get_y()),\n",
        "          ha='center', va='center')\n",
        "\n",
        "  # make space for annonations\n",
        "  plt.margins(x=0.2)\n",
        "  plt.show()"
      ],
      "execution_count": 25,
      "outputs": []
    },
    {
      "cell_type": "markdown",
      "metadata": {
        "id": "oxXSo8rUAj3V"
      },
      "source": [
        "## Sobreviventes"
      ]
    },
    {
      "cell_type": "code",
      "metadata": {
        "colab": {
          "base_uri": "https://localhost:8080/",
          "height": 373
        },
        "id": "WaktuZzHF83c",
        "outputId": "f8a6e73c-8c51-4820-8dbf-7efec1944820"
      },
      "source": [
        "# Contagem de sobreviventes e não sobreviventes\r\n",
        "plt.title(\"Contagem - Sobrevivente(1) or Não sobrevivente(0)\")\r\n",
        "sns.countplot(train.Survived)\r\n",
        "plt.ylabel(\"Count\")\r\n",
        "plt.xlabel(\"Survived\")"
      ],
      "execution_count": 26,
      "outputs": [
        {
          "output_type": "stream",
          "text": [
            "/usr/local/lib/python3.6/dist-packages/seaborn/_decorators.py:43: FutureWarning: Pass the following variable as a keyword arg: x. From version 0.12, the only valid positional argument will be `data`, and passing other arguments without an explicit keyword will result in an error or misinterpretation.\n",
            "  FutureWarning\n"
          ],
          "name": "stderr"
        },
        {
          "output_type": "execute_result",
          "data": {
            "text/plain": [
              "Text(0.5, 0, 'Survived')"
            ]
          },
          "metadata": {
            "tags": []
          },
          "execution_count": 26
        },
        {
          "output_type": "display_data",
          "data": {
            "image/png": "[encoded data removed]",
            "text/plain": [
              "<Figure size 432x288 with 1 Axes>"
            ]
          },
          "metadata": {
            "tags": []
          }
        }
      ]
    },
    {
      "cell_type": "markdown",
      "metadata": {
        "id": "CNdmpRQP0u5q"
      },
      "source": [
        "## Gênero"
      ]
    },
    {
      "cell_type": "code",
      "metadata": {
        "colab": {
          "base_uri": "https://localhost:8080/",
          "height": 374
        },
        "id": "OZJ_u-ni0zsU",
        "outputId": "bff397a8-fee4-4083-d78d-e20254da8cc3"
      },
      "source": [
        "# Contagem de passageiros por gênero\n",
        "plt.title(\"Contagem de indivíduos por gênero\")\n",
        "sns.countplot(train.Sex)\n",
        "plt.ylabel(\"Count\")\n",
        "plt.xlabel(\"Sex\")"
      ],
      "execution_count": 27,
      "outputs": [
        {
          "output_type": "stream",
          "text": [
            "/usr/local/lib/python3.6/dist-packages/seaborn/_decorators.py:43: FutureWarning: Pass the following variable as a keyword arg: x. From version 0.12, the only valid positional argument will be `data`, and passing other arguments without an explicit keyword will result in an error or misinterpretation.\n",
            "  FutureWarning\n"
          ],
          "name": "stderr"
        },
        {
          "output_type": "execute_result",
          "data": {
            "text/plain": [
              "Text(0.5, 0, 'Sex')"
            ]
          },
          "metadata": {
            "tags": []
          },
          "execution_count": 27
        },
        {
          "output_type": "display_data",
          "data": {
            "image/png": "[encoded data removed]",
            "text/plain": [
              "<Figure size 432x288 with 1 Axes>"
            ]
          },
          "metadata": {
            "tags": []
          }
        }
      ]
    },
    {
      "cell_type": "code",
      "metadata": {
        "colab": {
          "base_uri": "https://localhost:8080/"
        },
        "id": "E9YQrzf3B9Bv",
        "outputId": "4d2cf177-5df2-4fa1-ea27-93d89c1a21bb"
      },
      "source": [
        "# Sumarização de Survived por gênero\r\n",
        "train.groupby(['Survived', 'Sex'])['Sex'].count()"
      ],
      "execution_count": 28,
      "outputs": [
        {
          "output_type": "execute_result",
          "data": {
            "text/plain": [
              "Survived  Sex   \n",
              "0         female     81\n",
              "          male      468\n",
              "1         female    233\n",
              "          male      109\n",
              "Name: Sex, dtype: int64"
            ]
          },
          "metadata": {
            "tags": []
          },
          "execution_count": 28
        }
      ]
    },
    {
      "cell_type": "code",
      "metadata": {
        "colab": {
          "base_uri": "https://localhost:8080/",
          "height": 314
        },
        "id": "ZA7yA0Jt4ihy",
        "outputId": "fcb57b52-8c91-4e25-eb83-0a55ff85f95c"
      },
      "source": [
        "# Visualização de Survived por gênero\n",
        "barPlotPercent(train, 'Sex', 'Survived')"
      ],
      "execution_count": 29,
      "outputs": [
        {
          "output_type": "display_data",
          "data": {
            "image/png": "[encoded data removed]",
            "text/plain": [
              "<Figure size 627.875x288 with 1 Axes>"
            ]
          },
          "metadata": {
            "tags": []
          }
        }
      ]
    },
    {
      "cell_type": "markdown",
      "metadata": {
        "id": "RhwnZxVZ96jz"
      },
      "source": [
        "## Classe Social (Pclass)"
      ]
    },
    {
      "cell_type": "code",
      "metadata": {
        "colab": {
          "base_uri": "https://localhost:8080/",
          "height": 374
        },
        "id": "ronNDZnD_ZM6",
        "outputId": "0febb41b-20a4-4150-aa14-f9bdb698fc56"
      },
      "source": [
        "# Contagem de passageiros por Classe Social\n",
        "plt.title(\"Contagem de indivíduos por Classe Social\")\n",
        "sns.countplot(train.Pclass)\n",
        "plt.ylabel(\"Count\")\n",
        "plt.xlabel(\"Pclass\")"
      ],
      "execution_count": 30,
      "outputs": [
        {
          "output_type": "stream",
          "text": [
            "/usr/local/lib/python3.6/dist-packages/seaborn/_decorators.py:43: FutureWarning: Pass the following variable as a keyword arg: x. From version 0.12, the only valid positional argument will be `data`, and passing other arguments without an explicit keyword will result in an error or misinterpretation.\n",
            "  FutureWarning\n"
          ],
          "name": "stderr"
        },
        {
          "output_type": "execute_result",
          "data": {
            "text/plain": [
              "Text(0.5, 0, 'Pclass')"
            ]
          },
          "metadata": {
            "tags": []
          },
          "execution_count": 30
        },
        {
          "output_type": "display_data",
          "data": {
            "image/png": "[encoded data removed]",
            "text/plain": [
              "<Figure size 432x288 with 1 Axes>"
            ]
          },
          "metadata": {
            "tags": []
          }
        }
      ]
    },
    {
      "cell_type": "code",
      "metadata": {
        "colab": {
          "base_uri": "https://localhost:8080/",
          "height": 314
        },
        "id": "EzFYJoyo9i36",
        "outputId": "635fbd19-35aa-4bd0-8be9-a91e74304f19"
      },
      "source": [
        "# Visualização de Classe Social por Porto de Embarcação\n",
        "barPlotPercent(train, 'Embarked', 'Pclass')"
      ],
      "execution_count": 31,
      "outputs": [
        {
          "output_type": "display_data",
          "data": {
            "image/png": "[encoded data removed]",
            "text/plain": [
              "<Figure size 618.375x288 with 1 Axes>"
            ]
          },
          "metadata": {
            "tags": []
          }
        }
      ]
    },
    {
      "cell_type": "code",
      "metadata": {
        "colab": {
          "base_uri": "https://localhost:8080/",
          "height": 495
        },
        "id": "9OG-xrjt7unJ",
        "outputId": "b97fcb76-dd54-4550-8d24-3cf9fccb8c6c"
      },
      "source": [
        "# Variável Survived agrupada por classe social e sexo\r\n",
        "g = sns.FacetGrid(train, row='Survived', col='Pclass') \r\n",
        "g.map(sns.countplot, 'Sex')"
      ],
      "execution_count": 32,
      "outputs": [
        {
          "output_type": "stream",
          "text": [
            "/usr/local/lib/python3.6/dist-packages/seaborn/axisgrid.py:645: UserWarning: Using the countplot function without specifying `order` is likely to produce an incorrect plot.\n",
            "  warnings.warn(warning)\n"
          ],
          "name": "stderr"
        },
        {
          "output_type": "execute_result",
          "data": {
            "text/plain": [
              "<seaborn.axisgrid.FacetGrid at 0x7f2e1a2ec438>"
            ]
          },
          "metadata": {
            "tags": []
          },
          "execution_count": 32
        },
        {
          "output_type": "display_data",
          "data": {
            "image/png": "[encoded data removed]",
            "text/plain": [
              "<Figure size 648x432 with 6 Axes>"
            ]
          },
          "metadata": {
            "tags": []
          }
        }
      ]
    },
    {
      "cell_type": "markdown",
      "metadata": {
        "id": "LbEc0uDX-I_M"
      },
      "source": [
        "## Correlação entre variáveis"
      ]
    },
    {
      "cell_type": "markdown",
      "metadata": {
        "id": "yeXrM-AH_VGf"
      },
      "source": [
        "Explorando o nível de correlação entre as variáveis."
      ]
    },
    {
      "cell_type": "code",
      "metadata": {
        "colab": {
          "base_uri": "https://localhost:8080/",
          "height": 338
        },
        "id": "mJqrDgBE_Cz7",
        "outputId": "f3e515f9-ff39-4fa6-9e35-466d70f11be9"
      },
      "source": [
        "# Heatmap de coeficiente de correlação entre as variáveis\r\n",
        "sns.heatmap(train.corr(), annot = True)"
      ],
      "execution_count": 33,
      "outputs": [
        {
          "output_type": "execute_result",
          "data": {
            "text/plain": [
              "<matplotlib.axes._subplots.AxesSubplot at 0x7f2e1a09b048>"
            ]
          },
          "metadata": {
            "tags": []
          },
          "execution_count": 33
        },
        {
          "output_type": "display_data",
          "data": {
            "image/png": "[encoded data removed]",
            "text/plain": [
              "<Figure size 432x288 with 2 Axes>"
            ]
          },
          "metadata": {
            "tags": []
          }
        }
      ]
    },
    {
      "cell_type": "markdown",
      "metadata": {
        "id": "UXLjFuuY40Vx"
      },
      "source": [
        "# Engenharia de atributos\r\n",
        "\r\n",
        "## Imputação de dados ausentes"
      ]
    },
    {
      "cell_type": "markdown",
      "metadata": {
        "id": "Az04p4Qz9ews"
      },
      "source": [
        "# Modelos de predição"
      ]
    },
    {
      "cell_type": "markdown",
      "metadata": {
        "id": "B4Qm-DdH3qmc"
      },
      "source": [
        "# Referências\r\n",
        "\r\n",
        "* [Kaggle Competition - Titanic: Machine Learning from Disaster ](https://www.kaggle.com/c/titanic)\r\n",
        "* [Kaggle Notebook - Titanic Tutorial](https://www.kaggle.com/alexisbcook/titanic-tutorial)\r\n",
        "* [Kaggle Notebook - Titanic Survival Prediction](https://www.kaggle.com/vaishnavikhilari/titanic-survival-prediction#3.-Imputation-of-Missing-Data/-Outliers)\r\n",
        "* [Kaggle Notebook - Survivors Classification on Titanic using R](https://www.kaggle.com/galvaowesley/survivors-classification-on-titanic-using-r)\r\n",
        "* [Tutorial: Introduction to Missing Data Imputation](https://medium.com/@Cambridge_Spark/tutorial-introduction-to-missing-data-imputation-4912b51c34eb)\r\n",
        "* [Different Ways to Compensate for Missing Values In a Dataset (Data Imputation with examples ](https://towardsdatascience.com/6-different-ways-to-compensate-for-missing-values-data-imputation-with-examples-6022d9ca0779)"
      ]
    },
    {
      "cell_type": "markdown",
      "metadata": {
        "id": "ma0Dqr2G30Ui"
      },
      "source": [
        ""
      ]
    }
  ]
}