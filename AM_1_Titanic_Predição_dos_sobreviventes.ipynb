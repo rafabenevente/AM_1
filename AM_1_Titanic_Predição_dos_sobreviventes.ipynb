{
  "nbformat": 4,
  "nbformat_minor": 0,
  "metadata": {
    "colab": {
      "name": " AM_1 - Titanic Predição dos sobreviventes",
      "provenance": [],
      "collapsed_sections": [],
      "include_colab_link": true
    },
    "kernelspec": {
      "name": "python38364bitdesafio1condaae5eb0a4db284d2db31a0e94f8f8fa71",
      "display_name": "Python 3.8.3 64-bit ('desafio1': conda)",
      "language": "python"
    }
  },
  "cells": [
    {
      "cell_type": "markdown",
      "metadata": {
        "id": "view-in-github",
        "colab_type": "text"
      },
      "source": [
        "<a href=\"https://colab.research.google.com/github/rafabenevente/AM_1/blob/main/AM_1_Titanic_Predi%C3%A7%C3%A3o_dos_sobreviventes.ipynb\" target=\"_parent\"><img src=\"https://colab.research.google.com/assets/colab-badge.svg\" alt=\"Open In Colab\"/></a>"
      ]
    },
    {
      "cell_type": "code",
      "metadata": {
        "id": "9TFedrV3QQxW",
        "colab": {
          "base_uri": "https://localhost:8080/"
        },
        "outputId": "6f2e843b-f5c9-4f96-c62f-3fcce3bc0b62"
      },
      "source": [
        "import sklearn\n",
        "print(sklearn.__version__)"
      ],
      "execution_count": 403,
      "outputs": [
        {
          "output_type": "stream",
          "text": [
            "0.22.2.post1\n"
          ],
          "name": "stdout"
        }
      ]
    },
    {
      "cell_type": "markdown",
      "metadata": {
        "id": "jkyfY8TTTaGW"
      },
      "source": [
        "Titanic: Predição dos Sobreviventes com Machine Learning\n",
        "==="
      ]
    },
    {
      "cell_type": "markdown",
      "metadata": {
        "id": "ju-KZXdXZBWo"
      },
      "source": [
        "# Conhecendo o Conjunto de Dados"
      ]
    },
    {
      "cell_type": "markdown",
      "metadata": {
        "id": "P1szlYYxSrqt"
      },
      "source": [
        "\n",
        "**Dicionário**\n",
        "\n",
        "|Variável |Definição|Chave|\n",
        "|:---- |----|----:|\n",
        "|survival  | Sobrevivente |0 = Não, 1 = Sim|\n",
        "|pclass |Classe da ticket| 1 = 1st, 2 = 2nd, 3 = 3rd|\n",
        "|sex  |Sexo| \t\n",
        "|Age  | Idade em anos| \t\n",
        "|sibsp| # de irmãs / cônjuges a bordo do Titanic |\n",
        "|parch |# de pais / crianças a bordo do Titanic |\t\n",
        "|ticket| ID do ticket| \t\n",
        "|fare \t|Tarifa de passageiro (libra esterlina)| \t\n",
        "|cabin \t|número da cabine| \t\n",
        "|embarked |Porto de embarcação|C = Cherbourg, Q = Queenstown, S = Southampton|\n",
        "\n",
        "\n",
        "**Observações**\n",
        "- pclass: Status socieconômico\n",
        "    - 1st = Alta\n",
        "    - 2nd = Média\n",
        "    - 3rd = Baixa\n",
        "- age: A idade é fracionária se menor que 1. Se a idade for estimada, é na forma de xx.5\n",
        "\n",
        "- sibsp: O conjunto de dados define as relações familiares desta forma ...\n",
        "    - Sibling = irmão, irmã, meio-irmão, meia-irmã\n",
        "    - Spouse = marido, esposa (amantes e noivos foram ignorados)\n",
        "\n",
        "- parch: O conjunto de dados define as relações familiares desta forma ...\n",
        "    - Parent = mãe, pai\n",
        "    - Child = filha, filho, enteada, enteado\n",
        "    - Algumas crianças viajavam apenas com a babá, portanto parch = 0 para elas.\n",
        "\n"
      ]
    },
    {
      "cell_type": "markdown",
      "metadata": {
        "id": "Klht-c5pc5G5"
      },
      "source": [
        "## Importação e características"
      ]
    },
    {
      "cell_type": "code",
      "metadata": {
        "id": "bGCnWZz1PXPZ"
      },
      "source": [
        "test_url = 'https://raw.githubusercontent.com/rafabenevente/AM_1/main/test.csv'\n",
        "train_url = 'https://raw.githubusercontent.com/rafabenevente/AM_1/main/train.csv'\n",
        "validation_url = 'https://raw.githubusercontent.com/galvaowesley/MachineLearning_Learning/master/Titanic%20-%20Suvivors%20Classification/gender_submission.csv'\n",
        "\n",
        "# Importa as bibliotecas de cálculo e manipulação de dados\n",
        "import numpy as np\n",
        "import pandas as pd\n",
        "from matplotlib import pyplot as plt\n",
        "from  matplotlib.ticker import PercentFormatter\n",
        "import seaborn as sns\n"
      ],
      "execution_count": 404,
      "outputs": []
    },
    {
      "cell_type": "code",
      "metadata": {
        "id": "zBNrLsyZ15NV"
      },
      "source": [
        "# Fonte: https://stackoverflow.com/questions/63745343/annotate-percentage-of-group-within-a-seaborn-countplot\n",
        "def barPlotPercent(df, atributo1, atributo2):\n",
        "  '''\n",
        "  Função que recebe um dataframe e dois atributos categóricos, realiza o agrupamento \n",
        "  de ambos e mostra a contagem e percentual do atributo1 em função do atributo2. \n",
        "  '''\n",
        "\n",
        "  # prepare the dataset\n",
        "  df = (df\n",
        "        .groupby([atributo1, atributo2])\n",
        "        .size()\n",
        "        .reset_index()\n",
        "        #.replace({\"Survived\": {0:\"no\", 1:\"yes\"}})\n",
        "        .rename(columns={0:\"count\"}))\n",
        "\n",
        "  # Calcula o percentual do atributo2 % por níveis do atributo1.\n",
        "  df[\"percent\"] = (df\n",
        "                  .groupby(atributo1)\n",
        "                  .apply(lambda x: x[\"count\"] / x[\"count\"].sum()).values)\n",
        "\n",
        "  # sort the dataframe to match the drawing order\n",
        "  df.sort_values(by=[atributo2, atributo1], inplace=True)\n",
        "\n",
        "  # Visualização\n",
        "  plt.style.use('ggplot')\n",
        "  fig = sns.catplot(\n",
        "    x=\"count\", y=atributo1, hue=atributo2,\n",
        "    kind=\"bar\", data=df, height=4, aspect=2)\n",
        "\n",
        "  for i, bar in enumerate(fig.ax.patches):\n",
        "    \n",
        "      height = bar.get_height()\n",
        "      fig.ax.annotate(\n",
        "          # reference the pre-calculated row in the dataframe\n",
        "          f\"{df.iloc[i, 3] :.0%}\",\n",
        "          xycoords=\"data\",\n",
        "          xytext=(20, -15),\n",
        "          textcoords=\"offset points\",\n",
        "          xy=(bar.get_width(), bar.get_y()),\n",
        "          ha='center', va='center')\n",
        "\n",
        "  # make space for annonations\n",
        "  plt.margins(x=0.2)\n",
        "  plt.show()"
      ],
      "execution_count": 405,
      "outputs": []
    },
    {
      "cell_type": "code",
      "metadata": {
        "id": "bf6I0dTZjyWu"
      },
      "source": [
        "# Carregamento daa base de dados inicialmente separada em treino e teste\n",
        "train = pd.read_csv(train_url)\n",
        "test =  pd.read_csv(test_url)"
      ],
      "execution_count": 406,
      "outputs": []
    },
    {
      "cell_type": "code",
      "metadata": {
        "colab": {
          "base_uri": "https://localhost:8080/"
        },
        "id": "3j7QEAm6Z7Wr",
        "outputId": "277c439a-4dfd-457f-8cf4-b38052b819dd"
      },
      "source": [
        "# Dimensão da base de dados\n",
        "print(\"Treino tem {} linhas e {} colunas \\n\". format(train.shape[0], train.shape[1]))\n",
        "print(\"Teste tem {} linhas e {} colunas \\n\". format(test.shape[0], test.shape[1]))"
      ],
      "execution_count": 407,
      "outputs": [
        {
          "output_type": "stream",
          "text": [
            "Treino tem 891 linhas e 12 colunas \n",
            "\n",
            "Teste tem 418 linhas e 11 colunas \n",
            "\n"
          ],
          "name": "stdout"
        }
      ]
    },
    {
      "cell_type": "markdown",
      "metadata": {
        "id": "S-EeE0bwbhEk"
      },
      "source": [
        "Há, portanto, 1309 linhas ao total. O conjunto de dados original sofreu split na proporção: 68% para treino e 32% para teste. "
      ]
    },
    {
      "cell_type": "code",
      "metadata": {
        "colab": {
          "base_uri": "https://localhost:8080/",
          "height": 206
        },
        "id": "f04k2-IxcGZg",
        "outputId": "826de1ab-1b70-49c8-c27e-9455884d0347"
      },
      "source": [
        "# Aparência do train\n",
        "train.head()"
      ],
      "execution_count": 408,
      "outputs": [
        {
          "output_type": "execute_result",
          "data": {
            "text/html": [
              "<div>\n",
              "<style scoped>\n",
              "    .dataframe tbody tr th:only-of-type {\n",
              "        vertical-align: middle;\n",
              "    }\n",
              "\n",
              "    .dataframe tbody tr th {\n",
              "        vertical-align: top;\n",
              "    }\n",
              "\n",
              "    .dataframe thead th {\n",
              "        text-align: right;\n",
              "    }\n",
              "</style>\n",
              "<table border=\"1\" class=\"dataframe\">\n",
              "  <thead>\n",
              "    <tr style=\"text-align: right;\">\n",
              "      <th></th>\n",
              "      <th>PassengerId</th>\n",
              "      <th>Survived</th>\n",
              "      <th>Pclass</th>\n",
              "      <th>Name</th>\n",
              "      <th>Sex</th>\n",
              "      <th>Age</th>\n",
              "      <th>SibSp</th>\n",
              "      <th>Parch</th>\n",
              "      <th>Ticket</th>\n",
              "      <th>Fare</th>\n",
              "      <th>Cabin</th>\n",
              "      <th>Embarked</th>\n",
              "    </tr>\n",
              "  </thead>\n",
              "  <tbody>\n",
              "    <tr>\n",
              "      <th>0</th>\n",
              "      <td>1</td>\n",
              "      <td>0</td>\n",
              "      <td>3</td>\n",
              "      <td>Braund, Mr. Owen Harris</td>\n",
              "      <td>male</td>\n",
              "      <td>22.0</td>\n",
              "      <td>1</td>\n",
              "      <td>0</td>\n",
              "      <td>A/5 21171</td>\n",
              "      <td>7.2500</td>\n",
              "      <td>NaN</td>\n",
              "      <td>S</td>\n",
              "    </tr>\n",
              "    <tr>\n",
              "      <th>1</th>\n",
              "      <td>2</td>\n",
              "      <td>1</td>\n",
              "      <td>1</td>\n",
              "      <td>Cumings, Mrs. John Bradley (Florence Briggs Th...</td>\n",
              "      <td>female</td>\n",
              "      <td>38.0</td>\n",
              "      <td>1</td>\n",
              "      <td>0</td>\n",
              "      <td>PC 17599</td>\n",
              "      <td>71.2833</td>\n",
              "      <td>C85</td>\n",
              "      <td>C</td>\n",
              "    </tr>\n",
              "    <tr>\n",
              "      <th>2</th>\n",
              "      <td>3</td>\n",
              "      <td>1</td>\n",
              "      <td>3</td>\n",
              "      <td>Heikkinen, Miss. Laina</td>\n",
              "      <td>female</td>\n",
              "      <td>26.0</td>\n",
              "      <td>0</td>\n",
              "      <td>0</td>\n",
              "      <td>STON/O2. 3101282</td>\n",
              "      <td>7.9250</td>\n",
              "      <td>NaN</td>\n",
              "      <td>S</td>\n",
              "    </tr>\n",
              "    <tr>\n",
              "      <th>3</th>\n",
              "      <td>4</td>\n",
              "      <td>1</td>\n",
              "      <td>1</td>\n",
              "      <td>Futrelle, Mrs. Jacques Heath (Lily May Peel)</td>\n",
              "      <td>female</td>\n",
              "      <td>35.0</td>\n",
              "      <td>1</td>\n",
              "      <td>0</td>\n",
              "      <td>113803</td>\n",
              "      <td>53.1000</td>\n",
              "      <td>C123</td>\n",
              "      <td>S</td>\n",
              "    </tr>\n",
              "    <tr>\n",
              "      <th>4</th>\n",
              "      <td>5</td>\n",
              "      <td>0</td>\n",
              "      <td>3</td>\n",
              "      <td>Allen, Mr. William Henry</td>\n",
              "      <td>male</td>\n",
              "      <td>35.0</td>\n",
              "      <td>0</td>\n",
              "      <td>0</td>\n",
              "      <td>373450</td>\n",
              "      <td>8.0500</td>\n",
              "      <td>NaN</td>\n",
              "      <td>S</td>\n",
              "    </tr>\n",
              "  </tbody>\n",
              "</table>\n",
              "</div>"
            ],
            "text/plain": [
              "   PassengerId  Survived  Pclass  ...     Fare Cabin  Embarked\n",
              "0            1         0       3  ...   7.2500   NaN         S\n",
              "1            2         1       1  ...  71.2833   C85         C\n",
              "2            3         1       3  ...   7.9250   NaN         S\n",
              "3            4         1       1  ...  53.1000  C123         S\n",
              "4            5         0       3  ...   8.0500   NaN         S\n",
              "\n",
              "[5 rows x 12 columns]"
            ]
          },
          "metadata": {
            "tags": []
          },
          "execution_count": 408
        }
      ]
    },
    {
      "cell_type": "code",
      "metadata": {
        "colab": {
          "base_uri": "https://localhost:8080/"
        },
        "id": "hTMNO57Ycp0O",
        "outputId": "a82f8140-d677-4c7a-b74d-cc6f62ebf706"
      },
      "source": [
        "# Tipo de dados das variáveis\n",
        "train.info()"
      ],
      "execution_count": 409,
      "outputs": [
        {
          "output_type": "stream",
          "text": [
            "<class 'pandas.core.frame.DataFrame'>\n",
            "RangeIndex: 891 entries, 0 to 890\n",
            "Data columns (total 12 columns):\n",
            " #   Column       Non-Null Count  Dtype  \n",
            "---  ------       --------------  -----  \n",
            " 0   PassengerId  891 non-null    int64  \n",
            " 1   Survived     891 non-null    int64  \n",
            " 2   Pclass       891 non-null    int64  \n",
            " 3   Name         891 non-null    object \n",
            " 4   Sex          891 non-null    object \n",
            " 5   Age          714 non-null    float64\n",
            " 6   SibSp        891 non-null    int64  \n",
            " 7   Parch        891 non-null    int64  \n",
            " 8   Ticket       891 non-null    object \n",
            " 9   Fare         891 non-null    float64\n",
            " 10  Cabin        204 non-null    object \n",
            " 11  Embarked     889 non-null    object \n",
            "dtypes: float64(2), int64(5), object(5)\n",
            "memory usage: 83.7+ KB\n"
          ],
          "name": "stdout"
        }
      ]
    },
    {
      "cell_type": "markdown",
      "metadata": {
        "id": "UXLjFuuY40Vx"
      },
      "source": [
        "# Engenharia de atributos\n",
        "\n"
      ]
    },
    {
      "cell_type": "markdown",
      "metadata": {
        "id": "Qp6Yr5iBCWhA"
      },
      "source": [
        "## Junção dos datasets de treino e teste"
      ]
    },
    {
      "cell_type": "code",
      "metadata": {
        "colab": {
          "base_uri": "https://localhost:8080/"
        },
        "id": "xXdBXW_UCWhB",
        "outputId": "fd8eddec-a31c-45d2-a462-169a1ea4f2fd"
      },
      "source": [
        "print(f\"Train shape {train.shape}\")\n",
        "print(f\"Test shape {test.shape}\")\n",
        "\n",
        "# salvar os índices dos datasets para recuperação posterior\n",
        "train_idx = train.shape[0]\n",
        "test_idx = test.shape[0]\n",
        "\n",
        "# concatenar treino e teste em um único DataFrame\n",
        "all_data = pd.concat(objs=[train, test], axis=0).reset_index(drop=True)\n",
        "\n",
        "print(f\"All_data shape {all_data.shape}\")"
      ],
      "execution_count": 410,
      "outputs": [
        {
          "output_type": "stream",
          "text": [
            "Train shape (891, 12)\n",
            "Test shape (418, 11)\n",
            "All_data shape (1309, 12)\n"
          ],
          "name": "stdout"
        }
      ]
    },
    {
      "cell_type": "markdown",
      "metadata": {
        "id": "sC7hsi5GCWhD"
      },
      "source": [
        "## Imputação de dados ausentes"
      ]
    },
    {
      "cell_type": "code",
      "metadata": {
        "colab": {
          "base_uri": "https://localhost:8080/"
        },
        "id": "TFBEBShofQYI",
        "outputId": "e8def9be-3708-4daf-fe92-7d53fd3478ab"
      },
      "source": [
        "# Contagem de dados faltantes por atributo\n",
        "all_data.isna().sum()"
      ],
      "execution_count": 411,
      "outputs": [
        {
          "output_type": "execute_result",
          "data": {
            "text/plain": [
              "PassengerId       0\n",
              "Survived        418\n",
              "Pclass            0\n",
              "Name              0\n",
              "Sex               0\n",
              "Age             263\n",
              "SibSp             0\n",
              "Parch             0\n",
              "Ticket            0\n",
              "Fare              1\n",
              "Cabin          1014\n",
              "Embarked          2\n",
              "dtype: int64"
            ]
          },
          "metadata": {
            "tags": []
          },
          "execution_count": 411
        }
      ]
    },
    {
      "cell_type": "code",
      "metadata": {
        "colab": {
          "base_uri": "https://localhost:8080/",
          "height": 612
        },
        "id": "F_UdjBoJDMGQ",
        "outputId": "c4403de6-4bf6-4cae-9fba-9fa638d10753"
      },
      "source": [
        "# Heatmap de coeficiente de correlação entre as variáveis\n",
        "plt.figure(figsize=(10,10))\n",
        "sns.heatmap(all_data.corr(), annot = True)"
      ],
      "execution_count": 412,
      "outputs": [
        {
          "output_type": "execute_result",
          "data": {
            "text/plain": [
              "<matplotlib.axes._subplots.AxesSubplot at 0x7fc8f4ddc8d0>"
            ]
          },
          "metadata": {
            "tags": []
          },
          "execution_count": 412
        },
        {
          "output_type": "display_data",
          "data": {
            "image/png": "[encoded data removed]",
            "text/plain": [
              "<Figure size 720x720 with 2 Axes>"
            ]
          },
          "metadata": {
            "tags": []
          }
        }
      ]
    },
    {
      "cell_type": "markdown",
      "metadata": {
        "id": "V1q0yRlT4ZMe"
      },
      "source": [
        "### Age"
      ]
    },
    {
      "cell_type": "markdown",
      "metadata": {
        "id": "FOtz5fNn-wxU"
      },
      "source": [
        "A abordagem de imputação de dados para `Age` e `Fare` é baseada no preenchimento dos campos faltantes com medidas de tendência central. Para tanto, verificou-se a o formato da distribuição a fim de se escolher a melhor medida. \n",
        "\n",
        "https://www.kaggle.com/gunesevitan/titanic-advanced-feature-engineering-tutorial#1.-Exploratory-Data-Analysis"
      ]
    },
    {
      "cell_type": "code",
      "metadata": {
        "id": "IFl1kwdG4a0z",
        "colab": {
          "base_uri": "https://localhost:8080/",
          "height": 354
        },
        "outputId": "9d47a75d-c8d1-4da8-83a4-560106d427e0"
      },
      "source": [
        "\n",
        "# Cálculo da média e mediana\n",
        "mean = all_data['Age'].mean()\n",
        "median =all_data['Age'].median()\n",
        "\n",
        "plt.title(\"Age distribution\")\n",
        "sns.distplot(a=all_data['Age'], kde = False,\n",
        "             hist_kws = {'edgecolor':'black'})\n",
        "plt.axvline(mean, color='r', linestyle='--')\n",
        "plt.axvline(median, color='g', linestyle='-')\n",
        "\n",
        "plt.ylabel(\"Count\")\n",
        "plt.legend({'Mean':mean,'Median':median})\n",
        "plt.show()\n"
      ],
      "execution_count": 413,
      "outputs": [
        {
          "output_type": "stream",
          "text": [
            "/usr/local/lib/python3.6/dist-packages/seaborn/distributions.py:2551: FutureWarning: `distplot` is a deprecated function and will be removed in a future version. Please adapt your code to use either `displot` (a figure-level function with similar flexibility) or `histplot` (an axes-level function for histograms).\n",
            "  warnings.warn(msg, FutureWarning)\n"
          ],
          "name": "stderr"
        },
        {
          "output_type": "display_data",
          "data": {
            "image/png": "[encoded data removed]",
            "text/plain": [
              "<Figure size 432x288 with 1 Axes>"
            ]
          },
          "metadata": {
            "tags": []
          }
        }
      ]
    },
    {
      "cell_type": "markdown",
      "metadata": {
        "id": "9bjOcYy29kqx"
      },
      "source": [
        "A distribuição aparenta estar positivamente enviesada para direita, portanto, ao invés do uso da média um substituto para dados faltantes, utilizou-se a mediana. "
      ]
    },
    {
      "cell_type": "code",
      "metadata": {
        "colab": {
          "base_uri": "https://localhost:8080/"
        },
        "id": "ziMhbg2_Do4V",
        "outputId": "5ed39233-c5e8-49c8-cd75-0edf6a230c18"
      },
      "source": [
        "# Mediana da idade agrupada por PClas\n",
        "age_pclass = all_data.groupby(['Pclass']).median()['Age']\n",
        "age_pclass"
      ],
      "execution_count": 414,
      "outputs": [
        {
          "output_type": "execute_result",
          "data": {
            "text/plain": [
              "Pclass\n",
              "1    39.0\n",
              "2    29.0\n",
              "3    24.0\n",
              "Name: Age, dtype: float64"
            ]
          },
          "metadata": {
            "tags": []
          },
          "execution_count": 414
        }
      ]
    },
    {
      "cell_type": "code",
      "metadata": {
        "id": "biTVOf0CEhDe"
      },
      "source": [
        "# Preenche os NA's com a mediana da idade por classe social\n",
        "all_data['Age'] = all_data.groupby(['Pclass'])['Age'].apply(lambda x: x.fillna(x.median()))"
      ],
      "execution_count": 415,
      "outputs": []
    },
    {
      "cell_type": "markdown",
      "metadata": {
        "id": "1AK28H1e4XE3"
      },
      "source": [
        "### Fare"
      ]
    },
    {
      "cell_type": "code",
      "metadata": {
        "id": "mMH6zYvT-Icg",
        "colab": {
          "base_uri": "https://localhost:8080/",
          "height": 354
        },
        "outputId": "342ba63c-9164-4585-d39d-a6db88db78de"
      },
      "source": [
        "\n",
        "# Cálculo da média e mediana\n",
        "mean = all_data['Fare'].mean()\n",
        "median =all_data['Fare'].median()\n",
        "\n",
        "plt.title(\"Fare distribution\")\n",
        "sns.distplot(a=all_data['Fare'], kde = False, hist_kws = {'edgecolor':'black'})\n",
        "plt.axvline(mean, color='r', linestyle='--')\n",
        "plt.axvline(median, color='g', linestyle='-')\n",
        "\n",
        "plt.ylabel(\"Count\")\n",
        "plt.legend({'Mean':mean,'Median':median})\n",
        "plt.show()\n"
      ],
      "execution_count": 416,
      "outputs": [
        {
          "output_type": "stream",
          "text": [
            "/usr/local/lib/python3.6/dist-packages/seaborn/distributions.py:2551: FutureWarning: `distplot` is a deprecated function and will be removed in a future version. Please adapt your code to use either `displot` (a figure-level function with similar flexibility) or `histplot` (an axes-level function for histograms).\n",
            "  warnings.warn(msg, FutureWarning)\n"
          ],
          "name": "stderr"
        },
        {
          "output_type": "display_data",
          "data": {
            "image/png": "[encoded data removed]",
            "text/plain": [
              "<Figure size 432x288 with 1 Axes>"
            ]
          },
          "metadata": {
            "tags": []
          }
        }
      ]
    },
    {
      "cell_type": "markdown",
      "metadata": {
        "id": "hSX0FqPj-V6_"
      },
      "source": [
        "Semelhantemente ao atributo `Age`, a distribuição de `Fare` aparenta estar positivamente enviesada para direita, portanto, utilizou-se a mediana como substituto para dados faltantes. "
      ]
    },
    {
      "cell_type": "code",
      "metadata": {
        "id": "qbZHJKCQCWhD"
      },
      "source": [
        "# Fill NA's with Fare median\n",
        "fare_median = all_data['Fare'].median()\n",
        "all_data['Fare'].fillna(fare_median, inplace=True)\n"
      ],
      "execution_count": 417,
      "outputs": []
    },
    {
      "cell_type": "markdown",
      "metadata": {
        "id": "TwgdEXtEGHU8"
      },
      "source": [
        "### Cabin"
      ]
    },
    {
      "cell_type": "code",
      "metadata": {
        "colab": {
          "base_uri": "https://localhost:8080/"
        },
        "id": "W81HAeUrGkpU",
        "outputId": "57d973f4-e006-40e3-9099-4d9af0d44d9c"
      },
      "source": [
        "# Lista os nomes únicos das cabines\n",
        "all_data['Cabin'].unique()"
      ],
      "execution_count": 418,
      "outputs": [
        {
          "output_type": "execute_result",
          "data": {
            "text/plain": [
              "array([nan, 'C85', 'C123', 'E46', 'G6', 'C103', 'D56', 'A6',\n",
              "       'C23 C25 C27', 'B78', 'D33', 'B30', 'C52', 'B28', 'C83', 'F33',\n",
              "       'F G73', 'E31', 'A5', 'D10 D12', 'D26', 'C110', 'B58 B60', 'E101',\n",
              "       'F E69', 'D47', 'B86', 'F2', 'C2', 'E33', 'B19', 'A7', 'C49', 'F4',\n",
              "       'A32', 'B4', 'B80', 'A31', 'D36', 'D15', 'C93', 'C78', 'D35',\n",
              "       'C87', 'B77', 'E67', 'B94', 'C125', 'C99', 'C118', 'D7', 'A19',\n",
              "       'B49', 'D', 'C22 C26', 'C106', 'C65', 'E36', 'C54',\n",
              "       'B57 B59 B63 B66', 'C7', 'E34', 'C32', 'B18', 'C124', 'C91', 'E40',\n",
              "       'T', 'C128', 'D37', 'B35', 'E50', 'C82', 'B96 B98', 'E10', 'E44',\n",
              "       'A34', 'C104', 'C111', 'C92', 'E38', 'D21', 'E12', 'E63', 'A14',\n",
              "       'B37', 'C30', 'D20', 'B79', 'E25', 'D46', 'B73', 'C95', 'B38',\n",
              "       'B39', 'B22', 'C86', 'C70', 'A16', 'C101', 'C68', 'A10', 'E68',\n",
              "       'B41', 'A20', 'D19', 'D50', 'D9', 'A23', 'B50', 'A26', 'D48',\n",
              "       'E58', 'C126', 'B71', 'B51 B53 B55', 'D49', 'B5', 'B20', 'F G63',\n",
              "       'C62 C64', 'E24', 'C90', 'C45', 'E8', 'B101', 'D45', 'C46', 'D30',\n",
              "       'E121', 'D11', 'E77', 'F38', 'B3', 'D6', 'B82 B84', 'D17', 'A36',\n",
              "       'B102', 'B69', 'E49', 'C47', 'D28', 'E17', 'A24', 'C50', 'B42',\n",
              "       'C148', 'B45', 'B36', 'A21', 'D34', 'A9', 'C31', 'B61', 'C53',\n",
              "       'D43', 'C130', 'C132', 'C55 C57', 'C116', 'F', 'A29', 'C6', 'C28',\n",
              "       'C51', 'C97', 'D22', 'B10', 'E45', 'E52', 'A11', 'B11', 'C80',\n",
              "       'C89', 'F E46', 'B26', 'F E57', 'A18', 'E60', 'E39 E41',\n",
              "       'B52 B54 B56', 'C39', 'B24', 'D40', 'D38', 'C105'], dtype=object)"
            ]
          },
          "metadata": {
            "tags": []
          },
          "execution_count": 418
        }
      ]
    },
    {
      "cell_type": "code",
      "metadata": {
        "id": "yq6ZTx6tG8eX"
      },
      "source": [
        "# Preenche os NA's com a letra U de Unknown\n",
        "all_data['Deck'] = all_data['Cabin'].apply(lambda s: s[0] if pd.notnull(s) else 'U')"
      ],
      "execution_count": 419,
      "outputs": []
    },
    {
      "cell_type": "code",
      "metadata": {
        "colab": {
          "base_uri": "https://localhost:8080/",
          "height": 386
        },
        "id": "no1bXE-2IHu_",
        "outputId": "4f01a97d-3a31-499c-b91f-b92a83dd573a"
      },
      "source": [
        "g = sns.catplot(x=\"Deck\", y=\"Survived\", col=\"Pclass\",\n",
        "                 data=all_data[:train_idx], saturation=.5,\n",
        "                 kind=\"bar\", ci=None, aspect=.6)\n",
        "\n",
        "for ax in g.axes.flat:\n",
        "    ax.yaxis.set_major_formatter(PercentFormatter(1))\n",
        "\n",
        "plt.show()"
      ],
      "execution_count": 420,
      "outputs": [
        {
          "output_type": "display_data",
          "data": {
            "image/png": "[encoded data removed]",
            "text/plain": [
              "<Figure size 648x360 with 3 Axes>"
            ]
          },
          "metadata": {
            "tags": []
          }
        }
      ]
    },
    {
      "cell_type": "code",
      "metadata": {
        "colab": {
          "base_uri": "https://localhost:8080/"
        },
        "id": "vlCRU8mBLTd1",
        "outputId": "5d858d64-214d-45d3-e861-53dc9f1deb2a"
      },
      "source": [
        "idx = all_data[all_data['Deck'] == 'T'].index\n",
        "all_data.loc[idx, 'Deck'] = 'A'\n",
        "\n",
        "all_data['Deck'] = all_data['Deck'].replace(['A', 'B', 'C'], 'ABC')\n",
        "all_data['Deck'] = all_data['Deck'].replace(['D', 'E'], 'DE')\n",
        "all_data['Deck'] = all_data['Deck'].replace(['F', 'G'], 'FG')\n",
        "all_data['Deck'].value_counts()"
      ],
      "execution_count": 421,
      "outputs": [
        {
          "output_type": "execute_result",
          "data": {
            "text/plain": [
              "U      1014\n",
              "ABC     182\n",
              "DE       87\n",
              "FG       26\n",
              "Name: Deck, dtype: int64"
            ]
          },
          "metadata": {
            "tags": []
          },
          "execution_count": 421
        }
      ]
    },
    {
      "cell_type": "markdown",
      "metadata": {
        "id": "GNGrIZXw3m_m"
      },
      "source": [
        "### Embarked"
      ]
    },
    {
      "cell_type": "markdown",
      "metadata": {
        "id": "gBA-q50b_jgR"
      },
      "source": [
        "Para o atributo `Embarked`, verificou-se as linhas que estavam com os dados faltantes. Uma vez que há apenas duas ocorrências, dada a classe social `Pclass == 1` para ambos, os dados foram imputados com identificação do porto onde há maior ocorrência dessa classe social, ou seja, do porto Cherbourg(C). "
      ]
    },
    {
      "cell_type": "code",
      "metadata": {
        "id": "EiXO-gcW1PZK",
        "colab": {
          "base_uri": "https://localhost:8080/",
          "height": 112
        },
        "outputId": "749173de-0196-44b0-8d57-ac64bbe84f12"
      },
      "source": [
        "all_data.query('Embarked != \"S\" & Embarked != \"C\" & Embarked != \"Q\"')"
      ],
      "execution_count": 422,
      "outputs": [
        {
          "output_type": "execute_result",
          "data": {
            "text/html": [
              "<div>\n",
              "<style scoped>\n",
              "    .dataframe tbody tr th:only-of-type {\n",
              "        vertical-align: middle;\n",
              "    }\n",
              "\n",
              "    .dataframe tbody tr th {\n",
              "        vertical-align: top;\n",
              "    }\n",
              "\n",
              "    .dataframe thead th {\n",
              "        text-align: right;\n",
              "    }\n",
              "</style>\n",
              "<table border=\"1\" class=\"dataframe\">\n",
              "  <thead>\n",
              "    <tr style=\"text-align: right;\">\n",
              "      <th></th>\n",
              "      <th>PassengerId</th>\n",
              "      <th>Survived</th>\n",
              "      <th>Pclass</th>\n",
              "      <th>Name</th>\n",
              "      <th>Sex</th>\n",
              "      <th>Age</th>\n",
              "      <th>SibSp</th>\n",
              "      <th>Parch</th>\n",
              "      <th>Ticket</th>\n",
              "      <th>Fare</th>\n",
              "      <th>Cabin</th>\n",
              "      <th>Embarked</th>\n",
              "      <th>Deck</th>\n",
              "    </tr>\n",
              "  </thead>\n",
              "  <tbody>\n",
              "    <tr>\n",
              "      <th>61</th>\n",
              "      <td>62</td>\n",
              "      <td>1.0</td>\n",
              "      <td>1</td>\n",
              "      <td>Icard, Miss. Amelie</td>\n",
              "      <td>female</td>\n",
              "      <td>38.0</td>\n",
              "      <td>0</td>\n",
              "      <td>0</td>\n",
              "      <td>113572</td>\n",
              "      <td>80.0</td>\n",
              "      <td>B28</td>\n",
              "      <td>NaN</td>\n",
              "      <td>ABC</td>\n",
              "    </tr>\n",
              "    <tr>\n",
              "      <th>829</th>\n",
              "      <td>830</td>\n",
              "      <td>1.0</td>\n",
              "      <td>1</td>\n",
              "      <td>Stone, Mrs. George Nelson (Martha Evelyn)</td>\n",
              "      <td>female</td>\n",
              "      <td>62.0</td>\n",
              "      <td>0</td>\n",
              "      <td>0</td>\n",
              "      <td>113572</td>\n",
              "      <td>80.0</td>\n",
              "      <td>B28</td>\n",
              "      <td>NaN</td>\n",
              "      <td>ABC</td>\n",
              "    </tr>\n",
              "  </tbody>\n",
              "</table>\n",
              "</div>"
            ],
            "text/plain": [
              "     PassengerId  Survived  Pclass  ... Cabin Embarked  Deck\n",
              "61            62       1.0       1  ...   B28      NaN   ABC\n",
              "829          830       1.0       1  ...   B28      NaN   ABC\n",
              "\n",
              "[2 rows x 13 columns]"
            ]
          },
          "metadata": {
            "tags": []
          },
          "execution_count": 422
        }
      ]
    },
    {
      "cell_type": "code",
      "metadata": {
        "colab": {
          "base_uri": "https://localhost:8080/",
          "height": 314
        },
        "id": "EzFYJoyo9i36",
        "outputId": "1f12653f-a84d-46a9-c1d4-623fe1e6ab1f"
      },
      "source": [
        "# Visualização de Classe Social por Porto de Embarcação\n",
        "barPlotPercent(train, 'Embarked', 'Pclass')"
      ],
      "execution_count": 423,
      "outputs": [
        {
          "output_type": "display_data",
          "data": {
            "image/png": "[encoded data removed]",
            "text/plain": [
              "<Figure size 618.375x288 with 1 Axes>"
            ]
          },
          "metadata": {
            "tags": []
          }
        }
      ]
    },
    {
      "cell_type": "code",
      "metadata": {
        "id": "diIx72xZ3rBb"
      },
      "source": [
        "# embarked\n",
        "embarked_top = all_data['Embarked'].value_counts()[0]\n",
        "all_data['Embarked'].fillna('C', inplace=True)"
      ],
      "execution_count": 424,
      "outputs": []
    },
    {
      "cell_type": "markdown",
      "metadata": {
        "id": "u6zVFikiA7lk"
      },
      "source": [
        "## Novos atributos"
      ]
    },
    {
      "cell_type": "markdown",
      "metadata": {
        "id": "josiiEz4BiAZ"
      },
      "source": [
        "### AgeGroup\n",
        "\n",
        "https://www.encyclopedia-titanica.org/community/threads/age-of-majority.4620/"
      ]
    },
    {
      "cell_type": "code",
      "metadata": {
        "id": "zCQIw05IA68l",
        "colab": {
          "base_uri": "https://localhost:8080/"
        },
        "outputId": "733dbbcc-66dd-4502-e44b-25a9f711aa87"
      },
      "source": [
        "# Cria o atributo AgeGroup que categoriza o passageiro de acordo com a sua idade\n",
        "all_data['AgeGroup']  = ''\n",
        "for row in all_data.index:\n",
        "  if all_data['Age'][row] < 12.0:\n",
        "    all_data['AgeGroup'][row]  = 'Child'\n",
        "  if all_data['Age'][row] >= 12.0 and all_data['Age'][row] < 21.0:\n",
        "    all_data['AgeGroup'][row]  = 'Teenager'\n",
        "  if all_data['Age'][row] >= 21.0 and all_data['Age'][row] < 50.0:\n",
        "    all_data['AgeGroup'][row]  = 'Adult'\n",
        "  if all_data['Age'][row] >= 50.0:\n",
        "    all_data['AgeGroup'][row]  = 'Old'"
      ],
      "execution_count": 425,
      "outputs": [
        {
          "output_type": "stream",
          "text": [
            "/usr/local/lib/python3.6/dist-packages/ipykernel_launcher.py:9: SettingWithCopyWarning: \n",
            "A value is trying to be set on a copy of a slice from a DataFrame\n",
            "\n",
            "See the caveats in the documentation: https://pandas.pydata.org/pandas-docs/stable/user_guide/indexing.html#returning-a-view-versus-a-copy\n",
            "  if __name__ == '__main__':\n",
            "/usr/local/lib/python3.6/dist-packages/ipykernel_launcher.py:11: SettingWithCopyWarning: \n",
            "A value is trying to be set on a copy of a slice from a DataFrame\n",
            "\n",
            "See the caveats in the documentation: https://pandas.pydata.org/pandas-docs/stable/user_guide/indexing.html#returning-a-view-versus-a-copy\n",
            "  # This is added back by InteractiveShellApp.init_path()\n",
            "/usr/local/lib/python3.6/dist-packages/ipykernel_launcher.py:5: SettingWithCopyWarning: \n",
            "A value is trying to be set on a copy of a slice from a DataFrame\n",
            "\n",
            "See the caveats in the documentation: https://pandas.pydata.org/pandas-docs/stable/user_guide/indexing.html#returning-a-view-versus-a-copy\n",
            "  \"\"\"\n",
            "/usr/local/lib/python3.6/dist-packages/ipykernel_launcher.py:7: SettingWithCopyWarning: \n",
            "A value is trying to be set on a copy of a slice from a DataFrame\n",
            "\n",
            "See the caveats in the documentation: https://pandas.pydata.org/pandas-docs/stable/user_guide/indexing.html#returning-a-view-versus-a-copy\n",
            "  import sys\n"
          ],
          "name": "stderr"
        }
      ]
    },
    {
      "cell_type": "markdown",
      "metadata": {
        "id": "LiicjrkeS8CQ"
      },
      "source": [
        "### Title\n",
        "\n",
        "https://triangleinequality.wordpress.com/2013/09/08/basic-feature-engineering-with-the-titanic-data/\n",
        "\n",
        "https://www.kaggle.com/startupsci/titanic-data-science-solutions\n",
        "\n",
        "\n"
      ]
    },
    {
      "cell_type": "code",
      "metadata": {
        "colab": {
          "base_uri": "https://localhost:8080/",
          "height": 645
        },
        "id": "JlA6LVAeS7hT",
        "outputId": "232b5d8b-7469-4916-ed81-f2c28f40420c"
      },
      "source": [
        "# Extrai os títulos dos nomes e armazena num atributo próprio\n",
        "all_data['Title'] = all_data['Name'].str.extract(' ([A-Za-z]+)\\.')\n",
        "# Lista os atributos por Sexo\n",
        "pd.crosstab(all_data['Title'], all_data['Sex'])"
      ],
      "execution_count": 426,
      "outputs": [
        {
          "output_type": "execute_result",
          "data": {
            "text/html": [
              "<div>\n",
              "<style scoped>\n",
              "    .dataframe tbody tr th:only-of-type {\n",
              "        vertical-align: middle;\n",
              "    }\n",
              "\n",
              "    .dataframe tbody tr th {\n",
              "        vertical-align: top;\n",
              "    }\n",
              "\n",
              "    .dataframe thead th {\n",
              "        text-align: right;\n",
              "    }\n",
              "</style>\n",
              "<table border=\"1\" class=\"dataframe\">\n",
              "  <thead>\n",
              "    <tr style=\"text-align: right;\">\n",
              "      <th>Sex</th>\n",
              "      <th>female</th>\n",
              "      <th>male</th>\n",
              "    </tr>\n",
              "    <tr>\n",
              "      <th>Title</th>\n",
              "      <th></th>\n",
              "      <th></th>\n",
              "    </tr>\n",
              "  </thead>\n",
              "  <tbody>\n",
              "    <tr>\n",
              "      <th>Capt</th>\n",
              "      <td>0</td>\n",
              "      <td>1</td>\n",
              "    </tr>\n",
              "    <tr>\n",
              "      <th>Col</th>\n",
              "      <td>0</td>\n",
              "      <td>4</td>\n",
              "    </tr>\n",
              "    <tr>\n",
              "      <th>Countess</th>\n",
              "      <td>1</td>\n",
              "      <td>0</td>\n",
              "    </tr>\n",
              "    <tr>\n",
              "      <th>Don</th>\n",
              "      <td>0</td>\n",
              "      <td>1</td>\n",
              "    </tr>\n",
              "    <tr>\n",
              "      <th>Dona</th>\n",
              "      <td>1</td>\n",
              "      <td>0</td>\n",
              "    </tr>\n",
              "    <tr>\n",
              "      <th>Dr</th>\n",
              "      <td>1</td>\n",
              "      <td>7</td>\n",
              "    </tr>\n",
              "    <tr>\n",
              "      <th>Jonkheer</th>\n",
              "      <td>0</td>\n",
              "      <td>1</td>\n",
              "    </tr>\n",
              "    <tr>\n",
              "      <th>Lady</th>\n",
              "      <td>1</td>\n",
              "      <td>0</td>\n",
              "    </tr>\n",
              "    <tr>\n",
              "      <th>Major</th>\n",
              "      <td>0</td>\n",
              "      <td>2</td>\n",
              "    </tr>\n",
              "    <tr>\n",
              "      <th>Master</th>\n",
              "      <td>0</td>\n",
              "      <td>61</td>\n",
              "    </tr>\n",
              "    <tr>\n",
              "      <th>Miss</th>\n",
              "      <td>260</td>\n",
              "      <td>0</td>\n",
              "    </tr>\n",
              "    <tr>\n",
              "      <th>Mlle</th>\n",
              "      <td>2</td>\n",
              "      <td>0</td>\n",
              "    </tr>\n",
              "    <tr>\n",
              "      <th>Mme</th>\n",
              "      <td>1</td>\n",
              "      <td>0</td>\n",
              "    </tr>\n",
              "    <tr>\n",
              "      <th>Mr</th>\n",
              "      <td>0</td>\n",
              "      <td>757</td>\n",
              "    </tr>\n",
              "    <tr>\n",
              "      <th>Mrs</th>\n",
              "      <td>197</td>\n",
              "      <td>0</td>\n",
              "    </tr>\n",
              "    <tr>\n",
              "      <th>Ms</th>\n",
              "      <td>2</td>\n",
              "      <td>0</td>\n",
              "    </tr>\n",
              "    <tr>\n",
              "      <th>Rev</th>\n",
              "      <td>0</td>\n",
              "      <td>8</td>\n",
              "    </tr>\n",
              "    <tr>\n",
              "      <th>Sir</th>\n",
              "      <td>0</td>\n",
              "      <td>1</td>\n",
              "    </tr>\n",
              "  </tbody>\n",
              "</table>\n",
              "</div>"
            ],
            "text/plain": [
              "Sex       female  male\n",
              "Title                 \n",
              "Capt           0     1\n",
              "Col            0     4\n",
              "Countess       1     0\n",
              "Don            0     1\n",
              "Dona           1     0\n",
              "Dr             1     7\n",
              "Jonkheer       0     1\n",
              "Lady           1     0\n",
              "Major          0     2\n",
              "Master         0    61\n",
              "Miss         260     0\n",
              "Mlle           2     0\n",
              "Mme            1     0\n",
              "Mr             0   757\n",
              "Mrs          197     0\n",
              "Ms             2     0\n",
              "Rev            0     8\n",
              "Sir            0     1"
            ]
          },
          "metadata": {
            "tags": []
          },
          "execution_count": 426
        }
      ]
    },
    {
      "cell_type": "markdown",
      "metadata": {
        "id": "xhBuLX9ojlgt"
      },
      "source": [
        "https://triangleinequality.wordpress.com/2013/09/08/basic-feature-engineering-with-the-titanic-data/"
      ]
    },
    {
      "cell_type": "code",
      "metadata": {
        "id": "f4c3gtDEigV2"
      },
      "source": [
        "# Substituição dos sortidos títulos por Mr, Mrs, Miss e Master\n",
        "def replace_titles(x):\n",
        "    title=x['Title']\n",
        "    if title in ['Sir', 'Don', 'Major', 'Capt', 'Jonkheer', 'Rev', 'Col']:\n",
        "        return 'Mr'\n",
        "    elif title in ['Countess', 'Mme', 'Lady', 'Dona']:\n",
        "        return 'Mrs'\n",
        "    elif title in ['Mlle', 'Ms']:\n",
        "        return 'Miss'\n",
        "    elif title =='Dr':\n",
        "        if x['Sex']=='Male':\n",
        "            return 'Mr'\n",
        "        else:\n",
        "            return 'Mrs'\n",
        "    else:\n",
        "        return title\n",
        "all_data['Title']=all_data.apply(replace_titles, axis=1)"
      ],
      "execution_count": 427,
      "outputs": []
    },
    {
      "cell_type": "code",
      "metadata": {
        "colab": {
          "base_uri": "https://localhost:8080/"
        },
        "id": "uwYg2_qZis33",
        "outputId": "25698f02-c74d-44a7-ffff-32441aed85e4"
      },
      "source": [
        "all_data['Title'].unique()"
      ],
      "execution_count": 428,
      "outputs": [
        {
          "output_type": "execute_result",
          "data": {
            "text/plain": [
              "array(['Mr', 'Mrs', 'Miss', 'Master'], dtype=object)"
            ]
          },
          "metadata": {
            "tags": []
          },
          "execution_count": 428
        }
      ]
    },
    {
      "cell_type": "markdown",
      "metadata": {
        "id": "_-3oyP4JkVlu"
      },
      "source": [
        "### FamilySize"
      ]
    },
    {
      "cell_type": "markdown",
      "metadata": {
        "id": "tOuQdcxLlHz8"
      },
      "source": [
        "O tamanho da família é definido pela soma dos atributos `SibSp` e`Parch` mais 1. Este último corresponde ao indivíduo, que pode estar viajando sozinho. "
      ]
    },
    {
      "cell_type": "code",
      "metadata": {
        "id": "m0dgZ--RkYr5"
      },
      "source": [
        "# Cria o atributo que corresponde ao tamanho da família à bordo\n",
        "all_data['FamilySize'] = all_data['SibSp'] + all_data['Parch'] + 1"
      ],
      "execution_count": 429,
      "outputs": []
    },
    {
      "cell_type": "markdown",
      "metadata": {
        "id": "Cs9a7pAGldpr"
      },
      "source": [
        "# Alone"
      ]
    },
    {
      "cell_type": "markdown",
      "metadata": {
        "id": "7SPcIn6fpWHg"
      },
      "source": [
        "Criou-se a variável categórica `Alone` que indica se o passageiro está viajando sozinho ou não, baseada no tamanho da família. 1 para viajando sozinho, e 0 caso contrário. "
      ]
    },
    {
      "cell_type": "code",
      "metadata": {
        "colab": {
          "base_uri": "https://localhost:8080/",
          "height": 144
        },
        "id": "OuK7RSERlghw",
        "outputId": "6bb9a554-fcd4-4cf2-adcb-153c196b82c6"
      },
      "source": [
        "all_data['Alone'] = 0\n",
        "all_data.loc[all_data['FamilySize'] == 1, 'Alone'] = 1\n",
        "all_data.head(3)"
      ],
      "execution_count": 430,
      "outputs": [
        {
          "output_type": "execute_result",
          "data": {
            "text/html": [
              "<div>\n",
              "<style scoped>\n",
              "    .dataframe tbody tr th:only-of-type {\n",
              "        vertical-align: middle;\n",
              "    }\n",
              "\n",
              "    .dataframe tbody tr th {\n",
              "        vertical-align: top;\n",
              "    }\n",
              "\n",
              "    .dataframe thead th {\n",
              "        text-align: right;\n",
              "    }\n",
              "</style>\n",
              "<table border=\"1\" class=\"dataframe\">\n",
              "  <thead>\n",
              "    <tr style=\"text-align: right;\">\n",
              "      <th></th>\n",
              "      <th>PassengerId</th>\n",
              "      <th>Survived</th>\n",
              "      <th>Pclass</th>\n",
              "      <th>Name</th>\n",
              "      <th>Sex</th>\n",
              "      <th>Age</th>\n",
              "      <th>SibSp</th>\n",
              "      <th>Parch</th>\n",
              "      <th>Ticket</th>\n",
              "      <th>Fare</th>\n",
              "      <th>Cabin</th>\n",
              "      <th>Embarked</th>\n",
              "      <th>Deck</th>\n",
              "      <th>AgeGroup</th>\n",
              "      <th>Title</th>\n",
              "      <th>FamilySize</th>\n",
              "      <th>Alone</th>\n",
              "    </tr>\n",
              "  </thead>\n",
              "  <tbody>\n",
              "    <tr>\n",
              "      <th>0</th>\n",
              "      <td>1</td>\n",
              "      <td>0.0</td>\n",
              "      <td>3</td>\n",
              "      <td>Braund, Mr. Owen Harris</td>\n",
              "      <td>male</td>\n",
              "      <td>22.0</td>\n",
              "      <td>1</td>\n",
              "      <td>0</td>\n",
              "      <td>A/5 21171</td>\n",
              "      <td>7.2500</td>\n",
              "      <td>NaN</td>\n",
              "      <td>S</td>\n",
              "      <td>U</td>\n",
              "      <td>Adult</td>\n",
              "      <td>Mr</td>\n",
              "      <td>2</td>\n",
              "      <td>0</td>\n",
              "    </tr>\n",
              "    <tr>\n",
              "      <th>1</th>\n",
              "      <td>2</td>\n",
              "      <td>1.0</td>\n",
              "      <td>1</td>\n",
              "      <td>Cumings, Mrs. John Bradley (Florence Briggs Th...</td>\n",
              "      <td>female</td>\n",
              "      <td>38.0</td>\n",
              "      <td>1</td>\n",
              "      <td>0</td>\n",
              "      <td>PC 17599</td>\n",
              "      <td>71.2833</td>\n",
              "      <td>C85</td>\n",
              "      <td>C</td>\n",
              "      <td>ABC</td>\n",
              "      <td>Adult</td>\n",
              "      <td>Mrs</td>\n",
              "      <td>2</td>\n",
              "      <td>0</td>\n",
              "    </tr>\n",
              "    <tr>\n",
              "      <th>2</th>\n",
              "      <td>3</td>\n",
              "      <td>1.0</td>\n",
              "      <td>3</td>\n",
              "      <td>Heikkinen, Miss. Laina</td>\n",
              "      <td>female</td>\n",
              "      <td>26.0</td>\n",
              "      <td>0</td>\n",
              "      <td>0</td>\n",
              "      <td>STON/O2. 3101282</td>\n",
              "      <td>7.9250</td>\n",
              "      <td>NaN</td>\n",
              "      <td>S</td>\n",
              "      <td>U</td>\n",
              "      <td>Adult</td>\n",
              "      <td>Miss</td>\n",
              "      <td>1</td>\n",
              "      <td>1</td>\n",
              "    </tr>\n",
              "  </tbody>\n",
              "</table>\n",
              "</div>"
            ],
            "text/plain": [
              "   PassengerId  Survived  Pclass  ... Title FamilySize  Alone\n",
              "0            1       0.0       3  ...    Mr          2      0\n",
              "1            2       1.0       1  ...   Mrs          2      0\n",
              "2            3       1.0       3  ...  Miss          1      1\n",
              "\n",
              "[3 rows x 17 columns]"
            ]
          },
          "metadata": {
            "tags": []
          },
          "execution_count": 430
        }
      ]
    },
    {
      "cell_type": "markdown",
      "metadata": {
        "id": "tyzDPP5b4vbE"
      },
      "source": [
        "# Análise Exploratória dos Dados"
      ]
    },
    {
      "cell_type": "markdown",
      "metadata": {
        "id": "wRdRi2_X7SBn"
      },
      "source": [
        "Função para automatizar o agrupamento de duas variáveis categóricas e gera uma visualização do relacionamento de ambas com contagem e percentual. "
      ]
    },
    {
      "cell_type": "markdown",
      "metadata": {
        "id": "oxXSo8rUAj3V"
      },
      "source": [
        "## Sobreviventes"
      ]
    },
    {
      "cell_type": "code",
      "metadata": {
        "colab": {
          "base_uri": "https://localhost:8080/",
          "height": 371
        },
        "id": "WaktuZzHF83c",
        "outputId": "c1780d3f-99ad-4c64-9bd4-d840a80733c6"
      },
      "source": [
        "# Contagem de sobreviventes e não sobreviventes\r\n",
        "plt.title(\"Contagem - Sobrevivente(1) or Não sobrevivente(0)\")\r\n",
        "sns.countplot(train.Survived)\r\n",
        "plt.ylabel(\"Count\")\r\n",
        "plt.xlabel(\"Survived\")"
      ],
      "execution_count": 431,
      "outputs": [
        {
          "output_type": "stream",
          "text": [
            "/usr/local/lib/python3.6/dist-packages/seaborn/_decorators.py:43: FutureWarning: Pass the following variable as a keyword arg: x. From version 0.12, the only valid positional argument will be `data`, and passing other arguments without an explicit keyword will result in an error or misinterpretation.\n",
            "  FutureWarning\n"
          ],
          "name": "stderr"
        },
        {
          "output_type": "execute_result",
          "data": {
            "text/plain": [
              "Text(0.5, 0, 'Survived')"
            ]
          },
          "metadata": {
            "tags": []
          },
          "execution_count": 431
        },
        {
          "output_type": "display_data",
          "data": {
            "image/png": "[encoded data removed]",
            "text/plain": [
              "<Figure size 432x288 with 1 Axes>"
            ]
          },
          "metadata": {
            "tags": []
          }
        }
      ]
    },
    {
      "cell_type": "markdown",
      "metadata": {
        "id": "CNdmpRQP0u5q"
      },
      "source": [
        "## Gênero"
      ]
    },
    {
      "cell_type": "code",
      "metadata": {
        "colab": {
          "base_uri": "https://localhost:8080/",
          "height": 371
        },
        "id": "OZJ_u-ni0zsU",
        "outputId": "ec783047-3bc6-4d04-9122-a8fddea26710"
      },
      "source": [
        "# Contagem de sobreviventes e não sobreviventes\n",
        "plt.title(\"Contagem - Sobrevivente(1) ou Não sobreviventes(0)\")\n",
        "sns.countplot(train.Survived)\n",
        "plt.ylabel(\"Count\")\n",
        "plt.xlabel(\"Survived\")"
      ],
      "execution_count": 432,
      "outputs": [
        {
          "output_type": "stream",
          "text": [
            "/usr/local/lib/python3.6/dist-packages/seaborn/_decorators.py:43: FutureWarning: Pass the following variable as a keyword arg: x. From version 0.12, the only valid positional argument will be `data`, and passing other arguments without an explicit keyword will result in an error or misinterpretation.\n",
            "  FutureWarning\n"
          ],
          "name": "stderr"
        },
        {
          "output_type": "execute_result",
          "data": {
            "text/plain": [
              "Text(0.5, 0, 'Survived')"
            ]
          },
          "metadata": {
            "tags": []
          },
          "execution_count": 432
        },
        {
          "output_type": "display_data",
          "data": {
            "image/png": "[encoded data removed]",
            "text/plain": [
              "<Figure size 432x288 with 1 Axes>"
            ]
          },
          "metadata": {
            "tags": []
          }
        }
      ]
    },
    {
      "cell_type": "code",
      "metadata": {
        "colab": {
          "base_uri": "https://localhost:8080/"
        },
        "id": "E9YQrzf3B9Bv",
        "outputId": "c580550e-b9a9-4ad7-96b6-e7a506ad3d71"
      },
      "source": [
        "# Sumarização de Survived por gênero\r\n",
        "train.groupby(['Survived', 'Sex'])['Sex'].count()"
      ],
      "execution_count": 433,
      "outputs": [
        {
          "output_type": "execute_result",
          "data": {
            "text/plain": [
              "Survived  Sex   \n",
              "0         female     81\n",
              "          male      468\n",
              "1         female    233\n",
              "          male      109\n",
              "Name: Sex, dtype: int64"
            ]
          },
          "metadata": {
            "tags": []
          },
          "execution_count": 433
        }
      ]
    },
    {
      "cell_type": "code",
      "metadata": {
        "colab": {
          "base_uri": "https://localhost:8080/",
          "height": 314
        },
        "id": "ZA7yA0Jt4ihy",
        "outputId": "a7bd8cdd-79e1-417b-8619-0a994e08c03e"
      },
      "source": [
        "# Visualização de Survived por gênero\n",
        "barPlotPercent(train, 'Sex', 'Survived')"
      ],
      "execution_count": 434,
      "outputs": [
        {
          "output_type": "display_data",
          "data": {
            "image/png": "[encoded data removed]",
            "text/plain": [
              "<Figure size 627.875x288 with 1 Axes>"
            ]
          },
          "metadata": {
            "tags": []
          }
        }
      ]
    },
    {
      "cell_type": "markdown",
      "metadata": {
        "id": "RhwnZxVZ96jz"
      },
      "source": [
        "## Classe Social (Pclass)"
      ]
    },
    {
      "cell_type": "code",
      "metadata": {
        "colab": {
          "base_uri": "https://localhost:8080/",
          "height": 372
        },
        "id": "ronNDZnD_ZM6",
        "outputId": "afb85666-9108-428b-9a1d-6978f8b6c90f"
      },
      "source": [
        "# Contagem de passageiros por Classe Social\n",
        "plt.title(\"Contagem de indivíduos por Classe Social\")\n",
        "sns.countplot(train.Pclass)\n",
        "plt.ylabel(\"Count\")\n",
        "plt.xlabel(\"Pclass\")"
      ],
      "execution_count": 435,
      "outputs": [
        {
          "output_type": "stream",
          "text": [
            "/usr/local/lib/python3.6/dist-packages/seaborn/_decorators.py:43: FutureWarning: Pass the following variable as a keyword arg: x. From version 0.12, the only valid positional argument will be `data`, and passing other arguments without an explicit keyword will result in an error or misinterpretation.\n",
            "  FutureWarning\n"
          ],
          "name": "stderr"
        },
        {
          "output_type": "execute_result",
          "data": {
            "text/plain": [
              "Text(0.5, 0, 'Pclass')"
            ]
          },
          "metadata": {
            "tags": []
          },
          "execution_count": 435
        },
        {
          "output_type": "display_data",
          "data": {
            "image/png": "[encoded data removed]",
            "text/plain": [
              "<Figure size 432x288 with 1 Axes>"
            ]
          },
          "metadata": {
            "tags": []
          }
        }
      ]
    },
    {
      "cell_type": "code",
      "metadata": {
        "colab": {
          "base_uri": "https://localhost:8080/",
          "height": 314
        },
        "id": "wiql7_1oDNVb",
        "outputId": "d5d283cb-de91-49c5-f341-dc347af8a6d7"
      },
      "source": [
        "# Percentual e contagem de indivíduos por Classe Social e sexo\n",
        "barPlotPercent(train, 'Sex', 'Pclass')"
      ],
      "execution_count": 436,
      "outputs": [
        {
          "output_type": "display_data",
          "data": {
            "image/png": "[encoded data removed]",
            "text/plain": [
              "<Figure size 618.375x288 with 1 Axes>"
            ]
          },
          "metadata": {
            "tags": []
          }
        }
      ]
    },
    {
      "cell_type": "code",
      "metadata": {
        "colab": {
          "base_uri": "https://localhost:8080/",
          "height": 386
        },
        "id": "2x2EtR2zDPFs",
        "outputId": "e1e7f3ae-9f2b-4132-83be-b229edd4d6e4"
      },
      "source": [
        "# Percentual de sobreviventes por sexo e classe social\n",
        "#Fonte: https://stackoverflow.com/questions/52512790/python-seaborn-catplot-how-do-i-change-the-y-axis-scale-to-percentage\n",
        "g = sns.catplot(x=\"Sex\", y=\"Survived\", col=\"Pclass\",\n",
        "                 data=train, saturation=.5,\n",
        "                 kind=\"bar\", ci=None, aspect=.6)\n",
        "\n",
        "for ax in g.axes.flat:\n",
        "    ax.yaxis.set_major_formatter(PercentFormatter(1))\n",
        "\n",
        "plt.show()"
      ],
      "execution_count": 437,
      "outputs": [
        {
          "output_type": "display_data",
          "data": {
            "image/png": "[encoded data removed]",
            "text/plain": [
              "<Figure size 648x360 with 3 Axes>"
            ]
          },
          "metadata": {
            "tags": []
          }
        }
      ]
    },
    {
      "cell_type": "markdown",
      "metadata": {
        "id": "Q5QBSkmtDayS"
      },
      "source": [
        "## Idade"
      ]
    },
    {
      "cell_type": "code",
      "metadata": {
        "colab": {
          "base_uri": "https://localhost:8080/"
        },
        "id": "Gdgoq33IDcS_",
        "outputId": "b067c437-4b4d-40c6-f96a-63ffcf559f48"
      },
      "source": [
        "# Sumário de idade\n",
        "train.Age.describe()\n"
      ],
      "execution_count": 438,
      "outputs": [
        {
          "output_type": "execute_result",
          "data": {
            "text/plain": [
              "count    714.000000\n",
              "mean      29.699118\n",
              "std       14.526497\n",
              "min        0.420000\n",
              "25%       20.125000\n",
              "50%       28.000000\n",
              "75%       38.000000\n",
              "max       80.000000\n",
              "Name: Age, dtype: float64"
            ]
          },
          "metadata": {
            "tags": []
          },
          "execution_count": 438
        }
      ]
    },
    {
      "cell_type": "code",
      "metadata": {
        "colab": {
          "base_uri": "https://localhost:8080/",
          "height": 371
        },
        "id": "iePzJ8jGvEhu",
        "outputId": "b698d47e-f7ff-4b47-a44a-79fbc27b92d8"
      },
      "source": [
        "plt.title(\"Histograma - Distribuição do atributo Age\")\n",
        "sns.distplot(a=train['Age'], kde = False, hist_kws = {'edgecolor':'black'})\n",
        "plt.ylabel(\"Count\")"
      ],
      "execution_count": 439,
      "outputs": [
        {
          "output_type": "stream",
          "text": [
            "/usr/local/lib/python3.6/dist-packages/seaborn/distributions.py:2551: FutureWarning: `distplot` is a deprecated function and will be removed in a future version. Please adapt your code to use either `displot` (a figure-level function with similar flexibility) or `histplot` (an axes-level function for histograms).\n",
            "  warnings.warn(msg, FutureWarning)\n"
          ],
          "name": "stderr"
        },
        {
          "output_type": "execute_result",
          "data": {
            "text/plain": [
              "Text(0, 0.5, 'Count')"
            ]
          },
          "metadata": {
            "tags": []
          },
          "execution_count": 439
        },
        {
          "output_type": "display_data",
          "data": {
            "image/png": "[encoded data removed]",
            "text/plain": [
              "<Figure size 432x288 with 1 Axes>"
            ]
          },
          "metadata": {
            "tags": []
          }
        }
      ]
    },
    {
      "cell_type": "code",
      "metadata": {
        "id": "QwHVwajDxr6i",
        "colab": {
          "base_uri": "https://localhost:8080/",
          "height": 282
        },
        "outputId": "043304e2-5357-4366-8894-40293a68b34e"
      },
      "source": [
        "#Boxplot Survived x Age\n",
        "sns.boxplot(x='Survived', y='Age', data=train)\n",
        "plt.show()"
      ],
      "execution_count": 440,
      "outputs": [
        {
          "output_type": "display_data",
          "data": {
            "image/png": "[encoded data removed]",
            "text/plain": [
              "<Figure size 432x288 with 1 Axes>"
            ]
          },
          "metadata": {
            "tags": []
          }
        }
      ]
    },
    {
      "cell_type": "code",
      "metadata": {
        "id": "bo0BS-fg1Gfa",
        "colab": {
          "base_uri": "https://localhost:8080/",
          "height": 299
        },
        "outputId": "a3c6325d-7ecc-4f64-ed6a-d7cbae944ace"
      },
      "source": [
        "#Boxplot Survived x Age agrupados pela Pclass\n",
        "sns.boxplot(x='Survived', y='Age', data=train, hue='Pclass')"
      ],
      "execution_count": 441,
      "outputs": [
        {
          "output_type": "execute_result",
          "data": {
            "text/plain": [
              "<matplotlib.axes._subplots.AxesSubplot at 0x7fc8f5ebd240>"
            ]
          },
          "metadata": {
            "tags": []
          },
          "execution_count": 441
        },
        {
          "output_type": "display_data",
          "data": {
            "image/png": "[encoded data removed]",
            "text/plain": [
              "<Figure size 432x288 with 1 Axes>"
            ]
          },
          "metadata": {
            "tags": []
          }
        }
      ]
    },
    {
      "cell_type": "code",
      "metadata": {
        "id": "JAv7kXGez_A2",
        "colab": {
          "base_uri": "https://localhost:8080/",
          "height": 299
        },
        "outputId": "c4f350cf-33c9-4240-de6b-c1c5fb87611f"
      },
      "source": [
        "#Boxplot Sex x Age agrupados pela Pclass\n",
        "\n",
        "sns.boxplot(x='Sex', y='Age', data=train, hue='Pclass')"
      ],
      "execution_count": 442,
      "outputs": [
        {
          "output_type": "execute_result",
          "data": {
            "text/plain": [
              "<matplotlib.axes._subplots.AxesSubplot at 0x7fc8f5bb8d30>"
            ]
          },
          "metadata": {
            "tags": []
          },
          "execution_count": 442
        },
        {
          "output_type": "display_data",
          "data": {
            "image/png": "[encoded data removed]",
            "text/plain": [
              "<Figure size 432x288 with 1 Axes>"
            ]
          },
          "metadata": {
            "tags": []
          }
        }
      ]
    },
    {
      "cell_type": "markdown",
      "metadata": {
        "id": "Az04p4Qz9ews"
      },
      "source": [
        "# Modelos de predição"
      ]
    },
    {
      "cell_type": "markdown",
      "metadata": {
        "id": "Eiaqbbw_s8oy"
      },
      "source": [
        "## Pré-processamento"
      ]
    },
    {
      "cell_type": "markdown",
      "metadata": {
        "id": "CgNPEPrLycxs"
      },
      "source": [
        "### Padronização\n",
        "\n",
        "https://scikit-learn.org/stable/modules/generated/sklearn.preprocessing.MinMaxScaler.html"
      ]
    },
    {
      "cell_type": "code",
      "metadata": {
        "id": "ZU8jy7U3zomz"
      },
      "source": [
        "from sklearn.preprocessing import MinMaxScaler\n",
        "minmax = MinMaxScaler()\n",
        "\n",
        "all_data[['Fare','Age']] = minmax.fit_transform(all_data[['Fare','Age']] )"
      ],
      "execution_count": 443,
      "outputs": []
    },
    {
      "cell_type": "markdown",
      "metadata": {
        "id": "Axe3UTx7CWhD"
      },
      "source": [
        "### Remoção de colunas e preparação de variáveis"
      ]
    },
    {
      "cell_type": "code",
      "metadata": {
        "id": "ckpnJdVtCWhE"
      },
      "source": [
        "# Remoção de colunas que não serão usadas\n",
        "all_data.drop(['PassengerId', 'Name', 'Ticket', 'Cabin'], axis=1, inplace=True)\n",
        "\n",
        "# Preparação de variaveis\n",
        "all_data['Sex'] = all_data['Sex'].map({'male': 0, 'female': 1}).astype(int)\n",
        "all_data['Embarked'] = all_data['Embarked'].map( {'S': 0, 'C': 1, 'Q': 2} ).astype(int)\n",
        "all_data['AgeGroup'] = all_data['AgeGroup'].map( {'Child': 0, 'Teenager': 1, 'Adult': 2, 'Old':3} ).astype(int)\n",
        "all_data['Title'] = all_data['Title'].map( {'Mr':0, 'Mrs':1, 'Miss':2, 'Master':3} ).astype(int)\n",
        "all_data['Deck'] = all_data['Deck'].map( {'ABC':0, 'DE':1, 'FG':2, 'U': 3} ).astype(int)\n"
      ],
      "execution_count": 444,
      "outputs": []
    },
    {
      "cell_type": "code",
      "metadata": {
        "colab": {
          "base_uri": "https://localhost:8080/",
          "height": 206
        },
        "id": "bSpjqxMC7HIi",
        "outputId": "c7deba40-2237-4f92-faf0-5ab5a7a75ed0"
      },
      "source": [
        "all_data.head()"
      ],
      "execution_count": 445,
      "outputs": [
        {
          "output_type": "execute_result",
          "data": {
            "text/html": [
              "<div>\n",
              "<style scoped>\n",
              "    .dataframe tbody tr th:only-of-type {\n",
              "        vertical-align: middle;\n",
              "    }\n",
              "\n",
              "    .dataframe tbody tr th {\n",
              "        vertical-align: top;\n",
              "    }\n",
              "\n",
              "    .dataframe thead th {\n",
              "        text-align: right;\n",
              "    }\n",
              "</style>\n",
              "<table border=\"1\" class=\"dataframe\">\n",
              "  <thead>\n",
              "    <tr style=\"text-align: right;\">\n",
              "      <th></th>\n",
              "      <th>Survived</th>\n",
              "      <th>Pclass</th>\n",
              "      <th>Sex</th>\n",
              "      <th>Age</th>\n",
              "      <th>SibSp</th>\n",
              "      <th>Parch</th>\n",
              "      <th>Fare</th>\n",
              "      <th>Embarked</th>\n",
              "      <th>Deck</th>\n",
              "      <th>AgeGroup</th>\n",
              "      <th>Title</th>\n",
              "      <th>FamilySize</th>\n",
              "      <th>Alone</th>\n",
              "    </tr>\n",
              "  </thead>\n",
              "  <tbody>\n",
              "    <tr>\n",
              "      <th>0</th>\n",
              "      <td>0.0</td>\n",
              "      <td>3</td>\n",
              "      <td>0</td>\n",
              "      <td>0.273456</td>\n",
              "      <td>1</td>\n",
              "      <td>0</td>\n",
              "      <td>0.014151</td>\n",
              "      <td>0</td>\n",
              "      <td>3</td>\n",
              "      <td>2</td>\n",
              "      <td>0</td>\n",
              "      <td>2</td>\n",
              "      <td>0</td>\n",
              "    </tr>\n",
              "    <tr>\n",
              "      <th>1</th>\n",
              "      <td>1.0</td>\n",
              "      <td>1</td>\n",
              "      <td>1</td>\n",
              "      <td>0.473882</td>\n",
              "      <td>1</td>\n",
              "      <td>0</td>\n",
              "      <td>0.139136</td>\n",
              "      <td>1</td>\n",
              "      <td>0</td>\n",
              "      <td>2</td>\n",
              "      <td>1</td>\n",
              "      <td>2</td>\n",
              "      <td>0</td>\n",
              "    </tr>\n",
              "    <tr>\n",
              "      <th>2</th>\n",
              "      <td>1.0</td>\n",
              "      <td>3</td>\n",
              "      <td>1</td>\n",
              "      <td>0.323563</td>\n",
              "      <td>0</td>\n",
              "      <td>0</td>\n",
              "      <td>0.015469</td>\n",
              "      <td>0</td>\n",
              "      <td>3</td>\n",
              "      <td>2</td>\n",
              "      <td>2</td>\n",
              "      <td>1</td>\n",
              "      <td>1</td>\n",
              "    </tr>\n",
              "    <tr>\n",
              "      <th>3</th>\n",
              "      <td>1.0</td>\n",
              "      <td>1</td>\n",
              "      <td>1</td>\n",
              "      <td>0.436302</td>\n",
              "      <td>1</td>\n",
              "      <td>0</td>\n",
              "      <td>0.103644</td>\n",
              "      <td>0</td>\n",
              "      <td>0</td>\n",
              "      <td>2</td>\n",
              "      <td>1</td>\n",
              "      <td>2</td>\n",
              "      <td>0</td>\n",
              "    </tr>\n",
              "    <tr>\n",
              "      <th>4</th>\n",
              "      <td>0.0</td>\n",
              "      <td>3</td>\n",
              "      <td>0</td>\n",
              "      <td>0.436302</td>\n",
              "      <td>0</td>\n",
              "      <td>0</td>\n",
              "      <td>0.015713</td>\n",
              "      <td>0</td>\n",
              "      <td>3</td>\n",
              "      <td>2</td>\n",
              "      <td>0</td>\n",
              "      <td>1</td>\n",
              "      <td>1</td>\n",
              "    </tr>\n",
              "  </tbody>\n",
              "</table>\n",
              "</div>"
            ],
            "text/plain": [
              "   Survived  Pclass  Sex       Age  ...  AgeGroup  Title  FamilySize  Alone\n",
              "0       0.0       3    0  0.273456  ...         2      0           2      0\n",
              "1       1.0       1    1  0.473882  ...         2      1           2      0\n",
              "2       1.0       3    1  0.323563  ...         2      2           1      1\n",
              "3       1.0       1    1  0.436302  ...         2      1           2      0\n",
              "4       0.0       3    0  0.436302  ...         2      0           1      1\n",
              "\n",
              "[5 rows x 13 columns]"
            ]
          },
          "metadata": {
            "tags": []
          },
          "execution_count": 445
        }
      ]
    },
    {
      "cell_type": "markdown",
      "metadata": {
        "id": "LbEc0uDX-I_M"
      },
      "source": [
        "### Correlação entre variáveis"
      ]
    },
    {
      "cell_type": "markdown",
      "metadata": {
        "id": "yeXrM-AH_VGf"
      },
      "source": [
        "Explorando o nível de correlação entre as variáveis."
      ]
    },
    {
      "cell_type": "code",
      "metadata": {
        "id": "mJqrDgBE_Cz7",
        "colab": {
          "base_uri": "https://localhost:8080/",
          "height": 655
        },
        "outputId": "5c19d056-168e-4b3e-8fe9-65b937627303"
      },
      "source": [
        "# Heatmap de coeficiente de correlação entre as variáveis\r\n",
        "plt.figure(figsize=(10,10))\r\n",
        "sns.heatmap(all_data.corr(), annot = True)"
      ],
      "execution_count": 446,
      "outputs": [
        {
          "output_type": "execute_result",
          "data": {
            "text/plain": [
              "<matplotlib.axes._subplots.AxesSubplot at 0x7fc8f52f10f0>"
            ]
          },
          "metadata": {
            "tags": []
          },
          "execution_count": 446
        },
        {
          "output_type": "display_data",
          "data": {
            "image/png": "[encoded data removed]",
            "text/plain": [
              "<Figure size 720x720 with 2 Axes>"
            ]
          },
          "metadata": {
            "tags": []
          }
        }
      ]
    },
    {
      "cell_type": "code",
      "metadata": {
        "id": "2vIgyPcW3K68"
      },
      "source": [
        "# Criação de dummies para atributos categóricos\n",
        "\n",
        "embarked_dummies = pd.get_dummies(all_data['Embarked'], prefix='Embarked')\n",
        "all_data = pd.concat([all_data, embarked_dummies], axis=1)\n",
        "all_data.drop('Embarked', axis=1, inplace=True)\n",
        "\n",
        "AgeGroup_dummies = pd.get_dummies(all_data['AgeGroup'], prefix='AgeGroup')\n",
        "all_data = pd.concat([all_data, AgeGroup_dummies], axis=1)\n",
        "all_data.drop('AgeGroup', axis=1, inplace=True)\n",
        "\n",
        "Title_dummies = pd.get_dummies(all_data['Title'], prefix='Title')\n",
        "all_data = pd.concat([all_data,Title_dummies], axis=1)\n",
        "all_data.drop('Title', axis=1, inplace=True)\n",
        "\n",
        "Deck_dummies = pd.get_dummies(all_data['Deck'], prefix='Deck')\n",
        "all_data = pd.concat([all_data,Deck_dummies], axis=1)\n",
        "all_data.drop('Deck', axis=1, inplace=True)\n",
        "\n"
      ],
      "execution_count": 447,
      "outputs": []
    },
    {
      "cell_type": "markdown",
      "metadata": {
        "id": "6NVkE-F7CWhF"
      },
      "source": [
        "### Separação dos datasets"
      ]
    },
    {
      "cell_type": "code",
      "metadata": {
        "colab": {
          "base_uri": "https://localhost:8080/"
        },
        "id": "jgOD2XFYp-Yw",
        "outputId": "0e0d7682-afa8-4c8f-a173-3b3003149ac6"
      },
      "source": [
        "# salvar PassengerId para submissao ao Kaggle\n",
        "passengerId = test['PassengerId']\n",
        "\n",
        "# carregamento do dataset de validação disponibilizado pelo Kaggle\n",
        "validation  = pd.read_csv(validation_url)\n",
        "\n",
        "# Extração do atributo classe Survived\n",
        "Y_train = train.Survived.copy() \n",
        "# Cópia do df tratado até o índice correpondente ao treino\n",
        "X_train = all_data.iloc[:train_idx]\n",
        "# Remoção do atributo Survived\n",
        "X_train.drop(['Survived'], axis=1, inplace=True) \n",
        "\n",
        "# Cópia do df tratado até o índice correpondente ao teste\n",
        "X_test = all_data.iloc[train_idx:]\n",
        "# Remoção do atributo Survived\n",
        "X_test.drop(['Survived'], axis=1, inplace=True) \n",
        "\n",
        "print(X_train.shape), print(X_test.shape)"
      ],
      "execution_count": 448,
      "outputs": [
        {
          "output_type": "stream",
          "text": [
            "(891, 23)\n",
            "(418, 23)\n"
          ],
          "name": "stdout"
        },
        {
          "output_type": "stream",
          "text": [
            "/usr/local/lib/python3.6/dist-packages/pandas/core/frame.py:4174: SettingWithCopyWarning: \n",
            "A value is trying to be set on a copy of a slice from a DataFrame\n",
            "\n",
            "See the caveats in the documentation: https://pandas.pydata.org/pandas-docs/stable/user_guide/indexing.html#returning-a-view-versus-a-copy\n",
            "  errors=errors,\n"
          ],
          "name": "stderr"
        },
        {
          "output_type": "execute_result",
          "data": {
            "text/plain": [
              "(None, None)"
            ]
          },
          "metadata": {
            "tags": []
          },
          "execution_count": 448
        }
      ]
    },
    {
      "cell_type": "code",
      "metadata": {
        "id": "dxNcKxs12rS0"
      },
      "source": [
        "from sklearn.model_selection import train_test_split\n",
        "# Separação treino e teste\n",
        "tr_x, te_x, tr_y, te_y = train_test_split(X_train, Y_train,\n",
        "                                            test_size = 0.3,\n",
        "                                            random_state=42,\n",
        "                                            stratify = Y_train)"
      ],
      "execution_count": 449,
      "outputs": []
    },
    {
      "cell_type": "markdown",
      "metadata": {
        "id": "56h8o3TzCWhH"
      },
      "source": [
        "##  Arvore de decisão"
      ]
    },
    {
      "cell_type": "code",
      "metadata": {
        "colab": {
          "base_uri": "https://localhost:8080/"
        },
        "id": "OQhjNUaoCWhH",
        "outputId": "2180783e-dd7a-484a-e7f2-a2633b58278f"
      },
      "source": [
        "from sklearn.tree import DecisionTreeClassifier\n",
        "from sklearn.model_selection import GridSearchCV\n",
        "from sklearn.metrics import accuracy_score\n",
        "\n",
        "\n",
        "param_grid = {'criterion': ['entropy', 'gini'],\n",
        "              'max_depth': range(2,30,2),\n",
        "              'min_samples_leaf': range(2,10,2),\n",
        "              'min_impurity_decrease': np.linspace(0,0.5,10)}\n",
        "dtc = DecisionTreeClassifier()\n",
        "gs = GridSearchCV(dtc, param_grid=param_grid)\n",
        "gs.fit(tr_x, tr_y)"
      ],
      "execution_count": 450,
      "outputs": [
        {
          "output_type": "execute_result",
          "data": {
            "text/plain": [
              "GridSearchCV(cv=None, error_score=nan,\n",
              "             estimator=DecisionTreeClassifier(ccp_alpha=0.0, class_weight=None,\n",
              "                                              criterion='gini', max_depth=None,\n",
              "                                              max_features=None,\n",
              "                                              max_leaf_nodes=None,\n",
              "                                              min_impurity_decrease=0.0,\n",
              "                                              min_impurity_split=None,\n",
              "                                              min_samples_leaf=1,\n",
              "                                              min_samples_split=2,\n",
              "                                              min_weight_fraction_leaf=0.0,\n",
              "                                              presort='deprecated',\n",
              "                                              random_state=None,\n",
              "                                              splitter='best'),\n",
              "             iid='deprecated', n_jobs=None,\n",
              "             param_grid={'criterion': ['entropy', 'gini'],\n",
              "                         'max_depth': range(2, 30, 2),\n",
              "                         'min_impurity_decrease': array([0.        , 0.05555556, 0.11111111, 0.16666667, 0.22222222,\n",
              "       0.27777778, 0.33333333, 0.38888889, 0.44444444, 0.5       ]),\n",
              "                         'min_samples_leaf': range(2, 10, 2)},\n",
              "             pre_dispatch='2*n_jobs', refit=True, return_train_score=False,\n",
              "             scoring=None, verbose=0)"
            ]
          },
          "metadata": {
            "tags": []
          },
          "execution_count": 450
        }
      ]
    },
    {
      "cell_type": "markdown",
      "metadata": {
        "id": "kXeukgKxCWhI"
      },
      "source": [
        "### Predição e avaliação do modelo"
      ]
    },
    {
      "cell_type": "code",
      "metadata": {
        "colab": {
          "base_uri": "https://localhost:8080/"
        },
        "id": "VSOauS0sCWhI",
        "outputId": "3401413c-992b-4609-8b47-03df98b9e21b"
      },
      "source": [
        "# Melhores parametros apontados pelo grid search\n",
        "dtc = gs.best_estimator_\n",
        "\n",
        "dtc.fit(tr_x, tr_y)\n",
        "y_pred = dtc.predict(te_x)\n",
        "print(accuracy_score(te_y, y_pred))"
      ],
      "execution_count": 451,
      "outputs": [
        {
          "output_type": "stream",
          "text": [
            "0.8283582089552238\n"
          ],
          "name": "stdout"
        }
      ]
    },
    {
      "cell_type": "code",
      "metadata": {
        "id": "ontV8foSCWhJ",
        "colab": {
          "base_uri": "https://localhost:8080/",
          "height": 334
        },
        "outputId": "2920939a-c5fa-4739-ff5f-ac7db67026bf"
      },
      "source": [
        "from sklearn.metrics import plot_confusion_matrix\n",
        "disp = plot_confusion_matrix(dtc, te_x, te_y,\n",
        "                                 display_labels=[\"No\", \"Yes\"],\n",
        "                                 cmap=plt.cm.Blues)\n",
        "disp.ax_.set_title(\"Confusion Matrix\")\n",
        "\n",
        "print(disp.confusion_matrix)"
      ],
      "execution_count": 452,
      "outputs": [
        {
          "output_type": "stream",
          "text": [
            "[[142  23]\n",
            " [ 23  80]]\n"
          ],
          "name": "stdout"
        },
        {
          "output_type": "display_data",
          "data": {
            "image/png": "[encoded data removed]",
            "text/plain": [
              "<Figure size 432x288 with 2 Axes>"
            ]
          },
          "metadata": {
            "tags": []
          }
        }
      ]
    },
    {
      "cell_type": "markdown",
      "metadata": {
        "id": "OZQrYvyuCWhK"
      },
      "source": [
        "## K-Neighbors Classifier"
      ]
    },
    {
      "cell_type": "code",
      "metadata": {
        "id": "TBdA3lyCCWhL",
        "colab": {
          "base_uri": "https://localhost:8080/"
        },
        "outputId": "105b1f0c-182b-4d7b-deb3-f2c6468265ae"
      },
      "source": [
        "from sklearn.neighbors import KNeighborsClassifier\n",
        "param_grid = {'weights': ['uniform', 'distance'],\n",
        "              'n_neighbors': range(1,15,2),\n",
        "              'metric': ['euclidean', 'manhattan']}\n",
        "\n",
        "knc = KNeighborsClassifier()\n",
        "gs = GridSearchCV(knc, param_grid=param_grid)\n",
        "gs.fit(tr_x, tr_y)"
      ],
      "execution_count": 453,
      "outputs": [
        {
          "output_type": "execute_result",
          "data": {
            "text/plain": [
              "GridSearchCV(cv=None, error_score=nan,\n",
              "             estimator=KNeighborsClassifier(algorithm='auto', leaf_size=30,\n",
              "                                            metric='minkowski',\n",
              "                                            metric_params=None, n_jobs=None,\n",
              "                                            n_neighbors=5, p=2,\n",
              "                                            weights='uniform'),\n",
              "             iid='deprecated', n_jobs=None,\n",
              "             param_grid={'metric': ['euclidean', 'manhattan'],\n",
              "                         'n_neighbors': range(1, 15, 2),\n",
              "                         'weights': ['uniform', 'distance']},\n",
              "             pre_dispatch='2*n_jobs', refit=True, return_train_score=False,\n",
              "             scoring=None, verbose=0)"
            ]
          },
          "metadata": {
            "tags": []
          },
          "execution_count": 453
        }
      ]
    },
    {
      "cell_type": "markdown",
      "metadata": {
        "id": "AyBDSKqSCWhM"
      },
      "source": [
        "### Predição e avaliação do modelo"
      ]
    },
    {
      "cell_type": "code",
      "metadata": {
        "id": "TsJoclW4CWhN",
        "colab": {
          "base_uri": "https://localhost:8080/"
        },
        "outputId": "685b26e1-36c0-454f-f005-aa622929a762"
      },
      "source": [
        "# Melhores parametros apontados pelo grid search\n",
        "knc = gs.best_estimator_\n",
        "\n",
        "knc.fit(tr_x, tr_y)\n",
        "y_pred = knc.predict(te_x)\n",
        "print(accuracy_score(te_y, y_pred))"
      ],
      "execution_count": 454,
      "outputs": [
        {
          "output_type": "stream",
          "text": [
            "0.7947761194029851\n"
          ],
          "name": "stdout"
        }
      ]
    },
    {
      "cell_type": "code",
      "metadata": {
        "id": "tWHb3LmJCWhO",
        "colab": {
          "base_uri": "https://localhost:8080/",
          "height": 334
        },
        "outputId": "f1a4ece9-982e-446b-812e-cf701b695482"
      },
      "source": [
        "disp = plot_confusion_matrix(knc, te_x, te_y,\n",
        "                                display_labels=[\"No\", \"Yes\"],\n",
        "                                cmap=plt.cm.Blues)\n",
        "disp.ax_.set_title(\"Confusion Matrix\")\n",
        "\n",
        "print(disp.confusion_matrix)"
      ],
      "execution_count": 455,
      "outputs": [
        {
          "output_type": "stream",
          "text": [
            "[[139  26]\n",
            " [ 29  74]]\n"
          ],
          "name": "stdout"
        },
        {
          "output_type": "display_data",
          "data": {
            "image/png": "[encoded data removed]",
            "text/plain": [
              "<Figure size 432x288 with 2 Axes>"
            ]
          },
          "metadata": {
            "tags": []
          }
        }
      ]
    },
    {
      "cell_type": "markdown",
      "metadata": {
        "id": "j-yvlk4LCWhO"
      },
      "source": [
        "## SVM"
      ]
    },
    {
      "cell_type": "code",
      "metadata": {
        "id": "SNo4bWGvCWhP",
        "colab": {
          "base_uri": "https://localhost:8080/"
        },
        "outputId": "a02eb855-81bb-4b71-d2b7-3321b56162ab"
      },
      "source": [
        "from sklearn.svm import NuSVC\n",
        "param_grid = {'kernel': ['linear', 'poly', 'rbf', 'sigmoid'],\n",
        "              'decision_function_shape' : ['ovo', 'ovr']}\n",
        "\n",
        "svc = NuSVC()\n",
        "gs = GridSearchCV(svc, param_grid=param_grid)\n",
        "gs.fit(tr_x, tr_y)"
      ],
      "execution_count": 456,
      "outputs": [
        {
          "output_type": "execute_result",
          "data": {
            "text/plain": [
              "GridSearchCV(cv=None, error_score=nan,\n",
              "             estimator=NuSVC(break_ties=False, cache_size=200,\n",
              "                             class_weight=None, coef0=0.0,\n",
              "                             decision_function_shape='ovr', degree=3,\n",
              "                             gamma='scale', kernel='rbf', max_iter=-1, nu=0.5,\n",
              "                             probability=False, random_state=None,\n",
              "                             shrinking=True, tol=0.001, verbose=False),\n",
              "             iid='deprecated', n_jobs=None,\n",
              "             param_grid={'decision_function_shape': ['ovo', 'ovr'],\n",
              "                         'kernel': ['linear', 'poly', 'rbf', 'sigmoid']},\n",
              "             pre_dispatch='2*n_jobs', refit=True, return_train_score=False,\n",
              "             scoring=None, verbose=0)"
            ]
          },
          "metadata": {
            "tags": []
          },
          "execution_count": 456
        }
      ]
    },
    {
      "cell_type": "markdown",
      "metadata": {
        "id": "kdG9KWZdCWhQ"
      },
      "source": [
        "### Predição e avaliação do modelo"
      ]
    },
    {
      "cell_type": "code",
      "metadata": {
        "id": "B2kPBQpQCWhR",
        "colab": {
          "base_uri": "https://localhost:8080/"
        },
        "outputId": "a54093e1-02e2-4beb-d4e6-8bda24781a71"
      },
      "source": [
        "# Melhores parametros apontados pelo grid search\n",
        "svc = gs.best_estimator_\n",
        "\n",
        "svc.fit(tr_x, tr_y)\n",
        "y_pred = svc.predict(te_x)\n",
        "print(accuracy_score(te_y, y_pred))"
      ],
      "execution_count": 457,
      "outputs": [
        {
          "output_type": "stream",
          "text": [
            "0.8208955223880597\n"
          ],
          "name": "stdout"
        }
      ]
    },
    {
      "cell_type": "code",
      "metadata": {
        "id": "5tjcV1zVCWhR",
        "colab": {
          "base_uri": "https://localhost:8080/",
          "height": 334
        },
        "outputId": "e828296e-9382-485d-87e5-eb176cb64938"
      },
      "source": [
        "disp = plot_confusion_matrix(svc, te_x, te_y,\n",
        "                                 display_labels=[\"No\", \"Yes\"],\n",
        "                                 cmap=plt.cm.Blues)\n",
        "disp.ax_.set_title(\"Confusion Matrix\")\n",
        "\n",
        "print(disp.confusion_matrix)"
      ],
      "execution_count": 458,
      "outputs": [
        {
          "output_type": "stream",
          "text": [
            "[[145  20]\n",
            " [ 28  75]]\n"
          ],
          "name": "stdout"
        },
        {
          "output_type": "display_data",
          "data": {
            "image/png": "[encoded data removed]",
            "text/plain": [
              "<Figure size 432x288 with 2 Axes>"
            ]
          },
          "metadata": {
            "tags": []
          }
        }
      ]
    },
    {
      "cell_type": "markdown",
      "metadata": {
        "id": "TfEELhx3CWhR"
      },
      "source": [
        "## Naive Bayes"
      ]
    },
    {
      "cell_type": "code",
      "metadata": {
        "id": "PQDa_1bjCWhR",
        "colab": {
          "base_uri": "https://localhost:8080/"
        },
        "outputId": "eb564ee7-5263-4652-c15b-3241167a8a09"
      },
      "source": [
        "from sklearn.naive_bayes import MultinomialNB\n",
        "param_grid = {'alpha': np.linspace(0.1,2,5),\n",
        "              'fit_prior': [False,True]}\n",
        "\n",
        "mnb = MultinomialNB()\n",
        "gs = GridSearchCV(mnb, param_grid=param_grid)\n",
        "gs.fit(tr_x, tr_y)"
      ],
      "execution_count": 459,
      "outputs": [
        {
          "output_type": "execute_result",
          "data": {
            "text/plain": [
              "GridSearchCV(cv=None, error_score=nan,\n",
              "             estimator=MultinomialNB(alpha=1.0, class_prior=None,\n",
              "                                     fit_prior=True),\n",
              "             iid='deprecated', n_jobs=None,\n",
              "             param_grid={'alpha': array([0.1  , 0.575, 1.05 , 1.525, 2.   ]),\n",
              "                         'fit_prior': [False, True]},\n",
              "             pre_dispatch='2*n_jobs', refit=True, return_train_score=False,\n",
              "             scoring=None, verbose=0)"
            ]
          },
          "metadata": {
            "tags": []
          },
          "execution_count": 459
        }
      ]
    },
    {
      "cell_type": "markdown",
      "metadata": {
        "id": "WzZLwmkyCWhS"
      },
      "source": [
        "### Predição e avaliação do modelo"
      ]
    },
    {
      "cell_type": "code",
      "metadata": {
        "id": "gB4tfY8yCWhU",
        "colab": {
          "base_uri": "https://localhost:8080/"
        },
        "outputId": "e25b9f56-288e-4db7-d403-865503cbf313"
      },
      "source": [
        "# Melhores parametros apontados pelo grid search\n",
        "mnb = gs.best_estimator_\n",
        "\n",
        "mnb.fit(tr_x, tr_y)\n",
        "y_pred = mnb.predict(te_x)\n",
        "print(accuracy_score(te_y, y_pred))"
      ],
      "execution_count": 460,
      "outputs": [
        {
          "output_type": "stream",
          "text": [
            "0.7761194029850746\n"
          ],
          "name": "stdout"
        }
      ]
    },
    {
      "cell_type": "code",
      "metadata": {
        "id": "wyIs7by2CWhU",
        "colab": {
          "base_uri": "https://localhost:8080/",
          "height": 334
        },
        "outputId": "83c016f3-d9e4-40bc-f326-353df26aea30"
      },
      "source": [
        "disp = plot_confusion_matrix(mnb, te_x, te_y,\n",
        "                                 display_labels=[\"No\", \"Yes\"],\n",
        "                                 cmap=plt.cm.Blues)\n",
        "disp.ax_.set_title(\"Confusion Matrix\")\n",
        "\n",
        "print(disp.confusion_matrix)"
      ],
      "execution_count": 461,
      "outputs": [
        {
          "output_type": "stream",
          "text": [
            "[[125  40]\n",
            " [ 20  83]]\n"
          ],
          "name": "stdout"
        },
        {
          "output_type": "display_data",
          "data": {
            "image/png": "[encoded data removed]",
            "text/plain": [
              "<Figure size 432x288 with 2 Axes>"
            ]
          },
          "metadata": {
            "tags": []
          }
        }
      ]
    },
    {
      "cell_type": "markdown",
      "metadata": {
        "id": "c7OMqgseCWhU"
      },
      "source": [
        "## Logistic regression"
      ]
    },
    {
      "cell_type": "code",
      "metadata": {
        "id": "oj2iXodLCWhU",
        "colab": {
          "base_uri": "https://localhost:8080/"
        },
        "outputId": "47a7616c-f3f7-4b8c-b217-1e7f67b86658"
      },
      "source": [
        "from sklearn.linear_model import LogisticRegression\n",
        "param_grid = {'penalty' : ['l2'],\n",
        "              'fit_intercept': [False,True],\n",
        "              'solver' : ['newton-cg', 'liblinear']}\n",
        "\n",
        "lr = LogisticRegression()\n",
        "gs = GridSearchCV(lr, param_grid=param_grid)\n",
        "gs.fit(tr_x, tr_y)"
      ],
      "execution_count": 462,
      "outputs": [
        {
          "output_type": "execute_result",
          "data": {
            "text/plain": [
              "GridSearchCV(cv=None, error_score=nan,\n",
              "             estimator=LogisticRegression(C=1.0, class_weight=None, dual=False,\n",
              "                                          fit_intercept=True,\n",
              "                                          intercept_scaling=1, l1_ratio=None,\n",
              "                                          max_iter=100, multi_class='auto',\n",
              "                                          n_jobs=None, penalty='l2',\n",
              "                                          random_state=None, solver='lbfgs',\n",
              "                                          tol=0.0001, verbose=0,\n",
              "                                          warm_start=False),\n",
              "             iid='deprecated', n_jobs=None,\n",
              "             param_grid={'fit_intercept': [False, True], 'penalty': ['l2'],\n",
              "                         'solver': ['newton-cg', 'liblinear']},\n",
              "             pre_dispatch='2*n_jobs', refit=True, return_train_score=False,\n",
              "             scoring=None, verbose=0)"
            ]
          },
          "metadata": {
            "tags": []
          },
          "execution_count": 462
        }
      ]
    },
    {
      "cell_type": "markdown",
      "metadata": {
        "id": "nhWdmfnrCWhV"
      },
      "source": [
        "### Predição e avaliação do modelo"
      ]
    },
    {
      "cell_type": "code",
      "metadata": {
        "id": "fDbCIN6jCWhW",
        "colab": {
          "base_uri": "https://localhost:8080/"
        },
        "outputId": "cedc9435-88e1-4f5b-9827-82141454ac17"
      },
      "source": [
        "# Melhores parametros apontados pelo grid search\n",
        "lr = gs.best_estimator_\n",
        "\n",
        "lr.fit(tr_x, tr_y)\n",
        "y_pred = lr.predict(te_x)\n",
        "print(accuracy_score(te_y, y_pred))"
      ],
      "execution_count": 463,
      "outputs": [
        {
          "output_type": "stream",
          "text": [
            "0.832089552238806\n"
          ],
          "name": "stdout"
        }
      ]
    },
    {
      "cell_type": "code",
      "metadata": {
        "id": "-CBXZTHPCWhW",
        "colab": {
          "base_uri": "https://localhost:8080/",
          "height": 334
        },
        "outputId": "6e3b8f3e-ddb5-4541-f29a-e50845ca507c"
      },
      "source": [
        "disp = plot_confusion_matrix(lr, te_x, te_y,\n",
        "                                 display_labels=[\"No\", \"Yes\"],\n",
        "                                 cmap=plt.cm.Blues)\n",
        "disp.ax_.set_title(\"Confusion Matrix\")\n",
        "\n",
        "print(disp.confusion_matrix)"
      ],
      "execution_count": 464,
      "outputs": [
        {
          "output_type": "stream",
          "text": [
            "[[143  22]\n",
            " [ 23  80]]\n"
          ],
          "name": "stdout"
        },
        {
          "output_type": "display_data",
          "data": {
            "image/png": "[encoded data removed]",
            "text/plain": [
              "<Figure size 432x288 with 2 Axes>"
            ]
          },
          "metadata": {
            "tags": []
          }
        }
      ]
    },
    {
      "cell_type": "markdown",
      "metadata": {
        "id": "r7Q2KNPt9ilv"
      },
      "source": [
        "## Validação Final"
      ]
    },
    {
      "cell_type": "code",
      "metadata": {
        "id": "YFSA9dOS3xOd"
      },
      "source": [
        "# Decision Tree\n",
        "final_predDTC =  dtc.predict(X_test)\n",
        "acc_DT = accuracy_score(validation['Survived'], final_predDTC)\n",
        "\n",
        "# KNC\n",
        "final_predKNC =  knc.predict(X_test)\n",
        "acc_KNC = accuracy_score(validation['Survived'], final_predKNC)\n",
        "\n",
        "# SVC\n",
        "final_predSVC =  svc.predict(X_test)\n",
        "acc_SVC = accuracy_score(validation['Survived'], final_predSVC)\n",
        "\n",
        "# Naive Bayes\n",
        "final_predMNB =  mnb.predict(X_test)\n",
        "acc_NB = accuracy_score(validation['Survived'], final_predMNB)\n",
        "\n",
        "# Logistic Regression\n",
        "final_predLR =  lr.predict(X_test)\n",
        "acc_LR = accuracy_score(validation['Survived'], final_predLR)"
      ],
      "execution_count": 465,
      "outputs": []
    },
    {
      "cell_type": "code",
      "metadata": {
        "colab": {
          "base_uri": "https://localhost:8080/",
          "height": 206
        },
        "id": "yQ3T9cVc-Lqk",
        "outputId": "56700d53-8a45-4723-b1c0-031e082640e8"
      },
      "source": [
        "models = pd.DataFrame({\n",
        "    'Model': ['Decision Tree', 'KNC', 'SVC', \n",
        "              'Naive Bayes',  'Logistic Regression'],\n",
        "    'Score': [acc_DT, acc_KNC, acc_SVC, \n",
        "              acc_NB, acc_LR]})\n",
        "models.sort_values(by='Score', ascending=False)"
      ],
      "execution_count": 466,
      "outputs": [
        {
          "output_type": "execute_result",
          "data": {
            "text/html": [
              "<div>\n",
              "<style scoped>\n",
              "    .dataframe tbody tr th:only-of-type {\n",
              "        vertical-align: middle;\n",
              "    }\n",
              "\n",
              "    .dataframe tbody tr th {\n",
              "        vertical-align: top;\n",
              "    }\n",
              "\n",
              "    .dataframe thead th {\n",
              "        text-align: right;\n",
              "    }\n",
              "</style>\n",
              "<table border=\"1\" class=\"dataframe\">\n",
              "  <thead>\n",
              "    <tr style=\"text-align: right;\">\n",
              "      <th></th>\n",
              "      <th>Model</th>\n",
              "      <th>Score</th>\n",
              "    </tr>\n",
              "  </thead>\n",
              "  <tbody>\n",
              "    <tr>\n",
              "      <th>2</th>\n",
              "      <td>SVC</td>\n",
              "      <td>0.944976</td>\n",
              "    </tr>\n",
              "    <tr>\n",
              "      <th>3</th>\n",
              "      <td>Naive Bayes</td>\n",
              "      <td>0.937799</td>\n",
              "    </tr>\n",
              "    <tr>\n",
              "      <th>4</th>\n",
              "      <td>Logistic Regression</td>\n",
              "      <td>0.925837</td>\n",
              "    </tr>\n",
              "    <tr>\n",
              "      <th>0</th>\n",
              "      <td>Decision Tree</td>\n",
              "      <td>0.921053</td>\n",
              "    </tr>\n",
              "    <tr>\n",
              "      <th>1</th>\n",
              "      <td>KNC</td>\n",
              "      <td>0.889952</td>\n",
              "    </tr>\n",
              "  </tbody>\n",
              "</table>\n",
              "</div>"
            ],
            "text/plain": [
              "                 Model     Score\n",
              "2                  SVC  0.944976\n",
              "3          Naive Bayes  0.937799\n",
              "4  Logistic Regression  0.925837\n",
              "0        Decision Tree  0.921053\n",
              "1                  KNC  0.889952"
            ]
          },
          "metadata": {
            "tags": []
          },
          "execution_count": 466
        }
      ]
    },
    {
      "cell_type": "code",
      "metadata": {
        "id": "JLDl5Uxo94j2"
      },
      "source": [
        "submission_DTC = pd.DataFrame({\"PassengerId\": passengerId, \"Survived\": final_predDTC })\n",
        "submission_KNC = pd.DataFrame({\"PassengerId\": passengerId, \"Survived\": final_predKNC })\n",
        "submission_SVC = pd.DataFrame({\"PassengerId\": passengerId, \"Survived\": final_predSVC })\n",
        "submission_MNB = pd.DataFrame({\"PassengerId\": passengerId, \"Survived\": final_predMNB })\n",
        "submission_LR = pd.DataFrame({\"PassengerId\": passengerId, \"Survived\": final_predLR })\n",
        "\n",
        "submission_DTC.to_csv('/content/submission_DTC.csv', index = False)\n",
        "submission_KNC.to_csv('/content/submission_KNC.csv', index = False)\n",
        "submission_SVC.to_csv('/content/submission_SVC.csv', index = False)\n",
        "submission_MNB.to_csv('/content/submission_MNB.csv', index = False)\n",
        "submission_LR.to_csv('/content/submission_LR.csv', index = False)"
      ],
      "execution_count": 469,
      "outputs": []
    },
    {
      "cell_type": "markdown",
      "metadata": {
        "id": "B4Qm-DdH3qmc"
      },
      "source": [
        "# Referências\n",
        "\n",
        "* [Kaggle Competition - Titanic: Machine Learning from Disaster ](https://www.kaggle.com/c/titanic)\n",
        "* [Kaggle Notebook - Titanic Tutorial](https://www.kaggle.com/alexisbcook/titanic-tutorial)\n",
        "* [Kaggle Notebook - Titanic Survival Prediction](https://www.kaggle.com/vaishnavikhilari/titanic-survival-prediction#3.-Imputation-of-Missing-Data/-Outliers)\n",
        "* [Kaggle Notebook - Survivors Classification on Titanic using R](https://www.kaggle.com/galvaowesley/survivors-classification-on-titanic-using-r)\n",
        "* [Tutorial: Introduction to Missing Data Imputation](https://medium.com/@Cambridge_Spark/tutorial-introduction-to-missing-data-imputation-4912b51c34eb)\n",
        "* [Different Ways to Compensate for Missing Values In a Dataset (Data Imputation with examples ](https://towardsdatascience.com/6-different-ways-to-compensate-for-missing-values-data-imputation-with-examples-6022d9ca0779)\n",
        "* [Titanic: Machine Learning from Disaster](https://github.com/carlosfab/data_science/blob/master/Titanic.ipynb)\n",
        "* [Scikit-Learn Documentation](https://scikit-learn.org/stable/index.html)"
      ]
    },
    {
      "cell_type": "markdown",
      "metadata": {
        "id": "ma0Dqr2G30Ui"
      },
      "source": [
        ""
      ]
    }
  ]
}