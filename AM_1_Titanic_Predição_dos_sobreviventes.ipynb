{
  "nbformat": 4,
  "nbformat_minor": 0,
  "metadata": {
    "colab": {
      "name": " AM_1 - Titanic Predição dos sobreviventes",
      "provenance": [],
      "collapsed_sections": [],
      "include_colab_link": true
    },
    "kernelspec": {
      "name": "python38364bitdesafio1condaae5eb0a4db284d2db31a0e94f8f8fa71",
      "display_name": "Python 3.8.3 64-bit ('desafio1': conda)",
      "language": "python"
    }
  },
  "cells": [
    {
      "cell_type": "markdown",
      "metadata": {
        "id": "view-in-github",
        "colab_type": "text"
      },
      "source": [
        "<a href=\"https://colab.research.google.com/github/rafabenevente/AM_1/blob/main/AM_1_Titanic_Predi%C3%A7%C3%A3o_dos_sobreviventes.ipynb\" target=\"_parent\"><img src=\"https://colab.research.google.com/assets/colab-badge.svg\" alt=\"Open In Colab\"/></a>"
      ]
    },
    {
      "cell_type": "code",
      "metadata": {
        "id": "9TFedrV3QQxW",
        "colab": {
          "base_uri": "https://localhost:8080/"
        },
        "outputId": "ac9ef64f-952d-4464-f569-44172e1da839"
      },
      "source": [
        "import sklearn\n",
        "print(sklearn.__version__)"
      ],
      "execution_count": 213,
      "outputs": [
        {
          "output_type": "stream",
          "text": [
            "0.22.2.post1\n"
          ],
          "name": "stdout"
        }
      ]
    },
    {
      "cell_type": "markdown",
      "metadata": {
        "id": "jkyfY8TTTaGW"
      },
      "source": [
        "Titanic: Predição dos Sobreviventes com Machine Learning\n",
        "==="
      ]
    },
    {
      "cell_type": "markdown",
      "metadata": {
        "id": "ju-KZXdXZBWo"
      },
      "source": [
        "# Conhecendo o Conjunto de Dados"
      ]
    },
    {
      "cell_type": "markdown",
      "metadata": {
        "id": "P1szlYYxSrqt"
      },
      "source": [
        "\n",
        "**Dicionário**\n",
        "\n",
        "|Variável |Definição|Chave|\n",
        "|:---- |----|----:|\n",
        "|survival  | Sobrevivente |0 = Não, 1 = Sim|\n",
        "|pclass |Classe da ticket| 1 = 1st, 2 = 2nd, 3 = 3rd|\n",
        "|sex  |Sexo| \t\n",
        "|Age  | Idade em anos| \t\n",
        "|sibsp| # de irmãs / cônjuges a bordo do Titanic |\n",
        "|parch |# de pais / crianças a bordo do Titanic |\t\n",
        "|ticket| ID do ticket| \t\n",
        "|fare \t|Tarifa de passageiro (libra esterlina)| \t\n",
        "|cabin \t|número da cabine| \t\n",
        "|embarked |Porto de embarcação|C = Cherbourg, Q = Queenstown, S = Southampton|\n",
        "\n",
        "\n",
        "**Observações**\n",
        "- pclass: Status socieconômico\n",
        "    - 1st = Alta\n",
        "    - 2nd = Média\n",
        "    - 3rd = Baixa\n",
        "- age: A idade é fracionária se menor que 1. Se a idade for estimada, é na forma de xx.5\n",
        "\n",
        "- sibsp: O conjunto de dados define as relações familiares desta forma ...\n",
        "    - Sibling = irmão, irmã, meio-irmão, meia-irmã\n",
        "    - Spouse = marido, esposa (amantes e noivos foram ignorados)\n",
        "\n",
        "- parch: O conjunto de dados define as relações familiares desta forma ...\n",
        "    - Parent = mãe, pai\n",
        "    - Child = filha, filho, enteada, enteado\n",
        "    - Algumas crianças viajavam apenas com a babá, portanto parch = 0 para elas.\n",
        "\n"
      ]
    },
    {
      "cell_type": "markdown",
      "metadata": {
        "id": "Klht-c5pc5G5"
      },
      "source": [
        "## Importação e características"
      ]
    },
    {
      "cell_type": "code",
      "metadata": {
        "id": "bGCnWZz1PXPZ"
      },
      "source": [
        "test_url = 'https://raw.githubusercontent.com/rafabenevente/AM_1/main/test.csv'\n",
        "train_url = 'https://raw.githubusercontent.com/rafabenevente/AM_1/main/train.csv'\n",
        "validation_url = 'https://raw.githubusercontent.com/galvaowesley/MachineLearning_Learning/master/Titanic%20-%20Suvivors%20Classification/gender_submission.csv'\n",
        "\n",
        "# Importa as bibliotecas de cálculo e manipulação de dados\n",
        "import numpy as np\n",
        "import pandas as pd\n",
        "from matplotlib import pyplot as plt\n",
        "from  matplotlib.ticker import PercentFormatter\n",
        "import seaborn as sns\n"
      ],
      "execution_count": 214,
      "outputs": []
    },
    {
      "cell_type": "code",
      "metadata": {
        "id": "zBNrLsyZ15NV"
      },
      "source": [
        "# Fonte: https://stackoverflow.com/questions/63745343/annotate-percentage-of-group-within-a-seaborn-countplot\n",
        "def barPlotPercent(df, atributo1, atributo2):\n",
        "  '''\n",
        "  Função que recebe um dataframe e dois atributos categóricos, realiza o agrupamento \n",
        "  de ambos e mostra a contagem e percentual do atributo1 em função do atributo2. \n",
        "  '''\n",
        "\n",
        "  # prepare the dataset\n",
        "  df = (df\n",
        "        .groupby([atributo1, atributo2])\n",
        "        .size()\n",
        "        .reset_index()\n",
        "        #.replace({\"Survived\": {0:\"no\", 1:\"yes\"}})\n",
        "        .rename(columns={0:\"count\"}))\n",
        "\n",
        "  # Calcula o percentual do atributo2 % por níveis do atributo1.\n",
        "  df[\"percent\"] = (df\n",
        "                  .groupby(atributo1)\n",
        "                  .apply(lambda x: x[\"count\"] / x[\"count\"].sum()).values)\n",
        "\n",
        "  # sort the dataframe to match the drawing order\n",
        "  df.sort_values(by=[atributo2, atributo1], inplace=True)\n",
        "\n",
        "  # Visualização\n",
        "  plt.style.use('ggplot')\n",
        "  fig = sns.catplot(\n",
        "    x=\"count\", y=atributo1, hue=atributo2,\n",
        "    kind=\"bar\", data=df, height=4, aspect=2)\n",
        "\n",
        "  for i, bar in enumerate(fig.ax.patches):\n",
        "    \n",
        "      height = bar.get_height()\n",
        "      fig.ax.annotate(\n",
        "          # reference the pre-calculated row in the dataframe\n",
        "          f\"{df.iloc[i, 3] :.0%}\",\n",
        "          xycoords=\"data\",\n",
        "          xytext=(20, -15),\n",
        "          textcoords=\"offset points\",\n",
        "          xy=(bar.get_width(), bar.get_y()),\n",
        "          ha='center', va='center')\n",
        "\n",
        "  # make space for annonations\n",
        "  plt.margins(x=0.2)\n",
        "  plt.show()"
      ],
      "execution_count": 215,
      "outputs": []
    },
    {
      "cell_type": "code",
      "metadata": {
        "id": "bf6I0dTZjyWu"
      },
      "source": [
        "# Carregamento daa base de dados inicialmente separada em treino e teste\n",
        "train = pd.read_csv(train_url)\n",
        "test =  pd.read_csv(test_url)"
      ],
      "execution_count": 216,
      "outputs": []
    },
    {
      "cell_type": "code",
      "metadata": {
        "colab": {
          "base_uri": "https://localhost:8080/"
        },
        "id": "3j7QEAm6Z7Wr",
        "outputId": "3dd1b651-c0e7-4d25-d75c-c42a9e89ec78"
      },
      "source": [
        "# Dimensão da base de dados\n",
        "print(\"Treino tem {} linhas e {} colunas \\n\". format(train.shape[0], train.shape[1]))\n",
        "print(\"Teste tem {} linhas e {} colunas \\n\". format(test.shape[0], test.shape[1]))"
      ],
      "execution_count": 217,
      "outputs": [
        {
          "output_type": "stream",
          "text": [
            "Treino tem 891 linhas e 12 colunas \n",
            "\n",
            "Teste tem 418 linhas e 11 colunas \n",
            "\n"
          ],
          "name": "stdout"
        }
      ]
    },
    {
      "cell_type": "markdown",
      "metadata": {
        "id": "S-EeE0bwbhEk"
      },
      "source": [
        "Há, portanto, 1309 linhas ao total. O conjunto de dados original sofreu split na proporção: 68% para treino e 32% para teste. "
      ]
    },
    {
      "cell_type": "code",
      "metadata": {
        "colab": {
          "base_uri": "https://localhost:8080/",
          "height": 206
        },
        "id": "f04k2-IxcGZg",
        "outputId": "717825b9-2d0e-4bff-d4db-400e2a3af4b4"
      },
      "source": [
        "# Aparência do train\n",
        "train.head()"
      ],
      "execution_count": 218,
      "outputs": [
        {
          "output_type": "execute_result",
          "data": {
            "text/html": [
              "<div>\n",
              "<style scoped>\n",
              "    .dataframe tbody tr th:only-of-type {\n",
              "        vertical-align: middle;\n",
              "    }\n",
              "\n",
              "    .dataframe tbody tr th {\n",
              "        vertical-align: top;\n",
              "    }\n",
              "\n",
              "    .dataframe thead th {\n",
              "        text-align: right;\n",
              "    }\n",
              "</style>\n",
              "<table border=\"1\" class=\"dataframe\">\n",
              "  <thead>\n",
              "    <tr style=\"text-align: right;\">\n",
              "      <th></th>\n",
              "      <th>PassengerId</th>\n",
              "      <th>Survived</th>\n",
              "      <th>Pclass</th>\n",
              "      <th>Name</th>\n",
              "      <th>Sex</th>\n",
              "      <th>Age</th>\n",
              "      <th>SibSp</th>\n",
              "      <th>Parch</th>\n",
              "      <th>Ticket</th>\n",
              "      <th>Fare</th>\n",
              "      <th>Cabin</th>\n",
              "      <th>Embarked</th>\n",
              "    </tr>\n",
              "  </thead>\n",
              "  <tbody>\n",
              "    <tr>\n",
              "      <th>0</th>\n",
              "      <td>1</td>\n",
              "      <td>0</td>\n",
              "      <td>3</td>\n",
              "      <td>Braund, Mr. Owen Harris</td>\n",
              "      <td>male</td>\n",
              "      <td>22.0</td>\n",
              "      <td>1</td>\n",
              "      <td>0</td>\n",
              "      <td>A/5 21171</td>\n",
              "      <td>7.2500</td>\n",
              "      <td>NaN</td>\n",
              "      <td>S</td>\n",
              "    </tr>\n",
              "    <tr>\n",
              "      <th>1</th>\n",
              "      <td>2</td>\n",
              "      <td>1</td>\n",
              "      <td>1</td>\n",
              "      <td>Cumings, Mrs. John Bradley (Florence Briggs Th...</td>\n",
              "      <td>female</td>\n",
              "      <td>38.0</td>\n",
              "      <td>1</td>\n",
              "      <td>0</td>\n",
              "      <td>PC 17599</td>\n",
              "      <td>71.2833</td>\n",
              "      <td>C85</td>\n",
              "      <td>C</td>\n",
              "    </tr>\n",
              "    <tr>\n",
              "      <th>2</th>\n",
              "      <td>3</td>\n",
              "      <td>1</td>\n",
              "      <td>3</td>\n",
              "      <td>Heikkinen, Miss. Laina</td>\n",
              "      <td>female</td>\n",
              "      <td>26.0</td>\n",
              "      <td>0</td>\n",
              "      <td>0</td>\n",
              "      <td>STON/O2. 3101282</td>\n",
              "      <td>7.9250</td>\n",
              "      <td>NaN</td>\n",
              "      <td>S</td>\n",
              "    </tr>\n",
              "    <tr>\n",
              "      <th>3</th>\n",
              "      <td>4</td>\n",
              "      <td>1</td>\n",
              "      <td>1</td>\n",
              "      <td>Futrelle, Mrs. Jacques Heath (Lily May Peel)</td>\n",
              "      <td>female</td>\n",
              "      <td>35.0</td>\n",
              "      <td>1</td>\n",
              "      <td>0</td>\n",
              "      <td>113803</td>\n",
              "      <td>53.1000</td>\n",
              "      <td>C123</td>\n",
              "      <td>S</td>\n",
              "    </tr>\n",
              "    <tr>\n",
              "      <th>4</th>\n",
              "      <td>5</td>\n",
              "      <td>0</td>\n",
              "      <td>3</td>\n",
              "      <td>Allen, Mr. William Henry</td>\n",
              "      <td>male</td>\n",
              "      <td>35.0</td>\n",
              "      <td>0</td>\n",
              "      <td>0</td>\n",
              "      <td>373450</td>\n",
              "      <td>8.0500</td>\n",
              "      <td>NaN</td>\n",
              "      <td>S</td>\n",
              "    </tr>\n",
              "  </tbody>\n",
              "</table>\n",
              "</div>"
            ],
            "text/plain": [
              "   PassengerId  Survived  Pclass  ...     Fare Cabin  Embarked\n",
              "0            1         0       3  ...   7.2500   NaN         S\n",
              "1            2         1       1  ...  71.2833   C85         C\n",
              "2            3         1       3  ...   7.9250   NaN         S\n",
              "3            4         1       1  ...  53.1000  C123         S\n",
              "4            5         0       3  ...   8.0500   NaN         S\n",
              "\n",
              "[5 rows x 12 columns]"
            ]
          },
          "metadata": {
            "tags": []
          },
          "execution_count": 218
        }
      ]
    },
    {
      "cell_type": "code",
      "metadata": {
        "colab": {
          "base_uri": "https://localhost:8080/"
        },
        "id": "hTMNO57Ycp0O",
        "outputId": "164bc4a4-cdf2-4fab-f715-dfa31d94f3b1"
      },
      "source": [
        "# Tipo de dados das variáveis\n",
        "train.info()"
      ],
      "execution_count": 219,
      "outputs": [
        {
          "output_type": "stream",
          "text": [
            "<class 'pandas.core.frame.DataFrame'>\n",
            "RangeIndex: 891 entries, 0 to 890\n",
            "Data columns (total 12 columns):\n",
            " #   Column       Non-Null Count  Dtype  \n",
            "---  ------       --------------  -----  \n",
            " 0   PassengerId  891 non-null    int64  \n",
            " 1   Survived     891 non-null    int64  \n",
            " 2   Pclass       891 non-null    int64  \n",
            " 3   Name         891 non-null    object \n",
            " 4   Sex          891 non-null    object \n",
            " 5   Age          714 non-null    float64\n",
            " 6   SibSp        891 non-null    int64  \n",
            " 7   Parch        891 non-null    int64  \n",
            " 8   Ticket       891 non-null    object \n",
            " 9   Fare         891 non-null    float64\n",
            " 10  Cabin        204 non-null    object \n",
            " 11  Embarked     889 non-null    object \n",
            "dtypes: float64(2), int64(5), object(5)\n",
            "memory usage: 83.7+ KB\n"
          ],
          "name": "stdout"
        }
      ]
    },
    {
      "cell_type": "markdown",
      "metadata": {
        "id": "UXLjFuuY40Vx"
      },
      "source": [
        "# Engenharia de atributos\n",
        "\n"
      ]
    },
    {
      "cell_type": "markdown",
      "metadata": {
        "id": "Qp6Yr5iBCWhA"
      },
      "source": [
        "## Junção dos datasets de treino e teste\n",
        "\n",
        "Tanto os dados dados para treino quanto para teste foram concatenados para que todo o conjunto passasse por transformações durante a engenharia de atributos. "
      ]
    },
    {
      "cell_type": "code",
      "metadata": {
        "colab": {
          "base_uri": "https://localhost:8080/"
        },
        "id": "xXdBXW_UCWhB",
        "outputId": "ad8d3c9c-f681-4e8b-9dd7-25c9e8a3fc69"
      },
      "source": [
        "print(f\"Train shape {train.shape}\")\n",
        "print(f\"Test shape {test.shape}\")\n",
        "\n",
        "# salvar os índices dos datasets para recuperação posterior\n",
        "train_idx = train.shape[0]\n",
        "test_idx = test.shape[0]\n",
        "\n",
        "# concatenar treino e teste em um único DataFrame\n",
        "all_data = pd.concat(objs=[train, test], axis=0).reset_index(drop=True)\n",
        "\n",
        "print(f\"All_data shape {all_data.shape}\")"
      ],
      "execution_count": 220,
      "outputs": [
        {
          "output_type": "stream",
          "text": [
            "Train shape (891, 12)\n",
            "Test shape (418, 11)\n",
            "All_data shape (1309, 12)\n"
          ],
          "name": "stdout"
        }
      ]
    },
    {
      "cell_type": "markdown",
      "metadata": {
        "id": "fxR_P5zjedhl"
      },
      "source": [
        "Antes das transformações, vale a pena verificar o nível de correlação entre os atributos para que se possa gerar insights e outros atributos a partir dos pares que possuam maiores correlações. "
      ]
    },
    {
      "cell_type": "code",
      "metadata": {
        "colab": {
          "base_uri": "https://localhost:8080/",
          "height": 612
        },
        "id": "F_UdjBoJDMGQ",
        "outputId": "ad98dd29-d3e0-4d80-c0ce-05d6c20f3cad"
      },
      "source": [
        "# Heatmap de coeficiente de correlação entre as variáveis\n",
        "plt.figure(figsize=(10,10))\n",
        "sns.heatmap(all_data.corr(), annot = True)"
      ],
      "execution_count": 221,
      "outputs": [
        {
          "output_type": "execute_result",
          "data": {
            "text/plain": [
              "<matplotlib.axes._subplots.AxesSubplot at 0x7f42b1830d30>"
            ]
          },
          "metadata": {
            "tags": []
          },
          "execution_count": 221
        },
        {
          "output_type": "display_data",
          "data": {
            "image/png": "[encoded data removed]",
            "text/plain": [
              "<Figure size 720x720 with 2 Axes>"
            ]
          },
          "metadata": {
            "tags": []
          }
        }
      ]
    },
    {
      "cell_type": "markdown",
      "metadata": {
        "id": "sC7hsi5GCWhD"
      },
      "source": [
        "## Imputação de dados ausentes\n",
        "\n",
        "O conjunto de dados do Titanic apresenta dados faltantes em alguns atributos, como `Age`, `Cabin`, `Fare` e `Embarked`. Nesta seção, algumas estratégias de imputação de dados foram utilizadas para poder preencher os campos vazios."
      ]
    },
    {
      "cell_type": "code",
      "metadata": {
        "colab": {
          "base_uri": "https://localhost:8080/"
        },
        "id": "TFBEBShofQYI",
        "outputId": "c2a55d97-0c76-4161-ce0d-0d204c400823"
      },
      "source": [
        "# Contagem de dados faltantes por atributo\n",
        "all_data.isna().sum()"
      ],
      "execution_count": 222,
      "outputs": [
        {
          "output_type": "execute_result",
          "data": {
            "text/plain": [
              "PassengerId       0\n",
              "Survived        418\n",
              "Pclass            0\n",
              "Name              0\n",
              "Sex               0\n",
              "Age             263\n",
              "SibSp             0\n",
              "Parch             0\n",
              "Ticket            0\n",
              "Fare              1\n",
              "Cabin          1014\n",
              "Embarked          2\n",
              "dtype: int64"
            ]
          },
          "metadata": {
            "tags": []
          },
          "execution_count": 222
        }
      ]
    },
    {
      "cell_type": "markdown",
      "metadata": {
        "id": "V1q0yRlT4ZMe"
      },
      "source": [
        "### Age"
      ]
    },
    {
      "cell_type": "markdown",
      "metadata": {
        "id": "FOtz5fNn-wxU"
      },
      "source": [
        "A abordagem de imputação de dados para `Age`  é baseada no preenchimento dos campos faltantes com medidas de tendência central. Para tanto, verificou-se a o formato da distribuição a fim de se escolher a melhor medida. "
      ]
    },
    {
      "cell_type": "code",
      "metadata": {
        "colab": {
          "base_uri": "https://localhost:8080/"
        },
        "id": "HNK48MwmfrRo",
        "outputId": "2bad423d-437c-450f-b28e-218fdb2acafb"
      },
      "source": [
        "# Sumário estatístico do atributo Age\n",
        "round(all_data['Age'].describe(), 2)"
      ],
      "execution_count": 223,
      "outputs": [
        {
          "output_type": "execute_result",
          "data": {
            "text/plain": [
              "count    1046.00\n",
              "mean       29.88\n",
              "std        14.41\n",
              "min         0.17\n",
              "25%        21.00\n",
              "50%        28.00\n",
              "75%        39.00\n",
              "max        80.00\n",
              "Name: Age, dtype: float64"
            ]
          },
          "metadata": {
            "tags": []
          },
          "execution_count": 223
        }
      ]
    },
    {
      "cell_type": "markdown",
      "metadata": {
        "id": "HGmaCsG9gJi4"
      },
      "source": [
        "Como se vê, a média da idade é 29,88 anos, enquanto a mediana é 28,00. Esta proximidade releva que a distribuição de idade tende à normal. Para tanto, o histograma pode ajudar na visualização dessa distribuição. "
      ]
    },
    {
      "cell_type": "code",
      "metadata": {
        "id": "IFl1kwdG4a0z",
        "colab": {
          "base_uri": "https://localhost:8080/",
          "height": 354
        },
        "outputId": "3bd2c0f3-d1a6-4a2f-fb36-e5f758e756af"
      },
      "source": [
        "# Cálculo da média e mediana\n",
        "mean = all_data['Age'].mean()\n",
        "median =all_data['Age'].median()\n",
        "\n",
        "plt.title(\"Age distribution\")\n",
        "sns.distplot(a=all_data['Age'], kde = False,\n",
        "             hist_kws = {'edgecolor':'black'})\n",
        "plt.axvline(mean, color='r', linestyle='--')\n",
        "plt.axvline(median, color='g', linestyle='-')\n",
        "\n",
        "plt.ylabel(\"Count\")\n",
        "plt.legend({'Mean':mean,'Median':median})\n",
        "plt.show()\n"
      ],
      "execution_count": 224,
      "outputs": [
        {
          "output_type": "stream",
          "text": [
            "/usr/local/lib/python3.6/dist-packages/seaborn/distributions.py:2551: FutureWarning: `distplot` is a deprecated function and will be removed in a future version. Please adapt your code to use either `displot` (a figure-level function with similar flexibility) or `histplot` (an axes-level function for histograms).\n",
            "  warnings.warn(msg, FutureWarning)\n"
          ],
          "name": "stderr"
        },
        {
          "output_type": "display_data",
          "data": {
            "image/png": "[encoded data removed]",
            "text/plain": [
              "<Figure size 432x288 with 1 Axes>"
            ]
          },
          "metadata": {
            "tags": []
          }
        }
      ]
    },
    {
      "cell_type": "markdown",
      "metadata": {
        "id": "9bjOcYy29kqx"
      },
      "source": [
        "A distribuição aparenta estar positivamente enviesada para direita, portanto, a mediana pode ser utilizada como uma substituta para dados faltantes.\n",
        "\n",
        "Contudo, preencher todos 263 campos vazios com um único valor de mediana pode não ser uma boa ideia, pois as idades estão distribuídas em diferentes grupos de passageiros. Como realizado por Gunes Evitan em seu trabalho \"*Titanic - Advanced Feature Engineering Tutorial*\" [1], os atributos `Age` e `Pclass` possuem uma média correlação de -0,41. Em adição, todas as classes sociais são compostas por ambos os sexos. Logo, a imputação para `Age` pode ser realizada com a mediana, dada a classe social e sexo do indivíduo. Assim: "
      ]
    },
    {
      "cell_type": "code",
      "metadata": {
        "colab": {
          "base_uri": "https://localhost:8080/",
          "height": 269
        },
        "id": "ziMhbg2_Do4V",
        "outputId": "c3adb023-ebd5-4cfe-aeb0-9e1f4ca686d8"
      },
      "source": [
        "# Mediana da idade agrupada por PClass e Sex \n",
        "age_pclass = all_data.groupby(['Sex','Pclass']).describe()['Age']\n",
        "round(age_pclass,2)"
      ],
      "execution_count": 225,
      "outputs": [
        {
          "output_type": "execute_result",
          "data": {
            "text/html": [
              "<div>\n",
              "<style scoped>\n",
              "    .dataframe tbody tr th:only-of-type {\n",
              "        vertical-align: middle;\n",
              "    }\n",
              "\n",
              "    .dataframe tbody tr th {\n",
              "        vertical-align: top;\n",
              "    }\n",
              "\n",
              "    .dataframe thead th {\n",
              "        text-align: right;\n",
              "    }\n",
              "</style>\n",
              "<table border=\"1\" class=\"dataframe\">\n",
              "  <thead>\n",
              "    <tr style=\"text-align: right;\">\n",
              "      <th></th>\n",
              "      <th></th>\n",
              "      <th>count</th>\n",
              "      <th>mean</th>\n",
              "      <th>std</th>\n",
              "      <th>min</th>\n",
              "      <th>25%</th>\n",
              "      <th>50%</th>\n",
              "      <th>75%</th>\n",
              "      <th>max</th>\n",
              "    </tr>\n",
              "    <tr>\n",
              "      <th>Sex</th>\n",
              "      <th>Pclass</th>\n",
              "      <th></th>\n",
              "      <th></th>\n",
              "      <th></th>\n",
              "      <th></th>\n",
              "      <th></th>\n",
              "      <th></th>\n",
              "      <th></th>\n",
              "      <th></th>\n",
              "    </tr>\n",
              "  </thead>\n",
              "  <tbody>\n",
              "    <tr>\n",
              "      <th rowspan=\"3\" valign=\"top\">female</th>\n",
              "      <th>1</th>\n",
              "      <td>133.0</td>\n",
              "      <td>37.04</td>\n",
              "      <td>14.27</td>\n",
              "      <td>2.00</td>\n",
              "      <td>24.0</td>\n",
              "      <td>36.0</td>\n",
              "      <td>48.00</td>\n",
              "      <td>76.0</td>\n",
              "    </tr>\n",
              "    <tr>\n",
              "      <th>2</th>\n",
              "      <td>103.0</td>\n",
              "      <td>27.50</td>\n",
              "      <td>12.91</td>\n",
              "      <td>0.92</td>\n",
              "      <td>20.0</td>\n",
              "      <td>28.0</td>\n",
              "      <td>34.00</td>\n",
              "      <td>60.0</td>\n",
              "    </tr>\n",
              "    <tr>\n",
              "      <th>3</th>\n",
              "      <td>152.0</td>\n",
              "      <td>22.19</td>\n",
              "      <td>12.21</td>\n",
              "      <td>0.17</td>\n",
              "      <td>16.0</td>\n",
              "      <td>22.0</td>\n",
              "      <td>30.00</td>\n",
              "      <td>63.0</td>\n",
              "    </tr>\n",
              "    <tr>\n",
              "      <th rowspan=\"3\" valign=\"top\">male</th>\n",
              "      <th>1</th>\n",
              "      <td>151.0</td>\n",
              "      <td>41.03</td>\n",
              "      <td>14.58</td>\n",
              "      <td>0.92</td>\n",
              "      <td>30.0</td>\n",
              "      <td>42.0</td>\n",
              "      <td>50.00</td>\n",
              "      <td>80.0</td>\n",
              "    </tr>\n",
              "    <tr>\n",
              "      <th>2</th>\n",
              "      <td>158.0</td>\n",
              "      <td>30.82</td>\n",
              "      <td>13.98</td>\n",
              "      <td>0.67</td>\n",
              "      <td>23.0</td>\n",
              "      <td>29.5</td>\n",
              "      <td>38.75</td>\n",
              "      <td>70.0</td>\n",
              "    </tr>\n",
              "    <tr>\n",
              "      <th>3</th>\n",
              "      <td>349.0</td>\n",
              "      <td>25.96</td>\n",
              "      <td>11.68</td>\n",
              "      <td>0.33</td>\n",
              "      <td>20.0</td>\n",
              "      <td>25.0</td>\n",
              "      <td>32.00</td>\n",
              "      <td>74.0</td>\n",
              "    </tr>\n",
              "  </tbody>\n",
              "</table>\n",
              "</div>"
            ],
            "text/plain": [
              "               count   mean    std   min   25%   50%    75%   max\n",
              "Sex    Pclass                                                    \n",
              "female 1       133.0  37.04  14.27  2.00  24.0  36.0  48.00  76.0\n",
              "       2       103.0  27.50  12.91  0.92  20.0  28.0  34.00  60.0\n",
              "       3       152.0  22.19  12.21  0.17  16.0  22.0  30.00  63.0\n",
              "male   1       151.0  41.03  14.58  0.92  30.0  42.0  50.00  80.0\n",
              "       2       158.0  30.82  13.98  0.67  23.0  29.5  38.75  70.0\n",
              "       3       349.0  25.96  11.68  0.33  20.0  25.0  32.00  74.0"
            ]
          },
          "metadata": {
            "tags": []
          },
          "execution_count": 225
        }
      ]
    },
    {
      "cell_type": "code",
      "metadata": {
        "id": "biTVOf0CEhDe"
      },
      "source": [
        "# Preenche os NA's com a mediana da idade por classe social\n",
        "all_data['Age'] = all_data.groupby(['Sex', 'Pclass'])['Age'].apply(lambda x: x.fillna(x.median()))"
      ],
      "execution_count": 226,
      "outputs": []
    },
    {
      "cell_type": "markdown",
      "metadata": {
        "id": "1AK28H1e4XE3"
      },
      "source": [
        "### Fare\n",
        "\n",
        "Semelhantemente, o atributo de custo do ticket `Fare` precisa de imputação para 1 campo vazio. Para tanto, é necessário escolher a melhor medida de centralidade, então verifica-se a distribuição dos valores ao longo do conjunto de dados. "
      ]
    },
    {
      "cell_type": "code",
      "metadata": {
        "colab": {
          "base_uri": "https://localhost:8080/",
          "height": 175
        },
        "id": "L-3e3QpGnGtn",
        "outputId": "bec679a5-a39d-4c3f-9cb7-c3e0af2a0a4c"
      },
      "source": [
        "# Contagem de \n",
        "fare_pclass = all_data.groupby(['Pclass']).describe()['Fare']\n",
        "fare_pclass"
      ],
      "execution_count": 227,
      "outputs": [
        {
          "output_type": "execute_result",
          "data": {
            "text/html": [
              "<div>\n",
              "<style scoped>\n",
              "    .dataframe tbody tr th:only-of-type {\n",
              "        vertical-align: middle;\n",
              "    }\n",
              "\n",
              "    .dataframe tbody tr th {\n",
              "        vertical-align: top;\n",
              "    }\n",
              "\n",
              "    .dataframe thead th {\n",
              "        text-align: right;\n",
              "    }\n",
              "</style>\n",
              "<table border=\"1\" class=\"dataframe\">\n",
              "  <thead>\n",
              "    <tr style=\"text-align: right;\">\n",
              "      <th></th>\n",
              "      <th>count</th>\n",
              "      <th>mean</th>\n",
              "      <th>std</th>\n",
              "      <th>min</th>\n",
              "      <th>25%</th>\n",
              "      <th>50%</th>\n",
              "      <th>75%</th>\n",
              "      <th>max</th>\n",
              "    </tr>\n",
              "    <tr>\n",
              "      <th>Pclass</th>\n",
              "      <th></th>\n",
              "      <th></th>\n",
              "      <th></th>\n",
              "      <th></th>\n",
              "      <th></th>\n",
              "      <th></th>\n",
              "      <th></th>\n",
              "      <th></th>\n",
              "    </tr>\n",
              "  </thead>\n",
              "  <tbody>\n",
              "    <tr>\n",
              "      <th>1</th>\n",
              "      <td>323.0</td>\n",
              "      <td>87.508992</td>\n",
              "      <td>80.447178</td>\n",
              "      <td>0.0</td>\n",
              "      <td>30.6958</td>\n",
              "      <td>60.0000</td>\n",
              "      <td>107.6625</td>\n",
              "      <td>512.3292</td>\n",
              "    </tr>\n",
              "    <tr>\n",
              "      <th>2</th>\n",
              "      <td>277.0</td>\n",
              "      <td>21.179196</td>\n",
              "      <td>13.607122</td>\n",
              "      <td>0.0</td>\n",
              "      <td>13.0000</td>\n",
              "      <td>15.0458</td>\n",
              "      <td>26.0000</td>\n",
              "      <td>73.5000</td>\n",
              "    </tr>\n",
              "    <tr>\n",
              "      <th>3</th>\n",
              "      <td>708.0</td>\n",
              "      <td>13.302889</td>\n",
              "      <td>11.494358</td>\n",
              "      <td>0.0</td>\n",
              "      <td>7.7500</td>\n",
              "      <td>8.0500</td>\n",
              "      <td>15.2458</td>\n",
              "      <td>69.5500</td>\n",
              "    </tr>\n",
              "  </tbody>\n",
              "</table>\n",
              "</div>"
            ],
            "text/plain": [
              "        count       mean        std  min      25%      50%       75%       max\n",
              "Pclass                                                                        \n",
              "1       323.0  87.508992  80.447178  0.0  30.6958  60.0000  107.6625  512.3292\n",
              "2       277.0  21.179196  13.607122  0.0  13.0000  15.0458   26.0000   73.5000\n",
              "3       708.0  13.302889  11.494358  0.0   7.7500   8.0500   15.2458   69.5500"
            ]
          },
          "metadata": {
            "tags": []
          },
          "execution_count": 227
        }
      ]
    },
    {
      "cell_type": "markdown",
      "metadata": {
        "id": "4ukmOcyVzb2T"
      },
      "source": [
        "Como se vê, a quantidade de tickets na classe 3 é bem maior que as duas primeiras classes, tornando a distribuição enviesada positivamente. "
      ]
    },
    {
      "cell_type": "code",
      "metadata": {
        "id": "mMH6zYvT-Icg",
        "colab": {
          "base_uri": "https://localhost:8080/",
          "height": 354
        },
        "outputId": "3c300045-0e8e-46ec-ee6b-e316e9be3bed"
      },
      "source": [
        "# Cálculo da média e mediana\n",
        "mean = all_data['Fare'].mean()\n",
        "median =all_data['Fare'].median()\n",
        "\n",
        "plt.title(\"Fare distribution\")\n",
        "sns.distplot(a=all_data['Fare'], bins = 20, \n",
        "             kde = False, \n",
        "             hist_kws = {'edgecolor':'black'})\n",
        "plt.axvline(mean, color='r', linestyle='--')\n",
        "plt.axvline(median, color='g', linestyle='-')\n",
        "\n",
        "plt.ylabel(\"Count\")\n",
        "plt.legend({'Mean':mean,'Median':median})\n",
        "plt.show()\n"
      ],
      "execution_count": 228,
      "outputs": [
        {
          "output_type": "stream",
          "text": [
            "/usr/local/lib/python3.6/dist-packages/seaborn/distributions.py:2551: FutureWarning: `distplot` is a deprecated function and will be removed in a future version. Please adapt your code to use either `displot` (a figure-level function with similar flexibility) or `histplot` (an axes-level function for histograms).\n",
            "  warnings.warn(msg, FutureWarning)\n"
          ],
          "name": "stderr"
        },
        {
          "output_type": "display_data",
          "data": {
            "image/png": "[encoded data removed]",
            "text/plain": [
              "<Figure size 432x288 with 1 Axes>"
            ]
          },
          "metadata": {
            "tags": []
          }
        }
      ]
    },
    {
      "cell_type": "markdown",
      "metadata": {
        "id": "hSX0FqPj-V6_"
      },
      "source": [
        "Para a imputação de dados, utilizou-se a mediana como substituto para o único dadod faltante. "
      ]
    },
    {
      "cell_type": "code",
      "metadata": {
        "id": "qbZHJKCQCWhD"
      },
      "source": [
        "# Fill NA's with Fare median\n",
        "fare_median = all_data['Fare'].median()\n",
        "all_data['Fare'].fillna(fare_median, inplace=True)"
      ],
      "execution_count": 229,
      "outputs": []
    },
    {
      "cell_type": "markdown",
      "metadata": {
        "id": "TwgdEXtEGHU8"
      },
      "source": [
        "### Cabin\n",
        "\n",
        "O atributo `Cabin` é um caso especial que possui 1014 dados faltantes. O posicionamento da cabine pode ter contribuído com a taxa de sobrevivência de dos passageiros, de acordo com a classe social. Logo, ignorar esse atributo pode ter alguma contribuição na criação do modelo de predição. Novamente, a estratégia utilizada nesse atributo foi baseada no trabalho de Gunes Evitan [1].\n",
        "\n",
        "Os dados da variável `Cabin` estão formatados assim: \n",
        " * Primeiro carácter: Identificação do deck\n",
        " * Caracteres seguintes: número da cabine. \n"
      ]
    },
    {
      "cell_type": "code",
      "metadata": {
        "colab": {
          "base_uri": "https://localhost:8080/"
        },
        "id": "W81HAeUrGkpU",
        "outputId": "0c2a75c5-f99c-4994-b5a7-d3fec4e1b65a"
      },
      "source": [
        "# Lista os nomes únicos das cabines\n",
        "all_data['Cabin'].unique()"
      ],
      "execution_count": 232,
      "outputs": [
        {
          "output_type": "execute_result",
          "data": {
            "text/plain": [
              "array([nan, 'C85', 'C123', 'E46', 'G6', 'C103', 'D56', 'A6',\n",
              "       'C23 C25 C27', 'B78', 'D33', 'B30', 'C52', 'B28', 'C83', 'F33',\n",
              "       'F G73', 'E31', 'A5', 'D10 D12', 'D26', 'C110', 'B58 B60', 'E101',\n",
              "       'F E69', 'D47', 'B86', 'F2', 'C2', 'E33', 'B19', 'A7', 'C49', 'F4',\n",
              "       'A32', 'B4', 'B80', 'A31', 'D36', 'D15', 'C93', 'C78', 'D35',\n",
              "       'C87', 'B77', 'E67', 'B94', 'C125', 'C99', 'C118', 'D7', 'A19',\n",
              "       'B49', 'D', 'C22 C26', 'C106', 'C65', 'E36', 'C54',\n",
              "       'B57 B59 B63 B66', 'C7', 'E34', 'C32', 'B18', 'C124', 'C91', 'E40',\n",
              "       'T', 'C128', 'D37', 'B35', 'E50', 'C82', 'B96 B98', 'E10', 'E44',\n",
              "       'A34', 'C104', 'C111', 'C92', 'E38', 'D21', 'E12', 'E63', 'A14',\n",
              "       'B37', 'C30', 'D20', 'B79', 'E25', 'D46', 'B73', 'C95', 'B38',\n",
              "       'B39', 'B22', 'C86', 'C70', 'A16', 'C101', 'C68', 'A10', 'E68',\n",
              "       'B41', 'A20', 'D19', 'D50', 'D9', 'A23', 'B50', 'A26', 'D48',\n",
              "       'E58', 'C126', 'B71', 'B51 B53 B55', 'D49', 'B5', 'B20', 'F G63',\n",
              "       'C62 C64', 'E24', 'C90', 'C45', 'E8', 'B101', 'D45', 'C46', 'D30',\n",
              "       'E121', 'D11', 'E77', 'F38', 'B3', 'D6', 'B82 B84', 'D17', 'A36',\n",
              "       'B102', 'B69', 'E49', 'C47', 'D28', 'E17', 'A24', 'C50', 'B42',\n",
              "       'C148', 'B45', 'B36', 'A21', 'D34', 'A9', 'C31', 'B61', 'C53',\n",
              "       'D43', 'C130', 'C132', 'C55 C57', 'C116', 'F', 'A29', 'C6', 'C28',\n",
              "       'C51', 'C97', 'D22', 'B10', 'E45', 'E52', 'A11', 'B11', 'C80',\n",
              "       'C89', 'F E46', 'B26', 'F E57', 'A18', 'E60', 'E39 E41',\n",
              "       'B52 B54 B56', 'C39', 'B24', 'D40', 'D38', 'C105'], dtype=object)"
            ]
          },
          "metadata": {
            "tags": []
          },
          "execution_count": 232
        }
      ]
    },
    {
      "cell_type": "markdown",
      "metadata": {
        "id": "_U-AwUxO33X4"
      },
      "source": [
        "Optou-se em criar um novo atributo chamado `Deck` que contém o primeiro carácter da respectiva cabine. "
      ]
    },
    {
      "cell_type": "code",
      "metadata": {
        "id": "yq6ZTx6tG8eX"
      },
      "source": [
        "# Preenche os NA's com a letra U de Unknown\n",
        "all_data['Deck'] = all_data['Cabin'].apply(lambda s: s[0] if pd.notnull(s) else 'U')"
      ],
      "execution_count": 234,
      "outputs": []
    },
    {
      "cell_type": "code",
      "metadata": {
        "colab": {
          "base_uri": "https://localhost:8080/",
          "height": 551
        },
        "id": "RYEbKIAd0EC4",
        "outputId": "9e3df40e-d0fc-421b-e2a0-745037c7364e"
      },
      "source": [
        "deck_pclass = all_data.groupby(['Pclass', 'Deck']).describe()['Fare']\n",
        "deck_pclass"
      ],
      "execution_count": 235,
      "outputs": [
        {
          "output_type": "execute_result",
          "data": {
            "text/html": [
              "<div>\n",
              "<style scoped>\n",
              "    .dataframe tbody tr th:only-of-type {\n",
              "        vertical-align: middle;\n",
              "    }\n",
              "\n",
              "    .dataframe tbody tr th {\n",
              "        vertical-align: top;\n",
              "    }\n",
              "\n",
              "    .dataframe thead th {\n",
              "        text-align: right;\n",
              "    }\n",
              "</style>\n",
              "<table border=\"1\" class=\"dataframe\">\n",
              "  <thead>\n",
              "    <tr style=\"text-align: right;\">\n",
              "      <th></th>\n",
              "      <th></th>\n",
              "      <th>count</th>\n",
              "      <th>mean</th>\n",
              "      <th>std</th>\n",
              "      <th>min</th>\n",
              "      <th>25%</th>\n",
              "      <th>50%</th>\n",
              "      <th>75%</th>\n",
              "      <th>max</th>\n",
              "    </tr>\n",
              "    <tr>\n",
              "      <th>Pclass</th>\n",
              "      <th>Deck</th>\n",
              "      <th></th>\n",
              "      <th></th>\n",
              "      <th></th>\n",
              "      <th></th>\n",
              "      <th></th>\n",
              "      <th></th>\n",
              "      <th></th>\n",
              "      <th></th>\n",
              "    </tr>\n",
              "  </thead>\n",
              "  <tbody>\n",
              "    <tr>\n",
              "      <th rowspan=\"7\" valign=\"top\">1</th>\n",
              "      <th>A</th>\n",
              "      <td>22.0</td>\n",
              "      <td>41.244314</td>\n",
              "      <td>20.140358</td>\n",
              "      <td>0.0000</td>\n",
              "      <td>30.1250</td>\n",
              "      <td>35.07710</td>\n",
              "      <td>50.371850</td>\n",
              "      <td>81.8583</td>\n",
              "    </tr>\n",
              "    <tr>\n",
              "      <th>B</th>\n",
              "      <td>65.0</td>\n",
              "      <td>122.383078</td>\n",
              "      <td>115.312993</td>\n",
              "      <td>0.0000</td>\n",
              "      <td>57.0000</td>\n",
              "      <td>82.26670</td>\n",
              "      <td>146.520800</td>\n",
              "      <td>512.3292</td>\n",
              "    </tr>\n",
              "    <tr>\n",
              "      <th>C</th>\n",
              "      <td>94.0</td>\n",
              "      <td>107.926598</td>\n",
              "      <td>72.912034</td>\n",
              "      <td>25.7000</td>\n",
              "      <td>52.0000</td>\n",
              "      <td>86.28960</td>\n",
              "      <td>151.550000</td>\n",
              "      <td>263.0000</td>\n",
              "    </tr>\n",
              "    <tr>\n",
              "      <th>D</th>\n",
              "      <td>40.0</td>\n",
              "      <td>58.919065</td>\n",
              "      <td>25.256615</td>\n",
              "      <td>25.9292</td>\n",
              "      <td>33.5958</td>\n",
              "      <td>53.10000</td>\n",
              "      <td>76.868775</td>\n",
              "      <td>113.2750</td>\n",
              "    </tr>\n",
              "    <tr>\n",
              "      <th>E</th>\n",
              "      <td>34.0</td>\n",
              "      <td>63.464706</td>\n",
              "      <td>35.322753</td>\n",
              "      <td>25.5875</td>\n",
              "      <td>29.5375</td>\n",
              "      <td>55.44170</td>\n",
              "      <td>79.650000</td>\n",
              "      <td>134.5000</td>\n",
              "    </tr>\n",
              "    <tr>\n",
              "      <th>T</th>\n",
              "      <td>1.0</td>\n",
              "      <td>35.500000</td>\n",
              "      <td>NaN</td>\n",
              "      <td>35.5000</td>\n",
              "      <td>35.5000</td>\n",
              "      <td>35.50000</td>\n",
              "      <td>35.500000</td>\n",
              "      <td>35.5000</td>\n",
              "    </tr>\n",
              "    <tr>\n",
              "      <th>U</th>\n",
              "      <td>67.0</td>\n",
              "      <td>70.268157</td>\n",
              "      <td>80.114953</td>\n",
              "      <td>0.0000</td>\n",
              "      <td>26.5500</td>\n",
              "      <td>39.60000</td>\n",
              "      <td>79.200000</td>\n",
              "      <td>512.3292</td>\n",
              "    </tr>\n",
              "    <tr>\n",
              "      <th rowspan=\"4\" valign=\"top\">2</th>\n",
              "      <th>D</th>\n",
              "      <td>6.0</td>\n",
              "      <td>13.595833</td>\n",
              "      <td>0.829640</td>\n",
              "      <td>12.8750</td>\n",
              "      <td>13.0000</td>\n",
              "      <td>13.39585</td>\n",
              "      <td>13.844800</td>\n",
              "      <td>15.0458</td>\n",
              "    </tr>\n",
              "    <tr>\n",
              "      <th>E</th>\n",
              "      <td>4.0</td>\n",
              "      <td>11.587500</td>\n",
              "      <td>1.283469</td>\n",
              "      <td>10.5000</td>\n",
              "      <td>10.5000</td>\n",
              "      <td>11.42500</td>\n",
              "      <td>12.512500</td>\n",
              "      <td>13.0000</td>\n",
              "    </tr>\n",
              "    <tr>\n",
              "      <th>F</th>\n",
              "      <td>13.0</td>\n",
              "      <td>23.423077</td>\n",
              "      <td>12.306580</td>\n",
              "      <td>10.5000</td>\n",
              "      <td>13.0000</td>\n",
              "      <td>26.00000</td>\n",
              "      <td>39.000000</td>\n",
              "      <td>39.0000</td>\n",
              "    </tr>\n",
              "    <tr>\n",
              "      <th>U</th>\n",
              "      <td>254.0</td>\n",
              "      <td>21.394537</td>\n",
              "      <td>13.843615</td>\n",
              "      <td>0.0000</td>\n",
              "      <td>13.0000</td>\n",
              "      <td>15.66460</td>\n",
              "      <td>26.000000</td>\n",
              "      <td>73.5000</td>\n",
              "    </tr>\n",
              "    <tr>\n",
              "      <th rowspan=\"4\" valign=\"top\">3</th>\n",
              "      <th>E</th>\n",
              "      <td>3.0</td>\n",
              "      <td>11.000000</td>\n",
              "      <td>2.554775</td>\n",
              "      <td>8.0500</td>\n",
              "      <td>10.2625</td>\n",
              "      <td>12.47500</td>\n",
              "      <td>12.475000</td>\n",
              "      <td>12.4750</td>\n",
              "    </tr>\n",
              "    <tr>\n",
              "      <th>F</th>\n",
              "      <td>8.0</td>\n",
              "      <td>9.395838</td>\n",
              "      <td>5.241519</td>\n",
              "      <td>7.2292</td>\n",
              "      <td>7.5448</td>\n",
              "      <td>7.65000</td>\n",
              "      <td>7.675000</td>\n",
              "      <td>22.3583</td>\n",
              "    </tr>\n",
              "    <tr>\n",
              "      <th>G</th>\n",
              "      <td>5.0</td>\n",
              "      <td>14.205000</td>\n",
              "      <td>3.416419</td>\n",
              "      <td>10.4625</td>\n",
              "      <td>10.4625</td>\n",
              "      <td>16.70000</td>\n",
              "      <td>16.700000</td>\n",
              "      <td>16.7000</td>\n",
              "    </tr>\n",
              "    <tr>\n",
              "      <th>U</th>\n",
              "      <td>693.0</td>\n",
              "      <td>13.353114</td>\n",
              "      <td>11.593703</td>\n",
              "      <td>0.0000</td>\n",
              "      <td>7.7500</td>\n",
              "      <td>8.05000</td>\n",
              "      <td>15.245800</td>\n",
              "      <td>69.5500</td>\n",
              "    </tr>\n",
              "  </tbody>\n",
              "</table>\n",
              "</div>"
            ],
            "text/plain": [
              "             count        mean         std  ...       50%         75%       max\n",
              "Pclass Deck                                 ...                                \n",
              "1      A      22.0   41.244314   20.140358  ...  35.07710   50.371850   81.8583\n",
              "       B      65.0  122.383078  115.312993  ...  82.26670  146.520800  512.3292\n",
              "       C      94.0  107.926598   72.912034  ...  86.28960  151.550000  263.0000\n",
              "       D      40.0   58.919065   25.256615  ...  53.10000   76.868775  113.2750\n",
              "       E      34.0   63.464706   35.322753  ...  55.44170   79.650000  134.5000\n",
              "       T       1.0   35.500000         NaN  ...  35.50000   35.500000   35.5000\n",
              "       U      67.0   70.268157   80.114953  ...  39.60000   79.200000  512.3292\n",
              "2      D       6.0   13.595833    0.829640  ...  13.39585   13.844800   15.0458\n",
              "       E       4.0   11.587500    1.283469  ...  11.42500   12.512500   13.0000\n",
              "       F      13.0   23.423077   12.306580  ...  26.00000   39.000000   39.0000\n",
              "       U     254.0   21.394537   13.843615  ...  15.66460   26.000000   73.5000\n",
              "3      E       3.0   11.000000    2.554775  ...  12.47500   12.475000   12.4750\n",
              "       F       8.0    9.395838    5.241519  ...   7.65000    7.675000   22.3583\n",
              "       G       5.0   14.205000    3.416419  ...  16.70000   16.700000   16.7000\n",
              "       U     693.0   13.353114   11.593703  ...   8.05000   15.245800   69.5500\n",
              "\n",
              "[15 rows x 8 columns]"
            ]
          },
          "metadata": {
            "tags": []
          },
          "execution_count": 235
        }
      ]
    },
    {
      "cell_type": "code",
      "metadata": {
        "colab": {
          "base_uri": "https://localhost:8080/"
        },
        "id": "vlCRU8mBLTd1",
        "outputId": "a870d162-bbce-4d54-851f-8cda2f426fa5"
      },
      "source": [
        "idx = all_data[all_data['Deck'] == 'T'].index\n",
        "all_data.loc[idx, 'Deck'] = 'A'\n",
        "\n",
        "all_data['Deck'] = all_data['Deck'].replace(['A', 'B', 'C'], 'ABC')\n",
        "all_data['Deck'] = all_data['Deck'].replace(['D', 'E'], 'DE')\n",
        "all_data['Deck'] = all_data['Deck'].replace(['F', 'G'], 'FG')\n",
        "all_data['Deck'].value_counts()"
      ],
      "execution_count": 108,
      "outputs": [
        {
          "output_type": "execute_result",
          "data": {
            "text/plain": [
              "U      1014\n",
              "ABC     182\n",
              "DE       87\n",
              "FG       26\n",
              "Name: Deck, dtype: int64"
            ]
          },
          "metadata": {
            "tags": []
          },
          "execution_count": 108
        }
      ]
    },
    {
      "cell_type": "markdown",
      "metadata": {
        "id": "GNGrIZXw3m_m"
      },
      "source": [
        "### Embarked"
      ]
    },
    {
      "cell_type": "markdown",
      "metadata": {
        "id": "gBA-q50b_jgR"
      },
      "source": [
        "Para o atributo `Embarked`, verificou-se as linhas que estavam com os dados faltantes. Uma vez que há apenas duas ocorrências, dada a classe social `Pclass == 1` para ambos, os dados foram imputados com identificação do porto onde há maior ocorrência dessa classe social, ou seja, do porto Cherbourg(C). "
      ]
    },
    {
      "cell_type": "code",
      "metadata": {
        "id": "EiXO-gcW1PZK",
        "colab": {
          "base_uri": "https://localhost:8080/",
          "height": 112
        },
        "outputId": "96f0d04e-b792-49f5-ab3c-04980f69d7b1"
      },
      "source": [
        "all_data.query('Embarked != \"S\" & Embarked != \"C\" & Embarked != \"Q\"')"
      ],
      "execution_count": 109,
      "outputs": [
        {
          "output_type": "execute_result",
          "data": {
            "text/html": [
              "<div>\n",
              "<style scoped>\n",
              "    .dataframe tbody tr th:only-of-type {\n",
              "        vertical-align: middle;\n",
              "    }\n",
              "\n",
              "    .dataframe tbody tr th {\n",
              "        vertical-align: top;\n",
              "    }\n",
              "\n",
              "    .dataframe thead th {\n",
              "        text-align: right;\n",
              "    }\n",
              "</style>\n",
              "<table border=\"1\" class=\"dataframe\">\n",
              "  <thead>\n",
              "    <tr style=\"text-align: right;\">\n",
              "      <th></th>\n",
              "      <th>PassengerId</th>\n",
              "      <th>Survived</th>\n",
              "      <th>Pclass</th>\n",
              "      <th>Name</th>\n",
              "      <th>Sex</th>\n",
              "      <th>Age</th>\n",
              "      <th>SibSp</th>\n",
              "      <th>Parch</th>\n",
              "      <th>Ticket</th>\n",
              "      <th>Fare</th>\n",
              "      <th>Cabin</th>\n",
              "      <th>Embarked</th>\n",
              "      <th>Deck</th>\n",
              "    </tr>\n",
              "  </thead>\n",
              "  <tbody>\n",
              "    <tr>\n",
              "      <th>61</th>\n",
              "      <td>62</td>\n",
              "      <td>1.0</td>\n",
              "      <td>1</td>\n",
              "      <td>Icard, Miss. Amelie</td>\n",
              "      <td>female</td>\n",
              "      <td>38.0</td>\n",
              "      <td>0</td>\n",
              "      <td>0</td>\n",
              "      <td>113572</td>\n",
              "      <td>80.0</td>\n",
              "      <td>B28</td>\n",
              "      <td>NaN</td>\n",
              "      <td>ABC</td>\n",
              "    </tr>\n",
              "    <tr>\n",
              "      <th>829</th>\n",
              "      <td>830</td>\n",
              "      <td>1.0</td>\n",
              "      <td>1</td>\n",
              "      <td>Stone, Mrs. George Nelson (Martha Evelyn)</td>\n",
              "      <td>female</td>\n",
              "      <td>62.0</td>\n",
              "      <td>0</td>\n",
              "      <td>0</td>\n",
              "      <td>113572</td>\n",
              "      <td>80.0</td>\n",
              "      <td>B28</td>\n",
              "      <td>NaN</td>\n",
              "      <td>ABC</td>\n",
              "    </tr>\n",
              "  </tbody>\n",
              "</table>\n",
              "</div>"
            ],
            "text/plain": [
              "     PassengerId  Survived  Pclass  ... Cabin Embarked  Deck\n",
              "61            62       1.0       1  ...   B28      NaN   ABC\n",
              "829          830       1.0       1  ...   B28      NaN   ABC\n",
              "\n",
              "[2 rows x 13 columns]"
            ]
          },
          "metadata": {
            "tags": []
          },
          "execution_count": 109
        }
      ]
    },
    {
      "cell_type": "code",
      "metadata": {
        "id": "VVXrOvmTm9pJ"
      },
      "source": [
        ""
      ],
      "execution_count": null,
      "outputs": []
    },
    {
      "cell_type": "code",
      "metadata": {
        "colab": {
          "base_uri": "https://localhost:8080/",
          "height": 314
        },
        "id": "EzFYJoyo9i36",
        "outputId": "d03e41c5-9d64-454f-c74a-85e61016ebaa"
      },
      "source": [
        "# Visualização de Classe Social por Porto de Embarcação\n",
        "barPlotPercent(train, 'Embarked', 'Pclass')"
      ],
      "execution_count": 110,
      "outputs": [
        {
          "output_type": "display_data",
          "data": {
            "image/png": "[encoded data removed]",
            "text/plain": [
              "<Figure size 618.375x288 with 1 Axes>"
            ]
          },
          "metadata": {
            "tags": []
          }
        }
      ]
    },
    {
      "cell_type": "code",
      "metadata": {
        "id": "diIx72xZ3rBb"
      },
      "source": [
        "# embarked\n",
        "embarked_top = all_data['Embarked'].value_counts()[0]\n",
        "all_data['Embarked'].fillna('C', inplace=True)"
      ],
      "execution_count": 111,
      "outputs": []
    },
    {
      "cell_type": "markdown",
      "metadata": {
        "id": "u6zVFikiA7lk"
      },
      "source": [
        "## Novos atributos"
      ]
    },
    {
      "cell_type": "markdown",
      "metadata": {
        "id": "josiiEz4BiAZ"
      },
      "source": [
        "### AgeGroup\n",
        "\n",
        "https://www.encyclopedia-titanica.org/community/threads/age-of-majority.4620/"
      ]
    },
    {
      "cell_type": "code",
      "metadata": {
        "id": "zCQIw05IA68l",
        "colab": {
          "base_uri": "https://localhost:8080/"
        },
        "outputId": "7711d27f-f2f0-420f-a401-f0c741b81f55"
      },
      "source": [
        "# Cria o atributo AgeGroup que categoriza o passageiro de acordo com a sua idade\n",
        "all_data['AgeGroup']  = ''\n",
        "for row in all_data.index:\n",
        "  if all_data['Age'][row] < 12.0:\n",
        "    all_data['AgeGroup'][row]  = 'Child'\n",
        "  if all_data['Age'][row] >= 12.0 and all_data['Age'][row] < 21.0:\n",
        "    all_data['AgeGroup'][row]  = 'Teenager'\n",
        "  if all_data['Age'][row] >= 21.0 and all_data['Age'][row] < 50.0:\n",
        "    all_data['AgeGroup'][row]  = 'Adult'\n",
        "  if all_data['Age'][row] >= 50.0:\n",
        "    all_data['AgeGroup'][row]  = 'Old'"
      ],
      "execution_count": 112,
      "outputs": [
        {
          "output_type": "stream",
          "text": [
            "/usr/local/lib/python3.6/dist-packages/ipykernel_launcher.py:9: SettingWithCopyWarning: \n",
            "A value is trying to be set on a copy of a slice from a DataFrame\n",
            "\n",
            "See the caveats in the documentation: https://pandas.pydata.org/pandas-docs/stable/user_guide/indexing.html#returning-a-view-versus-a-copy\n",
            "  if __name__ == '__main__':\n",
            "/usr/local/lib/python3.6/dist-packages/ipykernel_launcher.py:11: SettingWithCopyWarning: \n",
            "A value is trying to be set on a copy of a slice from a DataFrame\n",
            "\n",
            "See the caveats in the documentation: https://pandas.pydata.org/pandas-docs/stable/user_guide/indexing.html#returning-a-view-versus-a-copy\n",
            "  # This is added back by InteractiveShellApp.init_path()\n",
            "/usr/local/lib/python3.6/dist-packages/ipykernel_launcher.py:5: SettingWithCopyWarning: \n",
            "A value is trying to be set on a copy of a slice from a DataFrame\n",
            "\n",
            "See the caveats in the documentation: https://pandas.pydata.org/pandas-docs/stable/user_guide/indexing.html#returning-a-view-versus-a-copy\n",
            "  \"\"\"\n",
            "/usr/local/lib/python3.6/dist-packages/ipykernel_launcher.py:7: SettingWithCopyWarning: \n",
            "A value is trying to be set on a copy of a slice from a DataFrame\n",
            "\n",
            "See the caveats in the documentation: https://pandas.pydata.org/pandas-docs/stable/user_guide/indexing.html#returning-a-view-versus-a-copy\n",
            "  import sys\n"
          ],
          "name": "stderr"
        }
      ]
    },
    {
      "cell_type": "markdown",
      "metadata": {
        "id": "LiicjrkeS8CQ"
      },
      "source": [
        "### Title\n",
        "\n",
        "https://triangleinequality.wordpress.com/2013/09/08/basic-feature-engineering-with-the-titanic-data/\n",
        "\n",
        "https://www.kaggle.com/startupsci/titanic-data-science-solutions\n",
        "\n",
        "\n"
      ]
    },
    {
      "cell_type": "code",
      "metadata": {
        "colab": {
          "base_uri": "https://localhost:8080/",
          "height": 645
        },
        "id": "JlA6LVAeS7hT",
        "outputId": "b66114b4-fa74-4e60-c457-aab943bc368b"
      },
      "source": [
        "# Extrai os títulos dos nomes e armazena num atributo próprio\n",
        "all_data['Title'] = all_data['Name'].str.extract(' ([A-Za-z]+)\\.')\n",
        "# Lista os atributos por Sexo\n",
        "pd.crosstab(all_data['Title'], all_data['Sex'])"
      ],
      "execution_count": 113,
      "outputs": [
        {
          "output_type": "execute_result",
          "data": {
            "text/html": [
              "<div>\n",
              "<style scoped>\n",
              "    .dataframe tbody tr th:only-of-type {\n",
              "        vertical-align: middle;\n",
              "    }\n",
              "\n",
              "    .dataframe tbody tr th {\n",
              "        vertical-align: top;\n",
              "    }\n",
              "\n",
              "    .dataframe thead th {\n",
              "        text-align: right;\n",
              "    }\n",
              "</style>\n",
              "<table border=\"1\" class=\"dataframe\">\n",
              "  <thead>\n",
              "    <tr style=\"text-align: right;\">\n",
              "      <th>Sex</th>\n",
              "      <th>female</th>\n",
              "      <th>male</th>\n",
              "    </tr>\n",
              "    <tr>\n",
              "      <th>Title</th>\n",
              "      <th></th>\n",
              "      <th></th>\n",
              "    </tr>\n",
              "  </thead>\n",
              "  <tbody>\n",
              "    <tr>\n",
              "      <th>Capt</th>\n",
              "      <td>0</td>\n",
              "      <td>1</td>\n",
              "    </tr>\n",
              "    <tr>\n",
              "      <th>Col</th>\n",
              "      <td>0</td>\n",
              "      <td>4</td>\n",
              "    </tr>\n",
              "    <tr>\n",
              "      <th>Countess</th>\n",
              "      <td>1</td>\n",
              "      <td>0</td>\n",
              "    </tr>\n",
              "    <tr>\n",
              "      <th>Don</th>\n",
              "      <td>0</td>\n",
              "      <td>1</td>\n",
              "    </tr>\n",
              "    <tr>\n",
              "      <th>Dona</th>\n",
              "      <td>1</td>\n",
              "      <td>0</td>\n",
              "    </tr>\n",
              "    <tr>\n",
              "      <th>Dr</th>\n",
              "      <td>1</td>\n",
              "      <td>7</td>\n",
              "    </tr>\n",
              "    <tr>\n",
              "      <th>Jonkheer</th>\n",
              "      <td>0</td>\n",
              "      <td>1</td>\n",
              "    </tr>\n",
              "    <tr>\n",
              "      <th>Lady</th>\n",
              "      <td>1</td>\n",
              "      <td>0</td>\n",
              "    </tr>\n",
              "    <tr>\n",
              "      <th>Major</th>\n",
              "      <td>0</td>\n",
              "      <td>2</td>\n",
              "    </tr>\n",
              "    <tr>\n",
              "      <th>Master</th>\n",
              "      <td>0</td>\n",
              "      <td>61</td>\n",
              "    </tr>\n",
              "    <tr>\n",
              "      <th>Miss</th>\n",
              "      <td>260</td>\n",
              "      <td>0</td>\n",
              "    </tr>\n",
              "    <tr>\n",
              "      <th>Mlle</th>\n",
              "      <td>2</td>\n",
              "      <td>0</td>\n",
              "    </tr>\n",
              "    <tr>\n",
              "      <th>Mme</th>\n",
              "      <td>1</td>\n",
              "      <td>0</td>\n",
              "    </tr>\n",
              "    <tr>\n",
              "      <th>Mr</th>\n",
              "      <td>0</td>\n",
              "      <td>757</td>\n",
              "    </tr>\n",
              "    <tr>\n",
              "      <th>Mrs</th>\n",
              "      <td>197</td>\n",
              "      <td>0</td>\n",
              "    </tr>\n",
              "    <tr>\n",
              "      <th>Ms</th>\n",
              "      <td>2</td>\n",
              "      <td>0</td>\n",
              "    </tr>\n",
              "    <tr>\n",
              "      <th>Rev</th>\n",
              "      <td>0</td>\n",
              "      <td>8</td>\n",
              "    </tr>\n",
              "    <tr>\n",
              "      <th>Sir</th>\n",
              "      <td>0</td>\n",
              "      <td>1</td>\n",
              "    </tr>\n",
              "  </tbody>\n",
              "</table>\n",
              "</div>"
            ],
            "text/plain": [
              "Sex       female  male\n",
              "Title                 \n",
              "Capt           0     1\n",
              "Col            0     4\n",
              "Countess       1     0\n",
              "Don            0     1\n",
              "Dona           1     0\n",
              "Dr             1     7\n",
              "Jonkheer       0     1\n",
              "Lady           1     0\n",
              "Major          0     2\n",
              "Master         0    61\n",
              "Miss         260     0\n",
              "Mlle           2     0\n",
              "Mme            1     0\n",
              "Mr             0   757\n",
              "Mrs          197     0\n",
              "Ms             2     0\n",
              "Rev            0     8\n",
              "Sir            0     1"
            ]
          },
          "metadata": {
            "tags": []
          },
          "execution_count": 113
        }
      ]
    },
    {
      "cell_type": "markdown",
      "metadata": {
        "id": "xhBuLX9ojlgt"
      },
      "source": [
        "https://triangleinequality.wordpress.com/2013/09/08/basic-feature-engineering-with-the-titanic-data/"
      ]
    },
    {
      "cell_type": "code",
      "metadata": {
        "id": "f4c3gtDEigV2"
      },
      "source": [
        "# Substituição dos sortidos títulos por Mr, Mrs, Miss e Master\n",
        "def replace_titles(x):\n",
        "    title=x['Title']\n",
        "    if title in ['Sir', 'Don', 'Major', 'Capt', 'Jonkheer', 'Rev', 'Col']:\n",
        "        return 'Mr'\n",
        "    elif title in ['Countess', 'Mme', 'Lady', 'Dona']:\n",
        "        return 'Mrs'\n",
        "    elif title in ['Mlle', 'Ms']:\n",
        "        return 'Miss'\n",
        "    elif title =='Dr':\n",
        "        if x['Sex']=='Male':\n",
        "            return 'Mr'\n",
        "        else:\n",
        "            return 'Mrs'\n",
        "    else:\n",
        "        return title\n",
        "all_data['Title']=all_data.apply(replace_titles, axis=1)"
      ],
      "execution_count": 114,
      "outputs": []
    },
    {
      "cell_type": "code",
      "metadata": {
        "colab": {
          "base_uri": "https://localhost:8080/"
        },
        "id": "uwYg2_qZis33",
        "outputId": "ededfaa9-00f1-44ac-f8cd-5b4395ff80cf"
      },
      "source": [
        "all_data['Title'].unique()"
      ],
      "execution_count": 115,
      "outputs": [
        {
          "output_type": "execute_result",
          "data": {
            "text/plain": [
              "array(['Mr', 'Mrs', 'Miss', 'Master'], dtype=object)"
            ]
          },
          "metadata": {
            "tags": []
          },
          "execution_count": 115
        }
      ]
    },
    {
      "cell_type": "markdown",
      "metadata": {
        "id": "_-3oyP4JkVlu"
      },
      "source": [
        "### FamilySize"
      ]
    },
    {
      "cell_type": "markdown",
      "metadata": {
        "id": "tOuQdcxLlHz8"
      },
      "source": [
        "O tamanho da família é definido pela soma dos atributos `SibSp` e`Parch` mais 1. Este último corresponde ao indivíduo, que pode estar viajando sozinho. "
      ]
    },
    {
      "cell_type": "code",
      "metadata": {
        "id": "m0dgZ--RkYr5"
      },
      "source": [
        "# Cria o atributo que corresponde ao tamanho da família à bordo\n",
        "all_data['FamilySize'] = all_data['SibSp'] + all_data['Parch'] + 1\n",
        "all_data['FamilySize'] = all_data['FamilySize'].map({1: 'Alone', 2: 'Small', \n",
        "                                                    3: 'Small', 4: 'Small', \n",
        "                                                    5: 'Medium', 6: 'Medium', \n",
        "                                                    7: 'Large', 8: 'Large', \n",
        "                                                    11: 'Large'})"
      ],
      "execution_count": 116,
      "outputs": []
    },
    {
      "cell_type": "markdown",
      "metadata": {
        "id": "Z_b9WD67Qjx5"
      },
      "source": [
        "### Correlação"
      ]
    },
    {
      "cell_type": "code",
      "metadata": {
        "id": "mJqrDgBE_Cz7",
        "colab": {
          "base_uri": "https://localhost:8080/",
          "height": 612
        },
        "outputId": "18be9622-c9b8-4c06-af56-46e7df0985fb"
      },
      "source": [
        "# Heatmap de coeficiente de correlação entre as variáveis\r\n",
        "plt.figure(figsize=(10,10))\r\n",
        "sns.heatmap(all_data.corr(), annot = True)"
      ],
      "execution_count": 117,
      "outputs": [
        {
          "output_type": "execute_result",
          "data": {
            "text/plain": [
              "<matplotlib.axes._subplots.AxesSubplot at 0x7f42bf54ab38>"
            ]
          },
          "metadata": {
            "tags": []
          },
          "execution_count": 117
        },
        {
          "output_type": "display_data",
          "data": {
            "image/png": "[encoded data removed]",
            "text/plain": [
              "<Figure size 720x720 with 2 Axes>"
            ]
          },
          "metadata": {
            "tags": []
          }
        }
      ]
    },
    {
      "cell_type": "markdown",
      "metadata": {
        "id": "tyzDPP5b4vbE"
      },
      "source": [
        "# Análise Exploratória dos Dados"
      ]
    },
    {
      "cell_type": "markdown",
      "metadata": {
        "id": "wRdRi2_X7SBn"
      },
      "source": [
        "Função para automatizar o agrupamento de duas variáveis categóricas e gera uma visualização do relacionamento de ambas com contagem e percentual. "
      ]
    },
    {
      "cell_type": "markdown",
      "metadata": {
        "id": "oxXSo8rUAj3V"
      },
      "source": [
        "## Sobreviventes"
      ]
    },
    {
      "cell_type": "code",
      "metadata": {
        "colab": {
          "base_uri": "https://localhost:8080/",
          "height": 371
        },
        "id": "WaktuZzHF83c",
        "outputId": "2ea1adab-b7fd-4f33-dc48-16b8d454c275"
      },
      "source": [
        "# Contagem de sobreviventes e não sobreviventes\r\n",
        "plt.title(\"Contagem - Sobrevivente(1) or Não sobrevivente(0)\")\r\n",
        "sns.countplot(train.Survived)\r\n",
        "plt.ylabel(\"Count\")\r\n",
        "plt.xlabel(\"Survived\")"
      ],
      "execution_count": 118,
      "outputs": [
        {
          "output_type": "stream",
          "text": [
            "/usr/local/lib/python3.6/dist-packages/seaborn/_decorators.py:43: FutureWarning: Pass the following variable as a keyword arg: x. From version 0.12, the only valid positional argument will be `data`, and passing other arguments without an explicit keyword will result in an error or misinterpretation.\n",
            "  FutureWarning\n"
          ],
          "name": "stderr"
        },
        {
          "output_type": "execute_result",
          "data": {
            "text/plain": [
              "Text(0.5, 0, 'Survived')"
            ]
          },
          "metadata": {
            "tags": []
          },
          "execution_count": 118
        },
        {
          "output_type": "display_data",
          "data": {
            "image/png": "[encoded data removed]",
            "text/plain": [
              "<Figure size 432x288 with 1 Axes>"
            ]
          },
          "metadata": {
            "tags": []
          }
        }
      ]
    },
    {
      "cell_type": "markdown",
      "metadata": {
        "id": "CNdmpRQP0u5q"
      },
      "source": [
        "## Gênero"
      ]
    },
    {
      "cell_type": "code",
      "metadata": {
        "colab": {
          "base_uri": "https://localhost:8080/",
          "height": 371
        },
        "id": "OZJ_u-ni0zsU",
        "outputId": "33740919-bac2-4377-ae0c-2b53a2131a00"
      },
      "source": [
        "# Contagem de sobreviventes e não sobreviventes\n",
        "plt.title(\"Contagem - Sobrevivente(1) ou Não sobreviventes(0)\")\n",
        "sns.countplot(train.Survived)\n",
        "plt.ylabel(\"Count\")\n",
        "plt.xlabel(\"Survived\")"
      ],
      "execution_count": 119,
      "outputs": [
        {
          "output_type": "stream",
          "text": [
            "/usr/local/lib/python3.6/dist-packages/seaborn/_decorators.py:43: FutureWarning: Pass the following variable as a keyword arg: x. From version 0.12, the only valid positional argument will be `data`, and passing other arguments without an explicit keyword will result in an error or misinterpretation.\n",
            "  FutureWarning\n"
          ],
          "name": "stderr"
        },
        {
          "output_type": "execute_result",
          "data": {
            "text/plain": [
              "Text(0.5, 0, 'Survived')"
            ]
          },
          "metadata": {
            "tags": []
          },
          "execution_count": 119
        },
        {
          "output_type": "display_data",
          "data": {
            "image/png": "[encoded data removed]",
            "text/plain": [
              "<Figure size 432x288 with 1 Axes>"
            ]
          },
          "metadata": {
            "tags": []
          }
        }
      ]
    },
    {
      "cell_type": "code",
      "metadata": {
        "colab": {
          "base_uri": "https://localhost:8080/"
        },
        "id": "E9YQrzf3B9Bv",
        "outputId": "2f9f8ef5-f57d-4d45-a702-b8b0aefe64e0"
      },
      "source": [
        "# Sumarização de Survived por gênero\r\n",
        "train.groupby(['Survived', 'Sex'])['Sex'].count()"
      ],
      "execution_count": 120,
      "outputs": [
        {
          "output_type": "execute_result",
          "data": {
            "text/plain": [
              "Survived  Sex   \n",
              "0         female     81\n",
              "          male      468\n",
              "1         female    233\n",
              "          male      109\n",
              "Name: Sex, dtype: int64"
            ]
          },
          "metadata": {
            "tags": []
          },
          "execution_count": 120
        }
      ]
    },
    {
      "cell_type": "code",
      "metadata": {
        "colab": {
          "base_uri": "https://localhost:8080/",
          "height": 314
        },
        "id": "ZA7yA0Jt4ihy",
        "outputId": "a230a6c1-0f9b-4be6-fcce-3dedfb7a6752"
      },
      "source": [
        "# Visualização de Survived por gênero\n",
        "barPlotPercent(train, 'Sex', 'Survived')"
      ],
      "execution_count": 121,
      "outputs": [
        {
          "output_type": "display_data",
          "data": {
            "image/png": "[encoded data removed]",
            "text/plain": [
              "<Figure size 627.875x288 with 1 Axes>"
            ]
          },
          "metadata": {
            "tags": []
          }
        }
      ]
    },
    {
      "cell_type": "code",
      "metadata": {
        "id": "IML1voLeWWhN"
      },
      "source": [
        "all_data['Sex_survival_rate'] = all_data.Sex.map(lambda x: 0.74 if x == 'female' else 0.26)"
      ],
      "execution_count": 122,
      "outputs": []
    },
    {
      "cell_type": "markdown",
      "metadata": {
        "id": "RhwnZxVZ96jz"
      },
      "source": [
        "## Classe Social (Pclass)"
      ]
    },
    {
      "cell_type": "code",
      "metadata": {
        "colab": {
          "base_uri": "https://localhost:8080/",
          "height": 372
        },
        "id": "ronNDZnD_ZM6",
        "outputId": "c0dfbdfe-a6c1-46b6-d7f7-1de2aadc821a"
      },
      "source": [
        "# Contagem de passageiros por Classe Social\n",
        "plt.title(\"Contagem de indivíduos por Classe Social\")\n",
        "sns.countplot(train.Pclass)\n",
        "plt.ylabel(\"Count\")\n",
        "plt.xlabel(\"Pclass\")"
      ],
      "execution_count": 123,
      "outputs": [
        {
          "output_type": "stream",
          "text": [
            "/usr/local/lib/python3.6/dist-packages/seaborn/_decorators.py:43: FutureWarning: Pass the following variable as a keyword arg: x. From version 0.12, the only valid positional argument will be `data`, and passing other arguments without an explicit keyword will result in an error or misinterpretation.\n",
            "  FutureWarning\n"
          ],
          "name": "stderr"
        },
        {
          "output_type": "execute_result",
          "data": {
            "text/plain": [
              "Text(0.5, 0, 'Pclass')"
            ]
          },
          "metadata": {
            "tags": []
          },
          "execution_count": 123
        },
        {
          "output_type": "display_data",
          "data": {
            "image/png": "[encoded data removed]",
            "text/plain": [
              "<Figure size 432x288 with 1 Axes>"
            ]
          },
          "metadata": {
            "tags": []
          }
        }
      ]
    },
    {
      "cell_type": "code",
      "metadata": {
        "colab": {
          "base_uri": "https://localhost:8080/"
        },
        "id": "y8pZeVbJaUip",
        "outputId": "651aba13-a446-4157-f39c-6605d2d08500"
      },
      "source": [
        "# Sumarização de Survived por gênero\n",
        "train.groupby(['Survived', 'Pclass'])['Pclass'].count()"
      ],
      "execution_count": 124,
      "outputs": [
        {
          "output_type": "execute_result",
          "data": {
            "text/plain": [
              "Survived  Pclass\n",
              "0         1          80\n",
              "          2          97\n",
              "          3         372\n",
              "1         1         136\n",
              "          2          87\n",
              "          3         119\n",
              "Name: Pclass, dtype: int64"
            ]
          },
          "metadata": {
            "tags": []
          },
          "execution_count": 124
        }
      ]
    },
    {
      "cell_type": "code",
      "metadata": {
        "colab": {
          "base_uri": "https://localhost:8080/"
        },
        "id": "_pAJbX7BcWFo",
        "outputId": "44733806-1453-4a10-b1e0-baf171a9b0e2"
      },
      "source": [
        "# Calcula a taxa de sobrevivência entre as classes sociais Pclass\n",
        "p1_surv_rate = round((136/(136+80)),2)\n",
        "p2_surv_rate = round((87/(87+97)),2)\n",
        "p3_surv_rate = round((119/(119+372)),2)\n",
        "\n",
        "print(' Pclass1 survival rate: {} \\n Pclass2 survival rate: {} \\n \\\n",
        "Pclass3 survival rate: {}'.format(p1_surv_rate, p2_surv_rate, p3_surv_rate))"
      ],
      "execution_count": 125,
      "outputs": [
        {
          "output_type": "stream",
          "text": [
            " Pclass1 survival rate: 0.63 \n",
            " Pclass2 survival rate: 0.47 \n",
            " Pclass3 survival rate: 0.24\n"
          ],
          "name": "stdout"
        }
      ]
    },
    {
      "cell_type": "code",
      "metadata": {
        "id": "YNMTUN5QdkWl"
      },
      "source": [
        "# Mapeia a taxa de sobrevivência para cada passageiro de acordo com a sua classe social\n",
        "all_data['Plass_survival_rate'] = all_data.Pclass.map({1 : p1_surv_rate, 2: p2_surv_rate, 3:p3_surv_rate})"
      ],
      "execution_count": 126,
      "outputs": []
    },
    {
      "cell_type": "code",
      "metadata": {
        "colab": {
          "base_uri": "https://localhost:8080/",
          "height": 386
        },
        "id": "eHvNF9K-YymW",
        "outputId": "c2b615e6-327b-47a8-9c6e-fd6113e9cffc"
      },
      "source": [
        "g = sns.catplot(x=\"Pclass\", y=\"Survived\",\n",
        "                 data=train, saturation=.5,\n",
        "                 kind=\"bar\", ci=None, aspect=.6)\n",
        "\n",
        "for ax in g.axes.flat:\n",
        "    ax.yaxis.set_major_formatter(PercentFormatter(1))\n",
        "\n",
        "plt.show()"
      ],
      "execution_count": 127,
      "outputs": [
        {
          "output_type": "display_data",
          "data": {
            "image/png": "[encoded data removed]",
            "text/plain": [
              "<Figure size 216x360 with 1 Axes>"
            ]
          },
          "metadata": {
            "tags": []
          }
        }
      ]
    },
    {
      "cell_type": "code",
      "metadata": {
        "colab": {
          "base_uri": "https://localhost:8080/",
          "height": 314
        },
        "id": "wiql7_1oDNVb",
        "outputId": "ff672c5f-805f-4f25-8fb6-4009efaf3da5"
      },
      "source": [
        "# Percentual e contagem de indivíduos por Classe Social e sexo\n",
        "barPlotPercent(train, 'Sex', 'Pclass')"
      ],
      "execution_count": 128,
      "outputs": [
        {
          "output_type": "display_data",
          "data": {
            "image/png": "[encoded data removed]",
            "text/plain": [
              "<Figure size 618.375x288 with 1 Axes>"
            ]
          },
          "metadata": {
            "tags": []
          }
        }
      ]
    },
    {
      "cell_type": "code",
      "metadata": {
        "colab": {
          "base_uri": "https://localhost:8080/",
          "height": 386
        },
        "id": "2x2EtR2zDPFs",
        "outputId": "877527b7-a1a7-4f61-fbf5-34be180a8114"
      },
      "source": [
        "# Percentual de sobreviventes por sexo e classe social\n",
        "#Fonte: https://stackoverflow.com/questions/52512790/python-seaborn-catplot-how-do-i-change-the-y-axis-scale-to-percentage\n",
        "g = sns.catplot(x=\"Sex\", y=\"Survived\", col=\"Pclass\",\n",
        "                 data=train, saturation=.5,\n",
        "                 kind=\"bar\", ci=None, aspect=.6)\n",
        "\n",
        "for ax in g.axes.flat:\n",
        "    ax.yaxis.set_major_formatter(PercentFormatter(1))\n",
        "\n",
        "plt.show()"
      ],
      "execution_count": 129,
      "outputs": [
        {
          "output_type": "display_data",
          "data": {
            "image/png": "[encoded data removed]",
            "text/plain": [
              "<Figure size 648x360 with 3 Axes>"
            ]
          },
          "metadata": {
            "tags": []
          }
        }
      ]
    },
    {
      "cell_type": "markdown",
      "metadata": {
        "id": "Q5QBSkmtDayS"
      },
      "source": [
        "## Idade"
      ]
    },
    {
      "cell_type": "code",
      "metadata": {
        "colab": {
          "base_uri": "https://localhost:8080/"
        },
        "id": "Gdgoq33IDcS_",
        "outputId": "f261a6af-8bb0-48a7-a041-c8db942dd71e"
      },
      "source": [
        "# Sumário de idade\n",
        "train.Age.describe()\n"
      ],
      "execution_count": 130,
      "outputs": [
        {
          "output_type": "execute_result",
          "data": {
            "text/plain": [
              "count    714.000000\n",
              "mean      29.699118\n",
              "std       14.526497\n",
              "min        0.420000\n",
              "25%       20.125000\n",
              "50%       28.000000\n",
              "75%       38.000000\n",
              "max       80.000000\n",
              "Name: Age, dtype: float64"
            ]
          },
          "metadata": {
            "tags": []
          },
          "execution_count": 130
        }
      ]
    },
    {
      "cell_type": "code",
      "metadata": {
        "colab": {
          "base_uri": "https://localhost:8080/",
          "height": 371
        },
        "id": "iePzJ8jGvEhu",
        "outputId": "f1903f66-15c3-48bd-ba67-23162f5e6398"
      },
      "source": [
        "plt.title(\"Histograma - Distribuição do atributo Age\")\n",
        "sns.distplot(a=train['Age'], kde = False, hist_kws = {'edgecolor':'black'})\n",
        "plt.ylabel(\"Count\")"
      ],
      "execution_count": 131,
      "outputs": [
        {
          "output_type": "stream",
          "text": [
            "/usr/local/lib/python3.6/dist-packages/seaborn/distributions.py:2551: FutureWarning: `distplot` is a deprecated function and will be removed in a future version. Please adapt your code to use either `displot` (a figure-level function with similar flexibility) or `histplot` (an axes-level function for histograms).\n",
            "  warnings.warn(msg, FutureWarning)\n"
          ],
          "name": "stderr"
        },
        {
          "output_type": "execute_result",
          "data": {
            "text/plain": [
              "Text(0, 0.5, 'Count')"
            ]
          },
          "metadata": {
            "tags": []
          },
          "execution_count": 131
        },
        {
          "output_type": "display_data",
          "data": {
            "image/png": "[encoded data removed]",
            "text/plain": [
              "<Figure size 432x288 with 1 Axes>"
            ]
          },
          "metadata": {
            "tags": []
          }
        }
      ]
    },
    {
      "cell_type": "code",
      "metadata": {
        "id": "QwHVwajDxr6i",
        "colab": {
          "base_uri": "https://localhost:8080/",
          "height": 282
        },
        "outputId": "4e5447c6-22f9-46f6-9eaa-191a1c99d21f"
      },
      "source": [
        "#Boxplot Survived x Age\n",
        "sns.boxplot(x='Survived', y='Age', data=train)\n",
        "plt.show()"
      ],
      "execution_count": 132,
      "outputs": [
        {
          "output_type": "display_data",
          "data": {
            "image/png": "[encoded data removed]",
            "text/plain": [
              "<Figure size 432x288 with 1 Axes>"
            ]
          },
          "metadata": {
            "tags": []
          }
        }
      ]
    },
    {
      "cell_type": "code",
      "metadata": {
        "id": "bo0BS-fg1Gfa",
        "colab": {
          "base_uri": "https://localhost:8080/",
          "height": 299
        },
        "outputId": "e22c45f2-9e4e-41fc-9b5c-56df176ed701"
      },
      "source": [
        "#Boxplot Survived x Age agrupados pela Pclass\n",
        "sns.boxplot(x='Survived', y='Age', data=train, hue='Pclass')"
      ],
      "execution_count": 133,
      "outputs": [
        {
          "output_type": "execute_result",
          "data": {
            "text/plain": [
              "<matplotlib.axes._subplots.AxesSubplot at 0x7f42b4a3e0b8>"
            ]
          },
          "metadata": {
            "tags": []
          },
          "execution_count": 133
        },
        {
          "output_type": "display_data",
          "data": {
            "image/png": "[encoded data removed]",
            "text/plain": [
              "<Figure size 432x288 with 1 Axes>"
            ]
          },
          "metadata": {
            "tags": []
          }
        }
      ]
    },
    {
      "cell_type": "code",
      "metadata": {
        "id": "JAv7kXGez_A2",
        "colab": {
          "base_uri": "https://localhost:8080/",
          "height": 299
        },
        "outputId": "b05719f4-740b-4108-f9da-24f511f7bcf8"
      },
      "source": [
        "#Boxplot Sex x Age agrupados pela Pclass\n",
        "\n",
        "sns.boxplot(x='Sex', y='Age', data=train, hue='Pclass')"
      ],
      "execution_count": 134,
      "outputs": [
        {
          "output_type": "execute_result",
          "data": {
            "text/plain": [
              "<matplotlib.axes._subplots.AxesSubplot at 0x7f42b495ceb8>"
            ]
          },
          "metadata": {
            "tags": []
          },
          "execution_count": 134
        },
        {
          "output_type": "display_data",
          "data": {
            "image/png": "[encoded data removed]",
            "text/plain": [
              "<Figure size 432x288 with 1 Axes>"
            ]
          },
          "metadata": {
            "tags": []
          }
        }
      ]
    },
    {
      "cell_type": "markdown",
      "metadata": {
        "id": "_SbpiyfB4vXE"
      },
      "source": [
        "## Deck"
      ]
    },
    {
      "cell_type": "code",
      "metadata": {
        "colab": {
          "base_uri": "https://localhost:8080/",
          "height": 386
        },
        "id": "veAcO1f14yk5",
        "outputId": "4864c3ab-6061-46d9-f5c9-e8664b42437d"
      },
      "source": [
        "g = sns.catplot(x=\"Deck\", y=\"Survived\", col=\"Pclass\",\n",
        "                 data=all_data[:train_idx], saturation=.5,\n",
        "                 kind=\"bar\", ci=None, aspect=.6)\n",
        "\n",
        "for ax in g.axes.flat:\n",
        "    ax.yaxis.set_major_formatter(PercentFormatter(1))\n",
        "\n",
        "plt.show()"
      ],
      "execution_count": 236,
      "outputs": [
        {
          "output_type": "display_data",
          "data": {
            "image/png": "[encoded data removed]",
            "text/plain": [
              "<Figure size 648x360 with 3 Axes>"
            ]
          },
          "metadata": {
            "tags": []
          }
        }
      ]
    },
    {
      "cell_type": "markdown",
      "metadata": {
        "id": "Az04p4Qz9ews"
      },
      "source": [
        "# Modelos de predição"
      ]
    },
    {
      "cell_type": "markdown",
      "metadata": {
        "id": "Eiaqbbw_s8oy"
      },
      "source": [
        "## Pré-processamento"
      ]
    },
    {
      "cell_type": "markdown",
      "metadata": {
        "id": "CgNPEPrLycxs"
      },
      "source": [
        "### Padronização\n",
        "\n",
        "https://scikit-learn.org/stable/modules/generated/sklearn.preprocessing.MinMaxScaler.html"
      ]
    },
    {
      "cell_type": "code",
      "metadata": {
        "id": "ZU8jy7U3zomz"
      },
      "source": [
        "from sklearn.preprocessing import MinMaxScaler\n",
        "minmax = MinMaxScaler()\n",
        "\n",
        "all_data[['Fare','Age']] = minmax.fit_transform(all_data[['Fare','Age']] )"
      ],
      "execution_count": 135,
      "outputs": []
    },
    {
      "cell_type": "markdown",
      "metadata": {
        "id": "Axe3UTx7CWhD"
      },
      "source": [
        "### Remoção de colunas e preparação de variáveis"
      ]
    },
    {
      "cell_type": "code",
      "metadata": {
        "id": "ckpnJdVtCWhE"
      },
      "source": [
        "# Remoção de colunas que não serão usadas\n",
        "all_data.drop(['PassengerId', 'Name', 'Ticket', 'Cabin', 'Parch', 'SibSp'], axis=1, inplace=True)\n",
        "\n",
        "# Preparação de variaveis\n",
        "all_data['Sex'] = all_data['Sex'].map({'male': 0, 'female': 1}).astype(int)\n",
        "all_data['Embarked'] = all_data['Embarked'].map( {'S': 0, 'C': 1, 'Q': 2} ).astype(int)\n",
        "all_data['AgeGroup'] = all_data['AgeGroup'].map( {'Child': 0, 'Teenager': 1, 'Adult': 2, 'Old':3} ).astype(int)\n",
        "all_data['Title'] = all_data['Title'].map( {'Mr':0, 'Mrs':1, 'Miss':2, 'Master':3} ).astype(int)\n",
        "all_data['Deck'] = all_data['Deck'].map( {'ABC':0, 'DE':1, 'FG':2, 'U': 3} ).astype(int)\n",
        "all_data['FamilySize'] = all_data['FamilySize'].map( {'Alone':0, 'Small':1, 'Medium':2, 'Large': 3} ).astype(int)\n"
      ],
      "execution_count": 136,
      "outputs": []
    },
    {
      "cell_type": "code",
      "metadata": {
        "colab": {
          "base_uri": "https://localhost:8080/",
          "height": 206
        },
        "id": "bSpjqxMC7HIi",
        "outputId": "6a4c70c4-1074-4fc8-ecbe-dd0c58cd8487"
      },
      "source": [
        "all_data.head(5)"
      ],
      "execution_count": 137,
      "outputs": [
        {
          "output_type": "execute_result",
          "data": {
            "text/html": [
              "<div>\n",
              "<style scoped>\n",
              "    .dataframe tbody tr th:only-of-type {\n",
              "        vertical-align: middle;\n",
              "    }\n",
              "\n",
              "    .dataframe tbody tr th {\n",
              "        vertical-align: top;\n",
              "    }\n",
              "\n",
              "    .dataframe thead th {\n",
              "        text-align: right;\n",
              "    }\n",
              "</style>\n",
              "<table border=\"1\" class=\"dataframe\">\n",
              "  <thead>\n",
              "    <tr style=\"text-align: right;\">\n",
              "      <th></th>\n",
              "      <th>Survived</th>\n",
              "      <th>Pclass</th>\n",
              "      <th>Sex</th>\n",
              "      <th>Age</th>\n",
              "      <th>Fare</th>\n",
              "      <th>Embarked</th>\n",
              "      <th>Deck</th>\n",
              "      <th>AgeGroup</th>\n",
              "      <th>Title</th>\n",
              "      <th>FamilySize</th>\n",
              "      <th>Sex_survival_rate</th>\n",
              "      <th>Plass_survival_rate</th>\n",
              "    </tr>\n",
              "  </thead>\n",
              "  <tbody>\n",
              "    <tr>\n",
              "      <th>0</th>\n",
              "      <td>0.0</td>\n",
              "      <td>3</td>\n",
              "      <td>0</td>\n",
              "      <td>0.273456</td>\n",
              "      <td>0.014151</td>\n",
              "      <td>0</td>\n",
              "      <td>3</td>\n",
              "      <td>2</td>\n",
              "      <td>0</td>\n",
              "      <td>1</td>\n",
              "      <td>0.26</td>\n",
              "      <td>0.24</td>\n",
              "    </tr>\n",
              "    <tr>\n",
              "      <th>1</th>\n",
              "      <td>1.0</td>\n",
              "      <td>1</td>\n",
              "      <td>1</td>\n",
              "      <td>0.473882</td>\n",
              "      <td>0.139136</td>\n",
              "      <td>1</td>\n",
              "      <td>0</td>\n",
              "      <td>2</td>\n",
              "      <td>1</td>\n",
              "      <td>1</td>\n",
              "      <td>0.74</td>\n",
              "      <td>0.63</td>\n",
              "    </tr>\n",
              "    <tr>\n",
              "      <th>2</th>\n",
              "      <td>1.0</td>\n",
              "      <td>3</td>\n",
              "      <td>1</td>\n",
              "      <td>0.323563</td>\n",
              "      <td>0.015469</td>\n",
              "      <td>0</td>\n",
              "      <td>3</td>\n",
              "      <td>2</td>\n",
              "      <td>2</td>\n",
              "      <td>0</td>\n",
              "      <td>0.74</td>\n",
              "      <td>0.24</td>\n",
              "    </tr>\n",
              "    <tr>\n",
              "      <th>3</th>\n",
              "      <td>1.0</td>\n",
              "      <td>1</td>\n",
              "      <td>1</td>\n",
              "      <td>0.436302</td>\n",
              "      <td>0.103644</td>\n",
              "      <td>0</td>\n",
              "      <td>0</td>\n",
              "      <td>2</td>\n",
              "      <td>1</td>\n",
              "      <td>1</td>\n",
              "      <td>0.74</td>\n",
              "      <td>0.63</td>\n",
              "    </tr>\n",
              "    <tr>\n",
              "      <th>4</th>\n",
              "      <td>0.0</td>\n",
              "      <td>3</td>\n",
              "      <td>0</td>\n",
              "      <td>0.436302</td>\n",
              "      <td>0.015713</td>\n",
              "      <td>0</td>\n",
              "      <td>3</td>\n",
              "      <td>2</td>\n",
              "      <td>0</td>\n",
              "      <td>0</td>\n",
              "      <td>0.26</td>\n",
              "      <td>0.24</td>\n",
              "    </tr>\n",
              "  </tbody>\n",
              "</table>\n",
              "</div>"
            ],
            "text/plain": [
              "   Survived  Pclass  Sex  ...  FamilySize  Sex_survival_rate  Plass_survival_rate\n",
              "0       0.0       3    0  ...           1               0.26                 0.24\n",
              "1       1.0       1    1  ...           1               0.74                 0.63\n",
              "2       1.0       3    1  ...           0               0.74                 0.24\n",
              "3       1.0       1    1  ...           1               0.74                 0.63\n",
              "4       0.0       3    0  ...           0               0.26                 0.24\n",
              "\n",
              "[5 rows x 12 columns]"
            ]
          },
          "metadata": {
            "tags": []
          },
          "execution_count": 137
        }
      ]
    },
    {
      "cell_type": "code",
      "metadata": {
        "colab": {
          "base_uri": "https://localhost:8080/",
          "height": 698
        },
        "id": "2Kju5DyiUGEI",
        "outputId": "adcaf839-3de7-4954-8761-ec0d3e9a22d1"
      },
      "source": [
        "# Heatmap de coeficiente de correlação entre as variáveis\n",
        "plt.figure(figsize=(10,10))\n",
        "sns.heatmap(all_data.corr(), annot = True)"
      ],
      "execution_count": 138,
      "outputs": [
        {
          "output_type": "execute_result",
          "data": {
            "text/plain": [
              "<matplotlib.axes._subplots.AxesSubplot at 0x7f42b48bb0b8>"
            ]
          },
          "metadata": {
            "tags": []
          },
          "execution_count": 138
        },
        {
          "output_type": "display_data",
          "data": {
            "image/png": "[encoded data removed]",
            "text/plain": [
              "<Figure size 720x720 with 2 Axes>"
            ]
          },
          "metadata": {
            "tags": []
          }
        }
      ]
    },
    {
      "cell_type": "markdown",
      "metadata": {
        "id": "N6OAwh6EOfA9"
      },
      "source": [
        "### Criação de variáveis Dummies"
      ]
    },
    {
      "cell_type": "code",
      "metadata": {
        "id": "2vIgyPcW3K68"
      },
      "source": [
        "# Criação de dummies para atributos categóricos\n",
        "\n",
        "embarked_dummies = pd.get_dummies(all_data['Embarked'], prefix='Embarked')\n",
        "all_data = pd.concat([all_data, embarked_dummies], axis=1)\n",
        "all_data.drop('Embarked', axis=1, inplace=True)\n",
        "\n",
        "AgeGroup_dummies = pd.get_dummies(all_data['AgeGroup'], prefix='AgeGroup')\n",
        "all_data = pd.concat([all_data, AgeGroup_dummies], axis=1)\n",
        "all_data.drop('AgeGroup', axis=1, inplace=True)\n",
        "\n",
        "Title_dummies = pd.get_dummies(all_data['Title'], prefix='Title')\n",
        "all_data = pd.concat([all_data,Title_dummies], axis=1)\n",
        "all_data.drop('Title', axis=1, inplace=True)\n",
        "\n",
        "Deck_dummies = pd.get_dummies(all_data['Deck'], prefix='Deck')\n",
        "all_data = pd.concat([all_data,Deck_dummies], axis=1)\n",
        "all_data.drop('Deck', axis=1, inplace=True)\n",
        "\n",
        "FamilySize_dummies = pd.get_dummies(all_data['FamilySize'], prefix='FamilySize')\n",
        "all_data = pd.concat([all_data,FamilySize_dummies], axis=1)\n",
        "all_data.drop('FamilySize', axis=1, inplace=True)\n",
        "\n"
      ],
      "execution_count": 139,
      "outputs": []
    },
    {
      "cell_type": "markdown",
      "metadata": {
        "id": "6NVkE-F7CWhF"
      },
      "source": [
        "### Separação dos datasets"
      ]
    },
    {
      "cell_type": "code",
      "metadata": {
        "colab": {
          "base_uri": "https://localhost:8080/"
        },
        "id": "jgOD2XFYp-Yw",
        "outputId": "4c92aba9-72cf-445d-daf8-35f8449f5251"
      },
      "source": [
        "# salvar PassengerId para submissao ao Kaggle\n",
        "passengerId = test['PassengerId']\n",
        "\n",
        "# carregamento do dataset de validação disponibilizado pelo Kaggle\n",
        "validation  = pd.read_csv(validation_url)\n",
        "\n",
        "# Extração do atributo classe Survived\n",
        "Y_train = train.Survived.copy() \n",
        "# Cópia do df tratado até o índice correpondente ao treino\n",
        "X_train = all_data.iloc[:train_idx]\n",
        "# Remoção do atributo Survived\n",
        "X_train.drop(['Survived'], axis=1, inplace=True) \n",
        "\n",
        "# Cópia do df tratado até o índice correpondente ao teste\n",
        "X_test = all_data.iloc[train_idx:]\n",
        "# Remoção do atributo Survived\n",
        "X_test.drop(['Survived'], axis=1, inplace=True) \n",
        "\n",
        "print(X_train.shape), print(X_test.shape)"
      ],
      "execution_count": 140,
      "outputs": [
        {
          "output_type": "stream",
          "text": [
            "(891, 25)\n",
            "(418, 25)\n"
          ],
          "name": "stdout"
        },
        {
          "output_type": "stream",
          "text": [
            "/usr/local/lib/python3.6/dist-packages/pandas/core/frame.py:4174: SettingWithCopyWarning: \n",
            "A value is trying to be set on a copy of a slice from a DataFrame\n",
            "\n",
            "See the caveats in the documentation: https://pandas.pydata.org/pandas-docs/stable/user_guide/indexing.html#returning-a-view-versus-a-copy\n",
            "  errors=errors,\n"
          ],
          "name": "stderr"
        },
        {
          "output_type": "execute_result",
          "data": {
            "text/plain": [
              "(None, None)"
            ]
          },
          "metadata": {
            "tags": []
          },
          "execution_count": 140
        }
      ]
    },
    {
      "cell_type": "code",
      "metadata": {
        "id": "dxNcKxs12rS0"
      },
      "source": [
        "from sklearn.model_selection import train_test_split\n",
        "# Separação treino e teste\n",
        "tr_x, te_x, tr_y, te_y = train_test_split(X_train, Y_train,\n",
        "                                            test_size = 0.3,\n",
        "                                            random_state=42,\n",
        "                                            stratify = Y_train)"
      ],
      "execution_count": 141,
      "outputs": []
    },
    {
      "cell_type": "markdown",
      "metadata": {
        "id": "56h8o3TzCWhH"
      },
      "source": [
        "##  Arvore de decisão"
      ]
    },
    {
      "cell_type": "code",
      "metadata": {
        "colab": {
          "base_uri": "https://localhost:8080/"
        },
        "id": "OQhjNUaoCWhH",
        "outputId": "b28e551b-6323-4eea-c806-dbeb480ccce3"
      },
      "source": [
        "from sklearn.tree import DecisionTreeClassifier\n",
        "from sklearn.model_selection import GridSearchCV\n",
        "from sklearn.metrics import accuracy_score\n",
        "from sklearn import tree\n",
        "\n",
        "\n",
        "param_grid = {'criterion': ['entropy', 'gini'],\n",
        "              'max_depth': range(2,30,2),\n",
        "              'min_samples_leaf': range(2,10,2),\n",
        "              'min_impurity_decrease': np.linspace(0,0.5,10)}\n",
        "dtc = DecisionTreeClassifier()\n",
        "gs = GridSearchCV(dtc, param_grid=param_grid)\n",
        "gs.fit(tr_x, tr_y)"
      ],
      "execution_count": 142,
      "outputs": [
        {
          "output_type": "execute_result",
          "data": {
            "text/plain": [
              "GridSearchCV(cv=None, error_score=nan,\n",
              "             estimator=DecisionTreeClassifier(ccp_alpha=0.0, class_weight=None,\n",
              "                                              criterion='gini', max_depth=None,\n",
              "                                              max_features=None,\n",
              "                                              max_leaf_nodes=None,\n",
              "                                              min_impurity_decrease=0.0,\n",
              "                                              min_impurity_split=None,\n",
              "                                              min_samples_leaf=1,\n",
              "                                              min_samples_split=2,\n",
              "                                              min_weight_fraction_leaf=0.0,\n",
              "                                              presort='deprecated',\n",
              "                                              random_state=None,\n",
              "                                              splitter='best'),\n",
              "             iid='deprecated', n_jobs=None,\n",
              "             param_grid={'criterion': ['entropy', 'gini'],\n",
              "                         'max_depth': range(2, 30, 2),\n",
              "                         'min_impurity_decrease': array([0.        , 0.05555556, 0.11111111, 0.16666667, 0.22222222,\n",
              "       0.27777778, 0.33333333, 0.38888889, 0.44444444, 0.5       ]),\n",
              "                         'min_samples_leaf': range(2, 10, 2)},\n",
              "             pre_dispatch='2*n_jobs', refit=True, return_train_score=False,\n",
              "             scoring=None, verbose=0)"
            ]
          },
          "metadata": {
            "tags": []
          },
          "execution_count": 142
        }
      ]
    },
    {
      "cell_type": "markdown",
      "metadata": {
        "id": "kXeukgKxCWhI"
      },
      "source": [
        "### Predição e avaliação do modelo"
      ]
    },
    {
      "cell_type": "code",
      "metadata": {
        "colab": {
          "base_uri": "https://localhost:8080/"
        },
        "id": "VSOauS0sCWhI",
        "outputId": "6e7724e4-65e6-472c-af27-a91f08402a03"
      },
      "source": [
        "# Melhores parametros apontados pelo grid search\n",
        "dtc = gs.best_estimator_\n",
        "\n",
        "dtc.fit(tr_x, tr_y)\n",
        "y_pred = dtc.predict(te_x)\n",
        "print(accuracy_score(te_y, y_pred))"
      ],
      "execution_count": 143,
      "outputs": [
        {
          "output_type": "stream",
          "text": [
            "0.8022388059701493\n"
          ],
          "name": "stdout"
        }
      ]
    },
    {
      "cell_type": "code",
      "metadata": {
        "id": "ksznZO8_iysm"
      },
      "source": [
        "features_names = ['Pclass', 'Sex', 'Age', 'Fare', 'Sex_survival_rate',\n",
        "       'Plass_survival_rate', 'Embarked_0', 'Embarked_1', 'Embarked_2',\n",
        "       'AgeGroup_0', 'AgeGroup_1', 'AgeGroup_2', 'AgeGroup_3', 'Title_0',\n",
        "       'Title_1', 'Title_2', 'Title_3', 'Deck_0', 'Deck_1', 'Deck_2', 'Deck_3',\n",
        "       'FamilySize_0', 'FamilySize_1', 'FamilySize_2', 'FamilySize_3']"
      ],
      "execution_count": 144,
      "outputs": []
    },
    {
      "cell_type": "code",
      "metadata": {
        "colab": {
          "base_uri": "https://localhost:8080/"
        },
        "id": "ckIM2FomjNa5",
        "outputId": "f877bbd9-28b9-4f65-c3d9-ca9bc8beb652"
      },
      "source": [
        "text_representation = tree.export_text(dtc, features_names)\n",
        "print(text_representation)"
      ],
      "execution_count": 145,
      "outputs": [
        {
          "output_type": "stream",
          "text": [
            "|--- Title_0 <= 0.50\n",
            "|   |--- Pclass <= 2.50\n",
            "|   |   |--- Fare <= 0.08\n",
            "|   |   |   |--- Age <= 0.28\n",
            "|   |   |   |   |--- class: 1\n",
            "|   |   |   |--- Age >  0.28\n",
            "|   |   |   |   |--- class: 1\n",
            "|   |   |--- Fare >  0.08\n",
            "|   |   |   |--- Fare <= 0.29\n",
            "|   |   |   |   |--- class: 1\n",
            "|   |   |   |--- Fare >  0.29\n",
            "|   |   |   |   |--- class: 1\n",
            "|   |--- Pclass >  2.50\n",
            "|   |   |--- FamilySize_2 <= 0.50\n",
            "|   |   |   |--- Fare <= 0.02\n",
            "|   |   |   |   |--- class: 1\n",
            "|   |   |   |--- Fare >  0.02\n",
            "|   |   |   |   |--- class: 1\n",
            "|   |   |--- FamilySize_2 >  0.50\n",
            "|   |   |   |--- class: 0\n",
            "|--- Title_0 >  0.50\n",
            "|   |--- Deck_3 <= 0.50\n",
            "|   |   |--- Deck_1 <= 0.50\n",
            "|   |   |   |--- Fare <= 0.06\n",
            "|   |   |   |   |--- class: 0\n",
            "|   |   |   |--- Fare >  0.06\n",
            "|   |   |   |   |--- class: 0\n",
            "|   |   |--- Deck_1 >  0.50\n",
            "|   |   |   |--- Age <= 0.64\n",
            "|   |   |   |   |--- class: 1\n",
            "|   |   |   |--- Age >  0.64\n",
            "|   |   |   |   |--- class: 0\n",
            "|   |--- Deck_3 >  0.50\n",
            "|   |   |--- Fare <= 0.01\n",
            "|   |   |   |--- class: 0\n",
            "|   |   |--- Fare >  0.01\n",
            "|   |   |   |--- Age <= 0.57\n",
            "|   |   |   |   |--- class: 0\n",
            "|   |   |   |--- Age >  0.57\n",
            "|   |   |   |   |--- class: 0\n",
            "\n"
          ],
          "name": "stdout"
        }
      ]
    },
    {
      "cell_type": "code",
      "metadata": {
        "id": "ontV8foSCWhJ",
        "colab": {
          "base_uri": "https://localhost:8080/",
          "height": 334
        },
        "outputId": "c9195f04-93f9-41f7-95e2-1f775dacef2e"
      },
      "source": [
        "from sklearn.metrics import plot_confusion_matrix\n",
        "disp = plot_confusion_matrix(dtc, te_x, te_y,\n",
        "                                 display_labels=[\"No\", \"Yes\"],\n",
        "                                 cmap=plt.cm.Blues)\n",
        "disp.ax_.set_title(\"Confusion Matrix\")\n",
        "\n",
        "print(disp.confusion_matrix)"
      ],
      "execution_count": 146,
      "outputs": [
        {
          "output_type": "stream",
          "text": [
            "[[134  31]\n",
            " [ 22  81]]\n"
          ],
          "name": "stdout"
        },
        {
          "output_type": "display_data",
          "data": {
            "image/png": "[encoded data removed]",
            "text/plain": [
              "<Figure size 432x288 with 2 Axes>"
            ]
          },
          "metadata": {
            "tags": []
          }
        }
      ]
    },
    {
      "cell_type": "markdown",
      "metadata": {
        "id": "OZQrYvyuCWhK"
      },
      "source": [
        "## K-Neighbors Classifier"
      ]
    },
    {
      "cell_type": "code",
      "metadata": {
        "id": "TBdA3lyCCWhL",
        "colab": {
          "base_uri": "https://localhost:8080/"
        },
        "outputId": "ce92ba2f-b4f0-4da3-9f33-f8a01eb3ab98"
      },
      "source": [
        "from sklearn.neighbors import KNeighborsClassifier\n",
        "param_grid = {'weights': ['uniform', 'distance'],\n",
        "              'n_neighbors': range(1,15,2),\n",
        "              'metric': ['euclidean', 'manhattan']}\n",
        "\n",
        "knc = KNeighborsClassifier()\n",
        "gs = GridSearchCV(knc, param_grid=param_grid)\n",
        "gs.fit(tr_x, tr_y)"
      ],
      "execution_count": 147,
      "outputs": [
        {
          "output_type": "execute_result",
          "data": {
            "text/plain": [
              "GridSearchCV(cv=None, error_score=nan,\n",
              "             estimator=KNeighborsClassifier(algorithm='auto', leaf_size=30,\n",
              "                                            metric='minkowski',\n",
              "                                            metric_params=None, n_jobs=None,\n",
              "                                            n_neighbors=5, p=2,\n",
              "                                            weights='uniform'),\n",
              "             iid='deprecated', n_jobs=None,\n",
              "             param_grid={'metric': ['euclidean', 'manhattan'],\n",
              "                         'n_neighbors': range(1, 15, 2),\n",
              "                         'weights': ['uniform', 'distance']},\n",
              "             pre_dispatch='2*n_jobs', refit=True, return_train_score=False,\n",
              "             scoring=None, verbose=0)"
            ]
          },
          "metadata": {
            "tags": []
          },
          "execution_count": 147
        }
      ]
    },
    {
      "cell_type": "markdown",
      "metadata": {
        "id": "AyBDSKqSCWhM"
      },
      "source": [
        "### Predição e avaliação do modelo"
      ]
    },
    {
      "cell_type": "code",
      "metadata": {
        "id": "TsJoclW4CWhN",
        "colab": {
          "base_uri": "https://localhost:8080/"
        },
        "outputId": "405a5275-72b8-42cb-ab15-7ed6cb171eca"
      },
      "source": [
        "# Melhores parametros apontados pelo grid search\n",
        "knc = gs.best_estimator_\n",
        "\n",
        "knc.fit(tr_x, tr_y)\n",
        "y_pred = knc.predict(te_x)\n",
        "print(accuracy_score(te_y, y_pred))"
      ],
      "execution_count": 148,
      "outputs": [
        {
          "output_type": "stream",
          "text": [
            "0.8022388059701493\n"
          ],
          "name": "stdout"
        }
      ]
    },
    {
      "cell_type": "code",
      "metadata": {
        "id": "tWHb3LmJCWhO",
        "colab": {
          "base_uri": "https://localhost:8080/",
          "height": 334
        },
        "outputId": "854c0395-46cc-43ab-9756-099f59ed340f"
      },
      "source": [
        "disp = plot_confusion_matrix(knc, te_x, te_y,\n",
        "                                display_labels=[\"No\", \"Yes\"],\n",
        "                                cmap=plt.cm.Blues)\n",
        "disp.ax_.set_title(\"Confusion Matrix\")\n",
        "\n",
        "print(disp.confusion_matrix)"
      ],
      "execution_count": 149,
      "outputs": [
        {
          "output_type": "stream",
          "text": [
            "[[144  21]\n",
            " [ 32  71]]\n"
          ],
          "name": "stdout"
        },
        {
          "output_type": "display_data",
          "data": {
            "image/png": "[encoded data removed]",
            "text/plain": [
              "<Figure size 432x288 with 2 Axes>"
            ]
          },
          "metadata": {
            "tags": []
          }
        }
      ]
    },
    {
      "cell_type": "markdown",
      "metadata": {
        "id": "j-yvlk4LCWhO"
      },
      "source": [
        "## SVM"
      ]
    },
    {
      "cell_type": "code",
      "metadata": {
        "id": "SNo4bWGvCWhP",
        "colab": {
          "base_uri": "https://localhost:8080/"
        },
        "outputId": "e24497b4-37a5-4052-ddc5-057fe5efc02e"
      },
      "source": [
        "from sklearn.svm import NuSVC\n",
        "param_grid = {'kernel': ['linear', 'poly', 'rbf', 'sigmoid'],\n",
        "              'decision_function_shape' : ['ovo', 'ovr']}\n",
        "\n",
        "svc = NuSVC()\n",
        "gs = GridSearchCV(svc, param_grid=param_grid)\n",
        "gs.fit(tr_x, tr_y)"
      ],
      "execution_count": 150,
      "outputs": [
        {
          "output_type": "execute_result",
          "data": {
            "text/plain": [
              "GridSearchCV(cv=None, error_score=nan,\n",
              "             estimator=NuSVC(break_ties=False, cache_size=200,\n",
              "                             class_weight=None, coef0=0.0,\n",
              "                             decision_function_shape='ovr', degree=3,\n",
              "                             gamma='scale', kernel='rbf', max_iter=-1, nu=0.5,\n",
              "                             probability=False, random_state=None,\n",
              "                             shrinking=True, tol=0.001, verbose=False),\n",
              "             iid='deprecated', n_jobs=None,\n",
              "             param_grid={'decision_function_shape': ['ovo', 'ovr'],\n",
              "                         'kernel': ['linear', 'poly', 'rbf', 'sigmoid']},\n",
              "             pre_dispatch='2*n_jobs', refit=True, return_train_score=False,\n",
              "             scoring=None, verbose=0)"
            ]
          },
          "metadata": {
            "tags": []
          },
          "execution_count": 150
        }
      ]
    },
    {
      "cell_type": "markdown",
      "metadata": {
        "id": "kdG9KWZdCWhQ"
      },
      "source": [
        "### Predição e avaliação do modelo"
      ]
    },
    {
      "cell_type": "code",
      "metadata": {
        "id": "B2kPBQpQCWhR",
        "colab": {
          "base_uri": "https://localhost:8080/"
        },
        "outputId": "5838ff43-d25f-4115-abbe-9826f70bbaec"
      },
      "source": [
        "# Melhores parametros apontados pelo grid search\n",
        "svc = gs.best_estimator_\n",
        "\n",
        "svc.fit(tr_x, tr_y)\n",
        "y_pred = svc.predict(te_x)\n",
        "print(accuracy_score(te_y, y_pred))"
      ],
      "execution_count": 151,
      "outputs": [
        {
          "output_type": "stream",
          "text": [
            "0.8283582089552238\n"
          ],
          "name": "stdout"
        }
      ]
    },
    {
      "cell_type": "code",
      "metadata": {
        "id": "5tjcV1zVCWhR",
        "colab": {
          "base_uri": "https://localhost:8080/",
          "height": 334
        },
        "outputId": "1081b131-e720-49b1-d3b4-e403cfba8663"
      },
      "source": [
        "disp = plot_confusion_matrix(svc, te_x, te_y,\n",
        "                                 display_labels=[\"No\", \"Yes\"],\n",
        "                                 cmap=plt.cm.Blues)\n",
        "disp.ax_.set_title(\"Confusion Matrix\")\n",
        "\n",
        "print(disp.confusion_matrix)"
      ],
      "execution_count": 152,
      "outputs": [
        {
          "output_type": "stream",
          "text": [
            "[[145  20]\n",
            " [ 26  77]]\n"
          ],
          "name": "stdout"
        },
        {
          "output_type": "display_data",
          "data": {
            "image/png": "[encoded data removed]",
            "text/plain": [
              "<Figure size 432x288 with 2 Axes>"
            ]
          },
          "metadata": {
            "tags": []
          }
        }
      ]
    },
    {
      "cell_type": "markdown",
      "metadata": {
        "id": "TfEELhx3CWhR"
      },
      "source": [
        "## Naive Bayes"
      ]
    },
    {
      "cell_type": "code",
      "metadata": {
        "id": "PQDa_1bjCWhR",
        "colab": {
          "base_uri": "https://localhost:8080/"
        },
        "outputId": "b670caf1-19c9-4515-dd1f-02bfc199eef3"
      },
      "source": [
        "from sklearn.naive_bayes import MultinomialNB\n",
        "param_grid = {'alpha': np.linspace(0.1,2,5),\n",
        "              'fit_prior': [False,True]}\n",
        "\n",
        "mnb = MultinomialNB()\n",
        "gs = GridSearchCV(mnb, param_grid=param_grid)\n",
        "gs.fit(tr_x, tr_y)"
      ],
      "execution_count": 153,
      "outputs": [
        {
          "output_type": "execute_result",
          "data": {
            "text/plain": [
              "GridSearchCV(cv=None, error_score=nan,\n",
              "             estimator=MultinomialNB(alpha=1.0, class_prior=None,\n",
              "                                     fit_prior=True),\n",
              "             iid='deprecated', n_jobs=None,\n",
              "             param_grid={'alpha': array([0.1  , 0.575, 1.05 , 1.525, 2.   ]),\n",
              "                         'fit_prior': [False, True]},\n",
              "             pre_dispatch='2*n_jobs', refit=True, return_train_score=False,\n",
              "             scoring=None, verbose=0)"
            ]
          },
          "metadata": {
            "tags": []
          },
          "execution_count": 153
        }
      ]
    },
    {
      "cell_type": "markdown",
      "metadata": {
        "id": "WzZLwmkyCWhS"
      },
      "source": [
        "### Predição e avaliação do modelo"
      ]
    },
    {
      "cell_type": "code",
      "metadata": {
        "id": "gB4tfY8yCWhU",
        "colab": {
          "base_uri": "https://localhost:8080/"
        },
        "outputId": "aa8b95a9-7b67-45ab-d95b-d93123096f8d"
      },
      "source": [
        "# Melhores parametros apontados pelo grid search\n",
        "mnb = gs.best_estimator_\n",
        "\n",
        "mnb.fit(tr_x, tr_y)\n",
        "y_pred = mnb.predict(te_x)\n",
        "print(accuracy_score(te_y, y_pred))"
      ],
      "execution_count": 154,
      "outputs": [
        {
          "output_type": "stream",
          "text": [
            "0.7985074626865671\n"
          ],
          "name": "stdout"
        }
      ]
    },
    {
      "cell_type": "code",
      "metadata": {
        "id": "wyIs7by2CWhU",
        "colab": {
          "base_uri": "https://localhost:8080/",
          "height": 334
        },
        "outputId": "e70076e8-0aaf-48d7-ec3d-2bd7fce02455"
      },
      "source": [
        "disp = plot_confusion_matrix(mnb, te_x, te_y,\n",
        "                                 display_labels=[\"No\", \"Yes\"],\n",
        "                                 cmap=plt.cm.Blues)\n",
        "disp.ax_.set_title(\"Confusion Matrix\")\n",
        "\n",
        "print(disp.confusion_matrix)"
      ],
      "execution_count": 155,
      "outputs": [
        {
          "output_type": "stream",
          "text": [
            "[[132  33]\n",
            " [ 21  82]]\n"
          ],
          "name": "stdout"
        },
        {
          "output_type": "display_data",
          "data": {
            "image/png": "[encoded data removed]",
            "text/plain": [
              "<Figure size 432x288 with 2 Axes>"
            ]
          },
          "metadata": {
            "tags": []
          }
        }
      ]
    },
    {
      "cell_type": "markdown",
      "metadata": {
        "id": "c7OMqgseCWhU"
      },
      "source": [
        "## Logistic regression"
      ]
    },
    {
      "cell_type": "code",
      "metadata": {
        "id": "oj2iXodLCWhU",
        "colab": {
          "base_uri": "https://localhost:8080/"
        },
        "outputId": "2be16c67-3c0c-4ded-8620-b884c1848d66"
      },
      "source": [
        "from sklearn.linear_model import LogisticRegression\n",
        "param_grid = {'penalty' : ['l2'],\n",
        "              'fit_intercept': [False,True],\n",
        "              'solver' : ['newton-cg', 'liblinear']}\n",
        "\n",
        "lr = LogisticRegression()\n",
        "gs = GridSearchCV(lr, param_grid=param_grid)\n",
        "gs.fit(tr_x, tr_y)"
      ],
      "execution_count": 156,
      "outputs": [
        {
          "output_type": "execute_result",
          "data": {
            "text/plain": [
              "GridSearchCV(cv=None, error_score=nan,\n",
              "             estimator=LogisticRegression(C=1.0, class_weight=None, dual=False,\n",
              "                                          fit_intercept=True,\n",
              "                                          intercept_scaling=1, l1_ratio=None,\n",
              "                                          max_iter=100, multi_class='auto',\n",
              "                                          n_jobs=None, penalty='l2',\n",
              "                                          random_state=None, solver='lbfgs',\n",
              "                                          tol=0.0001, verbose=0,\n",
              "                                          warm_start=False),\n",
              "             iid='deprecated', n_jobs=None,\n",
              "             param_grid={'fit_intercept': [False, True], 'penalty': ['l2'],\n",
              "                         'solver': ['newton-cg', 'liblinear']},\n",
              "             pre_dispatch='2*n_jobs', refit=True, return_train_score=False,\n",
              "             scoring=None, verbose=0)"
            ]
          },
          "metadata": {
            "tags": []
          },
          "execution_count": 156
        }
      ]
    },
    {
      "cell_type": "markdown",
      "metadata": {
        "id": "nhWdmfnrCWhV"
      },
      "source": [
        "### Predição e avaliação do modelo"
      ]
    },
    {
      "cell_type": "code",
      "metadata": {
        "id": "fDbCIN6jCWhW",
        "colab": {
          "base_uri": "https://localhost:8080/"
        },
        "outputId": "622ae896-05d0-485b-c51b-19957bff560d"
      },
      "source": [
        "# Melhores parametros apontados pelo grid search\n",
        "lr = gs.best_estimator_\n",
        "\n",
        "lr.fit(tr_x, tr_y)\n",
        "y_pred = lr.predict(te_x)\n",
        "print(accuracy_score(te_y, y_pred))"
      ],
      "execution_count": 157,
      "outputs": [
        {
          "output_type": "stream",
          "text": [
            "0.832089552238806\n"
          ],
          "name": "stdout"
        }
      ]
    },
    {
      "cell_type": "code",
      "metadata": {
        "id": "-CBXZTHPCWhW",
        "colab": {
          "base_uri": "https://localhost:8080/",
          "height": 334
        },
        "outputId": "6cca42ca-7ee1-4cdd-f7f3-1825d5310fdc"
      },
      "source": [
        "disp = plot_confusion_matrix(lr, te_x, te_y,\n",
        "                                 display_labels=[\"No\", \"Yes\"],\n",
        "                                 cmap=plt.cm.Blues)\n",
        "disp.ax_.set_title(\"Confusion Matrix\")\n",
        "\n",
        "print(disp.confusion_matrix)"
      ],
      "execution_count": 158,
      "outputs": [
        {
          "output_type": "stream",
          "text": [
            "[[142  23]\n",
            " [ 22  81]]\n"
          ],
          "name": "stdout"
        },
        {
          "output_type": "display_data",
          "data": {
            "image/png": "[encoded data removed]",
            "text/plain": [
              "<Figure size 432x288 with 2 Axes>"
            ]
          },
          "metadata": {
            "tags": []
          }
        }
      ]
    },
    {
      "cell_type": "markdown",
      "metadata": {
        "id": "r7Q2KNPt9ilv"
      },
      "source": [
        "## Validação Final"
      ]
    },
    {
      "cell_type": "code",
      "metadata": {
        "id": "YFSA9dOS3xOd"
      },
      "source": [
        "# Decision Tree\n",
        "final_predDTC =  dtc.predict(X_test)\n",
        "acc_DT = accuracy_score(validation['Survived'], final_predDTC)\n",
        "\n",
        "# KNC\n",
        "final_predKNC =  knc.predict(X_test)\n",
        "acc_KNC = accuracy_score(validation['Survived'], final_predKNC)\n",
        "\n",
        "# SVC\n",
        "final_predSVC =  svc.predict(X_test)\n",
        "acc_SVC = accuracy_score(validation['Survived'], final_predSVC)\n",
        "\n",
        "# Naive Bayes\n",
        "final_predMNB =  mnb.predict(X_test)\n",
        "acc_NB = accuracy_score(validation['Survived'], final_predMNB)\n",
        "\n",
        "# Logistic Regression\n",
        "final_predLR =  lr.predict(X_test)\n",
        "acc_LR = accuracy_score(validation['Survived'], final_predLR)"
      ],
      "execution_count": 159,
      "outputs": []
    },
    {
      "cell_type": "code",
      "metadata": {
        "colab": {
          "base_uri": "https://localhost:8080/",
          "height": 206
        },
        "id": "yQ3T9cVc-Lqk",
        "outputId": "4292f872-1e40-4fbf-beb9-9a88cbcd0d28"
      },
      "source": [
        "models = pd.DataFrame({\n",
        "    'Model': ['Decision Tree', 'KNC', 'SVC', \n",
        "              'Naive Bayes',  'Logistic Regression'],\n",
        "    'Score': [acc_DT, acc_KNC, acc_SVC, \n",
        "              acc_NB, acc_LR]})\n",
        "models.sort_values(by='Score', ascending=False)"
      ],
      "execution_count": 160,
      "outputs": [
        {
          "output_type": "execute_result",
          "data": {
            "text/html": [
              "<div>\n",
              "<style scoped>\n",
              "    .dataframe tbody tr th:only-of-type {\n",
              "        vertical-align: middle;\n",
              "    }\n",
              "\n",
              "    .dataframe tbody tr th {\n",
              "        vertical-align: top;\n",
              "    }\n",
              "\n",
              "    .dataframe thead th {\n",
              "        text-align: right;\n",
              "    }\n",
              "</style>\n",
              "<table border=\"1\" class=\"dataframe\">\n",
              "  <thead>\n",
              "    <tr style=\"text-align: right;\">\n",
              "      <th></th>\n",
              "      <th>Model</th>\n",
              "      <th>Score</th>\n",
              "    </tr>\n",
              "  </thead>\n",
              "  <tbody>\n",
              "    <tr>\n",
              "      <th>2</th>\n",
              "      <td>SVC</td>\n",
              "      <td>0.947368</td>\n",
              "    </tr>\n",
              "    <tr>\n",
              "      <th>3</th>\n",
              "      <td>Naive Bayes</td>\n",
              "      <td>0.940191</td>\n",
              "    </tr>\n",
              "    <tr>\n",
              "      <th>4</th>\n",
              "      <td>Logistic Regression</td>\n",
              "      <td>0.925837</td>\n",
              "    </tr>\n",
              "    <tr>\n",
              "      <th>0</th>\n",
              "      <td>Decision Tree</td>\n",
              "      <td>0.923445</td>\n",
              "    </tr>\n",
              "    <tr>\n",
              "      <th>1</th>\n",
              "      <td>KNC</td>\n",
              "      <td>0.882775</td>\n",
              "    </tr>\n",
              "  </tbody>\n",
              "</table>\n",
              "</div>"
            ],
            "text/plain": [
              "                 Model     Score\n",
              "2                  SVC  0.947368\n",
              "3          Naive Bayes  0.940191\n",
              "4  Logistic Regression  0.925837\n",
              "0        Decision Tree  0.923445\n",
              "1                  KNC  0.882775"
            ]
          },
          "metadata": {
            "tags": []
          },
          "execution_count": 160
        }
      ]
    },
    {
      "cell_type": "code",
      "metadata": {
        "id": "JLDl5Uxo94j2"
      },
      "source": [
        "submission_DTC = pd.DataFrame({\"PassengerId\": passengerId, \"Survived\": final_predDTC })\n",
        "submission_KNC = pd.DataFrame({\"PassengerId\": passengerId, \"Survived\": final_predKNC })\n",
        "submission_SVC = pd.DataFrame({\"PassengerId\": passengerId, \"Survived\": final_predSVC })\n",
        "submission_MNB = pd.DataFrame({\"PassengerId\": passengerId, \"Survived\": final_predMNB })\n",
        "submission_LR = pd.DataFrame({\"PassengerId\": passengerId, \"Survived\": final_predLR })\n",
        "\n",
        "submission_DTC.to_csv('/content/submission_DTC.csv', index = False)\n",
        "submission_KNC.to_csv('/content/submission_KNC.csv', index = False)\n",
        "submission_SVC.to_csv('/content/submission_SVC.csv', index = False)\n",
        "submission_MNB.to_csv('/content/submission_MNB.csv', index = False)\n",
        "submission_LR.to_csv('/content/submission_LR.csv', index = False)"
      ],
      "execution_count": 161,
      "outputs": []
    },
    {
      "cell_type": "markdown",
      "metadata": {
        "id": "B4Qm-DdH3qmc"
      },
      "source": [
        "# Referências\n",
        "\n",
        "1. kaggle.com. (n.d.). Titanic - Advanced Feature Engineering Tutorial. [online] Available at: https://www.kaggle.com/gunesevitan/titanic-advanced-feature-engineering-tutorial#3.-Model [Accessed 19 Dec. 2020].\n",
        "\n",
        "* [Kaggle Competition - Titanic: Machine Learning from Disaster ](https://www.kaggle.com/c/titanic)\n",
        "* [Kaggle Notebook - Titanic Tutorial](https://www.kaggle.com/alexisbcook/titanic-tutorial)\n",
        "* [Kaggle Notebook - Titanic Survival Prediction](https://www.kaggle.com/vaishnavikhilari/titanic-survival-prediction#3.-Imputation-of-Missing-Data/-Outliers)\n",
        "* [Kaggle Notebook - Survivors Classification on Titanic using R](https://www.kaggle.com/galvaowesley/survivors-classification-on-titanic-using-r)\n",
        "* [Tutorial: Introduction to Missing Data Imputation](https://medium.com/@Cambridge_Spark/tutorial-introduction-to-missing-data-imputation-4912b51c34eb)\n",
        "* [Different Ways to Compensate for Missing Values In a Dataset (Data Imputation with examples ](https://towardsdatascience.com/6-different-ways-to-compensate-for-missing-values-data-imputation-with-examples-6022d9ca0779)\n",
        "* [Titanic: Machine Learning from Disaster](https://github.com/carlosfab/data_science/blob/master/Titanic.ipynb)\n",
        "* [Scikit-Learn Documentation](https://scikit-learn.org/stable/index.html)"
      ]
    },
    {
      "cell_type": "markdown",
      "metadata": {
        "id": "ma0Dqr2G30Ui"
      },
      "source": [
        ""
      ]
    }
  ]
}